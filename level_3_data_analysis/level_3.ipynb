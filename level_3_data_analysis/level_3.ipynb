{
 "cells": [
  {
   "cell_type": "code",
   "execution_count": 1,
   "metadata": {},
   "outputs": [
    {
     "data": {
      "text/html": [
       "<style>.container { width:95% !important; }</style>"
      ],
      "text/plain": [
       "<IPython.core.display.HTML object>"
      ]
     },
     "metadata": {},
     "output_type": "display_data"
    },
    {
     "name": "stdout",
     "output_type": "stream",
     "text": [
      "3.6.5 |Anaconda custom (64-bit)| (default, Mar 29 2018, 13:32:41) [MSC v.1900 64 bit (AMD64)]\n"
     ]
    }
   ],
   "source": [
    "from IPython.core.display import display, HTML\n",
    "display(HTML(\"<style>.container { width:95% !important; }</style>\"))\n",
    "import sys\n",
    "print (sys.version)"
   ]
  },
  {
   "cell_type": "code",
   "execution_count": 2,
   "metadata": {},
   "outputs": [],
   "source": [
    "'''import all necessary libraries'''\n",
    "\n",
    "import cx_Oracle #import the oracle database libraries\n",
    "import pandas as pd #connect to the pandas libraries\n",
    "import numpy as np #import numpy"
   ]
  },
  {
   "cell_type": "code",
   "execution_count": 3,
   "metadata": {},
   "outputs": [],
   "source": [
    "acq_col_names=['orderid','currency','MERCHANTID','FLOW_AMOUNT_TRXN_CURRENCY','EUR_EX_RATE','FLOW_AMOUNT_EUR'\n",
    "               ,'CLIENT_NAME','CLIENT_ID','SALES_REGION','MCC','IIN','INVOICE_RELATION_ID','ACQUIRER'\n",
    "               ,'ISSUER_COUNTRY','CONS_COMM','CREDITCARDCOMPANY','PRODUCTCODE','INVOICE_NUMBER'\n",
    "               ,'AVSRESULT','Line_item_total','Discount','Quantity','Unit_Cost','Unit_of_measure'\n",
    "               ,'Product_Code','Item_Commodity_Code','Item_Descriptor','Product_Type']"
   ]
  },
  {
   "cell_type": "code",
   "execution_count": 4,
   "metadata": {},
   "outputs": [],
   "source": [
    "df=pd.read_csv('u:\\\\level_3_data.txt',sep=';',names=acq_col_names,skiprows=83,encoding='ISO-8859-1',error_bad_lines=False,low_memory=False,index_col=False)"
   ]
  },
  {
   "cell_type": "code",
   "execution_count": 5,
   "metadata": {},
   "outputs": [],
   "source": [
    "df1=df.copy()"
   ]
  },
  {
   "cell_type": "code",
   "execution_count": 6,
   "metadata": {},
   "outputs": [],
   "source": [
    "df2=pd.read_csv('d:\\\\djohnson\\\\Desktop\\\\us_bin_Classification_table.csv')\n",
    "df2=df2.drop('Unnamed: 0',axis=1)\n",
    "df2=df2.rename(columns={'bin_num':'IIN'})\n",
    "df2['max_theoretical_prob']=df2['max_theoretical_prob']/100"
   ]
  },
  {
   "cell_type": "code",
   "execution_count": 7,
   "metadata": {},
   "outputs": [
    {
     "name": "stdout",
     "output_type": "stream",
     "text": [
      "<class 'pandas.core.frame.DataFrame'>\n",
      "RangeIndex: 1172058 entries, 0 to 1172057\n",
      "Data columns (total 28 columns):\n",
      "orderid                      1172058 non-null int64\n",
      "currency                     1172058 non-null object\n",
      "MERCHANTID                   1172058 non-null int64\n",
      "FLOW_AMOUNT_TRXN_CURRENCY    1172058 non-null float64\n",
      "EUR_EX_RATE                  1172058 non-null float64\n",
      "FLOW_AMOUNT_EUR              1172058 non-null float64\n",
      "CLIENT_NAME                  1172058 non-null object\n",
      "CLIENT_ID                    1172058 non-null int64\n",
      "SALES_REGION                 1172058 non-null object\n",
      "MCC                          1172058 non-null object\n",
      "IIN                          1172058 non-null int64\n",
      "INVOICE_RELATION_ID          1172058 non-null object\n",
      "ACQUIRER                     1172058 non-null object\n",
      "ISSUER_COUNTRY               1172058 non-null object\n",
      "CONS_COMM                    1172058 non-null object\n",
      "CREDITCARDCOMPANY            1172058 non-null object\n",
      "PRODUCTCODE                  1172058 non-null object\n",
      "INVOICE_NUMBER               1172058 non-null object\n",
      "AVSRESULT                    1172058 non-null object\n",
      "Line_item_total              1172058 non-null object\n",
      "Discount                     1172058 non-null object\n",
      "Quantity                     1172058 non-null object\n",
      "Unit_Cost                    1172058 non-null object\n",
      "Unit_of_measure              1172058 non-null object\n",
      "Product_Code                 1172058 non-null object\n",
      "Item_Commodity_Code          1172058 non-null object\n",
      "Item_Descriptor              1172058 non-null object\n",
      "Product_Type                 1172058 non-null object\n",
      "dtypes: float64(3), int64(4), object(21)\n",
      "memory usage: 250.4+ MB\n"
     ]
    }
   ],
   "source": [
    "df1.info()"
   ]
  },
  {
   "cell_type": "code",
   "execution_count": 8,
   "metadata": {},
   "outputs": [
    {
     "name": "stdout",
     "output_type": "stream",
     "text": [
      "<class 'pandas.core.frame.DataFrame'>\n",
      "RangeIndex: 20939 entries, 0 to 20938\n",
      "Data columns (total 7 columns):\n",
      "IIN                     20938 non-null float64\n",
      "ic_desc                 20939 non-null object\n",
      "ic_perc                 20939 non-null float64\n",
      "ic_fixed                20939 non-null float64\n",
      "bin_frequency           20939 non-null int64\n",
      "max_theoretical_prob    20939 non-null float64\n",
      "consumer_commercial     20939 non-null object\n",
      "dtypes: float64(4), int64(1), object(2)\n",
      "memory usage: 1.1+ MB\n"
     ]
    }
   ],
   "source": [
    "df2.info()"
   ]
  },
  {
   "cell_type": "code",
   "execution_count": 9,
   "metadata": {},
   "outputs": [],
   "source": [
    "df1=df1.drop_duplicates().copy()"
   ]
  },
  {
   "cell_type": "code",
   "execution_count": 10,
   "metadata": {},
   "outputs": [],
   "source": [
    "df1['CLIENT_NAME']=df1['CLIENT_NAME'].str.strip()\n",
    "df1['ISSUER_COUNTRY']=df1['ISSUER_COUNTRY'].str.strip()"
   ]
  },
  {
   "cell_type": "code",
   "execution_count": 11,
   "metadata": {},
   "outputs": [
    {
     "name": "stdout",
     "output_type": "stream",
     "text": [
      "<class 'pandas.core.frame.DataFrame'>\n",
      "Int64Index: 917642 entries, 0 to 1172057\n",
      "Data columns (total 28 columns):\n",
      "orderid                      917642 non-null int64\n",
      "currency                     917642 non-null object\n",
      "MERCHANTID                   917642 non-null int64\n",
      "FLOW_AMOUNT_TRXN_CURRENCY    917642 non-null float64\n",
      "EUR_EX_RATE                  917642 non-null float64\n",
      "FLOW_AMOUNT_EUR              917642 non-null float64\n",
      "CLIENT_NAME                  917642 non-null object\n",
      "CLIENT_ID                    917642 non-null int64\n",
      "SALES_REGION                 917642 non-null object\n",
      "MCC                          917642 non-null object\n",
      "IIN                          917642 non-null int64\n",
      "INVOICE_RELATION_ID          917642 non-null object\n",
      "ACQUIRER                     917642 non-null object\n",
      "ISSUER_COUNTRY               917642 non-null object\n",
      "CONS_COMM                    917642 non-null object\n",
      "CREDITCARDCOMPANY            917642 non-null object\n",
      "PRODUCTCODE                  917642 non-null object\n",
      "INVOICE_NUMBER               917642 non-null object\n",
      "AVSRESULT                    917642 non-null object\n",
      "Line_item_total              917642 non-null object\n",
      "Discount                     917642 non-null object\n",
      "Quantity                     917642 non-null object\n",
      "Unit_Cost                    917642 non-null object\n",
      "Unit_of_measure              917642 non-null object\n",
      "Product_Code                 917642 non-null object\n",
      "Item_Commodity_Code          917642 non-null object\n",
      "Item_Descriptor              917642 non-null object\n",
      "Product_Type                 917642 non-null object\n",
      "dtypes: float64(3), int64(4), object(21)\n",
      "memory usage: 203.0+ MB\n"
     ]
    }
   ],
   "source": [
    "df1.info()"
   ]
  },
  {
   "cell_type": "code",
   "execution_count": 12,
   "metadata": {},
   "outputs": [],
   "source": [
    "df3=pd.merge(df1,df2,how='left',on=['IIN'])"
   ]
  },
  {
   "cell_type": "code",
   "execution_count": 13,
   "metadata": {},
   "outputs": [],
   "source": [
    "df3[\"Corp_Purch_Actual (CNP)\"]=(df3['ic_perc']*df3['FLOW_AMOUNT_EUR'])+df3['ic_fixed']\n",
    "df3['Corp_Purch_Level_3']=(.0185*df3['FLOW_AMOUNT_EUR'])+.1\n",
    "df3['Corp_Purch_Level_2']=(.0205*df3['FLOW_AMOUNT_EUR'])+.1\n",
    "df3['Corp_Purch_Standard']=(.0295*df3['FLOW_AMOUNT_EUR'])+.1"
   ]
  },
  {
   "cell_type": "code",
   "execution_count": 14,
   "metadata": {},
   "outputs": [
    {
     "data": {
      "text/html": [
       "<div>\n",
       "<style scoped>\n",
       "    .dataframe tbody tr th:only-of-type {\n",
       "        vertical-align: middle;\n",
       "    }\n",
       "\n",
       "    .dataframe tbody tr th {\n",
       "        vertical-align: top;\n",
       "    }\n",
       "\n",
       "    .dataframe thead th {\n",
       "        text-align: right;\n",
       "    }\n",
       "</style>\n",
       "<table border=\"1\" class=\"dataframe\">\n",
       "  <thead>\n",
       "    <tr style=\"text-align: right;\">\n",
       "      <th></th>\n",
       "      <th>orderid</th>\n",
       "      <th>currency</th>\n",
       "      <th>MERCHANTID</th>\n",
       "      <th>FLOW_AMOUNT_TRXN_CURRENCY</th>\n",
       "      <th>EUR_EX_RATE</th>\n",
       "      <th>FLOW_AMOUNT_EUR</th>\n",
       "      <th>CLIENT_NAME</th>\n",
       "      <th>CLIENT_ID</th>\n",
       "      <th>SALES_REGION</th>\n",
       "      <th>MCC</th>\n",
       "      <th>...</th>\n",
       "      <th>ic_desc</th>\n",
       "      <th>ic_perc</th>\n",
       "      <th>ic_fixed</th>\n",
       "      <th>bin_frequency</th>\n",
       "      <th>max_theoretical_prob</th>\n",
       "      <th>consumer_commercial</th>\n",
       "      <th>Corp_Purch_Actual (CNP)</th>\n",
       "      <th>Corp_Purch_Level_3</th>\n",
       "      <th>Corp_Purch_Level_2</th>\n",
       "      <th>Corp_Purch_Standard</th>\n",
       "    </tr>\n",
       "  </thead>\n",
       "  <tbody>\n",
       "    <tr>\n",
       "      <th>0</th>\n",
       "      <td>949276294</td>\n",
       "      <td>USD</td>\n",
       "      <td>329</td>\n",
       "      <td>15.95</td>\n",
       "      <td>1.166293</td>\n",
       "      <td>13.675810</td>\n",
       "      <td>Shenzhen Global Egrow E-Commerce Co., Ltd</td>\n",
       "      <td>7265</td>\n",
       "      <td>APAC</td>\n",
       "      <td>5621</td>\n",
       "      <td>...</td>\n",
       "      <td>VI Commercial Business Tier 1 - Card Not Present</td>\n",
       "      <td>0.0225</td>\n",
       "      <td>0.10</td>\n",
       "      <td>6156.0</td>\n",
       "      <td>0.972222</td>\n",
       "      <td>Commercial</td>\n",
       "      <td>0.407706</td>\n",
       "      <td>0.353002</td>\n",
       "      <td>0.380354</td>\n",
       "      <td>0.503436</td>\n",
       "    </tr>\n",
       "    <tr>\n",
       "      <th>1</th>\n",
       "      <td>235729295</td>\n",
       "      <td>USD</td>\n",
       "      <td>4235</td>\n",
       "      <td>5.99</td>\n",
       "      <td>1.166293</td>\n",
       "      <td>5.135931</td>\n",
       "      <td>Steam Games, Valve Corporation</td>\n",
       "      <td>4235</td>\n",
       "      <td>NorthAm</td>\n",
       "      <td>7399</td>\n",
       "      <td>...</td>\n",
       "      <td>VI Consumer CPS Card Not Present Debit</td>\n",
       "      <td>0.0165</td>\n",
       "      <td>0.15</td>\n",
       "      <td>83840.0</td>\n",
       "      <td>0.850322</td>\n",
       "      <td>Consumer</td>\n",
       "      <td>0.234743</td>\n",
       "      <td>0.195015</td>\n",
       "      <td>0.205287</td>\n",
       "      <td>0.251510</td>\n",
       "    </tr>\n",
       "    <tr>\n",
       "      <th>2</th>\n",
       "      <td>4020473206</td>\n",
       "      <td>USD</td>\n",
       "      <td>7034</td>\n",
       "      <td>99.00</td>\n",
       "      <td>1.166293</td>\n",
       "      <td>84.884340</td>\n",
       "      <td>Asurion Insurance Services, Inc.</td>\n",
       "      <td>7021</td>\n",
       "      <td>NorthAm</td>\n",
       "      <td>6300</td>\n",
       "      <td>...</td>\n",
       "      <td>VI U.S. Regulated Debit</td>\n",
       "      <td>0.0005</td>\n",
       "      <td>0.22</td>\n",
       "      <td>3667.0</td>\n",
       "      <td>1.000000</td>\n",
       "      <td>Consumer</td>\n",
       "      <td>0.262442</td>\n",
       "      <td>1.670360</td>\n",
       "      <td>1.840129</td>\n",
       "      <td>2.604088</td>\n",
       "    </tr>\n",
       "    <tr>\n",
       "      <th>3</th>\n",
       "      <td>538183885</td>\n",
       "      <td>USD</td>\n",
       "      <td>6485</td>\n",
       "      <td>247.02</td>\n",
       "      <td>1.166293</td>\n",
       "      <td>211.799289</td>\n",
       "      <td>Priceline Agoda</td>\n",
       "      <td>4404</td>\n",
       "      <td>APAC</td>\n",
       "      <td>4722</td>\n",
       "      <td>...</td>\n",
       "      <td>VI Commercial Business Tier 1 - Card Not Present</td>\n",
       "      <td>0.0225</td>\n",
       "      <td>0.10</td>\n",
       "      <td>104174.0</td>\n",
       "      <td>0.379903</td>\n",
       "      <td>Commercial</td>\n",
       "      <td>4.865484</td>\n",
       "      <td>4.018287</td>\n",
       "      <td>4.441885</td>\n",
       "      <td>6.348079</td>\n",
       "    </tr>\n",
       "    <tr>\n",
       "      <th>4</th>\n",
       "      <td>248490854</td>\n",
       "      <td>USD</td>\n",
       "      <td>4235</td>\n",
       "      <td>3.41</td>\n",
       "      <td>1.166293</td>\n",
       "      <td>2.923794</td>\n",
       "      <td>Steam Games, Valve Corporation</td>\n",
       "      <td>4235</td>\n",
       "      <td>NorthAm</td>\n",
       "      <td>7399</td>\n",
       "      <td>...</td>\n",
       "      <td>VI Consumer CPS Card Not Present Prepaid</td>\n",
       "      <td>0.0175</td>\n",
       "      <td>0.20</td>\n",
       "      <td>52733.0</td>\n",
       "      <td>0.951226</td>\n",
       "      <td>Consumer</td>\n",
       "      <td>0.251166</td>\n",
       "      <td>0.154090</td>\n",
       "      <td>0.159938</td>\n",
       "      <td>0.186252</td>\n",
       "    </tr>\n",
       "  </tbody>\n",
       "</table>\n",
       "<p>5 rows × 38 columns</p>\n",
       "</div>"
      ],
      "text/plain": [
       "      orderid currency  MERCHANTID  FLOW_AMOUNT_TRXN_CURRENCY  EUR_EX_RATE  \\\n",
       "0   949276294     USD          329                      15.95     1.166293   \n",
       "1   235729295     USD         4235                       5.99     1.166293   \n",
       "2  4020473206     USD         7034                      99.00     1.166293   \n",
       "3   538183885     USD         6485                     247.02     1.166293   \n",
       "4   248490854     USD         4235                       3.41     1.166293   \n",
       "\n",
       "   FLOW_AMOUNT_EUR                                CLIENT_NAME  CLIENT_ID  \\\n",
       "0        13.675810  Shenzhen Global Egrow E-Commerce Co., Ltd       7265   \n",
       "1         5.135931             Steam Games, Valve Corporation       4235   \n",
       "2        84.884340           Asurion Insurance Services, Inc.       7021   \n",
       "3       211.799289                            Priceline Agoda       4404   \n",
       "4         2.923794             Steam Games, Valve Corporation       4235   \n",
       "\n",
       "  SALES_REGION         MCC         ...          \\\n",
       "0   APAC              5621         ...           \n",
       "1   NorthAm           7399         ...           \n",
       "2   NorthAm           6300         ...           \n",
       "3   APAC              4722         ...           \n",
       "4   NorthAm           7399         ...           \n",
       "\n",
       "                                            ic_desc ic_perc ic_fixed  \\\n",
       "0  VI Commercial Business Tier 1 - Card Not Present  0.0225     0.10   \n",
       "1            VI Consumer CPS Card Not Present Debit  0.0165     0.15   \n",
       "2                           VI U.S. Regulated Debit  0.0005     0.22   \n",
       "3  VI Commercial Business Tier 1 - Card Not Present  0.0225     0.10   \n",
       "4          VI Consumer CPS Card Not Present Prepaid  0.0175     0.20   \n",
       "\n",
       "  bin_frequency max_theoretical_prob consumer_commercial  \\\n",
       "0        6156.0             0.972222          Commercial   \n",
       "1       83840.0             0.850322            Consumer   \n",
       "2        3667.0             1.000000            Consumer   \n",
       "3      104174.0             0.379903          Commercial   \n",
       "4       52733.0             0.951226            Consumer   \n",
       "\n",
       "  Corp_Purch_Actual (CNP) Corp_Purch_Level_3 Corp_Purch_Level_2  \\\n",
       "0                0.407706           0.353002           0.380354   \n",
       "1                0.234743           0.195015           0.205287   \n",
       "2                0.262442           1.670360           1.840129   \n",
       "3                4.865484           4.018287           4.441885   \n",
       "4                0.251166           0.154090           0.159938   \n",
       "\n",
       "  Corp_Purch_Standard  \n",
       "0            0.503436  \n",
       "1            0.251510  \n",
       "2            2.604088  \n",
       "3            6.348079  \n",
       "4            0.186252  \n",
       "\n",
       "[5 rows x 38 columns]"
      ]
     },
     "execution_count": 14,
     "metadata": {},
     "output_type": "execute_result"
    }
   ],
   "source": [
    "df3.head()"
   ]
  },
  {
   "cell_type": "code",
   "execution_count": 17,
   "metadata": {},
   "outputs": [],
   "source": [
    "df3.to_csv('d:\\\\djohnson\\\\Desktop\\\\level_3_analysis.csv')"
   ]
  }
 ],
 "metadata": {
  "kernelspec": {
   "display_name": "Python 3",
   "language": "python",
   "name": "python3"
  },
  "language_info": {
   "codemirror_mode": {
    "name": "ipython",
    "version": 3
   },
   "file_extension": ".py",
   "mimetype": "text/x-python",
   "name": "python",
   "nbconvert_exporter": "python",
   "pygments_lexer": "ipython3",
   "version": "3.6.5"
  }
 },
 "nbformat": 4,
 "nbformat_minor": 2
}
