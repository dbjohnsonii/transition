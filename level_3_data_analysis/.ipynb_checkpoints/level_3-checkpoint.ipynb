{
 "cells": [
  {
   "cell_type": "code",
   "execution_count": 2,
   "metadata": {},
   "outputs": [
    {
     "data": {
      "text/html": [
       "<style>.container { width:95% !important; }</style>"
      ],
      "text/plain": [
       "<IPython.core.display.HTML object>"
      ]
     },
     "metadata": {},
     "output_type": "display_data"
    },
    {
     "name": "stdout",
     "output_type": "stream",
     "text": [
      "3.6.5 |Anaconda custom (64-bit)| (default, Mar 29 2018, 13:32:41) [MSC v.1900 64 bit (AMD64)]\n"
     ]
    }
   ],
   "source": [
    "from IPython.core.display import display, HTML\n",
    "display(HTML(\"<style>.container { width:95% !important; }</style>\"))\n",
    "import sys\n",
    "print (sys.version)"
   ]
  },
  {
   "cell_type": "code",
   "execution_count": 3,
   "metadata": {},
   "outputs": [],
   "source": [
    "'''import all necessary libraries'''\n",
    "\n",
    "import cx_Oracle #import the oracle database libraries\n",
    "import pandas as pd #connect to the pandas libraries\n",
    "import numpy as np #import numpy"
   ]
  },
  {
   "cell_type": "code",
   "execution_count": 5,
   "metadata": {},
   "outputs": [],
   "source": [
    "acq_col_names=['volume','currency','MERCHANTID','FLOW_AMOUNT_TRXN_CURRENCY','EUR_EX_RATE','FLOW_AMOUNT_EUR'\n",
    "               ,'CLIENT_NAME','CLIENT_ID','SALES_REGION','MCC','IIN','INVOICE_RELATION_ID','ACQUIRER'\n",
    "               ,'ISSUER_COUNTRY','CONS_COMM','CREDITCARDCOMPANY']"
   ]
  },
  {
   "cell_type": "code",
   "execution_count": 6,
   "metadata": {},
   "outputs": [],
   "source": [
    "df1=pd.read_csv('u:\\\\level_3_data.txt',sep=';',names=acq_col_names,skiprows=52,encoding='ISO-8859-1',error_bad_lines=False,low_memory=False,index_col=False)"
   ]
  },
  {
   "cell_type": "code",
   "execution_count": 35,
   "metadata": {},
   "outputs": [],
   "source": [
    "df2=pd.read_csv('d:\\\\djohnson\\\\Desktop\\\\us_bin_Classification_table.csv')\n",
    "df2=df2.drop('Unnamed: 0',axis=1)\n",
    "df2=df2.rename(columns={'bin_num':'IIN'})\n",
    "df2['max_theoretical_prob']=df2['max_theoretical_prob']/100"
   ]
  },
  {
   "cell_type": "code",
   "execution_count": 36,
   "metadata": {},
   "outputs": [
    {
     "name": "stdout",
     "output_type": "stream",
     "text": [
      "<class 'pandas.core.frame.DataFrame'>\n",
      "Int64Index: 886706 entries, 0 to 1661858\n",
      "Data columns (total 16 columns):\n",
      "volume                       886706 non-null int64\n",
      "currency                     886706 non-null object\n",
      "MERCHANTID                   886706 non-null int64\n",
      "FLOW_AMOUNT_TRXN_CURRENCY    886706 non-null float64\n",
      "EUR_EX_RATE                  886706 non-null float64\n",
      "FLOW_AMOUNT_EUR              886706 non-null float64\n",
      "CLIENT_NAME                  886706 non-null object\n",
      "CLIENT_ID                    886706 non-null int64\n",
      "SALES_REGION                 886706 non-null object\n",
      "MCC                          886706 non-null object\n",
      "IIN                          886706 non-null int64\n",
      "INVOICE_RELATION_ID          886706 non-null object\n",
      "ACQUIRER                     886706 non-null object\n",
      "ISSUER_COUNTRY               886706 non-null object\n",
      "CONS_COMM                    886706 non-null object\n",
      "CREDITCARDCOMPANY            886706 non-null object\n",
      "dtypes: float64(3), int64(4), object(9)\n",
      "memory usage: 115.0+ MB\n"
     ]
    }
   ],
   "source": [
    "df1.info()"
   ]
  },
  {
   "cell_type": "code",
   "execution_count": 37,
   "metadata": {},
   "outputs": [
    {
     "name": "stdout",
     "output_type": "stream",
     "text": [
      "<class 'pandas.core.frame.DataFrame'>\n",
      "RangeIndex: 20939 entries, 0 to 20938\n",
      "Data columns (total 7 columns):\n",
      "IIN                     20938 non-null float64\n",
      "ic_desc                 20939 non-null object\n",
      "ic_perc                 20939 non-null float64\n",
      "ic_fixed                20939 non-null float64\n",
      "bin_frequency           20939 non-null int64\n",
      "max_theoretical_prob    20939 non-null float64\n",
      "consumer_commercial     20939 non-null object\n",
      "dtypes: float64(4), int64(1), object(2)\n",
      "memory usage: 1.1+ MB\n"
     ]
    }
   ],
   "source": [
    "df2.info()"
   ]
  },
  {
   "cell_type": "code",
   "execution_count": 38,
   "metadata": {},
   "outputs": [],
   "source": [
    "df1=df1.drop_duplicates().copy()"
   ]
  },
  {
   "cell_type": "code",
   "execution_count": 39,
   "metadata": {},
   "outputs": [],
   "source": [
    "df1['CLIENT_NAME']=df1['CLIENT_NAME'].str.strip()\n",
    "df1['ISSUER_COUNTRY']=df1['ISSUER_COUNTRY'].str.strip()"
   ]
  },
  {
   "cell_type": "code",
   "execution_count": 40,
   "metadata": {},
   "outputs": [
    {
     "name": "stdout",
     "output_type": "stream",
     "text": [
      "<class 'pandas.core.frame.DataFrame'>\n",
      "Int64Index: 886706 entries, 0 to 1661858\n",
      "Data columns (total 16 columns):\n",
      "volume                       886706 non-null int64\n",
      "currency                     886706 non-null object\n",
      "MERCHANTID                   886706 non-null int64\n",
      "FLOW_AMOUNT_TRXN_CURRENCY    886706 non-null float64\n",
      "EUR_EX_RATE                  886706 non-null float64\n",
      "FLOW_AMOUNT_EUR              886706 non-null float64\n",
      "CLIENT_NAME                  886706 non-null object\n",
      "CLIENT_ID                    886706 non-null int64\n",
      "SALES_REGION                 886706 non-null object\n",
      "MCC                          886706 non-null object\n",
      "IIN                          886706 non-null int64\n",
      "INVOICE_RELATION_ID          886706 non-null object\n",
      "ACQUIRER                     886706 non-null object\n",
      "ISSUER_COUNTRY               886706 non-null object\n",
      "CONS_COMM                    886706 non-null object\n",
      "CREDITCARDCOMPANY            886706 non-null object\n",
      "dtypes: float64(3), int64(4), object(9)\n",
      "memory usage: 115.0+ MB\n"
     ]
    }
   ],
   "source": [
    "df1.info()"
   ]
  },
  {
   "cell_type": "code",
   "execution_count": 41,
   "metadata": {},
   "outputs": [],
   "source": [
    "df3=pd.merge(df1,df2,how='left',on=['IIN'])"
   ]
  },
  {
   "cell_type": "code",
   "execution_count": null,
   "metadata": {},
   "outputs": [],
   "source": [
    "df3[\"Corp_Purch_Actual (CNP)\"]=(df3['ic_perc']*df3['FLOW_AMOUNT_EUR'])+df3['ic_fixed']\n",
    "df3['Corp_Purch_Level_3']=(.0185*df3['FLOW_AMOUNT_EUR'])+.1\n",
    "df3['Corp_Purch_Level_2']=(.0205*df3['FLOW_AMOUNT_EUR'])+.1\n",
    "df3['Corp_Purch_Standard']=(.0295*df3['FLOW_AMOUNT_EUR'])+.1"
   ]
  },
  {
   "cell_type": "code",
   "execution_count": 42,
   "metadata": {},
   "outputs": [
    {
     "data": {
      "text/html": [
       "<div>\n",
       "<style scoped>\n",
       "    .dataframe tbody tr th:only-of-type {\n",
       "        vertical-align: middle;\n",
       "    }\n",
       "\n",
       "    .dataframe tbody tr th {\n",
       "        vertical-align: top;\n",
       "    }\n",
       "\n",
       "    .dataframe thead th {\n",
       "        text-align: right;\n",
       "    }\n",
       "</style>\n",
       "<table border=\"1\" class=\"dataframe\">\n",
       "  <thead>\n",
       "    <tr style=\"text-align: right;\">\n",
       "      <th></th>\n",
       "      <th>volume</th>\n",
       "      <th>currency</th>\n",
       "      <th>MERCHANTID</th>\n",
       "      <th>FLOW_AMOUNT_TRXN_CURRENCY</th>\n",
       "      <th>EUR_EX_RATE</th>\n",
       "      <th>FLOW_AMOUNT_EUR</th>\n",
       "      <th>CLIENT_NAME</th>\n",
       "      <th>CLIENT_ID</th>\n",
       "      <th>SALES_REGION</th>\n",
       "      <th>MCC</th>\n",
       "      <th>...</th>\n",
       "      <th>ACQUIRER</th>\n",
       "      <th>ISSUER_COUNTRY</th>\n",
       "      <th>CONS_COMM</th>\n",
       "      <th>CREDITCARDCOMPANY</th>\n",
       "      <th>ic_desc</th>\n",
       "      <th>ic_perc</th>\n",
       "      <th>ic_fixed</th>\n",
       "      <th>bin_frequency</th>\n",
       "      <th>max_theoretical_prob</th>\n",
       "      <th>consumer_commercial</th>\n",
       "    </tr>\n",
       "  </thead>\n",
       "  <tbody>\n",
       "    <tr>\n",
       "      <th>0</th>\n",
       "      <td>559674</td>\n",
       "      <td>USD</td>\n",
       "      <td>4275</td>\n",
       "      <td>79.95</td>\n",
       "      <td>1.166293</td>\n",
       "      <td>68.550535</td>\n",
       "      <td>Interspire Limited</td>\n",
       "      <td>4275</td>\n",
       "      <td>NorthAm</td>\n",
       "      <td>5045</td>\n",
       "      <td>...</td>\n",
       "      <td>Firstdata</td>\n",
       "      <td>UNITED STATES OF AMERICA</td>\n",
       "      <td>COMMERCIAL</td>\n",
       "      <td>VISA</td>\n",
       "      <td>VI Commercial Business Tier 1 - Card Not Present</td>\n",
       "      <td>0.0225</td>\n",
       "      <td>0.10</td>\n",
       "      <td>104174.0</td>\n",
       "      <td>0.379903</td>\n",
       "      <td>Commercial</td>\n",
       "    </tr>\n",
       "    <tr>\n",
       "      <th>1</th>\n",
       "      <td>102766128</td>\n",
       "      <td>USD</td>\n",
       "      <td>3911</td>\n",
       "      <td>10.49</td>\n",
       "      <td>1.166293</td>\n",
       "      <td>8.994310</td>\n",
       "      <td>Linden Lab</td>\n",
       "      <td>3199</td>\n",
       "      <td>NorthAm</td>\n",
       "      <td>5734</td>\n",
       "      <td>...</td>\n",
       "      <td>Vantiv</td>\n",
       "      <td>UNITED STATES OF AMERICA</td>\n",
       "      <td>COMMERCIAL</td>\n",
       "      <td>VISA</td>\n",
       "      <td>VI Consumer CPS Signature Preferred Credit</td>\n",
       "      <td>0.0240</td>\n",
       "      <td>0.10</td>\n",
       "      <td>6959.0</td>\n",
       "      <td>0.844518</td>\n",
       "      <td>Consumer</td>\n",
       "    </tr>\n",
       "    <tr>\n",
       "      <th>2</th>\n",
       "      <td>4022470640</td>\n",
       "      <td>USD</td>\n",
       "      <td>7034</td>\n",
       "      <td>225.00</td>\n",
       "      <td>1.166293</td>\n",
       "      <td>192.918954</td>\n",
       "      <td>Asurion Insurance Services, Inc.</td>\n",
       "      <td>7021</td>\n",
       "      <td>NorthAm</td>\n",
       "      <td>6300</td>\n",
       "      <td>...</td>\n",
       "      <td>Vantiv</td>\n",
       "      <td>UNITED STATES OF AMERICA</td>\n",
       "      <td>COMMERCIAL</td>\n",
       "      <td>VISA</td>\n",
       "      <td>VI U.S. Regulated Debit</td>\n",
       "      <td>0.0005</td>\n",
       "      <td>0.22</td>\n",
       "      <td>233.0</td>\n",
       "      <td>1.000000</td>\n",
       "      <td>Consumer</td>\n",
       "    </tr>\n",
       "    <tr>\n",
       "      <th>3</th>\n",
       "      <td>102603964</td>\n",
       "      <td>USD</td>\n",
       "      <td>3911</td>\n",
       "      <td>10.99</td>\n",
       "      <td>1.166293</td>\n",
       "      <td>9.423019</td>\n",
       "      <td>Linden Lab</td>\n",
       "      <td>3199</td>\n",
       "      <td>NorthAm</td>\n",
       "      <td>5734</td>\n",
       "      <td>...</td>\n",
       "      <td>Vantiv</td>\n",
       "      <td>UNITED STATES OF AMERICA</td>\n",
       "      <td>COMMERCIAL</td>\n",
       "      <td>VISA</td>\n",
       "      <td>VI Consumer CPS Card Not Present Prepaid</td>\n",
       "      <td>0.0175</td>\n",
       "      <td>0.20</td>\n",
       "      <td>102891.0</td>\n",
       "      <td>0.977549</td>\n",
       "      <td>Consumer</td>\n",
       "    </tr>\n",
       "    <tr>\n",
       "      <th>4</th>\n",
       "      <td>3252681</td>\n",
       "      <td>USD</td>\n",
       "      <td>5119</td>\n",
       "      <td>239.50</td>\n",
       "      <td>1.166293</td>\n",
       "      <td>205.351509</td>\n",
       "      <td>Direct Wines Inc, Archway Partnerships Inc</td>\n",
       "      <td>4402</td>\n",
       "      <td>EMEA</td>\n",
       "      <td>5968</td>\n",
       "      <td>...</td>\n",
       "      <td>Vantiv</td>\n",
       "      <td>UNITED STATES OF AMERICA</td>\n",
       "      <td>COMMERCIAL</td>\n",
       "      <td>VISA</td>\n",
       "      <td>VI Commercial Business Tier 1 - Card Not Present</td>\n",
       "      <td>0.0225</td>\n",
       "      <td>0.10</td>\n",
       "      <td>5689.0</td>\n",
       "      <td>0.684479</td>\n",
       "      <td>Commercial</td>\n",
       "    </tr>\n",
       "  </tbody>\n",
       "</table>\n",
       "<p>5 rows × 22 columns</p>\n",
       "</div>"
      ],
      "text/plain": [
       "       volume currency  MERCHANTID  FLOW_AMOUNT_TRXN_CURRENCY  EUR_EX_RATE  \\\n",
       "0      559674     USD         4275                      79.95     1.166293   \n",
       "1   102766128     USD         3911                      10.49     1.166293   \n",
       "2  4022470640     USD         7034                     225.00     1.166293   \n",
       "3   102603964     USD         3911                      10.99     1.166293   \n",
       "4     3252681     USD         5119                     239.50     1.166293   \n",
       "\n",
       "   FLOW_AMOUNT_EUR                                 CLIENT_NAME  CLIENT_ID  \\\n",
       "0        68.550535                          Interspire Limited       4275   \n",
       "1         8.994310                                  Linden Lab       3199   \n",
       "2       192.918954            Asurion Insurance Services, Inc.       7021   \n",
       "3         9.423019                                  Linden Lab       3199   \n",
       "4       205.351509  Direct Wines Inc, Archway Partnerships Inc       4402   \n",
       "\n",
       "  SALES_REGION         MCC         ...              ACQUIRER  \\\n",
       "0   NorthAm           5045         ...           Firstdata     \n",
       "1   NorthAm           5734         ...           Vantiv        \n",
       "2   NorthAm           6300         ...           Vantiv        \n",
       "3   NorthAm           5734         ...           Vantiv        \n",
       "4   EMEA              5968         ...           Vantiv        \n",
       "\n",
       "             ISSUER_COUNTRY        CONS_COMM CREDITCARDCOMPANY  \\\n",
       "0  UNITED STATES OF AMERICA  COMMERCIAL                   VISA   \n",
       "1  UNITED STATES OF AMERICA  COMMERCIAL                   VISA   \n",
       "2  UNITED STATES OF AMERICA  COMMERCIAL                   VISA   \n",
       "3  UNITED STATES OF AMERICA  COMMERCIAL                   VISA   \n",
       "4  UNITED STATES OF AMERICA  COMMERCIAL                   VISA   \n",
       "\n",
       "                                            ic_desc ic_perc ic_fixed  \\\n",
       "0  VI Commercial Business Tier 1 - Card Not Present  0.0225     0.10   \n",
       "1        VI Consumer CPS Signature Preferred Credit  0.0240     0.10   \n",
       "2                           VI U.S. Regulated Debit  0.0005     0.22   \n",
       "3          VI Consumer CPS Card Not Present Prepaid  0.0175     0.20   \n",
       "4  VI Commercial Business Tier 1 - Card Not Present  0.0225     0.10   \n",
       "\n",
       "   bin_frequency  max_theoretical_prob  consumer_commercial  \n",
       "0       104174.0              0.379903           Commercial  \n",
       "1         6959.0              0.844518             Consumer  \n",
       "2          233.0              1.000000             Consumer  \n",
       "3       102891.0              0.977549             Consumer  \n",
       "4         5689.0              0.684479           Commercial  \n",
       "\n",
       "[5 rows x 22 columns]"
      ]
     },
     "execution_count": 42,
     "metadata": {},
     "output_type": "execute_result"
    }
   ],
   "source": [
    "df3.head()"
   ]
  },
  {
   "cell_type": "code",
   "execution_count": 34,
   "metadata": {},
   "outputs": [],
   "source": [
    "df3.to_csv('d:\\\\djohnson\\\\Desktop\\\\level_3_analysis.csv')"
   ]
  }
 ],
 "metadata": {
  "kernelspec": {
   "display_name": "Python 3",
   "language": "python",
   "name": "python3"
  },
  "language_info": {
   "codemirror_mode": {
    "name": "ipython",
    "version": 3
   },
   "file_extension": ".py",
   "mimetype": "text/x-python",
   "name": "python",
   "nbconvert_exporter": "python",
   "pygments_lexer": "ipython3",
   "version": "3.6.5"
  }
 },
 "nbformat": 4,
 "nbformat_minor": 2
}
