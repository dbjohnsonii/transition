{
 "cells": [
  {
   "cell_type": "code",
   "execution_count": 1,
   "metadata": {},
   "outputs": [],
   "source": [
    "import http.client\n",
    "import json\n",
    "import pandas as pd\n",
    "import urllib.request\n",
    "from IPython.display import clear_output"
   ]
  },
  {
   "cell_type": "code",
   "execution_count": 2,
   "metadata": {},
   "outputs": [],
   "source": [
    "bins=pd.read_csv('d:\\djohnson\\Desktop\\IIN.csv',dtype={'IIN':'object'})"
   ]
  },
  {
   "cell_type": "raw",
   "metadata": {},
   "source": [
    "bins.info()"
   ]
  },
  {
   "cell_type": "code",
   "execution_count": 3,
   "metadata": {},
   "outputs": [],
   "source": [
    "bins=list(bins.values.flatten())"
   ]
  },
  {
   "cell_type": "raw",
   "metadata": {},
   "source": [
    "print (bins)"
   ]
  },
  {
   "cell_type": "code",
   "execution_count": 4,
   "metadata": {},
   "outputs": [],
   "source": [
    "scheme=[]\n",
    "card_type=[]\n",
    "brand=[]\n",
    "country=[]\n",
    "bank_name=[]"
   ]
  },
  {
   "cell_type": "code",
   "execution_count": null,
   "metadata": {},
   "outputs": [
    {
     "name": "stdout",
     "output_type": "stream",
     "text": [
      "30913\n"
     ]
    }
   ],
   "source": [
    "for x in range(0,len(bins)):\n",
    "    try:\n",
    "        req = urllib.request.Request(\"https://lookup.binlist.net/\"+bins[x])\n",
    "        with urllib.request.urlopen(req) as response:\n",
    "            result = json.loads(response.read().decode('utf-8')) \n",
    "            '''card scheme'''\n",
    "            try:\n",
    "                if result['scheme'] is None:\n",
    "                    scheme.append(\"\")\n",
    "                else:\n",
    "                    scheme.append(result['scheme'])\n",
    "            except:\n",
    "                scheme.append(\"\")\n",
    "\n",
    "            '''card type'''\n",
    "            try:\n",
    "                if result['type'] is None:\n",
    "\n",
    "                    card_type.append(\"\")\n",
    "                else:\n",
    "                    card_type.append(result['type'])\n",
    "            except:\n",
    "                card_type.append(\"\")\n",
    "            '''card brand'''    \n",
    "            try:\n",
    "                if result['brand'] is None:\n",
    "                    brand.append(\"\")\n",
    "                else:\n",
    "                    brand.append(result['brand'])\n",
    "            except:\n",
    "                brand.append(\"\")\n",
    "            '''card country'''\n",
    "            try:    \n",
    "                if result['country'] is None:\n",
    "                    country.append(\"\")\n",
    "                else:\n",
    "                    country.append(result['country']['name'])\n",
    "            except:\n",
    "                country.append(\"\")\n",
    "            '''bank name'''    \n",
    "            try:\n",
    "                if result['bank'] is None:\n",
    "                    bank_name.append(\"\")\n",
    "                else:\n",
    "                    bank_name.append(result['bank']['name'])\n",
    "            except:\n",
    "                bank_name.append(\"\")\n",
    "    except:\n",
    "        scheme.append(\"\")\n",
    "        card_type.append(\"\")\n",
    "        brand.append(\"\")\n",
    "        country.append(\"\")\n",
    "        bank_name.append(\"\")\n",
    "    \n",
    "    clear_output()\n",
    "    print(x)"
   ]
  },
  {
   "cell_type": "code",
   "execution_count": null,
   "metadata": {},
   "outputs": [],
   "source": [
    "result"
   ]
  },
  {
   "cell_type": "code",
   "execution_count": null,
   "metadata": {},
   "outputs": [],
   "source": [
    "#print (bins)\n",
    "print (scheme)\n",
    "print (card_type)\n",
    "print (brand)\n",
    "print (country)\n",
    "print (bank_name)"
   ]
  }
 ],
 "metadata": {
  "kernelspec": {
   "display_name": "Python 3",
   "language": "python",
   "name": "python3"
  },
  "language_info": {
   "codemirror_mode": {
    "name": "ipython",
    "version": 3
   },
   "file_extension": ".py",
   "mimetype": "text/x-python",
   "name": "python",
   "nbconvert_exporter": "python",
   "pygments_lexer": "ipython3",
   "version": "3.6.5"
  }
 },
 "nbformat": 4,
 "nbformat_minor": 2
}
