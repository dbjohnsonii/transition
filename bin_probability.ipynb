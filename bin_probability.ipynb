{
 "cells": [
  {
   "cell_type": "code",
   "execution_count": 106,
   "metadata": {},
   "outputs": [],
   "source": [
    "import pandas as pd\n",
    "from scipy.stats import chisquare\n",
    "from IPython.display import clear_output"
   ]
  },
  {
   "cell_type": "code",
   "execution_count": 84,
   "metadata": {},
   "outputs": [],
   "source": [
    "columns=['desc','bin','ic_fixed','ic_perc','count',]\n",
    "df=pd.read_csv('d:\\\\djohnson\\\\Desktop\\\\BIN_Classification.txt',sep=';',skiprows=18,encoding='ISO-8859-1',error_bad_lines=False,low_memory=False,names=columns)"
   ]
  },
  {
   "cell_type": "code",
   "execution_count": 85,
   "metadata": {},
   "outputs": [],
   "source": [
    "df['desc']=df['desc'].str.strip()\n",
    "df['bin']=df['bin'].str.strip()\n",
    "df['ic_fixed']=df['ic_fixed'].str.strip()\n",
    "df['ic_perc']=df['ic_perc'].str.strip()\n",
    "df['bin']=df['bin'].str.strip()"
   ]
  },
  {
   "cell_type": "code",
   "execution_count": 86,
   "metadata": {},
   "outputs": [],
   "source": [
    "df=df[(df['bin']=='429117')].reset_index(drop=True).copy()\n",
    "df['possible_outcomes']=df['count'].sum()\n",
    "df['favorable_outcomes']=df['count']/df['possible_outcomes']"
   ]
  },
  {
   "cell_type": "code",
   "execution_count": 105,
   "metadata": {},
   "outputs": [
    {
     "data": {
      "text/html": [
       "<div>\n",
       "<style scoped>\n",
       "    .dataframe tbody tr th:only-of-type {\n",
       "        vertical-align: middle;\n",
       "    }\n",
       "\n",
       "    .dataframe tbody tr th {\n",
       "        vertical-align: top;\n",
       "    }\n",
       "\n",
       "    .dataframe thead th {\n",
       "        text-align: right;\n",
       "    }\n",
       "</style>\n",
       "<table border=\"1\" class=\"dataframe\">\n",
       "  <thead>\n",
       "    <tr style=\"text-align: right;\">\n",
       "      <th></th>\n",
       "      <th>desc</th>\n",
       "      <th>bin</th>\n",
       "      <th>ic_fixed</th>\n",
       "      <th>ic_perc</th>\n",
       "      <th>count</th>\n",
       "      <th>possible_outcomes</th>\n",
       "      <th>favorable_outcomes</th>\n",
       "    </tr>\n",
       "  </thead>\n",
       "  <tbody>\n",
       "    <tr>\n",
       "      <th>0</th>\n",
       "      <td>VI Consumer CPS Retail 2 Debit</td>\n",
       "      <td>429117</td>\n",
       "      <td>.15</td>\n",
       "      <td>.0065</td>\n",
       "      <td>1012</td>\n",
       "      <td>44204</td>\n",
       "      <td>0.022894</td>\n",
       "    </tr>\n",
       "    <tr>\n",
       "      <th>1</th>\n",
       "      <td>VI Consumer CPS Card Not Present Debit</td>\n",
       "      <td>429117</td>\n",
       "      <td>.15</td>\n",
       "      <td>.0165</td>\n",
       "      <td>40223</td>\n",
       "      <td>44204</td>\n",
       "      <td>0.909940</td>\n",
       "    </tr>\n",
       "    <tr>\n",
       "      <th>2</th>\n",
       "      <td>VI Consumer EIRF Debit</td>\n",
       "      <td>429117</td>\n",
       "      <td>.2</td>\n",
       "      <td>.0175</td>\n",
       "      <td>30</td>\n",
       "      <td>44204</td>\n",
       "      <td>0.000679</td>\n",
       "    </tr>\n",
       "    <tr>\n",
       "      <th>3</th>\n",
       "      <td>VI Consumer CPS Retail 2 Debit (Capped)</td>\n",
       "      <td>429117</td>\n",
       "      <td>2</td>\n",
       "      <td>0</td>\n",
       "      <td>9</td>\n",
       "      <td>44204</td>\n",
       "      <td>0.000204</td>\n",
       "    </tr>\n",
       "    <tr>\n",
       "      <th>4</th>\n",
       "      <td>VI Consumer CPS ECommerce Basic Debit</td>\n",
       "      <td>429117</td>\n",
       "      <td>.15</td>\n",
       "      <td>.0165</td>\n",
       "      <td>2930</td>\n",
       "      <td>44204</td>\n",
       "      <td>0.066284</td>\n",
       "    </tr>\n",
       "  </tbody>\n",
       "</table>\n",
       "</div>"
      ],
      "text/plain": [
       "                                      desc     bin ic_fixed ic_perc  count  \\\n",
       "0           VI Consumer CPS Retail 2 Debit  429117      .15   .0065   1012   \n",
       "1   VI Consumer CPS Card Not Present Debit  429117      .15   .0165  40223   \n",
       "2                   VI Consumer EIRF Debit  429117       .2   .0175     30   \n",
       "3  VI Consumer CPS Retail 2 Debit (Capped)  429117        2       0      9   \n",
       "4    VI Consumer CPS ECommerce Basic Debit  429117      .15   .0165   2930   \n",
       "\n",
       "   possible_outcomes  favorable_outcomes  \n",
       "0              44204            0.022894  \n",
       "1              44204            0.909940  \n",
       "2              44204            0.000679  \n",
       "3              44204            0.000204  \n",
       "4              44204            0.066284  "
      ]
     },
     "execution_count": 105,
     "metadata": {},
     "output_type": "execute_result"
    }
   ],
   "source": [
    "df"
   ]
  },
  {
   "cell_type": "code",
   "execution_count": 101,
   "metadata": {},
   "outputs": [
    {
     "data": {
      "text/plain": [
       "Power_divergenceResult(statistic=169429.92946339698, pvalue=0.0)"
      ]
     },
     "execution_count": 101,
     "metadata": {},
     "output_type": "execute_result"
    }
   ],
   "source": [
    "chisquare(f_obs=o, f_exp=e,ddof=2)"
   ]
  },
  {
   "cell_type": "code",
   "execution_count": 53,
   "metadata": {},
   "outputs": [],
   "source": [
    "df1=df.copy()"
   ]
  },
  {
   "cell_type": "code",
   "execution_count": 54,
   "metadata": {},
   "outputs": [],
   "source": [
    "df1=df1[['bin']].drop_duplicates().reset_index(drop=True)"
   ]
  },
  {
   "cell_type": "code",
   "execution_count": 55,
   "metadata": {},
   "outputs": [
    {
     "data": {
      "text/html": [
       "<div>\n",
       "<style scoped>\n",
       "    .dataframe tbody tr th:only-of-type {\n",
       "        vertical-align: middle;\n",
       "    }\n",
       "\n",
       "    .dataframe tbody tr th {\n",
       "        vertical-align: top;\n",
       "    }\n",
       "\n",
       "    .dataframe thead th {\n",
       "        text-align: right;\n",
       "    }\n",
       "</style>\n",
       "<table border=\"1\" class=\"dataframe\">\n",
       "  <thead>\n",
       "    <tr style=\"text-align: right;\">\n",
       "      <th></th>\n",
       "      <th>bin</th>\n",
       "    </tr>\n",
       "  </thead>\n",
       "  <tbody>\n",
       "    <tr>\n",
       "      <th>0</th>\n",
       "      <td>551128</td>\n",
       "    </tr>\n",
       "    <tr>\n",
       "      <th>1</th>\n",
       "      <td>540997</td>\n",
       "    </tr>\n",
       "    <tr>\n",
       "      <th>2</th>\n",
       "      <td>520760</td>\n",
       "    </tr>\n",
       "    <tr>\n",
       "      <th>3</th>\n",
       "      <td>546133</td>\n",
       "    </tr>\n",
       "    <tr>\n",
       "      <th>4</th>\n",
       "      <td>446540</td>\n",
       "    </tr>\n",
       "  </tbody>\n",
       "</table>\n",
       "</div>"
      ],
      "text/plain": [
       "      bin\n",
       "0  551128\n",
       "1  540997\n",
       "2  520760\n",
       "3  546133\n",
       "4  446540"
      ]
     },
     "execution_count": 55,
     "metadata": {},
     "output_type": "execute_result"
    }
   ],
   "source": [
    "df1.head()"
   ]
  },
  {
   "cell_type": "code",
   "execution_count": 56,
   "metadata": {},
   "outputs": [
    {
     "name": "stdout",
     "output_type": "stream",
     "text": [
      "<class 'pandas.core.frame.DataFrame'>\n",
      "RangeIndex: 52539 entries, 0 to 52538\n",
      "Data columns (total 5 columns):\n",
      "desc        52539 non-null object\n",
      "bin         52539 non-null object\n",
      "ic_fixed    52539 non-null object\n",
      "ic_perc     52539 non-null object\n",
      "count       52539 non-null int64\n",
      "dtypes: int64(1), object(4)\n",
      "memory usage: 2.0+ MB\n"
     ]
    }
   ],
   "source": [
    "df.info()"
   ]
  },
  {
   "cell_type": "code",
   "execution_count": 57,
   "metadata": {},
   "outputs": [],
   "source": [
    "bin_num=[]\n",
    "dcrp=[]\n",
    "ic_f=[]\n",
    "ic_p=[]\n",
    "prob=[]\n",
    "freq=[]"
   ]
  },
  {
   "cell_type": "code",
   "execution_count": 9,
   "metadata": {},
   "outputs": [
    {
     "name": "stdout",
     "output_type": "stream",
     "text": [
      "0.9999522422274225\n"
     ]
    }
   ],
   "source": [
    "#for x in range (0,len(df1['bin'])):\n",
    "for x in range (0,len(df1)):\n",
    "    test=df[(df['bin']==df1.loc[x,'bin'])].reset_index(drop=True).copy()\n",
    "    test['possible_outcomes']=test['count'].sum()\n",
    "    test['favorable_outcomes']=test['count']/test['possible_outcomes']\n",
    "    \n",
    "    test['bin']=test[['bin']][(test['favorable_outcomes']==test['favorable_outcomes'])].reset_index(drop=True)\n",
    "    bin_num.append(test.loc[0,'bin'])\n",
    "    \n",
    "    test['dcrp']=test[['desc']][(test['favorable_outcomes']==test['favorable_outcomes'])].reset_index(drop=True)\n",
    "    dcrp.append(test.loc[0,'dcrp'])    \n",
    "    \n",
    "    test['ic_f']=test[['ic_fixed']][(test['favorable_outcomes']==test['favorable_outcomes'])].reset_index(drop=True)\n",
    "    ic_f.append(test.loc[0,'ic_f'])    \n",
    "    \n",
    "    test['ic_p']=test[['ic_perc']][(test['favorable_outcomes']==test['favorable_outcomes'])].reset_index(drop=True)\n",
    "    ic_p.append(test.loc[0,'ic_p'])  \n",
    "\n",
    "    test['prob']=test[['favorable_outcomes']][(test['favorable_outcomes']==test['favorable_outcomes'])].reset_index(drop=True)\n",
    "    prob.append(test.loc[0,'prob'])\n",
    "    \n",
    "    test['possible_outcomes']=test[['possible_outcomes']][(test['possible_outcomes']==test['possible_outcomes'])].reset_index(drop=True)\n",
    "    freq.append(test.loc[0,'possible_outcomes'])\n",
    "    \n",
    "#########################################################################\n",
    "    clear_output()\n",
    "    print(x/len(df1))"
   ]
  },
  {
   "cell_type": "code",
   "execution_count": 27,
   "metadata": {},
   "outputs": [],
   "source": [
    "#dont forget bin by data probability occurecnce and then we can create a conditional probability"
   ]
  },
  {
   "cell_type": "code",
   "execution_count": 12,
   "metadata": {},
   "outputs": [],
   "source": [
    "#create new df \n",
    "df2 = pd.DataFrame(bin_num)\n",
    "df2=df2.rename(columns={0:'bin_num'})\n",
    "df3 = pd.DataFrame(dcrp)\n",
    "df3=df3.rename(columns={0:'ic_desc'})\n",
    "df4 = pd.DataFrame(ic_f)\n",
    "df4=df4.rename(columns={0:'ic_fixed'})\n",
    "df5 = pd.DataFrame(ic_p)\n",
    "df5=df5.rename(columns={0:'ic_perc'})\n",
    "df6 = pd.DataFrame(freq)\n",
    "df6=df6.rename(columns={0:'bin_frequency'})\n",
    "df7 = pd.DataFrame(prob)\n",
    "df7=df7.rename(columns={0:'max_theoretical_prob'})\n",
    "df_master=df2.join(df3).join(df5).join(df4).join(df6).join(df7)\n",
    "df_master['consumer_commercial']=''"
   ]
  },
  {
   "cell_type": "code",
   "execution_count": 13,
   "metadata": {},
   "outputs": [
    {
     "data": {
      "text/html": [
       "<div>\n",
       "<style scoped>\n",
       "    .dataframe tbody tr th:only-of-type {\n",
       "        vertical-align: middle;\n",
       "    }\n",
       "\n",
       "    .dataframe tbody tr th {\n",
       "        vertical-align: top;\n",
       "    }\n",
       "\n",
       "    .dataframe thead th {\n",
       "        text-align: right;\n",
       "    }\n",
       "</style>\n",
       "<table border=\"1\" class=\"dataframe\">\n",
       "  <thead>\n",
       "    <tr style=\"text-align: right;\">\n",
       "      <th></th>\n",
       "      <th>bin_num</th>\n",
       "      <th>ic_desc</th>\n",
       "      <th>ic_perc</th>\n",
       "      <th>ic_fixed</th>\n",
       "      <th>bin_frequency</th>\n",
       "      <th>max_theoretical_prob</th>\n",
       "      <th>consumer_commercial</th>\n",
       "    </tr>\n",
       "  </thead>\n",
       "  <tbody>\n",
       "    <tr>\n",
       "      <th>0</th>\n",
       "      <td>551128</td>\n",
       "      <td>MC Consumer Emerging Markets Debit</td>\n",
       "      <td>.008</td>\n",
       "      <td>.25</td>\n",
       "      <td>2758</td>\n",
       "      <td>0.224801</td>\n",
       "      <td></td>\n",
       "    </tr>\n",
       "    <tr>\n",
       "      <th>1</th>\n",
       "      <td>540997</td>\n",
       "      <td>MC Regulated Debit Plus Fraud Adjustment</td>\n",
       "      <td>.0005</td>\n",
       "      <td>.22</td>\n",
       "      <td>1054860</td>\n",
       "      <td>1.000000</td>\n",
       "      <td></td>\n",
       "    </tr>\n",
       "    <tr>\n",
       "      <th>2</th>\n",
       "      <td>520760</td>\n",
       "      <td>MC Consumer Merit 1 Debit</td>\n",
       "      <td>.016</td>\n",
       "      <td>.15</td>\n",
       "      <td>789</td>\n",
       "      <td>0.852978</td>\n",
       "      <td></td>\n",
       "    </tr>\n",
       "    <tr>\n",
       "      <th>3</th>\n",
       "      <td>546133</td>\n",
       "      <td>MC Consumer Merit 1 Debit</td>\n",
       "      <td>.016</td>\n",
       "      <td>.15</td>\n",
       "      <td>5736</td>\n",
       "      <td>0.857043</td>\n",
       "      <td></td>\n",
       "    </tr>\n",
       "    <tr>\n",
       "      <th>4</th>\n",
       "      <td>446540</td>\n",
       "      <td>VI Consumer EIRF Credit</td>\n",
       "      <td>.023</td>\n",
       "      <td>.1</td>\n",
       "      <td>244091</td>\n",
       "      <td>0.008390</td>\n",
       "      <td></td>\n",
       "    </tr>\n",
       "  </tbody>\n",
       "</table>\n",
       "</div>"
      ],
      "text/plain": [
       "  bin_num                                   ic_desc ic_perc ic_fixed  \\\n",
       "0  551128        MC Consumer Emerging Markets Debit    .008      .25   \n",
       "1  540997  MC Regulated Debit Plus Fraud Adjustment   .0005      .22   \n",
       "2  520760                 MC Consumer Merit 1 Debit    .016      .15   \n",
       "3  546133                 MC Consumer Merit 1 Debit    .016      .15   \n",
       "4  446540                   VI Consumer EIRF Credit    .023       .1   \n",
       "\n",
       "   bin_frequency  max_theoretical_prob consumer_commercial  \n",
       "0           2758              0.224801                      \n",
       "1        1054860              1.000000                      \n",
       "2            789              0.852978                      \n",
       "3           5736              0.857043                      \n",
       "4         244091              0.008390                      "
      ]
     },
     "execution_count": 13,
     "metadata": {},
     "output_type": "execute_result"
    }
   ],
   "source": [
    "df_master.head()"
   ]
  },
  {
   "cell_type": "code",
   "execution_count": 36,
   "metadata": {},
   "outputs": [],
   "source": [
    "for x in range(0,len(df_master['ic_desc'])):\n",
    "    if \"Commercial\" in df_master.loc[x,'ic_desc']:\n",
    "        df_master.loc[x,\"consumer_commercial\"]=\"Commercial\"\n",
    "    else:\n",
    "        df_master.loc[x,\"consumer_commercial\"]=\"Consumer\""
   ]
  },
  {
   "cell_type": "code",
   "execution_count": 37,
   "metadata": {},
   "outputs": [
    {
     "data": {
      "text/html": [
       "<div>\n",
       "<style scoped>\n",
       "    .dataframe tbody tr th:only-of-type {\n",
       "        vertical-align: middle;\n",
       "    }\n",
       "\n",
       "    .dataframe tbody tr th {\n",
       "        vertical-align: top;\n",
       "    }\n",
       "\n",
       "    .dataframe thead th {\n",
       "        text-align: right;\n",
       "    }\n",
       "</style>\n",
       "<table border=\"1\" class=\"dataframe\">\n",
       "  <thead>\n",
       "    <tr style=\"text-align: right;\">\n",
       "      <th></th>\n",
       "      <th>bin_num</th>\n",
       "      <th>ic_desc</th>\n",
       "      <th>ic_perc</th>\n",
       "      <th>ic_fixed</th>\n",
       "      <th>bin_frequency</th>\n",
       "      <th>max_theoretical_prob</th>\n",
       "      <th>consumer_commercial</th>\n",
       "    </tr>\n",
       "  </thead>\n",
       "  <tbody>\n",
       "    <tr>\n",
       "      <th>0</th>\n",
       "      <td>551128</td>\n",
       "      <td>MC Consumer Emerging Markets Debit</td>\n",
       "      <td>.008</td>\n",
       "      <td>.25</td>\n",
       "      <td>2758</td>\n",
       "      <td>0.224801</td>\n",
       "      <td>Consumer</td>\n",
       "    </tr>\n",
       "    <tr>\n",
       "      <th>1</th>\n",
       "      <td>540997</td>\n",
       "      <td>MC Regulated Debit Plus Fraud Adjustment</td>\n",
       "      <td>.0005</td>\n",
       "      <td>.22</td>\n",
       "      <td>1054860</td>\n",
       "      <td>1.000000</td>\n",
       "      <td>Consumer</td>\n",
       "    </tr>\n",
       "    <tr>\n",
       "      <th>2</th>\n",
       "      <td>520760</td>\n",
       "      <td>MC Consumer Merit 1 Debit</td>\n",
       "      <td>.016</td>\n",
       "      <td>.15</td>\n",
       "      <td>789</td>\n",
       "      <td>0.852978</td>\n",
       "      <td>Consumer</td>\n",
       "    </tr>\n",
       "    <tr>\n",
       "      <th>3</th>\n",
       "      <td>546133</td>\n",
       "      <td>MC Consumer Merit 1 Debit</td>\n",
       "      <td>.016</td>\n",
       "      <td>.15</td>\n",
       "      <td>5736</td>\n",
       "      <td>0.857043</td>\n",
       "      <td>Consumer</td>\n",
       "    </tr>\n",
       "    <tr>\n",
       "      <th>4</th>\n",
       "      <td>446540</td>\n",
       "      <td>VI Consumer EIRF Credit</td>\n",
       "      <td>.023</td>\n",
       "      <td>.1</td>\n",
       "      <td>244091</td>\n",
       "      <td>0.008390</td>\n",
       "      <td>Consumer</td>\n",
       "    </tr>\n",
       "  </tbody>\n",
       "</table>\n",
       "</div>"
      ],
      "text/plain": [
       "  bin_num                                   ic_desc ic_perc ic_fixed  \\\n",
       "0  551128        MC Consumer Emerging Markets Debit    .008      .25   \n",
       "1  540997  MC Regulated Debit Plus Fraud Adjustment   .0005      .22   \n",
       "2  520760                 MC Consumer Merit 1 Debit    .016      .15   \n",
       "3  546133                 MC Consumer Merit 1 Debit    .016      .15   \n",
       "4  446540                   VI Consumer EIRF Credit    .023       .1   \n",
       "\n",
       "   bin_frequency  max_theoretical_prob consumer_commercial  \n",
       "0           2758              0.224801            Consumer  \n",
       "1        1054860              1.000000            Consumer  \n",
       "2            789              0.852978            Consumer  \n",
       "3           5736              0.857043            Consumer  \n",
       "4         244091              0.008390            Consumer  "
      ]
     },
     "execution_count": 37,
     "metadata": {},
     "output_type": "execute_result"
    }
   ],
   "source": [
    "df_master.head()"
   ]
  },
  {
   "cell_type": "code",
   "execution_count": 32,
   "metadata": {},
   "outputs": [
    {
     "data": {
      "text/html": [
       "<div>\n",
       "<style scoped>\n",
       "    .dataframe tbody tr th:only-of-type {\n",
       "        vertical-align: middle;\n",
       "    }\n",
       "\n",
       "    .dataframe tbody tr th {\n",
       "        vertical-align: top;\n",
       "    }\n",
       "\n",
       "    .dataframe thead th {\n",
       "        text-align: right;\n",
       "    }\n",
       "</style>\n",
       "<table border=\"1\" class=\"dataframe\">\n",
       "  <thead>\n",
       "    <tr style=\"text-align: right;\">\n",
       "      <th></th>\n",
       "      <th>desc</th>\n",
       "      <th>bin</th>\n",
       "      <th>ic_fixed</th>\n",
       "      <th>ic_perc</th>\n",
       "      <th>count</th>\n",
       "      <th>possible_outcomes</th>\n",
       "      <th>favorable_outcomes</th>\n",
       "    </tr>\n",
       "  </thead>\n",
       "  <tbody>\n",
       "  </tbody>\n",
       "</table>\n",
       "</div>"
      ],
      "text/plain": [
       "Empty DataFrame\n",
       "Columns: [desc, bin, ic_fixed, ic_perc, count, possible_outcomes, favorable_outcomes]\n",
       "Index: []"
      ]
     },
     "execution_count": 32,
     "metadata": {},
     "output_type": "execute_result"
    }
   ],
   "source": [
    "    test=df[(df['bin']=='519197')].reset_index(drop=True).copy()\n",
    "    test['possible_outcomes']=test['count'].sum()\n",
    "    test['favorable_outcomes']=test['count']/test['possible_outcomes']\n",
    "    test"
   ]
  },
  {
   "cell_type": "code",
   "execution_count": 38,
   "metadata": {},
   "outputs": [],
   "source": [
    "df_master.to_csv('d:\\\\djohnson\\\\Desktop\\\\us_bin_Classification_table.csv')"
   ]
  }
 ],
 "metadata": {
  "kernelspec": {
   "display_name": "Python 3",
   "language": "python",
   "name": "python3"
  },
  "language_info": {
   "codemirror_mode": {
    "name": "ipython",
    "version": 3
   },
   "file_extension": ".py",
   "mimetype": "text/x-python",
   "name": "python",
   "nbconvert_exporter": "python",
   "pygments_lexer": "ipython3",
   "version": "3.6.5"
  }
 },
 "nbformat": 4,
 "nbformat_minor": 2
}
