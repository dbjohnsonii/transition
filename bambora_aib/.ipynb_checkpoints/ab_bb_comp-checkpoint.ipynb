{
 "cells": [
  {
   "cell_type": "markdown",
   "metadata": {},
   "source": [
    "# AIB to Bambora SF Cost Comparison Application"
   ]
  },
  {
   "cell_type": "code",
   "execution_count": 1,
   "metadata": {
    "collapsed": false
   },
   "outputs": [
    {
     "data": {
      "text/html": [
       "<style>.container { width:95% !important; }</style>"
      ],
      "text/plain": [
       "<IPython.core.display.HTML object>"
      ]
     },
     "metadata": {},
     "output_type": "display_data"
    },
    {
     "name": "stdout",
     "output_type": "stream",
     "text": [
      "2.7.12 |Anaconda 4.2.0 (64-bit)| (default, Jun 29 2016, 11:07:13) [MSC v.1500 64 bit (AMD64)]\n"
     ]
    }
   ],
   "source": [
    "from IPython.core.display import display, HTML\n",
    "display(HTML(\"<style>.container { width:95% !important; }</style>\"))\n",
    "import sys\n",
    "print (sys.version)"
   ]
  },
  {
   "cell_type": "markdown",
   "metadata": {},
   "source": [
    "## Import the Necessary Libraries\n",
    "Below are the libraries required to assemble the project."
   ]
  },
  {
   "cell_type": "code",
   "execution_count": 13,
   "metadata": {
    "collapsed": false
   },
   "outputs": [
    {
     "name": "stdout",
     "output_type": "stream",
     "text": [
      "{'ECL_CODA11': 'Oracle in instantclient_11_2', 'NZSQL': 'NetezzaSQL', 'IST_CODA11': 'Oracle in instantclient_11_2', 'BO_Lookup': 'Oracle in instantclient_11_2', 'Excel Files': 'Microsoft Excel Driver (*.xls, *.xlsx, *.xlsm, *.xlsb)', 'dBASE Files': 'Microsoft Access dBASE Driver (*.dbf, *.ndx, *.mdx)', 'MS Access Database': 'Microsoft Access Driver (*.mdb, *.accdb)'}\n"
     ]
    }
   ],
   "source": [
    "import pandas as pd\n",
    "import seaborn as sns\n",
    "import numpy as np\n",
    "import pyodbc\n",
    "from sklearn import metrics\n",
    "from sklearn.model_selection import GridSearchCV\n",
    "from sklearn.metrics import precision_recall_curve\n",
    "from sklearn.ensemble import RandomForestClassifier\n",
    "from sklearn.linear_model import LogisticRegression\n",
    "from sklearn.cross_validation import train_test_split, cross_val_score\n",
    "from sklearn.metrics import accuracy_score, make_scorer\n",
    "from sklearn.metrics import roc_curve, roc_auc_score\n",
    "from sklearn.metrics import confusion_matrix\n",
    "from sklearn.metrics import classification_report\n",
    "from sklearn.metrics import average_precision_score\n",
    "%matplotlib inline\n",
    "from matplotlib import pyplot as plt\n",
    "print pyodbc.dataSources()"
   ]
  },
  {
   "cell_type": "code",
   "execution_count": 14,
   "metadata": {
    "collapsed": true
   },
   "outputs": [],
   "source": [
    "import cx_Oracle"
   ]
  },
  {
   "cell_type": "code",
   "execution_count": 15,
   "metadata": {
    "collapsed": false
   },
   "outputs": [],
   "source": [
    "try:\n",
    "    conn=pyodbc.connect(\"Driver={Oracle in instantclient_11_2};SERVER=10.71.90.0;DATABASE=ODSPEU1.ams;UID=djohnson;PWD=RhiBae01!\",ansi=True)\n",
    "except:\n",
    "     conn=cx_Oracle.connect('djohnson','RhiBae01!','ODSPEU1.ams')"
   ]
  },
  {
   "cell_type": "markdown",
   "metadata": {},
   "source": [
    "## Bambora Pull\n",
    "\n",
    "As the data is queried the transaction amounts are rounded.<br>\n",
    "The transaction amounts are rounded to allow for flow data to be matched between AIB and Bambora.<br>\n",
    "For example, England - Netherlands where the transaction amount is 20.00 and not 20.15 or 20.13 is much easier to match.<br>\n",
    "\n",
    "The non-uniformity of transaction amounts that were not rounded lead to memory issues.<br>\n",
    "The process was too laborious because the unqiue transaction amounts led to very large datasets have to be queried against another very large dataset.<br>\n",
    "This decision allows for efficiency."
   ]
  },
  {
   "cell_type": "code",
   "execution_count": 10,
   "metadata": {
    "collapsed": false
   },
   "outputs": [],
   "source": [
    "#Bambora\n",
    "bb=pd.read_sql(\n",
    "'''\n",
    "SELECT \n",
    "bb.BAMBORA_REF\n",
    ",TO_CHAR(bb.SETTLEMENT_DATE, 'MM') AS MONTH\n",
    ",TO_CHAR(bb.SETTLEMENT_DATE, 'DD') AS DAY\n",
    ",TO_CHAR(bb.SETTLEMENT_DATE, 'YYYY') AS YEAR\n",
    ",TO_CHAR(bb.SETTLEMENT_DATE,'YYYY-MM') AS PERIOD\n",
    ",bb.CONTRACT_ID, bb.ISSUER_COUNTRY_NAME, bb.MERCHANT_COUNTRY_NAME,bb.TRANSACTION_TYPE,bb.CARD_SCHEME,bb.CREDIT_DEBIT,bb.CONSUMER_CORPORATE,bb.REGIONALITY\n",
    ",bb.SF_FIXED_FEE_RESULT,bb.SF_PERC_FEE_RESULT,bb.TRANSACTION_TYPE AS B_TRANSACTION_TYPE,bb.CONSUMER_CORPORATE AS C_TYPE\n",
    ",bb.VOLUME AS VOLUME,ROUND(bb.TRANSACTION_AMOUNT_EUR) AS FLOW,bb.SCHEME_TOTAL_FEE_EUR AS SF,bb.SF_FIXED_FEE,bb. SF_PERC_FEE,bb.TRANSACTION_AMOUNT_EUR\n",
    "FROM fdwo.acquirer_bambora_cost bb\n",
    "WHERE bb.TRANSACTION_TYPE='TRANSACTION'\n",
    "AND bb.SETTLEMENT_DATE BETWEEN TO_DATE('11-01-2017','MM-DD-YYYY') AND TO_DATE('12-31-2017','MM-DD-YYYY')\n",
    "'''\n",
    ",conn)"
   ]
  },
  {
   "cell_type": "code",
   "execution_count": 11,
   "metadata": {
    "collapsed": false
   },
   "outputs": [
    {
     "data": {
      "text/html": [
       "<div>\n",
       "<table border=\"1\" class=\"dataframe\">\n",
       "  <thead>\n",
       "    <tr style=\"text-align: right;\">\n",
       "      <th></th>\n",
       "      <th>BAMBORA_REF</th>\n",
       "      <th>MONTH</th>\n",
       "      <th>DAY</th>\n",
       "      <th>YEAR</th>\n",
       "      <th>PERIOD</th>\n",
       "      <th>CONTRACT_ID</th>\n",
       "      <th>ISSUER_COUNTRY_NAME</th>\n",
       "      <th>MERCHANT_COUNTRY_NAME</th>\n",
       "      <th>TRANSACTION_TYPE</th>\n",
       "      <th>CARD_SCHEME</th>\n",
       "      <th>...</th>\n",
       "      <th>SF_FIXED_FEE_RESULT</th>\n",
       "      <th>SF_PERC_FEE_RESULT</th>\n",
       "      <th>B_TRANSACTION_TYPE</th>\n",
       "      <th>C_TYPE</th>\n",
       "      <th>VOLUME</th>\n",
       "      <th>FLOW</th>\n",
       "      <th>SF</th>\n",
       "      <th>SF_FIXED_FEE</th>\n",
       "      <th>SF_PERC_FEE</th>\n",
       "      <th>TRANSACTION_AMOUNT_EUR</th>\n",
       "    </tr>\n",
       "  </thead>\n",
       "  <tbody>\n",
       "    <tr>\n",
       "      <th>0</th>\n",
       "      <td>74541097326025077027127</td>\n",
       "      <td>11</td>\n",
       "      <td>22</td>\n",
       "      <td>2017</td>\n",
       "      <td>2017-11</td>\n",
       "      <td>3563</td>\n",
       "      <td>Chile</td>\n",
       "      <td>Germany</td>\n",
       "      <td>TRANSACTION</td>\n",
       "      <td>Visa</td>\n",
       "      <td>...</td>\n",
       "      <td>0.061765</td>\n",
       "      <td>0.049642</td>\n",
       "      <td>TRANSACTION</td>\n",
       "      <td>Consumer</td>\n",
       "      <td>1</td>\n",
       "      <td>9</td>\n",
       "      <td>0.111408</td>\n",
       "      <td>0.061765</td>\n",
       "      <td>0.005739</td>\n",
       "      <td>8.65</td>\n",
       "    </tr>\n",
       "    <tr>\n",
       "      <th>1</th>\n",
       "      <td>25481047326025077027316</td>\n",
       "      <td>11</td>\n",
       "      <td>22</td>\n",
       "      <td>2017</td>\n",
       "      <td>2017-11</td>\n",
       "      <td>3563</td>\n",
       "      <td>Poland</td>\n",
       "      <td>Germany</td>\n",
       "      <td>TRANSACTION</td>\n",
       "      <td>Mastercard</td>\n",
       "      <td>...</td>\n",
       "      <td>0.015028</td>\n",
       "      <td>0.016132</td>\n",
       "      <td>TRANSACTION</td>\n",
       "      <td>Commercial</td>\n",
       "      <td>1</td>\n",
       "      <td>9</td>\n",
       "      <td>0.031160</td>\n",
       "      <td>0.015028</td>\n",
       "      <td>0.001865</td>\n",
       "      <td>8.65</td>\n",
       "    </tr>\n",
       "    <tr>\n",
       "      <th>2</th>\n",
       "      <td>74541097326025077034131</td>\n",
       "      <td>11</td>\n",
       "      <td>22</td>\n",
       "      <td>2017</td>\n",
       "      <td>2017-11</td>\n",
       "      <td>9346</td>\n",
       "      <td>Spain</td>\n",
       "      <td>Spain</td>\n",
       "      <td>TRANSACTION</td>\n",
       "      <td>Visa</td>\n",
       "      <td>...</td>\n",
       "      <td>0.005244</td>\n",
       "      <td>0.002880</td>\n",
       "      <td>TRANSACTION</td>\n",
       "      <td>Consumer</td>\n",
       "      <td>1</td>\n",
       "      <td>12</td>\n",
       "      <td>0.008124</td>\n",
       "      <td>0.005244</td>\n",
       "      <td>0.000240</td>\n",
       "      <td>12.00</td>\n",
       "    </tr>\n",
       "    <tr>\n",
       "      <th>3</th>\n",
       "      <td>25481047326025077026300</td>\n",
       "      <td>11</td>\n",
       "      <td>22</td>\n",
       "      <td>2017</td>\n",
       "      <td>2017-11</td>\n",
       "      <td>3563</td>\n",
       "      <td>Poland</td>\n",
       "      <td>Germany</td>\n",
       "      <td>TRANSACTION</td>\n",
       "      <td>Mastercard</td>\n",
       "      <td>...</td>\n",
       "      <td>0.015028</td>\n",
       "      <td>0.016132</td>\n",
       "      <td>TRANSACTION</td>\n",
       "      <td>Consumer</td>\n",
       "      <td>1</td>\n",
       "      <td>9</td>\n",
       "      <td>0.031160</td>\n",
       "      <td>0.015028</td>\n",
       "      <td>0.001865</td>\n",
       "      <td>8.65</td>\n",
       "    </tr>\n",
       "    <tr>\n",
       "      <th>4</th>\n",
       "      <td>74541097326025077026442</td>\n",
       "      <td>11</td>\n",
       "      <td>22</td>\n",
       "      <td>2017</td>\n",
       "      <td>2017-11</td>\n",
       "      <td>3563</td>\n",
       "      <td>Israel</td>\n",
       "      <td>Germany</td>\n",
       "      <td>TRANSACTION</td>\n",
       "      <td>Visa</td>\n",
       "      <td>...</td>\n",
       "      <td>0.061765</td>\n",
       "      <td>0.002932</td>\n",
       "      <td>TRANSACTION</td>\n",
       "      <td>Consumer</td>\n",
       "      <td>1</td>\n",
       "      <td>9</td>\n",
       "      <td>0.064698</td>\n",
       "      <td>0.061765</td>\n",
       "      <td>0.000339</td>\n",
       "      <td>8.65</td>\n",
       "    </tr>\n",
       "  </tbody>\n",
       "</table>\n",
       "<p>5 rows × 23 columns</p>\n",
       "</div>"
      ],
      "text/plain": [
       "               BAMBORA_REF MONTH DAY  YEAR   PERIOD  CONTRACT_ID  \\\n",
       "0  74541097326025077027127    11  22  2017  2017-11         3563   \n",
       "1  25481047326025077027316    11  22  2017  2017-11         3563   \n",
       "2  74541097326025077034131    11  22  2017  2017-11         9346   \n",
       "3  25481047326025077026300    11  22  2017  2017-11         3563   \n",
       "4  74541097326025077026442    11  22  2017  2017-11         3563   \n",
       "\n",
       "  ISSUER_COUNTRY_NAME MERCHANT_COUNTRY_NAME TRANSACTION_TYPE CARD_SCHEME  \\\n",
       "0               Chile               Germany      TRANSACTION        Visa   \n",
       "1              Poland               Germany      TRANSACTION  Mastercard   \n",
       "2               Spain                 Spain      TRANSACTION        Visa   \n",
       "3              Poland               Germany      TRANSACTION  Mastercard   \n",
       "4              Israel               Germany      TRANSACTION        Visa   \n",
       "\n",
       "            ...           SF_FIXED_FEE_RESULT SF_PERC_FEE_RESULT  \\\n",
       "0           ...                      0.061765           0.049642   \n",
       "1           ...                      0.015028           0.016132   \n",
       "2           ...                      0.005244           0.002880   \n",
       "3           ...                      0.015028           0.016132   \n",
       "4           ...                      0.061765           0.002932   \n",
       "\n",
       "  B_TRANSACTION_TYPE      C_TYPE  VOLUME FLOW        SF  SF_FIXED_FEE  \\\n",
       "0        TRANSACTION    Consumer       1    9  0.111408      0.061765   \n",
       "1        TRANSACTION  Commercial       1    9  0.031160      0.015028   \n",
       "2        TRANSACTION    Consumer       1   12  0.008124      0.005244   \n",
       "3        TRANSACTION    Consumer       1    9  0.031160      0.015028   \n",
       "4        TRANSACTION    Consumer       1    9  0.064698      0.061765   \n",
       "\n",
       "   SF_PERC_FEE  TRANSACTION_AMOUNT_EUR  \n",
       "0     0.005739                    8.65  \n",
       "1     0.001865                    8.65  \n",
       "2     0.000240                   12.00  \n",
       "3     0.001865                    8.65  \n",
       "4     0.000339                    8.65  \n",
       "\n",
       "[5 rows x 23 columns]"
      ]
     },
     "execution_count": 11,
     "metadata": {},
     "output_type": "execute_result"
    }
   ],
   "source": [
    "bb.head()"
   ]
  },
  {
   "cell_type": "markdown",
   "metadata": {},
   "source": [
    "## AIB Pull\n",
    "As the data is queried the transaction amounts are rounded.<br>\n",
    "The transaction amounts are rounded to allow for flow data to be matched between AIB and Bambora.<br>\n",
    "\n",
    "The AIB is Averaged and the Flow amount is rounded"
   ]
  },
  {
   "cell_type": "code",
   "execution_count": 17,
   "metadata": {
    "collapsed": false
   },
   "outputs": [],
   "source": [
    "#AIB\n",
    "ab=pd.read_sql(\n",
    "'''\n",
    "SELECT \n",
    "MAX(ab.transaction_date) AS TRANSACTION_DATE,\n",
    "ab.contract_id, ab.issuer_country, ab.card_brand,ab.clearing_country_name,ab.transaction_type\n",
    ",ROUND(ab.transaction_flow_eur) AS FLOW,AVG((ABS(ab.scheme_fee_eur)))AS SF,\n",
    "\n",
    "CASE WHEN ab.card_type_group LIKE '%Debit%' THEN 'Debit'\n",
    "WHEN ab.card_type_group LIKE '%Credit%' THEN 'Credit'\n",
    "WHEN ab.card_type_group LIKE '%Prepaid%' THEN 'Prepaid'\n",
    "END AS \"CREDIT_DEBIT\",\n",
    "\n",
    "CASE WHEN ab.card_type_group LIKE '%Consumer%' THEN 'Consumer'\n",
    "WHEN ab.card_type_group LIKE '%Commercial%' THEN 'Commercial'\n",
    "END AS \"CARD_TYPE\"\n",
    "\n",
    "FROM fdwo.acquirer_aib_newgen_files ab\n",
    "\n",
    "WHERE ab.transaction_date BETWEEN TO_DATE('11-01-2017','MM-DD-YYYY') AND TO_DATE('12-31-2017','MM-DD-YYYY')\n",
    "AND ab.scheme_fee_eur!=0\n",
    "AND (ab.transaction_type ='Sale')\n",
    "AND (ab.interchange_region='Intra-region' OR ab.interchange_region='Inter-region' OR ab.interchange_region='Domestic')\n",
    "\n",
    "GROUP BY ab.contract_id, ab.issuer_country, ab.card_brand, ab.clearing_country_name,ab.transaction_type,ab.transaction_flow_eur,ab.card_type_group\n",
    "'''\n",
    ",conn)"
   ]
  },
  {
   "cell_type": "markdown",
   "metadata": {},
   "source": [
    "### Save the AIB Query to hard drive to Prevent Repeated Query Pulls"
   ]
  },
  {
   "cell_type": "code",
   "execution_count": 18,
   "metadata": {
    "collapsed": true
   },
   "outputs": [],
   "source": [
    "ab.to_csv('d:\\\\djohnson\\\\Desktop\\\\ab_bb\\\\ab_avg_sf_by_flow.csv')"
   ]
  },
  {
   "cell_type": "code",
   "execution_count": 125,
   "metadata": {
    "collapsed": true
   },
   "outputs": [],
   "source": [
    "ab=None #clear the ab query from memory"
   ]
  },
  {
   "cell_type": "markdown",
   "metadata": {},
   "source": [
    "## AIB Import"
   ]
  },
  {
   "cell_type": "code",
   "execution_count": 19,
   "metadata": {
    "collapsed": false
   },
   "outputs": [],
   "source": [
    "ab=pd.read_csv('d:\\\\djohnson\\\\Desktop\\\\ab_bb\\\\ab_avg_sf_by_flow.csv')"
   ]
  },
  {
   "cell_type": "code",
   "execution_count": 20,
   "metadata": {
    "collapsed": true
   },
   "outputs": [],
   "source": [
    "ab=ab.drop('Unnamed: 0',axis=1) #drop the unnamed index from the AIB import"
   ]
  },
  {
   "cell_type": "markdown",
   "metadata": {},
   "source": [
    "## Create a Working Copy of the Bambora Data"
   ]
  },
  {
   "cell_type": "code",
   "execution_count": 21,
   "metadata": {
    "collapsed": false
   },
   "outputs": [],
   "source": [
    "bb1=bb.copy() #create working copy of the Bambora data"
   ]
  },
  {
   "cell_type": "markdown",
   "metadata": {},
   "source": [
    "### Remove Bambora Whitespace"
   ]
  },
  {
   "cell_type": "code",
   "execution_count": 22,
   "metadata": {
    "collapsed": true
   },
   "outputs": [],
   "source": [
    "bb1['ISSUER_COUNTRY_NAME']=bb1['ISSUER_COUNTRY_NAME'].str.strip()\n",
    "bb1['MERCHANT_COUNTRY_NAME']=bb1['MERCHANT_COUNTRY_NAME'].str.strip()"
   ]
  },
  {
   "cell_type": "markdown",
   "metadata": {},
   "source": [
    "### Remove Excess Naming from SQL"
   ]
  },
  {
   "cell_type": "code",
   "execution_count": 23,
   "metadata": {
    "collapsed": false
   },
   "outputs": [],
   "source": [
    "bb1=bb1.drop(['B_TRANSACTION_TYPE','C_TYPE','VOLUME','TRANSACTION_AMOUNT_EUR','SF_FIXED_FEE_RESULT','SF_PERC_FEE_RESULT'],axis=1)"
   ]
  },
  {
   "cell_type": "markdown",
   "metadata": {},
   "source": [
    "## Rename Columns to Allow for Merge"
   ]
  },
  {
   "cell_type": "code",
   "execution_count": 24,
   "metadata": {
    "collapsed": true
   },
   "outputs": [],
   "source": [
    "bb1=bb1.rename(columns={'ISSUER_COUNTRY_NAME':'ISSUER_COUNTRY','MERCHANT_COUNTRY_NAME':'CLEARING_COUNTRY_NAME','CONSUMER_CORPORATE':'CARD_TYPE','CARD_SCHEME':'CARD_BRAND'})"
   ]
  },
  {
   "cell_type": "code",
   "execution_count": 25,
   "metadata": {
    "collapsed": false
   },
   "outputs": [
    {
     "name": "stdout",
     "output_type": "stream",
     "text": [
      "               BAMBORA_REF MONTH DAY  YEAR   PERIOD  CONTRACT_ID  \\\n",
      "0  74541097326025077027127    11  22  2017  2017-11         3563   \n",
      "1  25481047326025077027316    11  22  2017  2017-11         3563   \n",
      "2  74541097326025077034131    11  22  2017  2017-11         9346   \n",
      "3  25481047326025077026300    11  22  2017  2017-11         3563   \n",
      "4  74541097326025077026442    11  22  2017  2017-11         3563   \n",
      "\n",
      "  ISSUER_COUNTRY CLEARING_COUNTRY_NAME TRANSACTION_TYPE  CARD_BRAND  \\\n",
      "0          Chile               Germany      TRANSACTION        Visa   \n",
      "1         Poland               Germany      TRANSACTION  Mastercard   \n",
      "2          Spain                 Spain      TRANSACTION        Visa   \n",
      "3         Poland               Germany      TRANSACTION  Mastercard   \n",
      "4         Israel               Germany      TRANSACTION        Visa   \n",
      "\n",
      "  CREDIT_DEBIT   CARD_TYPE    REGIONALITY  FLOW        SF  SF_FIXED_FEE  \\\n",
      "0       Credit    Consumer  Interregional     9  0.111408      0.061765   \n",
      "1        Debit  Commercial  Intraregional     9  0.031160      0.015028   \n",
      "2       Credit    Consumer       Domestic    12  0.008124      0.005244   \n",
      "3       Credit    Consumer  Intraregional     9  0.031160      0.015028   \n",
      "4       Credit    Consumer  Intraregional     9  0.064698      0.061765   \n",
      "\n",
      "   SF_PERC_FEE  \n",
      "0     0.005739  \n",
      "1     0.001865  \n",
      "2     0.000240  \n",
      "3     0.001865  \n",
      "4     0.000339  \n"
     ]
    }
   ],
   "source": [
    "print bb1.head()"
   ]
  },
  {
   "cell_type": "markdown",
   "metadata": {},
   "source": [
    "## Indentify Congruent Lanes"
   ]
  },
  {
   "cell_type": "code",
   "execution_count": 26,
   "metadata": {
    "collapsed": false
   },
   "outputs": [],
   "source": [
    "bb1_contracts=bb1[['CONTRACT_ID','ISSUER_COUNTRY','CLEARING_COUNTRY_NAME','CARD_BRAND','CREDIT_DEBIT','CARD_TYPE']].drop_duplicates()"
   ]
  },
  {
   "cell_type": "markdown",
   "metadata": {},
   "source": [
    "### Remove Excess Naming"
   ]
  },
  {
   "cell_type": "code",
   "execution_count": 27,
   "metadata": {
    "collapsed": false
   },
   "outputs": [],
   "source": [
    "ab=ab.drop(['TRANSACTION_TYPE','TRANSACTION_DATE'],axis=1)"
   ]
  },
  {
   "cell_type": "code",
   "execution_count": 28,
   "metadata": {
    "collapsed": false
   },
   "outputs": [
    {
     "name": "stdout",
     "output_type": "stream",
     "text": [
      "   CONTRACT_ID  ISSUER_COUNTRY CARD_BRAND CLEARING_COUNTRY_NAME  FLOW  \\\n",
      "0       5025.0           India       Visa        United Kingdom    17   \n",
      "1       6632.0  United Kingdom       Visa        United Kingdom    21   \n",
      "2       4235.0         Denmark       Visa        United Kingdom    30   \n",
      "3       4235.0         Austria       Visa        United Kingdom    13   \n",
      "4       1413.0          France       Visa                France    13   \n",
      "\n",
      "         SF CREDIT_DEBIT CARD_TYPE  \n",
      "0  0.164220        Debit  Consumer  \n",
      "1  0.022189        Debit  Consumer  \n",
      "2  0.022999        Debit  Consumer  \n",
      "3  0.022596       Credit  Consumer  \n",
      "4  0.021299        Debit  Consumer  \n"
     ]
    }
   ],
   "source": [
    "print ab.head()"
   ]
  },
  {
   "cell_type": "markdown",
   "metadata": {},
   "source": [
    "## Attach AIB Lanes to Active Bambora Lanes \n",
    "This is a left join that will show all active Bambora lanes on only those AIB lanes where there is congruence."
   ]
  },
  {
   "cell_type": "code",
   "execution_count": 29,
   "metadata": {
    "collapsed": false
   },
   "outputs": [],
   "source": [
    "ab_df=pd.merge(bb1_contracts,ab,on=['CONTRACT_ID','ISSUER_COUNTRY','CLEARING_COUNTRY_NAME','CARD_BRAND','CREDIT_DEBIT','CARD_TYPE'],how='left')"
   ]
  },
  {
   "cell_type": "code",
   "execution_count": 30,
   "metadata": {
    "collapsed": true
   },
   "outputs": [],
   "source": [
    "bb1_contracts=None #clear the merge data\n",
    "ab=None #clear the merge data"
   ]
  },
  {
   "cell_type": "markdown",
   "metadata": {},
   "source": [
    "### Only show those lanes where there is activity for AIB and Bambora\n",
    "This is done but filtering to only those results that have scheme fee information"
   ]
  },
  {
   "cell_type": "code",
   "execution_count": 31,
   "metadata": {
    "collapsed": false
   },
   "outputs": [],
   "source": [
    "ab_df=ab_df[(ab_df['SF']>0)].drop_duplicates()"
   ]
  },
  {
   "cell_type": "markdown",
   "metadata": {},
   "source": [
    "### Only Show the Median aggregated by lane, contract ID, Credit/Debit and Card type, Flow"
   ]
  },
  {
   "cell_type": "code",
   "execution_count": 32,
   "metadata": {
    "collapsed": false
   },
   "outputs": [],
   "source": [
    "ab_df=ab_df.groupby(['CONTRACT_ID','ISSUER_COUNTRY','CARD_BRAND','CLEARING_COUNTRY_NAME','CREDIT_DEBIT','CARD_TYPE','FLOW'],as_index=False)['SF'].median()"
   ]
  },
  {
   "cell_type": "code",
   "execution_count": 33,
   "metadata": {
    "collapsed": false
   },
   "outputs": [
    {
     "name": "stdout",
     "output_type": "stream",
     "text": [
      "   CONTRACT_ID ISSUER_COUNTRY CARD_BRAND CLEARING_COUNTRY_NAME CREDIT_DEBIT  \\\n",
      "0         1946        Albania       Visa            Luxembourg       Credit   \n",
      "1         1946        Albania       Visa            Luxembourg       Credit   \n",
      "2         1946        Albania       Visa            Luxembourg       Credit   \n",
      "3         1946        Albania       Visa            Luxembourg       Credit   \n",
      "4         1946        Albania       Visa            Luxembourg       Credit   \n",
      "\n",
      "  CARD_TYPE  FLOW        SF  \n",
      "0  Consumer   0.0  0.080739  \n",
      "1  Consumer   1.0  0.081216  \n",
      "2  Consumer   2.0  0.082232  \n",
      "3  Consumer   3.0  0.086737  \n",
      "4  Consumer   4.0  0.092232  \n"
     ]
    }
   ],
   "source": [
    "print ab_df.head()"
   ]
  },
  {
   "cell_type": "code",
   "execution_count": 34,
   "metadata": {
    "collapsed": false
   },
   "outputs": [
    {
     "name": "stdout",
     "output_type": "stream",
     "text": [
      "<class 'pandas.core.frame.DataFrame'>\n",
      "Int64Index: 23595 entries, 0 to 23594\n",
      "Data columns (total 8 columns):\n",
      "CONTRACT_ID              23595 non-null int64\n",
      "ISSUER_COUNTRY           23595 non-null object\n",
      "CARD_BRAND               23595 non-null object\n",
      "CLEARING_COUNTRY_NAME    23595 non-null object\n",
      "CREDIT_DEBIT             23595 non-null object\n",
      "CARD_TYPE                23595 non-null object\n",
      "FLOW                     23595 non-null float64\n",
      "SF                       23595 non-null float64\n",
      "dtypes: float64(2), int64(1), object(5)\n",
      "memory usage: 1.6+ MB\n"
     ]
    }
   ],
   "source": [
    "ab_df.info()"
   ]
  },
  {
   "cell_type": "markdown",
   "metadata": {},
   "source": [
    "## Setup the Bambora Baseline Lanes, Flows, and SFs"
   ]
  },
  {
   "cell_type": "code",
   "execution_count": 35,
   "metadata": {
    "collapsed": false
   },
   "outputs": [],
   "source": [
    "base=ab_df.drop(['FLOW','SF'],axis=1).drop_duplicates()"
   ]
  },
  {
   "cell_type": "code",
   "execution_count": 36,
   "metadata": {
    "collapsed": false
   },
   "outputs": [],
   "source": [
    "bbbase=pd.merge(base,bb1,on=['CONTRACT_ID','ISSUER_COUNTRY','CLEARING_COUNTRY_NAME','CARD_BRAND','CREDIT_DEBIT','CARD_TYPE'],how='left')"
   ]
  },
  {
   "cell_type": "code",
   "execution_count": 37,
   "metadata": {
    "collapsed": false
   },
   "outputs": [
    {
     "data": {
      "text/html": [
       "<div>\n",
       "<table border=\"1\" class=\"dataframe\">\n",
       "  <thead>\n",
       "    <tr style=\"text-align: right;\">\n",
       "      <th></th>\n",
       "      <th>CONTRACT_ID</th>\n",
       "      <th>ISSUER_COUNTRY</th>\n",
       "      <th>CARD_BRAND</th>\n",
       "      <th>CLEARING_COUNTRY_NAME</th>\n",
       "      <th>CREDIT_DEBIT</th>\n",
       "      <th>CARD_TYPE</th>\n",
       "      <th>BAMBORA_REF</th>\n",
       "      <th>MONTH</th>\n",
       "      <th>DAY</th>\n",
       "      <th>YEAR</th>\n",
       "      <th>PERIOD</th>\n",
       "      <th>TRANSACTION_TYPE</th>\n",
       "      <th>REGIONALITY</th>\n",
       "      <th>FLOW</th>\n",
       "      <th>SF</th>\n",
       "      <th>SF_FIXED_FEE</th>\n",
       "      <th>SF_PERC_FEE</th>\n",
       "    </tr>\n",
       "  </thead>\n",
       "  <tbody>\n",
       "    <tr>\n",
       "      <th>0</th>\n",
       "      <td>1946</td>\n",
       "      <td>Albania</td>\n",
       "      <td>Visa</td>\n",
       "      <td>Luxembourg</td>\n",
       "      <td>Credit</td>\n",
       "      <td>Consumer</td>\n",
       "      <td>74541097317024984169347</td>\n",
       "      <td>11</td>\n",
       "      <td>13</td>\n",
       "      <td>2017</td>\n",
       "      <td>2017-11</td>\n",
       "      <td>TRANSACTION</td>\n",
       "      <td>Interregional</td>\n",
       "      <td>4</td>\n",
       "      <td>0.082971</td>\n",
       "      <td>0.073239</td>\n",
       "      <td>0.00560</td>\n",
       "    </tr>\n",
       "    <tr>\n",
       "      <th>1</th>\n",
       "      <td>1946</td>\n",
       "      <td>Albania</td>\n",
       "      <td>Visa</td>\n",
       "      <td>Luxembourg</td>\n",
       "      <td>Credit</td>\n",
       "      <td>Consumer</td>\n",
       "      <td>74541097317024984155205</td>\n",
       "      <td>11</td>\n",
       "      <td>13</td>\n",
       "      <td>2017</td>\n",
       "      <td>2017-11</td>\n",
       "      <td>TRANSACTION</td>\n",
       "      <td>Interregional</td>\n",
       "      <td>9</td>\n",
       "      <td>0.114472</td>\n",
       "      <td>0.073239</td>\n",
       "      <td>0.00564</td>\n",
       "    </tr>\n",
       "    <tr>\n",
       "      <th>2</th>\n",
       "      <td>1946</td>\n",
       "      <td>Albania</td>\n",
       "      <td>Visa</td>\n",
       "      <td>Luxembourg</td>\n",
       "      <td>Credit</td>\n",
       "      <td>Consumer</td>\n",
       "      <td>74541097317024984034418</td>\n",
       "      <td>11</td>\n",
       "      <td>13</td>\n",
       "      <td>2017</td>\n",
       "      <td>2017-11</td>\n",
       "      <td>TRANSACTION</td>\n",
       "      <td>Interregional</td>\n",
       "      <td>22</td>\n",
       "      <td>0.186237</td>\n",
       "      <td>0.073239</td>\n",
       "      <td>0.00564</td>\n",
       "    </tr>\n",
       "    <tr>\n",
       "      <th>3</th>\n",
       "      <td>1946</td>\n",
       "      <td>Albania</td>\n",
       "      <td>Visa</td>\n",
       "      <td>Luxembourg</td>\n",
       "      <td>Credit</td>\n",
       "      <td>Consumer</td>\n",
       "      <td>74541097317024983925574</td>\n",
       "      <td>11</td>\n",
       "      <td>13</td>\n",
       "      <td>2017</td>\n",
       "      <td>2017-11</td>\n",
       "      <td>TRANSACTION</td>\n",
       "      <td>Interregional</td>\n",
       "      <td>1</td>\n",
       "      <td>0.068065</td>\n",
       "      <td>0.073239</td>\n",
       "      <td>0.00564</td>\n",
       "    </tr>\n",
       "    <tr>\n",
       "      <th>4</th>\n",
       "      <td>1946</td>\n",
       "      <td>Albania</td>\n",
       "      <td>Visa</td>\n",
       "      <td>Luxembourg</td>\n",
       "      <td>Credit</td>\n",
       "      <td>Consumer</td>\n",
       "      <td>74541097317024984050331</td>\n",
       "      <td>11</td>\n",
       "      <td>13</td>\n",
       "      <td>2017</td>\n",
       "      <td>2017-11</td>\n",
       "      <td>TRANSACTION</td>\n",
       "      <td>Interregional</td>\n",
       "      <td>1</td>\n",
       "      <td>0.066468</td>\n",
       "      <td>0.073239</td>\n",
       "      <td>0.00564</td>\n",
       "    </tr>\n",
       "  </tbody>\n",
       "</table>\n",
       "</div>"
      ],
      "text/plain": [
       "   CONTRACT_ID ISSUER_COUNTRY CARD_BRAND CLEARING_COUNTRY_NAME CREDIT_DEBIT  \\\n",
       "0         1946        Albania       Visa            Luxembourg       Credit   \n",
       "1         1946        Albania       Visa            Luxembourg       Credit   \n",
       "2         1946        Albania       Visa            Luxembourg       Credit   \n",
       "3         1946        Albania       Visa            Luxembourg       Credit   \n",
       "4         1946        Albania       Visa            Luxembourg       Credit   \n",
       "\n",
       "  CARD_TYPE              BAMBORA_REF MONTH DAY  YEAR   PERIOD  \\\n",
       "0  Consumer  74541097317024984169347    11  13  2017  2017-11   \n",
       "1  Consumer  74541097317024984155205    11  13  2017  2017-11   \n",
       "2  Consumer  74541097317024984034418    11  13  2017  2017-11   \n",
       "3  Consumer  74541097317024983925574    11  13  2017  2017-11   \n",
       "4  Consumer  74541097317024984050331    11  13  2017  2017-11   \n",
       "\n",
       "  TRANSACTION_TYPE    REGIONALITY  FLOW        SF  SF_FIXED_FEE  SF_PERC_FEE  \n",
       "0      TRANSACTION  Interregional     4  0.082971      0.073239      0.00560  \n",
       "1      TRANSACTION  Interregional     9  0.114472      0.073239      0.00564  \n",
       "2      TRANSACTION  Interregional    22  0.186237      0.073239      0.00564  \n",
       "3      TRANSACTION  Interregional     1  0.068065      0.073239      0.00564  \n",
       "4      TRANSACTION  Interregional     1  0.066468      0.073239      0.00564  "
      ]
     },
     "execution_count": 37,
     "metadata": {},
     "output_type": "execute_result"
    }
   ],
   "source": [
    "bbbase.head()"
   ]
  },
  {
   "cell_type": "code",
   "execution_count": 38,
   "metadata": {
    "collapsed": false
   },
   "outputs": [
    {
     "name": "stdout",
     "output_type": "stream",
     "text": [
      "<class 'pandas.core.frame.DataFrame'>\n",
      "Int64Index: 118185 entries, 0 to 118184\n",
      "Data columns (total 17 columns):\n",
      "CONTRACT_ID              118185 non-null int64\n",
      "ISSUER_COUNTRY           118185 non-null object\n",
      "CARD_BRAND               118185 non-null object\n",
      "CLEARING_COUNTRY_NAME    118185 non-null object\n",
      "CREDIT_DEBIT             118185 non-null object\n",
      "CARD_TYPE                118185 non-null object\n",
      "BAMBORA_REF              118185 non-null object\n",
      "MONTH                    118185 non-null object\n",
      "DAY                      118185 non-null object\n",
      "YEAR                     118185 non-null object\n",
      "PERIOD                   118185 non-null object\n",
      "TRANSACTION_TYPE         118185 non-null object\n",
      "REGIONALITY              118185 non-null object\n",
      "FLOW                     118185 non-null int64\n",
      "SF                       118185 non-null float64\n",
      "SF_FIXED_FEE             118185 non-null float64\n",
      "SF_PERC_FEE              118185 non-null float64\n",
      "dtypes: float64(3), int64(2), object(12)\n",
      "memory usage: 16.2+ MB\n"
     ]
    }
   ],
   "source": [
    "bbbase.info()"
   ]
  },
  {
   "cell_type": "markdown",
   "metadata": {},
   "source": [
    "### Link AIB and Bambora"
   ]
  },
  {
   "cell_type": "code",
   "execution_count": 39,
   "metadata": {
    "collapsed": false
   },
   "outputs": [],
   "source": [
    "ab_bb_comp=pd.merge(bbbase,ab_df,on=['CONTRACT_ID','ISSUER_COUNTRY','CARD_BRAND','CLEARING_COUNTRY_NAME','CREDIT_DEBIT','CARD_TYPE','FLOW'],how='left',suffixes=('_BB','_AVG_AB'))"
   ]
  },
  {
   "cell_type": "code",
   "execution_count": 40,
   "metadata": {
    "collapsed": false
   },
   "outputs": [
    {
     "data": {
      "text/html": [
       "<div>\n",
       "<table border=\"1\" class=\"dataframe\">\n",
       "  <thead>\n",
       "    <tr style=\"text-align: right;\">\n",
       "      <th></th>\n",
       "      <th>CONTRACT_ID</th>\n",
       "      <th>ISSUER_COUNTRY</th>\n",
       "      <th>CARD_BRAND</th>\n",
       "      <th>CLEARING_COUNTRY_NAME</th>\n",
       "      <th>CREDIT_DEBIT</th>\n",
       "      <th>CARD_TYPE</th>\n",
       "      <th>BAMBORA_REF</th>\n",
       "      <th>MONTH</th>\n",
       "      <th>DAY</th>\n",
       "      <th>YEAR</th>\n",
       "      <th>PERIOD</th>\n",
       "      <th>TRANSACTION_TYPE</th>\n",
       "      <th>REGIONALITY</th>\n",
       "      <th>FLOW</th>\n",
       "      <th>SF_BB</th>\n",
       "      <th>SF_FIXED_FEE</th>\n",
       "      <th>SF_PERC_FEE</th>\n",
       "      <th>SF_AVG_AB</th>\n",
       "    </tr>\n",
       "  </thead>\n",
       "  <tbody>\n",
       "    <tr>\n",
       "      <th>0</th>\n",
       "      <td>1946</td>\n",
       "      <td>Albania</td>\n",
       "      <td>Visa</td>\n",
       "      <td>Luxembourg</td>\n",
       "      <td>Credit</td>\n",
       "      <td>Consumer</td>\n",
       "      <td>74541097317024984169347</td>\n",
       "      <td>11</td>\n",
       "      <td>13</td>\n",
       "      <td>2017</td>\n",
       "      <td>2017-11</td>\n",
       "      <td>TRANSACTION</td>\n",
       "      <td>Interregional</td>\n",
       "      <td>4</td>\n",
       "      <td>0.082971</td>\n",
       "      <td>0.073239</td>\n",
       "      <td>0.00560</td>\n",
       "      <td>0.092232</td>\n",
       "    </tr>\n",
       "    <tr>\n",
       "      <th>1</th>\n",
       "      <td>1946</td>\n",
       "      <td>Albania</td>\n",
       "      <td>Visa</td>\n",
       "      <td>Luxembourg</td>\n",
       "      <td>Credit</td>\n",
       "      <td>Consumer</td>\n",
       "      <td>74541097317024984155205</td>\n",
       "      <td>11</td>\n",
       "      <td>13</td>\n",
       "      <td>2017</td>\n",
       "      <td>2017-11</td>\n",
       "      <td>TRANSACTION</td>\n",
       "      <td>Interregional</td>\n",
       "      <td>9</td>\n",
       "      <td>0.114472</td>\n",
       "      <td>0.073239</td>\n",
       "      <td>0.00564</td>\n",
       "      <td>0.120022</td>\n",
       "    </tr>\n",
       "    <tr>\n",
       "      <th>2</th>\n",
       "      <td>1946</td>\n",
       "      <td>Albania</td>\n",
       "      <td>Visa</td>\n",
       "      <td>Luxembourg</td>\n",
       "      <td>Credit</td>\n",
       "      <td>Consumer</td>\n",
       "      <td>74541097317024984034418</td>\n",
       "      <td>11</td>\n",
       "      <td>13</td>\n",
       "      <td>2017</td>\n",
       "      <td>2017-11</td>\n",
       "      <td>TRANSACTION</td>\n",
       "      <td>Interregional</td>\n",
       "      <td>22</td>\n",
       "      <td>0.186237</td>\n",
       "      <td>0.073239</td>\n",
       "      <td>0.00564</td>\n",
       "      <td>0.191462</td>\n",
       "    </tr>\n",
       "    <tr>\n",
       "      <th>3</th>\n",
       "      <td>1946</td>\n",
       "      <td>Albania</td>\n",
       "      <td>Visa</td>\n",
       "      <td>Luxembourg</td>\n",
       "      <td>Credit</td>\n",
       "      <td>Consumer</td>\n",
       "      <td>74541097317024983925574</td>\n",
       "      <td>11</td>\n",
       "      <td>13</td>\n",
       "      <td>2017</td>\n",
       "      <td>2017-11</td>\n",
       "      <td>TRANSACTION</td>\n",
       "      <td>Interregional</td>\n",
       "      <td>1</td>\n",
       "      <td>0.068065</td>\n",
       "      <td>0.073239</td>\n",
       "      <td>0.00564</td>\n",
       "      <td>0.081216</td>\n",
       "    </tr>\n",
       "    <tr>\n",
       "      <th>4</th>\n",
       "      <td>1946</td>\n",
       "      <td>Albania</td>\n",
       "      <td>Visa</td>\n",
       "      <td>Luxembourg</td>\n",
       "      <td>Credit</td>\n",
       "      <td>Consumer</td>\n",
       "      <td>74541097317024984050331</td>\n",
       "      <td>11</td>\n",
       "      <td>13</td>\n",
       "      <td>2017</td>\n",
       "      <td>2017-11</td>\n",
       "      <td>TRANSACTION</td>\n",
       "      <td>Interregional</td>\n",
       "      <td>1</td>\n",
       "      <td>0.066468</td>\n",
       "      <td>0.073239</td>\n",
       "      <td>0.00564</td>\n",
       "      <td>0.081216</td>\n",
       "    </tr>\n",
       "  </tbody>\n",
       "</table>\n",
       "</div>"
      ],
      "text/plain": [
       "   CONTRACT_ID ISSUER_COUNTRY CARD_BRAND CLEARING_COUNTRY_NAME CREDIT_DEBIT  \\\n",
       "0         1946        Albania       Visa            Luxembourg       Credit   \n",
       "1         1946        Albania       Visa            Luxembourg       Credit   \n",
       "2         1946        Albania       Visa            Luxembourg       Credit   \n",
       "3         1946        Albania       Visa            Luxembourg       Credit   \n",
       "4         1946        Albania       Visa            Luxembourg       Credit   \n",
       "\n",
       "  CARD_TYPE              BAMBORA_REF MONTH DAY  YEAR   PERIOD  \\\n",
       "0  Consumer  74541097317024984169347    11  13  2017  2017-11   \n",
       "1  Consumer  74541097317024984155205    11  13  2017  2017-11   \n",
       "2  Consumer  74541097317024984034418    11  13  2017  2017-11   \n",
       "3  Consumer  74541097317024983925574    11  13  2017  2017-11   \n",
       "4  Consumer  74541097317024984050331    11  13  2017  2017-11   \n",
       "\n",
       "  TRANSACTION_TYPE    REGIONALITY  FLOW     SF_BB  SF_FIXED_FEE  SF_PERC_FEE  \\\n",
       "0      TRANSACTION  Interregional     4  0.082971      0.073239      0.00560   \n",
       "1      TRANSACTION  Interregional     9  0.114472      0.073239      0.00564   \n",
       "2      TRANSACTION  Interregional    22  0.186237      0.073239      0.00564   \n",
       "3      TRANSACTION  Interregional     1  0.068065      0.073239      0.00564   \n",
       "4      TRANSACTION  Interregional     1  0.066468      0.073239      0.00564   \n",
       "\n",
       "   SF_AVG_AB  \n",
       "0   0.092232  \n",
       "1   0.120022  \n",
       "2   0.191462  \n",
       "3   0.081216  \n",
       "4   0.081216  "
      ]
     },
     "execution_count": 40,
     "metadata": {},
     "output_type": "execute_result"
    }
   ],
   "source": [
    "ab_bb_comp.head()"
   ]
  },
  {
   "cell_type": "markdown",
   "metadata": {},
   "source": [
    "## Insert the Signal logic"
   ]
  },
  {
   "cell_type": "code",
   "execution_count": 41,
   "metadata": {
    "collapsed": false
   },
   "outputs": [
    {
     "name": "stderr",
     "output_type": "stream",
     "text": [
      "C:\\Users\\djohnson\\AppData\\Local\\Continuum\\Anaconda2\\lib\\site-packages\\ipykernel\\__main__.py:4: SettingWithCopyWarning: \n",
      "A value is trying to be set on a copy of a slice from a DataFrame\n",
      "\n",
      "See the caveats in the documentation: http://pandas.pydata.org/pandas-docs/stable/indexing.html#indexing-view-versus-copy\n"
     ]
    }
   ],
   "source": [
    "ab_bb_comp['SF_DIFF_%']=(ab_bb_comp['SF_BB']-ab_bb_comp['SF_AVG_AB'])/ab_bb_comp['SF_AVG_AB']\n",
    "\n",
    "ab_bb_comp['SIGNAL']=''\n",
    "ab_bb_comp['SIGNAL'][(ab_bb_comp['SF_DIFF_%']>.05)]='Signal'"
   ]
  },
  {
   "cell_type": "code",
   "execution_count": 42,
   "metadata": {
    "collapsed": false
   },
   "outputs": [
    {
     "data": {
      "text/html": [
       "<div>\n",
       "<table border=\"1\" class=\"dataframe\">\n",
       "  <thead>\n",
       "    <tr style=\"text-align: right;\">\n",
       "      <th></th>\n",
       "      <th>CONTRACT_ID</th>\n",
       "      <th>ISSUER_COUNTRY</th>\n",
       "      <th>CARD_BRAND</th>\n",
       "      <th>CLEARING_COUNTRY_NAME</th>\n",
       "      <th>CREDIT_DEBIT</th>\n",
       "      <th>CARD_TYPE</th>\n",
       "      <th>BAMBORA_REF</th>\n",
       "      <th>MONTH</th>\n",
       "      <th>DAY</th>\n",
       "      <th>YEAR</th>\n",
       "      <th>PERIOD</th>\n",
       "      <th>TRANSACTION_TYPE</th>\n",
       "      <th>REGIONALITY</th>\n",
       "      <th>FLOW</th>\n",
       "      <th>SF_BB</th>\n",
       "      <th>SF_FIXED_FEE</th>\n",
       "      <th>SF_PERC_FEE</th>\n",
       "      <th>SF_AVG_AB</th>\n",
       "      <th>SF_DIFF_%</th>\n",
       "      <th>SIGNAL</th>\n",
       "    </tr>\n",
       "  </thead>\n",
       "  <tbody>\n",
       "    <tr>\n",
       "      <th>0</th>\n",
       "      <td>1946</td>\n",
       "      <td>Albania</td>\n",
       "      <td>Visa</td>\n",
       "      <td>Luxembourg</td>\n",
       "      <td>Credit</td>\n",
       "      <td>Consumer</td>\n",
       "      <td>74541097317024984169347</td>\n",
       "      <td>11</td>\n",
       "      <td>13</td>\n",
       "      <td>2017</td>\n",
       "      <td>2017-11</td>\n",
       "      <td>TRANSACTION</td>\n",
       "      <td>Interregional</td>\n",
       "      <td>4</td>\n",
       "      <td>0.082971</td>\n",
       "      <td>0.073239</td>\n",
       "      <td>0.00560</td>\n",
       "      <td>0.092232</td>\n",
       "      <td>-0.100407</td>\n",
       "      <td></td>\n",
       "    </tr>\n",
       "    <tr>\n",
       "      <th>1</th>\n",
       "      <td>1946</td>\n",
       "      <td>Albania</td>\n",
       "      <td>Visa</td>\n",
       "      <td>Luxembourg</td>\n",
       "      <td>Credit</td>\n",
       "      <td>Consumer</td>\n",
       "      <td>74541097317024984155205</td>\n",
       "      <td>11</td>\n",
       "      <td>13</td>\n",
       "      <td>2017</td>\n",
       "      <td>2017-11</td>\n",
       "      <td>TRANSACTION</td>\n",
       "      <td>Interregional</td>\n",
       "      <td>9</td>\n",
       "      <td>0.114472</td>\n",
       "      <td>0.073239</td>\n",
       "      <td>0.00564</td>\n",
       "      <td>0.120022</td>\n",
       "      <td>-0.046238</td>\n",
       "      <td></td>\n",
       "    </tr>\n",
       "    <tr>\n",
       "      <th>2</th>\n",
       "      <td>1946</td>\n",
       "      <td>Albania</td>\n",
       "      <td>Visa</td>\n",
       "      <td>Luxembourg</td>\n",
       "      <td>Credit</td>\n",
       "      <td>Consumer</td>\n",
       "      <td>74541097317024984034418</td>\n",
       "      <td>11</td>\n",
       "      <td>13</td>\n",
       "      <td>2017</td>\n",
       "      <td>2017-11</td>\n",
       "      <td>TRANSACTION</td>\n",
       "      <td>Interregional</td>\n",
       "      <td>22</td>\n",
       "      <td>0.186237</td>\n",
       "      <td>0.073239</td>\n",
       "      <td>0.00564</td>\n",
       "      <td>0.191462</td>\n",
       "      <td>-0.027293</td>\n",
       "      <td></td>\n",
       "    </tr>\n",
       "    <tr>\n",
       "      <th>3</th>\n",
       "      <td>1946</td>\n",
       "      <td>Albania</td>\n",
       "      <td>Visa</td>\n",
       "      <td>Luxembourg</td>\n",
       "      <td>Credit</td>\n",
       "      <td>Consumer</td>\n",
       "      <td>74541097317024983925574</td>\n",
       "      <td>11</td>\n",
       "      <td>13</td>\n",
       "      <td>2017</td>\n",
       "      <td>2017-11</td>\n",
       "      <td>TRANSACTION</td>\n",
       "      <td>Interregional</td>\n",
       "      <td>1</td>\n",
       "      <td>0.068065</td>\n",
       "      <td>0.073239</td>\n",
       "      <td>0.00564</td>\n",
       "      <td>0.081216</td>\n",
       "      <td>-0.161923</td>\n",
       "      <td></td>\n",
       "    </tr>\n",
       "    <tr>\n",
       "      <th>4</th>\n",
       "      <td>1946</td>\n",
       "      <td>Albania</td>\n",
       "      <td>Visa</td>\n",
       "      <td>Luxembourg</td>\n",
       "      <td>Credit</td>\n",
       "      <td>Consumer</td>\n",
       "      <td>74541097317024984050331</td>\n",
       "      <td>11</td>\n",
       "      <td>13</td>\n",
       "      <td>2017</td>\n",
       "      <td>2017-11</td>\n",
       "      <td>TRANSACTION</td>\n",
       "      <td>Interregional</td>\n",
       "      <td>1</td>\n",
       "      <td>0.066468</td>\n",
       "      <td>0.073239</td>\n",
       "      <td>0.00564</td>\n",
       "      <td>0.081216</td>\n",
       "      <td>-0.181584</td>\n",
       "      <td></td>\n",
       "    </tr>\n",
       "  </tbody>\n",
       "</table>\n",
       "</div>"
      ],
      "text/plain": [
       "   CONTRACT_ID ISSUER_COUNTRY CARD_BRAND CLEARING_COUNTRY_NAME CREDIT_DEBIT  \\\n",
       "0         1946        Albania       Visa            Luxembourg       Credit   \n",
       "1         1946        Albania       Visa            Luxembourg       Credit   \n",
       "2         1946        Albania       Visa            Luxembourg       Credit   \n",
       "3         1946        Albania       Visa            Luxembourg       Credit   \n",
       "4         1946        Albania       Visa            Luxembourg       Credit   \n",
       "\n",
       "  CARD_TYPE              BAMBORA_REF MONTH DAY  YEAR   PERIOD  \\\n",
       "0  Consumer  74541097317024984169347    11  13  2017  2017-11   \n",
       "1  Consumer  74541097317024984155205    11  13  2017  2017-11   \n",
       "2  Consumer  74541097317024984034418    11  13  2017  2017-11   \n",
       "3  Consumer  74541097317024983925574    11  13  2017  2017-11   \n",
       "4  Consumer  74541097317024984050331    11  13  2017  2017-11   \n",
       "\n",
       "  TRANSACTION_TYPE    REGIONALITY  FLOW     SF_BB  SF_FIXED_FEE  SF_PERC_FEE  \\\n",
       "0      TRANSACTION  Interregional     4  0.082971      0.073239      0.00560   \n",
       "1      TRANSACTION  Interregional     9  0.114472      0.073239      0.00564   \n",
       "2      TRANSACTION  Interregional    22  0.186237      0.073239      0.00564   \n",
       "3      TRANSACTION  Interregional     1  0.068065      0.073239      0.00564   \n",
       "4      TRANSACTION  Interregional     1  0.066468      0.073239      0.00564   \n",
       "\n",
       "   SF_AVG_AB  SF_DIFF_% SIGNAL  \n",
       "0   0.092232  -0.100407         \n",
       "1   0.120022  -0.046238         \n",
       "2   0.191462  -0.027293         \n",
       "3   0.081216  -0.161923         \n",
       "4   0.081216  -0.181584         "
      ]
     },
     "execution_count": 42,
     "metadata": {},
     "output_type": "execute_result"
    }
   ],
   "source": [
    "ab_bb_comp.head()"
   ]
  },
  {
   "cell_type": "markdown",
   "metadata": {},
   "source": [
    "### Final Output"
   ]
  },
  {
   "cell_type": "code",
   "execution_count": 43,
   "metadata": {
    "collapsed": false
   },
   "outputs": [],
   "source": [
    "ab_bb_comp=ab_bb_comp[['BAMBORA_REF','TRANSACTION_TYPE','REGIONALITY','CONTRACT_ID','MONTH','DAY','YEAR','PERIOD'\n",
    "                       ,'CARD_BRAND','CARD_TYPE','CREDIT_DEBIT','ISSUER_COUNTRY','CLEARING_COUNTRY_NAME'\n",
    "                       ,'FLOW','SF_FIXED_FEE','SF_PERC_FEE','SF_BB','SF_AVG_AB','SF_DIFF_%','SIGNAL']]"
   ]
  },
  {
   "cell_type": "code",
   "execution_count": 44,
   "metadata": {
    "collapsed": false
   },
   "outputs": [
    {
     "data": {
      "text/html": [
       "<div>\n",
       "<table border=\"1\" class=\"dataframe\">\n",
       "  <thead>\n",
       "    <tr style=\"text-align: right;\">\n",
       "      <th></th>\n",
       "      <th>BAMBORA_REF</th>\n",
       "      <th>TRANSACTION_TYPE</th>\n",
       "      <th>REGIONALITY</th>\n",
       "      <th>CONTRACT_ID</th>\n",
       "      <th>MONTH</th>\n",
       "      <th>DAY</th>\n",
       "      <th>YEAR</th>\n",
       "      <th>PERIOD</th>\n",
       "      <th>CARD_BRAND</th>\n",
       "      <th>CARD_TYPE</th>\n",
       "      <th>CREDIT_DEBIT</th>\n",
       "      <th>ISSUER_COUNTRY</th>\n",
       "      <th>CLEARING_COUNTRY_NAME</th>\n",
       "      <th>FLOW</th>\n",
       "      <th>SF_FIXED_FEE</th>\n",
       "      <th>SF_PERC_FEE</th>\n",
       "      <th>SF_BB</th>\n",
       "      <th>SF_AVG_AB</th>\n",
       "      <th>SF_DIFF_%</th>\n",
       "      <th>SIGNAL</th>\n",
       "    </tr>\n",
       "  </thead>\n",
       "  <tbody>\n",
       "    <tr>\n",
       "      <th>0</th>\n",
       "      <td>74541097317024984169347</td>\n",
       "      <td>TRANSACTION</td>\n",
       "      <td>Interregional</td>\n",
       "      <td>1946</td>\n",
       "      <td>11</td>\n",
       "      <td>13</td>\n",
       "      <td>2017</td>\n",
       "      <td>2017-11</td>\n",
       "      <td>Visa</td>\n",
       "      <td>Consumer</td>\n",
       "      <td>Credit</td>\n",
       "      <td>Albania</td>\n",
       "      <td>Luxembourg</td>\n",
       "      <td>4</td>\n",
       "      <td>0.073239</td>\n",
       "      <td>0.00560</td>\n",
       "      <td>0.082971</td>\n",
       "      <td>0.092232</td>\n",
       "      <td>-0.100407</td>\n",
       "      <td></td>\n",
       "    </tr>\n",
       "    <tr>\n",
       "      <th>1</th>\n",
       "      <td>74541097317024984155205</td>\n",
       "      <td>TRANSACTION</td>\n",
       "      <td>Interregional</td>\n",
       "      <td>1946</td>\n",
       "      <td>11</td>\n",
       "      <td>13</td>\n",
       "      <td>2017</td>\n",
       "      <td>2017-11</td>\n",
       "      <td>Visa</td>\n",
       "      <td>Consumer</td>\n",
       "      <td>Credit</td>\n",
       "      <td>Albania</td>\n",
       "      <td>Luxembourg</td>\n",
       "      <td>9</td>\n",
       "      <td>0.073239</td>\n",
       "      <td>0.00564</td>\n",
       "      <td>0.114472</td>\n",
       "      <td>0.120022</td>\n",
       "      <td>-0.046238</td>\n",
       "      <td></td>\n",
       "    </tr>\n",
       "    <tr>\n",
       "      <th>2</th>\n",
       "      <td>74541097317024984034418</td>\n",
       "      <td>TRANSACTION</td>\n",
       "      <td>Interregional</td>\n",
       "      <td>1946</td>\n",
       "      <td>11</td>\n",
       "      <td>13</td>\n",
       "      <td>2017</td>\n",
       "      <td>2017-11</td>\n",
       "      <td>Visa</td>\n",
       "      <td>Consumer</td>\n",
       "      <td>Credit</td>\n",
       "      <td>Albania</td>\n",
       "      <td>Luxembourg</td>\n",
       "      <td>22</td>\n",
       "      <td>0.073239</td>\n",
       "      <td>0.00564</td>\n",
       "      <td>0.186237</td>\n",
       "      <td>0.191462</td>\n",
       "      <td>-0.027293</td>\n",
       "      <td></td>\n",
       "    </tr>\n",
       "    <tr>\n",
       "      <th>3</th>\n",
       "      <td>74541097317024983925574</td>\n",
       "      <td>TRANSACTION</td>\n",
       "      <td>Interregional</td>\n",
       "      <td>1946</td>\n",
       "      <td>11</td>\n",
       "      <td>13</td>\n",
       "      <td>2017</td>\n",
       "      <td>2017-11</td>\n",
       "      <td>Visa</td>\n",
       "      <td>Consumer</td>\n",
       "      <td>Credit</td>\n",
       "      <td>Albania</td>\n",
       "      <td>Luxembourg</td>\n",
       "      <td>1</td>\n",
       "      <td>0.073239</td>\n",
       "      <td>0.00564</td>\n",
       "      <td>0.068065</td>\n",
       "      <td>0.081216</td>\n",
       "      <td>-0.161923</td>\n",
       "      <td></td>\n",
       "    </tr>\n",
       "    <tr>\n",
       "      <th>4</th>\n",
       "      <td>74541097317024984050331</td>\n",
       "      <td>TRANSACTION</td>\n",
       "      <td>Interregional</td>\n",
       "      <td>1946</td>\n",
       "      <td>11</td>\n",
       "      <td>13</td>\n",
       "      <td>2017</td>\n",
       "      <td>2017-11</td>\n",
       "      <td>Visa</td>\n",
       "      <td>Consumer</td>\n",
       "      <td>Credit</td>\n",
       "      <td>Albania</td>\n",
       "      <td>Luxembourg</td>\n",
       "      <td>1</td>\n",
       "      <td>0.073239</td>\n",
       "      <td>0.00564</td>\n",
       "      <td>0.066468</td>\n",
       "      <td>0.081216</td>\n",
       "      <td>-0.181584</td>\n",
       "      <td></td>\n",
       "    </tr>\n",
       "  </tbody>\n",
       "</table>\n",
       "</div>"
      ],
      "text/plain": [
       "               BAMBORA_REF TRANSACTION_TYPE    REGIONALITY  CONTRACT_ID MONTH  \\\n",
       "0  74541097317024984169347      TRANSACTION  Interregional         1946    11   \n",
       "1  74541097317024984155205      TRANSACTION  Interregional         1946    11   \n",
       "2  74541097317024984034418      TRANSACTION  Interregional         1946    11   \n",
       "3  74541097317024983925574      TRANSACTION  Interregional         1946    11   \n",
       "4  74541097317024984050331      TRANSACTION  Interregional         1946    11   \n",
       "\n",
       "  DAY  YEAR   PERIOD CARD_BRAND CARD_TYPE CREDIT_DEBIT ISSUER_COUNTRY  \\\n",
       "0  13  2017  2017-11       Visa  Consumer       Credit        Albania   \n",
       "1  13  2017  2017-11       Visa  Consumer       Credit        Albania   \n",
       "2  13  2017  2017-11       Visa  Consumer       Credit        Albania   \n",
       "3  13  2017  2017-11       Visa  Consumer       Credit        Albania   \n",
       "4  13  2017  2017-11       Visa  Consumer       Credit        Albania   \n",
       "\n",
       "  CLEARING_COUNTRY_NAME  FLOW  SF_FIXED_FEE  SF_PERC_FEE     SF_BB  SF_AVG_AB  \\\n",
       "0            Luxembourg     4      0.073239      0.00560  0.082971   0.092232   \n",
       "1            Luxembourg     9      0.073239      0.00564  0.114472   0.120022   \n",
       "2            Luxembourg    22      0.073239      0.00564  0.186237   0.191462   \n",
       "3            Luxembourg     1      0.073239      0.00564  0.068065   0.081216   \n",
       "4            Luxembourg     1      0.073239      0.00564  0.066468   0.081216   \n",
       "\n",
       "   SF_DIFF_% SIGNAL  \n",
       "0  -0.100407         \n",
       "1  -0.046238         \n",
       "2  -0.027293         \n",
       "3  -0.161923         \n",
       "4  -0.181584         "
      ]
     },
     "execution_count": 44,
     "metadata": {},
     "output_type": "execute_result"
    }
   ],
   "source": [
    "ab_bb_comp.head()"
   ]
  },
  {
   "cell_type": "code",
   "execution_count": 45,
   "metadata": {
    "collapsed": false
   },
   "outputs": [
    {
     "name": "stdout",
     "output_type": "stream",
     "text": [
      "total transactions\n",
      "118185\n",
      "total signals\n",
      "2524\n"
     ]
    }
   ],
   "source": [
    "print 'total transactions'\n",
    "print ab_bb_comp['BAMBORA_REF'].count()\n",
    "print 'total signals'\n",
    "print ab_bb_comp['BAMBORA_REF'][(ab_bb_comp['SIGNAL']=='Signal')].count()"
   ]
  },
  {
   "cell_type": "code",
   "execution_count": 46,
   "metadata": {
    "collapsed": false
   },
   "outputs": [],
   "source": [
    "ab_bb_comp.to_csv('d:\\\\djohnson\\\\Desktop\\\\ab_bb_comp.csv')"
   ]
  }
 ],
 "metadata": {
  "anaconda-cloud": {},
  "kernelspec": {
   "display_name": "Python [default]",
   "language": "python",
   "name": "python2"
  },
  "language_info": {
   "codemirror_mode": {
    "name": "ipython",
    "version": 2
   },
   "file_extension": ".py",
   "mimetype": "text/x-python",
   "name": "python",
   "nbconvert_exporter": "python",
   "pygments_lexer": "ipython2",
   "version": "2.7.12"
  }
 },
 "nbformat": 4,
 "nbformat_minor": 1
}
