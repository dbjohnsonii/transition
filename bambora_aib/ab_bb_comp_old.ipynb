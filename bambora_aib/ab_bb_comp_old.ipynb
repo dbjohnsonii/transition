{
 "cells": [
  {
   "cell_type": "markdown",
   "metadata": {},
   "source": [
    "# AIB to Bambora SF Cost Comparison Application"
   ]
  },
  {
   "cell_type": "code",
   "execution_count": 1,
   "metadata": {
    "collapsed": false
   },
   "outputs": [
    {
     "data": {
      "text/html": [
       "<style>.container { width:95% !important; }</style>"
      ],
      "text/plain": [
       "<IPython.core.display.HTML object>"
      ]
     },
     "metadata": {},
     "output_type": "display_data"
    },
    {
     "name": "stdout",
     "output_type": "stream",
     "text": [
      "2.7.12 |Anaconda 4.2.0 (64-bit)| (default, Jun 29 2016, 11:07:13) [MSC v.1500 64 bit (AMD64)]\n"
     ]
    }
   ],
   "source": [
    "from IPython.core.display import display, HTML\n",
    "display(HTML(\"<style>.container { width:95% !important; }</style>\"))\n",
    "import sys\n",
    "print (sys.version)"
   ]
  },
  {
   "cell_type": "markdown",
   "metadata": {},
   "source": [
    "## Import the Necessary Libraries\n",
    "Below are the libraries required to assemble the project."
   ]
  },
  {
   "cell_type": "code",
   "execution_count": 2,
   "metadata": {
    "collapsed": false
   },
   "outputs": [
    {
     "name": "stdout",
     "output_type": "stream",
     "text": [
      "{'ECL_CODA11': 'Oracle in instantclient_11_2', 'NZSQL': 'NetezzaSQL', 'IST_CODA11': 'Oracle in instantclient_11_2', 'BO_Lookup': 'Oracle in instantclient_11_2', 'Excel Files': 'Microsoft Excel Driver (*.xls, *.xlsx, *.xlsm, *.xlsb)', 'dBASE Files': 'Microsoft Access dBASE Driver (*.dbf, *.ndx, *.mdx)', 'MS Access Database': 'Microsoft Access Driver (*.mdb, *.accdb)'}\n"
     ]
    }
   ],
   "source": [
    "import pyodbc #CONNECT VIA PYODBC IMPORT THE PYODBC LIBRARY\n",
    "import pandas as pd #CONNECT TO THE PANDAS LIBRARY\n",
    "import numpy as np #IMPORT NUMPY\n",
    "import csv\n",
    "import seaborn as sns\n",
    "%matplotlib inline\n",
    "from matplotlib import pyplot as plt\n",
    "from matplotlib.ticker import MultipleLocator\n",
    "pd.options.mode.chained_assignment = None  # default='warn'\n",
    "pd.options.display.float_format = '{:,.2f}'.format\n",
    "print pyodbc.dataSources()\n",
    "conn=C.connect(\"Driver={NetezzaSQL};SERVER=10.80.10.70;PORT=5480;DATABASE=P_FDW;UID=djohnson;PWD=Djohnson#1234\",ansi=True)"
   ]
  },
  {
   "cell_type": "markdown",
   "metadata": {},
   "source": [
    "## Bambora Pull\n",
    "\n",
    "As the data is queried the transaction amounts are rounded.<br>\n",
    "The transaction amounts are rounded to allow for flow data to be matched between AIB and Bambora.<br>\n",
    "For example, England - Netherlands where the transaction amount is 20.00 and not 20.15 or 20.13 is much easier to match.<br>\n",
    "\n",
    "The non-uniformity of transaction amounts that were not rounded lead to memory issues.<br>\n",
    "The process was too laborious because the unqiue transaction amounts led to very large datasets have to be queried against another very large dataset.<br>\n",
    "This decision allows for efficiency."
   ]
  },
  {
   "cell_type": "code",
   "execution_count": 61,
   "metadata": {
    "collapsed": false
   },
   "outputs": [],
   "source": [
    "#Bambora\n",
    "bb=pd.read_sql(\n",
    "'''\n",
    "SELECT \n",
    "bb.BAMBORA_REF\n",
    ",TO_CHAR(bb.SETTLEMENT_DATE, 'MM') AS MONTH\n",
    ",TO_CHAR(bb.SETTLEMENT_DATE, 'DD') AS DAY\n",
    ",TO_CHAR(bb.SETTLEMENT_DATE, 'YYYY') AS YEAR\n",
    ",TO_CHAR(bb.SETTLEMENT_DATE,'YYYY-MM') AS PERIOD\n",
    ",bb.CONTRACT_ID, bb.ISSUER_COUNTRY_NAME, bb.MERCHANT_COUNTRY_NAME,bb.TRANSACTION_TYPE,bb.CARD_SCHEME,bb.CREDIT_DEBIT,bb.CONSUMER_CORPORATE\n",
    ",bb.SF_FIXED_FEE_RESULT,bb.SF_PERC_FEE_RESULT,bb.TRANSACTION_TYPE AS B_TRANSACTION_TYPE,bb.CONSUMER_CORPORATE AS C_TYPE\n",
    ",bb.VOLUME AS VOLUME,ROUND(bb.TRANSACTION_AMOUNT_EUR) AS FLOW,bb.SCHEME_TOTAL_FEE_EUR AS SF,bb.SF_FIXED_FEE,bb. SF_PERC_FEE,bb.TRANSACTION_AMOUNT_EUR\n",
    "FROM DATA.ACQUIRER_BAMBORA_COST bb\n",
    "WHERE bb.TRANSACTION_TYPE='TRANSACTION'\n",
    "AND bb.SETTLEMENT_DATE BETWEEN '11-01-2017' AND '12-31-2017'\n",
    "'''\n",
    ",conn)"
   ]
  },
  {
   "cell_type": "markdown",
   "metadata": {},
   "source": [
    "## AIB Pull\n",
    "As the data is queried the transaction amounts are rounded.<br>\n",
    "The transaction amounts are rounded to allow for flow data to be matched between AIB and Bambora.<br>\n",
    "\n",
    "The AIB is Averaged and the Flow amount is rounded"
   ]
  },
  {
   "cell_type": "code",
   "execution_count": 62,
   "metadata": {
    "collapsed": true
   },
   "outputs": [],
   "source": [
    "#AIB\n",
    "ab=pd.read_sql(\n",
    "'''\n",
    "SELECT \n",
    "MAX(TRANSACTION_DATE) AS TRANSACTION_DATE,\n",
    "ab.CONTRACT_ID, ab.ISSUER_COUNTRY, ab.CARD_BRAND, ab.CLEARING_COUNTRY_NAME,ab.TRANSACTION_TYPE\n",
    ",ROUND(ab.TRANSACTION_FLOW_EUR) AS FLOW,AVG((ABS(ab.SCHEME_FEE_EUR)) )AS SF ,\n",
    "\n",
    "CASE WHEN ab.CARD_TYPE_GROUP LIKE '%Debit%' THEN 'Debit'\n",
    "WHEN ab.CARD_TYPE_GROUP LIKE '%Credit%' THEN 'Credit'\n",
    "WHEN ab.CARD_TYPE_GROUP LIKE '%Prepaid%' THEN 'Prepaid'\n",
    "END AS \"CREDIT_DEBIT\",\n",
    "\n",
    "CASE WHEN ab.CARD_TYPE_GROUP LIKE '%Consumer%' THEN 'Consumer'\n",
    "WHEN ab.CARD_TYPE_GROUP LIKE '%Commercial%' THEN 'Commercial'\n",
    "END AS \"CARD_TYPE\"\n",
    "\n",
    "FROM DATA.ACQUIRER_AIB_NEWGEN_FILES ab\n",
    "WHERE ab.TRANSACTION_DATE BETWEEN '11-01-2017' AND '12-31-2017'\n",
    "AND ab.SCHEME_FEE_EUR!=0\n",
    "AND (ab.TRANSACTION_TYPE ='Sale')\n",
    "AND (ab.INTERCHANGE_REGION='Intra-region'OR ab.INTERCHANGE_REGION='Inter-region' OR ab.INTERCHANGE_REGION='Domestic')\n",
    "GROUP BY  ab.CONTRACT_ID, ab.ISSUER_COUNTRY, ab.CARD_BRAND, ab.CLEARING_COUNTRY_NAME,ab.TRANSACTION_TYPE,CREDIT_DEBIT,CARD_TYPE_GROUP,TRANSACTION_FLOW_EUR\n",
    "'''\n",
    ",conn)"
   ]
  },
  {
   "cell_type": "markdown",
   "metadata": {},
   "source": [
    "### Save the AIB Query to hard drive to Prevent Repeated Query Pulls"
   ]
  },
  {
   "cell_type": "code",
   "execution_count": null,
   "metadata": {
    "collapsed": true
   },
   "outputs": [],
   "source": [
    "ab.to_csv('d:\\\\djohnson\\\\Desktop\\\\ab_bb\\\\ab_avg_sf_by_flow.csv')"
   ]
  },
  {
   "cell_type": "code",
   "execution_count": 125,
   "metadata": {
    "collapsed": true
   },
   "outputs": [],
   "source": [
    "ab=None #clear the ab query from memory"
   ]
  },
  {
   "cell_type": "markdown",
   "metadata": {},
   "source": [
    "## AIB Import"
   ]
  },
  {
   "cell_type": "code",
   "execution_count": 187,
   "metadata": {
    "collapsed": false
   },
   "outputs": [],
   "source": [
    "ab=pd.read_csv('d:\\\\djohnson\\\\Desktop\\\\ab_bb\\\\ab_avg_sf_by_flow.csv')"
   ]
  },
  {
   "cell_type": "code",
   "execution_count": 188,
   "metadata": {
    "collapsed": true
   },
   "outputs": [],
   "source": [
    "ab=ab.drop('Unnamed: 0',axis=1) #drop the unnamed index from the AIB import"
   ]
  },
  {
   "cell_type": "markdown",
   "metadata": {},
   "source": [
    "## Create a Working Copy of the Bambora Data"
   ]
  },
  {
   "cell_type": "code",
   "execution_count": 189,
   "metadata": {
    "collapsed": false
   },
   "outputs": [],
   "source": [
    "bb1=bb.copy() #create working copy of the Bambora data"
   ]
  },
  {
   "cell_type": "markdown",
   "metadata": {},
   "source": [
    "### Remove Bambora Whitespace"
   ]
  },
  {
   "cell_type": "code",
   "execution_count": 190,
   "metadata": {
    "collapsed": true
   },
   "outputs": [],
   "source": [
    "bb1['ISSUER_COUNTRY_NAME']=bb1['ISSUER_COUNTRY_NAME'].str.strip()\n",
    "bb1['MERCHANT_COUNTRY_NAME']=bb1['MERCHANT_COUNTRY_NAME'].str.strip()"
   ]
  },
  {
   "cell_type": "markdown",
   "metadata": {},
   "source": [
    "### Remove Excess Naming from SQL"
   ]
  },
  {
   "cell_type": "code",
   "execution_count": 191,
   "metadata": {
    "collapsed": false
   },
   "outputs": [],
   "source": [
    "bb1=bb1.drop(['B_TRANSACTION_TYPE','C_TYPE','VOLUME','TRANSACTION_AMOUNT_EUR','SF_FIXED_FEE_RESULT','SF_PERC_FEE_RESULT'],axis=1)"
   ]
  },
  {
   "cell_type": "markdown",
   "metadata": {},
   "source": [
    "## Rename Columns to Allow for Merge"
   ]
  },
  {
   "cell_type": "code",
   "execution_count": 192,
   "metadata": {
    "collapsed": true
   },
   "outputs": [],
   "source": [
    "bb1=bb1.rename(columns={'ISSUER_COUNTRY_NAME':'ISSUER_COUNTRY','MERCHANT_COUNTRY_NAME':'CLEARING_COUNTRY_NAME','CONSUMER_CORPORATE':'CARD_TYPE','CARD_SCHEME':'CARD_BRAND'})"
   ]
  },
  {
   "cell_type": "code",
   "execution_count": 193,
   "metadata": {
    "collapsed": false
   },
   "outputs": [
    {
     "name": "stdout",
     "output_type": "stream",
     "text": [
      "               BAMBORA_REF MONTH DAY  YEAR   PERIOD  CONTRACT_ID  \\\n",
      "0  74541097315024958871649    11  11  2017  2017-11     5,859.00   \n",
      "1  74541097315024958872282    11  11  2017  2017-11     7,793.00   \n",
      "2  74541097315024958871631    11  11  2017  2017-11     5,859.00   \n",
      "3  25336247315024958871666    11  11  2017  2017-11     5,859.00   \n",
      "4  74541097315024958872266    11  11  2017  2017-11     7,793.00   \n",
      "\n",
      "  ISSUER_COUNTRY CLEARING_COUNTRY_NAME TRANSACTION_TYPE  CARD_BRAND  \\\n",
      "0    New Zealand                 China      TRANSACTION        Visa   \n",
      "1    New Zealand                 China      TRANSACTION        Visa   \n",
      "2    New Zealand                 China      TRANSACTION        Visa   \n",
      "3    New Zealand                 China      TRANSACTION  Mastercard   \n",
      "4    New Zealand                 China      TRANSACTION        Visa   \n",
      "\n",
      "  CREDIT_DEBIT CARD_TYPE  FLOW   SF  SF_FIXED_FEE  SF_PERC_FEE  \n",
      "0        Debit  Consumer 20.00 0.18          0.10         0.01  \n",
      "1        Debit  Consumer 16.00 0.16          0.10         0.01  \n",
      "2       Credit  Consumer 36.00 0.28          0.10         0.01  \n",
      "3        Debit  Consumer 10.00 0.08          0.04         0.01  \n",
      "4       Credit  Consumer 16.00 0.16          0.10         0.01  \n"
     ]
    }
   ],
   "source": [
    "print bb1.head()"
   ]
  },
  {
   "cell_type": "markdown",
   "metadata": {},
   "source": [
    "## Indentify Congruent Lanes"
   ]
  },
  {
   "cell_type": "code",
   "execution_count": 194,
   "metadata": {
    "collapsed": false
   },
   "outputs": [],
   "source": [
    "bb1_contracts=bb1[['CONTRACT_ID','ISSUER_COUNTRY','CLEARING_COUNTRY_NAME','CARD_BRAND','CREDIT_DEBIT','CARD_TYPE']].drop_duplicates()"
   ]
  },
  {
   "cell_type": "markdown",
   "metadata": {},
   "source": [
    "### Remove Excess Naming"
   ]
  },
  {
   "cell_type": "code",
   "execution_count": 195,
   "metadata": {
    "collapsed": false
   },
   "outputs": [],
   "source": [
    "ab=ab.drop(['TRANSACTION_TYPE','TRANSACTION_DATE'],axis=1)"
   ]
  },
  {
   "cell_type": "code",
   "execution_count": 196,
   "metadata": {
    "collapsed": false
   },
   "outputs": [
    {
     "name": "stdout",
     "output_type": "stream",
     "text": [
      "   CONTRACT_ID  ISSUER_COUNTRY  CARD_BRAND CLEARING_COUNTRY_NAME   FLOW   SF  \\\n",
      "0         5100         Ireland        Visa               Germany  44.00 0.02   \n",
      "1         4235          Canada        Visa        United Kingdom   4.00 0.09   \n",
      "2         1423  United Kingdom        Visa        United Kingdom 159.00 0.06   \n",
      "3         4235         Finland        Visa        United Kingdom   6.00 0.02   \n",
      "4         2443     Switzerland  MasterCard                 Italy  40.00 0.22   \n",
      "\n",
      "  CREDIT_DEBIT CARD_TYPE  \n",
      "0        Debit  Consumer  \n",
      "1       Credit  Consumer  \n",
      "2       Credit  Consumer  \n",
      "3        Debit  Consumer  \n",
      "4       Credit  Consumer  \n"
     ]
    }
   ],
   "source": [
    "print ab.head()"
   ]
  },
  {
   "cell_type": "markdown",
   "metadata": {},
   "source": [
    "## Attach AIB Lanes to Active Bambora Lanes \n",
    "This is a left join that will show all active Bambora lanes on only those AIB lanes where there is congruence."
   ]
  },
  {
   "cell_type": "code",
   "execution_count": 197,
   "metadata": {
    "collapsed": false
   },
   "outputs": [],
   "source": [
    "ab_df=pd.merge(bb1_contracts,ab,on=['CONTRACT_ID','ISSUER_COUNTRY','CLEARING_COUNTRY_NAME','CARD_BRAND','CREDIT_DEBIT','CARD_TYPE'],how='left')"
   ]
  },
  {
   "cell_type": "code",
   "execution_count": 198,
   "metadata": {
    "collapsed": true
   },
   "outputs": [],
   "source": [
    "bb1_contracts=None #clear the merge data\n",
    "ab=None #clear the merge data"
   ]
  },
  {
   "cell_type": "markdown",
   "metadata": {},
   "source": [
    "### Only show those lanes where there is activity for AIB and Bambora\n",
    "This is done but filtering to only those results that have scheme fee information"
   ]
  },
  {
   "cell_type": "code",
   "execution_count": 199,
   "metadata": {
    "collapsed": false
   },
   "outputs": [],
   "source": [
    "ab_df=ab_df[(ab_df['SF']>0)].drop_duplicates()"
   ]
  },
  {
   "cell_type": "markdown",
   "metadata": {},
   "source": [
    "### Only Show the Median aggregated by lane, contract ID, Credit/Debit and Card type, Flow"
   ]
  },
  {
   "cell_type": "code",
   "execution_count": 200,
   "metadata": {
    "collapsed": false
   },
   "outputs": [],
   "source": [
    "ab_df=ab_df.groupby(['CONTRACT_ID','ISSUER_COUNTRY','CARD_BRAND','CLEARING_COUNTRY_NAME','CREDIT_DEBIT','CARD_TYPE','FLOW'],as_index=False)['SF'].median()"
   ]
  },
  {
   "cell_type": "code",
   "execution_count": 201,
   "metadata": {
    "collapsed": false
   },
   "outputs": [
    {
     "name": "stdout",
     "output_type": "stream",
     "text": [
      "   CONTRACT_ID ISSUER_COUNTRY CARD_BRAND CLEARING_COUNTRY_NAME CREDIT_DEBIT  \\\n",
      "0     1,946.00        Albania       Visa            Luxembourg       Credit   \n",
      "1     1,946.00        Albania       Visa            Luxembourg       Credit   \n",
      "2     1,946.00        Albania       Visa            Luxembourg       Credit   \n",
      "3     1,946.00        Albania       Visa            Luxembourg       Credit   \n",
      "4     1,946.00        Albania       Visa            Luxembourg       Credit   \n",
      "\n",
      "  CARD_TYPE  FLOW   SF  \n",
      "0  Consumer  0.00 0.08  \n",
      "1  Consumer  1.00 0.08  \n",
      "2  Consumer  2.00 0.08  \n",
      "3  Consumer  3.00 0.09  \n",
      "4  Consumer  4.00 0.09  \n"
     ]
    }
   ],
   "source": [
    "print ab_df.head()"
   ]
  },
  {
   "cell_type": "code",
   "execution_count": 202,
   "metadata": {
    "collapsed": false
   },
   "outputs": [
    {
     "name": "stdout",
     "output_type": "stream",
     "text": [
      "<class 'pandas.core.frame.DataFrame'>\n",
      "Int64Index: 22731 entries, 0 to 22730\n",
      "Data columns (total 8 columns):\n",
      "CONTRACT_ID              22731 non-null float64\n",
      "ISSUER_COUNTRY           22731 non-null object\n",
      "CARD_BRAND               22731 non-null object\n",
      "CLEARING_COUNTRY_NAME    22731 non-null object\n",
      "CREDIT_DEBIT             22731 non-null object\n",
      "CARD_TYPE                22731 non-null object\n",
      "FLOW                     22731 non-null float64\n",
      "SF                       22731 non-null float64\n",
      "dtypes: float64(3), object(5)\n",
      "memory usage: 1.6+ MB\n"
     ]
    }
   ],
   "source": [
    "ab_df.info()"
   ]
  },
  {
   "cell_type": "markdown",
   "metadata": {},
   "source": [
    "## Setup the Bambora Baseline Lanes, Flows, and SFs"
   ]
  },
  {
   "cell_type": "code",
   "execution_count": 203,
   "metadata": {
    "collapsed": false
   },
   "outputs": [],
   "source": [
    "base=ab_df.drop(['FLOW','SF'],axis=1).drop_duplicates()"
   ]
  },
  {
   "cell_type": "code",
   "execution_count": 204,
   "metadata": {
    "collapsed": false
   },
   "outputs": [],
   "source": [
    "bbbase=pd.merge(base,bb1,on=['CONTRACT_ID','ISSUER_COUNTRY','CLEARING_COUNTRY_NAME','CARD_BRAND','CREDIT_DEBIT','CARD_TYPE'],how='left')"
   ]
  },
  {
   "cell_type": "code",
   "execution_count": 205,
   "metadata": {
    "collapsed": false
   },
   "outputs": [
    {
     "data": {
      "text/html": [
       "<div>\n",
       "<table border=\"1\" class=\"dataframe\">\n",
       "  <thead>\n",
       "    <tr style=\"text-align: right;\">\n",
       "      <th></th>\n",
       "      <th>CONTRACT_ID</th>\n",
       "      <th>ISSUER_COUNTRY</th>\n",
       "      <th>CARD_BRAND</th>\n",
       "      <th>CLEARING_COUNTRY_NAME</th>\n",
       "      <th>CREDIT_DEBIT</th>\n",
       "      <th>CARD_TYPE</th>\n",
       "      <th>BAMBORA_REF</th>\n",
       "      <th>MONTH</th>\n",
       "      <th>DAY</th>\n",
       "      <th>YEAR</th>\n",
       "      <th>PERIOD</th>\n",
       "      <th>TRANSACTION_TYPE</th>\n",
       "      <th>FLOW</th>\n",
       "      <th>SF</th>\n",
       "      <th>SF_FIXED_FEE</th>\n",
       "      <th>SF_PERC_FEE</th>\n",
       "    </tr>\n",
       "  </thead>\n",
       "  <tbody>\n",
       "    <tr>\n",
       "      <th>0</th>\n",
       "      <td>1,946.00</td>\n",
       "      <td>Albania</td>\n",
       "      <td>Visa</td>\n",
       "      <td>Luxembourg</td>\n",
       "      <td>Credit</td>\n",
       "      <td>Consumer</td>\n",
       "      <td>74541097317024983622411</td>\n",
       "      <td>11</td>\n",
       "      <td>13</td>\n",
       "      <td>2017</td>\n",
       "      <td>2017-11</td>\n",
       "      <td>TRANSACTION</td>\n",
       "      <td>5.00</td>\n",
       "      <td>0.09</td>\n",
       "      <td>0.06</td>\n",
       "      <td>0.01</td>\n",
       "    </tr>\n",
       "    <tr>\n",
       "      <th>1</th>\n",
       "      <td>1,946.00</td>\n",
       "      <td>Albania</td>\n",
       "      <td>Visa</td>\n",
       "      <td>Luxembourg</td>\n",
       "      <td>Credit</td>\n",
       "      <td>Consumer</td>\n",
       "      <td>74541097317024983612529</td>\n",
       "      <td>11</td>\n",
       "      <td>13</td>\n",
       "      <td>2017</td>\n",
       "      <td>2017-11</td>\n",
       "      <td>TRANSACTION</td>\n",
       "      <td>12.00</td>\n",
       "      <td>0.13</td>\n",
       "      <td>0.06</td>\n",
       "      <td>0.01</td>\n",
       "    </tr>\n",
       "    <tr>\n",
       "      <th>2</th>\n",
       "      <td>1,946.00</td>\n",
       "      <td>Albania</td>\n",
       "      <td>Visa</td>\n",
       "      <td>Luxembourg</td>\n",
       "      <td>Credit</td>\n",
       "      <td>Consumer</td>\n",
       "      <td>74541097317024983727038</td>\n",
       "      <td>11</td>\n",
       "      <td>13</td>\n",
       "      <td>2017</td>\n",
       "      <td>2017-11</td>\n",
       "      <td>TRANSACTION</td>\n",
       "      <td>8.00</td>\n",
       "      <td>0.11</td>\n",
       "      <td>0.06</td>\n",
       "      <td>0.01</td>\n",
       "    </tr>\n",
       "    <tr>\n",
       "      <th>3</th>\n",
       "      <td>1,946.00</td>\n",
       "      <td>Albania</td>\n",
       "      <td>Visa</td>\n",
       "      <td>Luxembourg</td>\n",
       "      <td>Credit</td>\n",
       "      <td>Consumer</td>\n",
       "      <td>74541097317024984047204</td>\n",
       "      <td>11</td>\n",
       "      <td>13</td>\n",
       "      <td>2017</td>\n",
       "      <td>2017-11</td>\n",
       "      <td>TRANSACTION</td>\n",
       "      <td>1.00</td>\n",
       "      <td>0.07</td>\n",
       "      <td>0.07</td>\n",
       "      <td>0.01</td>\n",
       "    </tr>\n",
       "    <tr>\n",
       "      <th>4</th>\n",
       "      <td>1,946.00</td>\n",
       "      <td>Albania</td>\n",
       "      <td>Visa</td>\n",
       "      <td>Luxembourg</td>\n",
       "      <td>Credit</td>\n",
       "      <td>Consumer</td>\n",
       "      <td>74541097317024984169347</td>\n",
       "      <td>11</td>\n",
       "      <td>13</td>\n",
       "      <td>2017</td>\n",
       "      <td>2017-11</td>\n",
       "      <td>TRANSACTION</td>\n",
       "      <td>4.00</td>\n",
       "      <td>0.08</td>\n",
       "      <td>0.07</td>\n",
       "      <td>0.01</td>\n",
       "    </tr>\n",
       "  </tbody>\n",
       "</table>\n",
       "</div>"
      ],
      "text/plain": [
       "   CONTRACT_ID ISSUER_COUNTRY CARD_BRAND CLEARING_COUNTRY_NAME CREDIT_DEBIT  \\\n",
       "0     1,946.00        Albania       Visa            Luxembourg       Credit   \n",
       "1     1,946.00        Albania       Visa            Luxembourg       Credit   \n",
       "2     1,946.00        Albania       Visa            Luxembourg       Credit   \n",
       "3     1,946.00        Albania       Visa            Luxembourg       Credit   \n",
       "4     1,946.00        Albania       Visa            Luxembourg       Credit   \n",
       "\n",
       "  CARD_TYPE              BAMBORA_REF MONTH DAY  YEAR   PERIOD  \\\n",
       "0  Consumer  74541097317024983622411    11  13  2017  2017-11   \n",
       "1  Consumer  74541097317024983612529    11  13  2017  2017-11   \n",
       "2  Consumer  74541097317024983727038    11  13  2017  2017-11   \n",
       "3  Consumer  74541097317024984047204    11  13  2017  2017-11   \n",
       "4  Consumer  74541097317024984169347    11  13  2017  2017-11   \n",
       "\n",
       "  TRANSACTION_TYPE  FLOW   SF  SF_FIXED_FEE  SF_PERC_FEE  \n",
       "0      TRANSACTION  5.00 0.09          0.06         0.01  \n",
       "1      TRANSACTION 12.00 0.13          0.06         0.01  \n",
       "2      TRANSACTION  8.00 0.11          0.06         0.01  \n",
       "3      TRANSACTION  1.00 0.07          0.07         0.01  \n",
       "4      TRANSACTION  4.00 0.08          0.07         0.01  "
      ]
     },
     "execution_count": 205,
     "metadata": {},
     "output_type": "execute_result"
    }
   ],
   "source": [
    "bbbase.head()"
   ]
  },
  {
   "cell_type": "code",
   "execution_count": 206,
   "metadata": {
    "collapsed": false
   },
   "outputs": [
    {
     "name": "stdout",
     "output_type": "stream",
     "text": [
      "<class 'pandas.core.frame.DataFrame'>\n",
      "Int64Index: 118177 entries, 0 to 118176\n",
      "Data columns (total 16 columns):\n",
      "CONTRACT_ID              118177 non-null float64\n",
      "ISSUER_COUNTRY           118177 non-null object\n",
      "CARD_BRAND               118177 non-null object\n",
      "CLEARING_COUNTRY_NAME    118177 non-null object\n",
      "CREDIT_DEBIT             118177 non-null object\n",
      "CARD_TYPE                118177 non-null object\n",
      "BAMBORA_REF              118177 non-null object\n",
      "MONTH                    118177 non-null object\n",
      "DAY                      118177 non-null object\n",
      "YEAR                     118177 non-null object\n",
      "PERIOD                   118177 non-null object\n",
      "TRANSACTION_TYPE         118177 non-null object\n",
      "FLOW                     118177 non-null float64\n",
      "SF                       118177 non-null float64\n",
      "SF_FIXED_FEE             118177 non-null float64\n",
      "SF_PERC_FEE              118177 non-null float64\n",
      "dtypes: float64(5), object(11)\n",
      "memory usage: 15.3+ MB\n"
     ]
    }
   ],
   "source": [
    "bbbase.info()"
   ]
  },
  {
   "cell_type": "markdown",
   "metadata": {},
   "source": [
    "### Link AIB and Bambora"
   ]
  },
  {
   "cell_type": "code",
   "execution_count": 207,
   "metadata": {
    "collapsed": false
   },
   "outputs": [],
   "source": [
    "ab_bb_comp=pd.merge(bbbase,ab_df,on=['CONTRACT_ID','ISSUER_COUNTRY','CARD_BRAND','CLEARING_COUNTRY_NAME','CREDIT_DEBIT','CARD_TYPE','FLOW'],how='left',suffixes=('_BB','_AVG_AB'))"
   ]
  },
  {
   "cell_type": "code",
   "execution_count": 208,
   "metadata": {
    "collapsed": false
   },
   "outputs": [
    {
     "data": {
      "text/html": [
       "<div>\n",
       "<table border=\"1\" class=\"dataframe\">\n",
       "  <thead>\n",
       "    <tr style=\"text-align: right;\">\n",
       "      <th></th>\n",
       "      <th>CONTRACT_ID</th>\n",
       "      <th>ISSUER_COUNTRY</th>\n",
       "      <th>CARD_BRAND</th>\n",
       "      <th>CLEARING_COUNTRY_NAME</th>\n",
       "      <th>CREDIT_DEBIT</th>\n",
       "      <th>CARD_TYPE</th>\n",
       "      <th>BAMBORA_REF</th>\n",
       "      <th>MONTH</th>\n",
       "      <th>DAY</th>\n",
       "      <th>YEAR</th>\n",
       "      <th>PERIOD</th>\n",
       "      <th>TRANSACTION_TYPE</th>\n",
       "      <th>FLOW</th>\n",
       "      <th>SF_BB</th>\n",
       "      <th>SF_FIXED_FEE</th>\n",
       "      <th>SF_PERC_FEE</th>\n",
       "      <th>SF_AVG_AB</th>\n",
       "    </tr>\n",
       "  </thead>\n",
       "  <tbody>\n",
       "    <tr>\n",
       "      <th>0</th>\n",
       "      <td>1,946.00</td>\n",
       "      <td>Albania</td>\n",
       "      <td>Visa</td>\n",
       "      <td>Luxembourg</td>\n",
       "      <td>Credit</td>\n",
       "      <td>Consumer</td>\n",
       "      <td>74541097317024983622411</td>\n",
       "      <td>11</td>\n",
       "      <td>13</td>\n",
       "      <td>2017</td>\n",
       "      <td>2017-11</td>\n",
       "      <td>TRANSACTION</td>\n",
       "      <td>5.00</td>\n",
       "      <td>0.09</td>\n",
       "      <td>0.06</td>\n",
       "      <td>0.01</td>\n",
       "      <td>0.10</td>\n",
       "    </tr>\n",
       "    <tr>\n",
       "      <th>1</th>\n",
       "      <td>1,946.00</td>\n",
       "      <td>Albania</td>\n",
       "      <td>Visa</td>\n",
       "      <td>Luxembourg</td>\n",
       "      <td>Credit</td>\n",
       "      <td>Consumer</td>\n",
       "      <td>74541097317024983612529</td>\n",
       "      <td>11</td>\n",
       "      <td>13</td>\n",
       "      <td>2017</td>\n",
       "      <td>2017-11</td>\n",
       "      <td>TRANSACTION</td>\n",
       "      <td>12.00</td>\n",
       "      <td>0.13</td>\n",
       "      <td>0.06</td>\n",
       "      <td>0.01</td>\n",
       "      <td>0.14</td>\n",
       "    </tr>\n",
       "    <tr>\n",
       "      <th>2</th>\n",
       "      <td>1,946.00</td>\n",
       "      <td>Albania</td>\n",
       "      <td>Visa</td>\n",
       "      <td>Luxembourg</td>\n",
       "      <td>Credit</td>\n",
       "      <td>Consumer</td>\n",
       "      <td>74541097317024983727038</td>\n",
       "      <td>11</td>\n",
       "      <td>13</td>\n",
       "      <td>2017</td>\n",
       "      <td>2017-11</td>\n",
       "      <td>TRANSACTION</td>\n",
       "      <td>8.00</td>\n",
       "      <td>0.11</td>\n",
       "      <td>0.06</td>\n",
       "      <td>0.01</td>\n",
       "      <td>0.11</td>\n",
       "    </tr>\n",
       "    <tr>\n",
       "      <th>3</th>\n",
       "      <td>1,946.00</td>\n",
       "      <td>Albania</td>\n",
       "      <td>Visa</td>\n",
       "      <td>Luxembourg</td>\n",
       "      <td>Credit</td>\n",
       "      <td>Consumer</td>\n",
       "      <td>74541097317024984047204</td>\n",
       "      <td>11</td>\n",
       "      <td>13</td>\n",
       "      <td>2017</td>\n",
       "      <td>2017-11</td>\n",
       "      <td>TRANSACTION</td>\n",
       "      <td>1.00</td>\n",
       "      <td>0.07</td>\n",
       "      <td>0.07</td>\n",
       "      <td>0.01</td>\n",
       "      <td>0.08</td>\n",
       "    </tr>\n",
       "    <tr>\n",
       "      <th>4</th>\n",
       "      <td>1,946.00</td>\n",
       "      <td>Albania</td>\n",
       "      <td>Visa</td>\n",
       "      <td>Luxembourg</td>\n",
       "      <td>Credit</td>\n",
       "      <td>Consumer</td>\n",
       "      <td>74541097317024984169347</td>\n",
       "      <td>11</td>\n",
       "      <td>13</td>\n",
       "      <td>2017</td>\n",
       "      <td>2017-11</td>\n",
       "      <td>TRANSACTION</td>\n",
       "      <td>4.00</td>\n",
       "      <td>0.08</td>\n",
       "      <td>0.07</td>\n",
       "      <td>0.01</td>\n",
       "      <td>0.09</td>\n",
       "    </tr>\n",
       "  </tbody>\n",
       "</table>\n",
       "</div>"
      ],
      "text/plain": [
       "   CONTRACT_ID ISSUER_COUNTRY CARD_BRAND CLEARING_COUNTRY_NAME CREDIT_DEBIT  \\\n",
       "0     1,946.00        Albania       Visa            Luxembourg       Credit   \n",
       "1     1,946.00        Albania       Visa            Luxembourg       Credit   \n",
       "2     1,946.00        Albania       Visa            Luxembourg       Credit   \n",
       "3     1,946.00        Albania       Visa            Luxembourg       Credit   \n",
       "4     1,946.00        Albania       Visa            Luxembourg       Credit   \n",
       "\n",
       "  CARD_TYPE              BAMBORA_REF MONTH DAY  YEAR   PERIOD  \\\n",
       "0  Consumer  74541097317024983622411    11  13  2017  2017-11   \n",
       "1  Consumer  74541097317024983612529    11  13  2017  2017-11   \n",
       "2  Consumer  74541097317024983727038    11  13  2017  2017-11   \n",
       "3  Consumer  74541097317024984047204    11  13  2017  2017-11   \n",
       "4  Consumer  74541097317024984169347    11  13  2017  2017-11   \n",
       "\n",
       "  TRANSACTION_TYPE  FLOW  SF_BB  SF_FIXED_FEE  SF_PERC_FEE  SF_AVG_AB  \n",
       "0      TRANSACTION  5.00   0.09          0.06         0.01       0.10  \n",
       "1      TRANSACTION 12.00   0.13          0.06         0.01       0.14  \n",
       "2      TRANSACTION  8.00   0.11          0.06         0.01       0.11  \n",
       "3      TRANSACTION  1.00   0.07          0.07         0.01       0.08  \n",
       "4      TRANSACTION  4.00   0.08          0.07         0.01       0.09  "
      ]
     },
     "execution_count": 208,
     "metadata": {},
     "output_type": "execute_result"
    }
   ],
   "source": [
    "ab_bb_comp.head()"
   ]
  },
  {
   "cell_type": "markdown",
   "metadata": {},
   "source": [
    "## Insert the Signal logic"
   ]
  },
  {
   "cell_type": "code",
   "execution_count": 209,
   "metadata": {
    "collapsed": true
   },
   "outputs": [],
   "source": [
    "ab_bb_comp['SF_DIFF_%']=(ab_bb_comp['SF_BB']-ab_bb_comp['SF_AVG_AB'])/ab_bb_comp['SF_AVG_AB']\n",
    "\n",
    "ab_bb_comp['SIGNAL']=''\n",
    "ab_bb_comp['SIGNAL'][(ab_bb_comp['SF_DIFF_%']>.05)]='Signal'"
   ]
  },
  {
   "cell_type": "code",
   "execution_count": 210,
   "metadata": {
    "collapsed": false
   },
   "outputs": [
    {
     "data": {
      "text/html": [
       "<div>\n",
       "<table border=\"1\" class=\"dataframe\">\n",
       "  <thead>\n",
       "    <tr style=\"text-align: right;\">\n",
       "      <th></th>\n",
       "      <th>CONTRACT_ID</th>\n",
       "      <th>ISSUER_COUNTRY</th>\n",
       "      <th>CARD_BRAND</th>\n",
       "      <th>CLEARING_COUNTRY_NAME</th>\n",
       "      <th>CREDIT_DEBIT</th>\n",
       "      <th>CARD_TYPE</th>\n",
       "      <th>BAMBORA_REF</th>\n",
       "      <th>MONTH</th>\n",
       "      <th>DAY</th>\n",
       "      <th>YEAR</th>\n",
       "      <th>PERIOD</th>\n",
       "      <th>TRANSACTION_TYPE</th>\n",
       "      <th>FLOW</th>\n",
       "      <th>SF_BB</th>\n",
       "      <th>SF_FIXED_FEE</th>\n",
       "      <th>SF_PERC_FEE</th>\n",
       "      <th>SF_AVG_AB</th>\n",
       "      <th>SF_DIFF_%</th>\n",
       "      <th>SIGNAL</th>\n",
       "    </tr>\n",
       "  </thead>\n",
       "  <tbody>\n",
       "    <tr>\n",
       "      <th>0</th>\n",
       "      <td>1,946.00</td>\n",
       "      <td>Albania</td>\n",
       "      <td>Visa</td>\n",
       "      <td>Luxembourg</td>\n",
       "      <td>Credit</td>\n",
       "      <td>Consumer</td>\n",
       "      <td>74541097317024983622411</td>\n",
       "      <td>11</td>\n",
       "      <td>13</td>\n",
       "      <td>2017</td>\n",
       "      <td>2017-11</td>\n",
       "      <td>TRANSACTION</td>\n",
       "      <td>5.00</td>\n",
       "      <td>0.09</td>\n",
       "      <td>0.06</td>\n",
       "      <td>0.01</td>\n",
       "      <td>0.10</td>\n",
       "      <td>-0.07</td>\n",
       "      <td></td>\n",
       "    </tr>\n",
       "    <tr>\n",
       "      <th>1</th>\n",
       "      <td>1,946.00</td>\n",
       "      <td>Albania</td>\n",
       "      <td>Visa</td>\n",
       "      <td>Luxembourg</td>\n",
       "      <td>Credit</td>\n",
       "      <td>Consumer</td>\n",
       "      <td>74541097317024983612529</td>\n",
       "      <td>11</td>\n",
       "      <td>13</td>\n",
       "      <td>2017</td>\n",
       "      <td>2017-11</td>\n",
       "      <td>TRANSACTION</td>\n",
       "      <td>12.00</td>\n",
       "      <td>0.13</td>\n",
       "      <td>0.06</td>\n",
       "      <td>0.01</td>\n",
       "      <td>0.14</td>\n",
       "      <td>-0.04</td>\n",
       "      <td></td>\n",
       "    </tr>\n",
       "    <tr>\n",
       "      <th>2</th>\n",
       "      <td>1,946.00</td>\n",
       "      <td>Albania</td>\n",
       "      <td>Visa</td>\n",
       "      <td>Luxembourg</td>\n",
       "      <td>Credit</td>\n",
       "      <td>Consumer</td>\n",
       "      <td>74541097317024983727038</td>\n",
       "      <td>11</td>\n",
       "      <td>13</td>\n",
       "      <td>2017</td>\n",
       "      <td>2017-11</td>\n",
       "      <td>TRANSACTION</td>\n",
       "      <td>8.00</td>\n",
       "      <td>0.11</td>\n",
       "      <td>0.06</td>\n",
       "      <td>0.01</td>\n",
       "      <td>0.11</td>\n",
       "      <td>-0.06</td>\n",
       "      <td></td>\n",
       "    </tr>\n",
       "    <tr>\n",
       "      <th>3</th>\n",
       "      <td>1,946.00</td>\n",
       "      <td>Albania</td>\n",
       "      <td>Visa</td>\n",
       "      <td>Luxembourg</td>\n",
       "      <td>Credit</td>\n",
       "      <td>Consumer</td>\n",
       "      <td>74541097317024984047204</td>\n",
       "      <td>11</td>\n",
       "      <td>13</td>\n",
       "      <td>2017</td>\n",
       "      <td>2017-11</td>\n",
       "      <td>TRANSACTION</td>\n",
       "      <td>1.00</td>\n",
       "      <td>0.07</td>\n",
       "      <td>0.07</td>\n",
       "      <td>0.01</td>\n",
       "      <td>0.08</td>\n",
       "      <td>-0.17</td>\n",
       "      <td></td>\n",
       "    </tr>\n",
       "    <tr>\n",
       "      <th>4</th>\n",
       "      <td>1,946.00</td>\n",
       "      <td>Albania</td>\n",
       "      <td>Visa</td>\n",
       "      <td>Luxembourg</td>\n",
       "      <td>Credit</td>\n",
       "      <td>Consumer</td>\n",
       "      <td>74541097317024984169347</td>\n",
       "      <td>11</td>\n",
       "      <td>13</td>\n",
       "      <td>2017</td>\n",
       "      <td>2017-11</td>\n",
       "      <td>TRANSACTION</td>\n",
       "      <td>4.00</td>\n",
       "      <td>0.08</td>\n",
       "      <td>0.07</td>\n",
       "      <td>0.01</td>\n",
       "      <td>0.09</td>\n",
       "      <td>-0.10</td>\n",
       "      <td></td>\n",
       "    </tr>\n",
       "  </tbody>\n",
       "</table>\n",
       "</div>"
      ],
      "text/plain": [
       "   CONTRACT_ID ISSUER_COUNTRY CARD_BRAND CLEARING_COUNTRY_NAME CREDIT_DEBIT  \\\n",
       "0     1,946.00        Albania       Visa            Luxembourg       Credit   \n",
       "1     1,946.00        Albania       Visa            Luxembourg       Credit   \n",
       "2     1,946.00        Albania       Visa            Luxembourg       Credit   \n",
       "3     1,946.00        Albania       Visa            Luxembourg       Credit   \n",
       "4     1,946.00        Albania       Visa            Luxembourg       Credit   \n",
       "\n",
       "  CARD_TYPE              BAMBORA_REF MONTH DAY  YEAR   PERIOD  \\\n",
       "0  Consumer  74541097317024983622411    11  13  2017  2017-11   \n",
       "1  Consumer  74541097317024983612529    11  13  2017  2017-11   \n",
       "2  Consumer  74541097317024983727038    11  13  2017  2017-11   \n",
       "3  Consumer  74541097317024984047204    11  13  2017  2017-11   \n",
       "4  Consumer  74541097317024984169347    11  13  2017  2017-11   \n",
       "\n",
       "  TRANSACTION_TYPE  FLOW  SF_BB  SF_FIXED_FEE  SF_PERC_FEE  SF_AVG_AB  \\\n",
       "0      TRANSACTION  5.00   0.09          0.06         0.01       0.10   \n",
       "1      TRANSACTION 12.00   0.13          0.06         0.01       0.14   \n",
       "2      TRANSACTION  8.00   0.11          0.06         0.01       0.11   \n",
       "3      TRANSACTION  1.00   0.07          0.07         0.01       0.08   \n",
       "4      TRANSACTION  4.00   0.08          0.07         0.01       0.09   \n",
       "\n",
       "   SF_DIFF_% SIGNAL  \n",
       "0      -0.07         \n",
       "1      -0.04         \n",
       "2      -0.06         \n",
       "3      -0.17         \n",
       "4      -0.10         "
      ]
     },
     "execution_count": 210,
     "metadata": {},
     "output_type": "execute_result"
    }
   ],
   "source": [
    "ab_bb_comp.head()"
   ]
  },
  {
   "cell_type": "markdown",
   "metadata": {},
   "source": [
    "### Final Output"
   ]
  },
  {
   "cell_type": "code",
   "execution_count": 211,
   "metadata": {
    "collapsed": true
   },
   "outputs": [],
   "source": [
    "ab_bb_comp=ab_bb_comp[['BAMBORA_REF','TRANSACTION_TYPE','CONTRACT_ID','MONTH','DAY','YEAR','PERIOD'\n",
    "                       ,'CARD_BRAND','CARD_TYPE','CREDIT_DEBIT','ISSUER_COUNTRY','CLEARING_COUNTRY_NAME'\n",
    "                       ,'FLOW','SF_FIXED_FEE','SF_PERC_FEE','SF_BB','SF_AVG_AB','SF_DIFF_%','SIGNAL']]"
   ]
  },
  {
   "cell_type": "code",
   "execution_count": 212,
   "metadata": {
    "collapsed": false
   },
   "outputs": [
    {
     "data": {
      "text/html": [
       "<div>\n",
       "<table border=\"1\" class=\"dataframe\">\n",
       "  <thead>\n",
       "    <tr style=\"text-align: right;\">\n",
       "      <th></th>\n",
       "      <th>BAMBORA_REF</th>\n",
       "      <th>TRANSACTION_TYPE</th>\n",
       "      <th>CONTRACT_ID</th>\n",
       "      <th>MONTH</th>\n",
       "      <th>DAY</th>\n",
       "      <th>YEAR</th>\n",
       "      <th>PERIOD</th>\n",
       "      <th>CARD_BRAND</th>\n",
       "      <th>CARD_TYPE</th>\n",
       "      <th>CREDIT_DEBIT</th>\n",
       "      <th>ISSUER_COUNTRY</th>\n",
       "      <th>CLEARING_COUNTRY_NAME</th>\n",
       "      <th>FLOW</th>\n",
       "      <th>SF_FIXED_FEE</th>\n",
       "      <th>SF_PERC_FEE</th>\n",
       "      <th>SF_BB</th>\n",
       "      <th>SF_AVG_AB</th>\n",
       "      <th>SF_DIFF_%</th>\n",
       "      <th>SIGNAL</th>\n",
       "    </tr>\n",
       "  </thead>\n",
       "  <tbody>\n",
       "    <tr>\n",
       "      <th>0</th>\n",
       "      <td>74541097317024983622411</td>\n",
       "      <td>TRANSACTION</td>\n",
       "      <td>1,946.00</td>\n",
       "      <td>11</td>\n",
       "      <td>13</td>\n",
       "      <td>2017</td>\n",
       "      <td>2017-11</td>\n",
       "      <td>Visa</td>\n",
       "      <td>Consumer</td>\n",
       "      <td>Credit</td>\n",
       "      <td>Albania</td>\n",
       "      <td>Luxembourg</td>\n",
       "      <td>5.00</td>\n",
       "      <td>0.06</td>\n",
       "      <td>0.01</td>\n",
       "      <td>0.09</td>\n",
       "      <td>0.10</td>\n",
       "      <td>-0.07</td>\n",
       "      <td></td>\n",
       "    </tr>\n",
       "    <tr>\n",
       "      <th>1</th>\n",
       "      <td>74541097317024983612529</td>\n",
       "      <td>TRANSACTION</td>\n",
       "      <td>1,946.00</td>\n",
       "      <td>11</td>\n",
       "      <td>13</td>\n",
       "      <td>2017</td>\n",
       "      <td>2017-11</td>\n",
       "      <td>Visa</td>\n",
       "      <td>Consumer</td>\n",
       "      <td>Credit</td>\n",
       "      <td>Albania</td>\n",
       "      <td>Luxembourg</td>\n",
       "      <td>12.00</td>\n",
       "      <td>0.06</td>\n",
       "      <td>0.01</td>\n",
       "      <td>0.13</td>\n",
       "      <td>0.14</td>\n",
       "      <td>-0.04</td>\n",
       "      <td></td>\n",
       "    </tr>\n",
       "    <tr>\n",
       "      <th>2</th>\n",
       "      <td>74541097317024983727038</td>\n",
       "      <td>TRANSACTION</td>\n",
       "      <td>1,946.00</td>\n",
       "      <td>11</td>\n",
       "      <td>13</td>\n",
       "      <td>2017</td>\n",
       "      <td>2017-11</td>\n",
       "      <td>Visa</td>\n",
       "      <td>Consumer</td>\n",
       "      <td>Credit</td>\n",
       "      <td>Albania</td>\n",
       "      <td>Luxembourg</td>\n",
       "      <td>8.00</td>\n",
       "      <td>0.06</td>\n",
       "      <td>0.01</td>\n",
       "      <td>0.11</td>\n",
       "      <td>0.11</td>\n",
       "      <td>-0.06</td>\n",
       "      <td></td>\n",
       "    </tr>\n",
       "    <tr>\n",
       "      <th>3</th>\n",
       "      <td>74541097317024984047204</td>\n",
       "      <td>TRANSACTION</td>\n",
       "      <td>1,946.00</td>\n",
       "      <td>11</td>\n",
       "      <td>13</td>\n",
       "      <td>2017</td>\n",
       "      <td>2017-11</td>\n",
       "      <td>Visa</td>\n",
       "      <td>Consumer</td>\n",
       "      <td>Credit</td>\n",
       "      <td>Albania</td>\n",
       "      <td>Luxembourg</td>\n",
       "      <td>1.00</td>\n",
       "      <td>0.07</td>\n",
       "      <td>0.01</td>\n",
       "      <td>0.07</td>\n",
       "      <td>0.08</td>\n",
       "      <td>-0.17</td>\n",
       "      <td></td>\n",
       "    </tr>\n",
       "    <tr>\n",
       "      <th>4</th>\n",
       "      <td>74541097317024984169347</td>\n",
       "      <td>TRANSACTION</td>\n",
       "      <td>1,946.00</td>\n",
       "      <td>11</td>\n",
       "      <td>13</td>\n",
       "      <td>2017</td>\n",
       "      <td>2017-11</td>\n",
       "      <td>Visa</td>\n",
       "      <td>Consumer</td>\n",
       "      <td>Credit</td>\n",
       "      <td>Albania</td>\n",
       "      <td>Luxembourg</td>\n",
       "      <td>4.00</td>\n",
       "      <td>0.07</td>\n",
       "      <td>0.01</td>\n",
       "      <td>0.08</td>\n",
       "      <td>0.09</td>\n",
       "      <td>-0.10</td>\n",
       "      <td></td>\n",
       "    </tr>\n",
       "  </tbody>\n",
       "</table>\n",
       "</div>"
      ],
      "text/plain": [
       "               BAMBORA_REF TRANSACTION_TYPE  CONTRACT_ID MONTH DAY  YEAR  \\\n",
       "0  74541097317024983622411      TRANSACTION     1,946.00    11  13  2017   \n",
       "1  74541097317024983612529      TRANSACTION     1,946.00    11  13  2017   \n",
       "2  74541097317024983727038      TRANSACTION     1,946.00    11  13  2017   \n",
       "3  74541097317024984047204      TRANSACTION     1,946.00    11  13  2017   \n",
       "4  74541097317024984169347      TRANSACTION     1,946.00    11  13  2017   \n",
       "\n",
       "    PERIOD CARD_BRAND CARD_TYPE CREDIT_DEBIT ISSUER_COUNTRY  \\\n",
       "0  2017-11       Visa  Consumer       Credit        Albania   \n",
       "1  2017-11       Visa  Consumer       Credit        Albania   \n",
       "2  2017-11       Visa  Consumer       Credit        Albania   \n",
       "3  2017-11       Visa  Consumer       Credit        Albania   \n",
       "4  2017-11       Visa  Consumer       Credit        Albania   \n",
       "\n",
       "  CLEARING_COUNTRY_NAME  FLOW  SF_FIXED_FEE  SF_PERC_FEE  SF_BB  SF_AVG_AB  \\\n",
       "0            Luxembourg  5.00          0.06         0.01   0.09       0.10   \n",
       "1            Luxembourg 12.00          0.06         0.01   0.13       0.14   \n",
       "2            Luxembourg  8.00          0.06         0.01   0.11       0.11   \n",
       "3            Luxembourg  1.00          0.07         0.01   0.07       0.08   \n",
       "4            Luxembourg  4.00          0.07         0.01   0.08       0.09   \n",
       "\n",
       "   SF_DIFF_% SIGNAL  \n",
       "0      -0.07         \n",
       "1      -0.04         \n",
       "2      -0.06         \n",
       "3      -0.17         \n",
       "4      -0.10         "
      ]
     },
     "execution_count": 212,
     "metadata": {},
     "output_type": "execute_result"
    }
   ],
   "source": [
    "ab_bb_comp.head()"
   ]
  },
  {
   "cell_type": "code",
   "execution_count": 226,
   "metadata": {
    "collapsed": false
   },
   "outputs": [
    {
     "name": "stdout",
     "output_type": "stream",
     "text": [
      "total transactions\n",
      "118177\n",
      "total signals\n",
      "2523\n"
     ]
    }
   ],
   "source": [
    "print 'total transactions'\n",
    "print ab_bb_comp['BAMBORA_REF'].count()\n",
    "print 'total signals'\n",
    "print ab_bb_comp['BAMBORA_REF'][(ab_bb_comp['SIGNAL']=='Signal')].count()"
   ]
  },
  {
   "cell_type": "code",
   "execution_count": 214,
   "metadata": {
    "collapsed": false
   },
   "outputs": [],
   "source": [
    "ab_bb_comp.to_csv('d:\\\\djohnson\\\\Desktop\\\\ab_bb_comp.csv')"
   ]
  }
 ],
 "metadata": {
  "anaconda-cloud": {},
  "kernelspec": {
   "display_name": "Python 2",
   "language": "python",
   "name": "python2"
  },
  "language_info": {
   "codemirror_mode": {
    "name": "ipython",
    "version": 2
   },
   "file_extension": ".py",
   "mimetype": "text/x-python",
   "name": "python",
   "nbconvert_exporter": "python",
   "pygments_lexer": "ipython2",
   "version": "2.7.12"
  }
 },
 "nbformat": 4,
 "nbformat_minor": 2
}
