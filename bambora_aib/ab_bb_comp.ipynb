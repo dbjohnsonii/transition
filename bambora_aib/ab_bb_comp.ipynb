{
 "cells": [
  {
   "cell_type": "markdown",
   "metadata": {},
   "source": [
    "# AIB to Bambora SF Cost Comparison Application"
   ]
  },
  {
   "cell_type": "code",
   "execution_count": 1,
   "metadata": {
    "collapsed": false
   },
   "outputs": [
    {
     "data": {
      "text/html": [
       "<style>.container { width:95% !important; }</style>"
      ],
      "text/plain": [
       "<IPython.core.display.HTML object>"
      ]
     },
     "metadata": {},
     "output_type": "display_data"
    }
   ],
   "source": [
    "from IPython.core.display import display, HTML\n",
    "display(HTML(\"<style>.container { width:95% !important; }</style>\"))"
   ]
  },
  {
   "cell_type": "markdown",
   "metadata": {},
   "source": [
    "## Import the Necessary Libraries\n",
    "Below are the libraries required to assemble the project."
   ]
  },
  {
   "cell_type": "code",
   "execution_count": 2,
   "metadata": {
    "collapsed": false
   },
   "outputs": [],
   "source": [
    "import sys\n",
    "import pandas as pd\n",
    "import seaborn as sns\n",
    "import numpy as np\n",
    "from sklearn import metrics\n",
    "#from sklearn.model_selection import GridSearchCV\n",
    "from sklearn.metrics import precision_recall_curve\n",
    "from sklearn.ensemble import RandomForestClassifier\n",
    "from sklearn.linear_model import LogisticRegression\n",
    "from sklearn.cross_validation import train_test_split, cross_val_score\n",
    "from sklearn.metrics import accuracy_score, make_scorer\n",
    "from sklearn.metrics import roc_curve, roc_auc_score\n",
    "from sklearn.metrics import confusion_matrix\n",
    "from sklearn.metrics import classification_report\n",
    "from sklearn.metrics import average_precision_score\n",
    "%matplotlib inline\n",
    "from matplotlib import pyplot as plt"
   ]
  },
  {
   "cell_type": "code",
   "execution_count": 3,
   "metadata": {
    "collapsed": true
   },
   "outputs": [],
   "source": [
    "import cx_Oracle\n",
    "conn=cx_Oracle.connect('djohnson','RhiBae01!','ODSPEU1.ams')"
   ]
  },
  {
   "cell_type": "code",
   "execution_count": 4,
   "metadata": {
    "collapsed": false
   },
   "outputs": [
    {
     "name": "stderr",
     "output_type": "stream",
     "text": [
      "ERROR:root:An unexpected error occurred while tokenizing input\n",
      "The following traceback may be corrupted or invalid\n",
      "The error message is: ('EOF in multi-line string', (1, 0))\n",
      "\n"
     ]
    },
    {
     "ename": "OperationalError",
     "evalue": "ORA-03113: end-of-file on communication channel\nProcess ID: 330225\nSession ID: 1455 Serial number: 42281",
     "output_type": "error",
     "traceback": [
      "\u001b[0;31m\u001b[0m",
      "\u001b[0;31mOperationalError\u001b[0mTraceback (most recent call last)",
      "\u001b[0;32m<ipython-input-4-b5892a26189c>\u001b[0m in \u001b[0;36m<module>\u001b[0;34m()\u001b[0m\n\u001b[1;32m     13\u001b[0m \u001b[0mWHERE\u001b[0m \u001b[0mbb\u001b[0m\u001b[1;33m.\u001b[0m\u001b[0mTRANSACTION_TYPE\u001b[0m\u001b[1;33m=\u001b[0m\u001b[1;34m'TRANSACTION'\u001b[0m\u001b[1;33m\u001b[0m\u001b[0m\n\u001b[1;32m     14\u001b[0m \u001b[0mAND\u001b[0m \u001b[0mbb\u001b[0m\u001b[1;33m.\u001b[0m\u001b[0mSETTLEMENT_DATE\u001b[0m \u001b[0mBETWEEN\u001b[0m \u001b[0mTO_DATE\u001b[0m\u001b[1;33m(\u001b[0m\u001b[1;34m'01-01-2018'\u001b[0m\u001b[1;33m,\u001b[0m\u001b[1;34m'MM-DD-YYYY'\u001b[0m\u001b[1;33m)\u001b[0m \u001b[0mAND\u001b[0m \u001b[0mTO_DATE\u001b[0m\u001b[1;33m(\u001b[0m\u001b[1;34m'02-22-2018'\u001b[0m\u001b[1;33m,\u001b[0m\u001b[1;34m'MM-DD-YYYY'\u001b[0m\u001b[1;33m)\u001b[0m\u001b[1;33m\u001b[0m\u001b[0m\n\u001b[0;32m---> 15\u001b[0;31m ''',conn)\n\u001b[0m",
      "\u001b[0;32mC:\\Users\\djohnson\\AppData\\Local\\Continuum\\Anaconda2\\lib\\site-packages\\pandas\\io\\sql.pyc\u001b[0m in \u001b[0;36mread_sql\u001b[0;34m(sql, con, index_col, coerce_float, params, parse_dates, columns, chunksize)\u001b[0m\n\u001b[1;32m    497\u001b[0m             \u001b[0msql\u001b[0m\u001b[1;33m,\u001b[0m \u001b[0mindex_col\u001b[0m\u001b[1;33m=\u001b[0m\u001b[0mindex_col\u001b[0m\u001b[1;33m,\u001b[0m \u001b[0mparams\u001b[0m\u001b[1;33m=\u001b[0m\u001b[0mparams\u001b[0m\u001b[1;33m,\u001b[0m\u001b[1;33m\u001b[0m\u001b[0m\n\u001b[1;32m    498\u001b[0m             \u001b[0mcoerce_float\u001b[0m\u001b[1;33m=\u001b[0m\u001b[0mcoerce_float\u001b[0m\u001b[1;33m,\u001b[0m \u001b[0mparse_dates\u001b[0m\u001b[1;33m=\u001b[0m\u001b[0mparse_dates\u001b[0m\u001b[1;33m,\u001b[0m\u001b[1;33m\u001b[0m\u001b[0m\n\u001b[0;32m--> 499\u001b[0;31m             chunksize=chunksize)\n\u001b[0m\u001b[1;32m    500\u001b[0m \u001b[1;33m\u001b[0m\u001b[0m\n\u001b[1;32m    501\u001b[0m     \u001b[1;32mtry\u001b[0m\u001b[1;33m:\u001b[0m\u001b[1;33m\u001b[0m\u001b[0m\n",
      "\u001b[0;32mC:\\Users\\djohnson\\AppData\\Local\\Continuum\\Anaconda2\\lib\\site-packages\\pandas\\io\\sql.pyc\u001b[0m in \u001b[0;36mread_query\u001b[0;34m(self, sql, index_col, coerce_float, params, parse_dates, chunksize)\u001b[0m\n\u001b[1;32m   1606\u001b[0m                                         parse_dates=parse_dates)\n\u001b[1;32m   1607\u001b[0m         \u001b[1;32melse\u001b[0m\u001b[1;33m:\u001b[0m\u001b[1;33m\u001b[0m\u001b[0m\n\u001b[0;32m-> 1608\u001b[0;31m             \u001b[0mdata\u001b[0m \u001b[1;33m=\u001b[0m \u001b[0mself\u001b[0m\u001b[1;33m.\u001b[0m\u001b[0m_fetchall_as_list\u001b[0m\u001b[1;33m(\u001b[0m\u001b[0mcursor\u001b[0m\u001b[1;33m)\u001b[0m\u001b[1;33m\u001b[0m\u001b[0m\n\u001b[0m\u001b[1;32m   1609\u001b[0m             \u001b[0mcursor\u001b[0m\u001b[1;33m.\u001b[0m\u001b[0mclose\u001b[0m\u001b[1;33m(\u001b[0m\u001b[1;33m)\u001b[0m\u001b[1;33m\u001b[0m\u001b[0m\n\u001b[1;32m   1610\u001b[0m \u001b[1;33m\u001b[0m\u001b[0m\n",
      "\u001b[0;32mC:\\Users\\djohnson\\AppData\\Local\\Continuum\\Anaconda2\\lib\\site-packages\\pandas\\io\\sql.pyc\u001b[0m in \u001b[0;36m_fetchall_as_list\u001b[0;34m(self, cur)\u001b[0m\n\u001b[1;32m   1615\u001b[0m \u001b[1;33m\u001b[0m\u001b[0m\n\u001b[1;32m   1616\u001b[0m     \u001b[1;32mdef\u001b[0m \u001b[0m_fetchall_as_list\u001b[0m\u001b[1;33m(\u001b[0m\u001b[0mself\u001b[0m\u001b[1;33m,\u001b[0m \u001b[0mcur\u001b[0m\u001b[1;33m)\u001b[0m\u001b[1;33m:\u001b[0m\u001b[1;33m\u001b[0m\u001b[0m\n\u001b[0;32m-> 1617\u001b[0;31m         \u001b[0mresult\u001b[0m \u001b[1;33m=\u001b[0m \u001b[0mcur\u001b[0m\u001b[1;33m.\u001b[0m\u001b[0mfetchall\u001b[0m\u001b[1;33m(\u001b[0m\u001b[1;33m)\u001b[0m\u001b[1;33m\u001b[0m\u001b[0m\n\u001b[0m\u001b[1;32m   1618\u001b[0m         \u001b[1;32mif\u001b[0m \u001b[1;32mnot\u001b[0m \u001b[0misinstance\u001b[0m\u001b[1;33m(\u001b[0m\u001b[0mresult\u001b[0m\u001b[1;33m,\u001b[0m \u001b[0mlist\u001b[0m\u001b[1;33m)\u001b[0m\u001b[1;33m:\u001b[0m\u001b[1;33m\u001b[0m\u001b[0m\n\u001b[1;32m   1619\u001b[0m             \u001b[0mresult\u001b[0m \u001b[1;33m=\u001b[0m \u001b[0mlist\u001b[0m\u001b[1;33m(\u001b[0m\u001b[0mresult\u001b[0m\u001b[1;33m)\u001b[0m\u001b[1;33m\u001b[0m\u001b[0m\n",
      "\u001b[0;31mOperationalError\u001b[0m: ORA-03113: end-of-file on communication channel\nProcess ID: 330225\nSession ID: 1455 Serial number: 42281"
     ]
    }
   ],
   "source": [
    "ab=pd.read_sql('''\n",
    "SELECT \n",
    "bb.BAMBORA_REF\n",
    ",TO_CHAR(bb.SETTLEMENT_DATE, 'MM') AS MONTH\n",
    ",TO_CHAR(bb.SETTLEMENT_DATE, 'DD') AS DAY\n",
    ",TO_CHAR(bb.SETTLEMENT_DATE, 'YYYY') AS YEAR\n",
    ",TO_CHAR(bb.SETTLEMENT_DATE,'YYYY-MM') AS PERIOD\n",
    ",bb.CONTRACT_ID,bb.ISSUER_COUNTRY_NAME, bb.MERCHANT_COUNTRY_NAME,bb.TRANSACTION_TYPE,bb.CARD_SCHEME,bb.CREDIT_DEBIT,bb.CONSUMER_CORPORATE,bb.REGIONALITY\n",
    ",bb.SF_FIXED_FEE,bb.SF_PERC_FEE,bb.TRANSACTION_TYPE AS B_TRANSACTION_TYPE,bb.CONSUMER_CORPORATE AS C_TYPE\n",
    ",bb.VOLUME AS VOLUME,ROUND(bb.TRANSACTION_AMOUNT_EUR) AS FLOW,bb.SCHEME_TOTAL_FEE_EUR AS SF,bb.TRANSACTION_AMOUNT_EUR\n",
    ",BB.INTERCHANGE_TOTAL_FEE_EUR,BB.INTERCHANGE_TOTAL_FEE_EUR/bb.TRANSACTION_AMOUNT_EUR AS IC_BPS,BB.SCHEME_TOTAL_FEE_EUR/bb.TRANSACTION_AMOUNT_EUR AS SF_BPS\n",
    "FROM fdwo.acquirer_bambora_cost bb\n",
    "WHERE bb.TRANSACTION_TYPE='TRANSACTION'\n",
    "AND bb.SETTLEMENT_DATE BETWEEN TO_DATE('01-01-2018','MM-DD-YYYY') AND TO_DATE('02-22-2018','MM-DD-YYYY')\n",
    "''',conn)"
   ]
  },
  {
   "cell_type": "markdown",
   "metadata": {},
   "source": [
    "## AIB Import"
   ]
  },
  {
   "cell_type": "code",
   "execution_count": 3,
   "metadata": {
    "collapsed": false
   },
   "outputs": [],
   "source": [
    "ab=pd.read_csv('d:\\\\djohnson\\\\Desktop\\\\aib.txt',sep=';')"
   ]
  },
  {
   "cell_type": "markdown",
   "metadata": {},
   "source": [
    "## BB Import"
   ]
  },
  {
   "cell_type": "code",
   "execution_count": 33,
   "metadata": {
    "collapsed": false
   },
   "outputs": [],
   "source": [
    "bb=pd.read_csv('d:\\\\djohnson\\\\Desktop\\\\bb.txt',sep=';')"
   ]
  },
  {
   "cell_type": "markdown",
   "metadata": {},
   "source": [
    "## Create a Working Copy of the Bambora Data"
   ]
  },
  {
   "cell_type": "code",
   "execution_count": 34,
   "metadata": {
    "collapsed": false
   },
   "outputs": [],
   "source": [
    "bb1=bb.copy() #create working copy of the Bambora data"
   ]
  },
  {
   "cell_type": "markdown",
   "metadata": {},
   "source": [
    "## Rename Columns to Allow for Merge"
   ]
  },
  {
   "cell_type": "code",
   "execution_count": 36,
   "metadata": {
    "collapsed": true
   },
   "outputs": [],
   "source": [
    "bb1=bb1.rename(columns={'ISSUER_COUNTRY_NAME':'ISSUER_COUNTRY','MERCHANT_COUNTRY_NAME':'CLEARING_COUNTRY_NAME','CONSUMER_CORPORATE':'CARD_TYPE','CARD_SCHEME':'CARD_BRAND'})"
   ]
  },
  {
   "cell_type": "code",
   "execution_count": 39,
   "metadata": {
    "collapsed": false
   },
   "outputs": [
    {
     "name": "stdout",
     "output_type": "stream",
     "text": [
      "               BAMBORA_REF  MONTH  DAY  YEAR   PERIOD  CONTRACT_ID  \\\n",
      "0  74541098005025577288894      1    5  2018  2018-01         4235   \n",
      "1  74541098005025577272203      1    5  2018  2018-01         4235   \n",
      "2  25481048005025577280940      1    5  2018  2018-01         4235   \n",
      "3  25481048005025577280635      1    5  2018  2018-01         4235   \n",
      "4  74541098005025577277210      1    5  2018  2018-01         4235   \n",
      "\n",
      "              ISSUER_COUNTRY CLEARING_COUNTRY_NAME TRANSACTION_TYPE  \\\n",
      "0                    Ukraine               Germany      TRANSACTION   \n",
      "1                  Argentina               Germany      TRANSACTION   \n",
      "2                    Ukraine               Germany      TRANSACTION   \n",
      "3  Taiwan, Province of China               Germany      TRANSACTION   \n",
      "4                     Israel               Germany      TRANSACTION   \n",
      "\n",
      "   CARD_BRAND    ...    SF_PERC_FEE B_TRANSACTION_TYPE    C_TYPE  VOLUME  \\\n",
      "0        Visa    ...       0.005669        TRANSACTION  Consumer       1   \n",
      "1        Visa    ...       0.005712        TRANSACTION  Consumer       1   \n",
      "2  Mastercard    ...       0.006725        TRANSACTION  Consumer       1   \n",
      "3  Mastercard    ...       0.006749        TRANSACTION  Consumer       1   \n",
      "4        Visa    ...       0.000340        TRANSACTION  Consumer       1   \n",
      "\n",
      "   FLOW        SF TRANSACTION_AMOUNT_EUR  INTERCHANGE_TOTAL_FEE_EUR    IC_BPS  \\\n",
      "0    21  0.069870              20.611746                   0.066875  0.003245   \n",
      "1     4  0.051758               4.090972                   0.011105  0.002715   \n",
      "2    21  0.044850              20.611746                   0.060959  0.002957   \n",
      "3    17  0.285662              16.753001                   0.339683  0.020276   \n",
      "4     7  0.053787               7.125204                   0.023700  0.003326   \n",
      "\n",
      "     SF_BPS  \n",
      "0  0.003390  \n",
      "1  0.012652  \n",
      "2  0.002176  \n",
      "3  0.017051  \n",
      "4  0.007549  \n",
      "\n",
      "[5 rows x 24 columns]\n"
     ]
    }
   ],
   "source": [
    "print bb1.head()"
   ]
  },
  {
   "cell_type": "markdown",
   "metadata": {},
   "source": [
    "## Indentify Congruent Lanes"
   ]
  },
  {
   "cell_type": "code",
   "execution_count": 13,
   "metadata": {
    "collapsed": false
   },
   "outputs": [],
   "source": [
    "bb1_contracts=bb1[['CONTRACT_ID','ISSUER_COUNTRY','CLEARING_COUNTRY_NAME','CARD_BRAND','CREDIT_DEBIT','CARD_TYPE']].drop_duplicates()"
   ]
  },
  {
   "cell_type": "markdown",
   "metadata": {},
   "source": [
    "### Remove Excess Naming"
   ]
  },
  {
   "cell_type": "code",
   "execution_count": 14,
   "metadata": {
    "collapsed": false
   },
   "outputs": [],
   "source": [
    "ab=ab.drop(['TRANSACTION_TYPE','TRANSACTION_DATE'],axis=1)"
   ]
  },
  {
   "cell_type": "code",
   "execution_count": 15,
   "metadata": {
    "collapsed": false
   },
   "outputs": [
    {
     "name": "stdout",
     "output_type": "stream",
     "text": [
      "   CONTRACT_ID       ISSUER_COUNTRY  CARD_BRAND CLEARING_COUNTRY_NAME  FLOW  \\\n",
      "0         1400               Panama        Visa                Poland    11   \n",
      "1         4382  Korea - Republic of  MasterCard               Hungary    92   \n",
      "2           12                Spain        Visa                Poland     2   \n",
      "3           12               Poland        Visa                Poland     2   \n",
      "4         4382               Taiwan        Visa               Hungary   220   \n",
      "\n",
      "         SF    IC_EUR  INTERCHANGE_RATE_AMOUNT  INTERCHANGE_RATE_PERC  \\\n",
      "0  0.129730  0.172904                      0.0                   1.60   \n",
      "1  0.641318  1.476270                      0.0                   1.60   \n",
      "2  0.020155  0.003100                      0.0                   0.20   \n",
      "3  0.020157  0.003140                      0.0                   0.20   \n",
      "4  1.274438  4.313791                      0.0                   1.97   \n",
      "\n",
      "     IC_BPS CREDIT_DEBIT CARD_TYPE  \n",
      "0  0.015719       Credit  Consumer  \n",
      "1  0.016046        Debit  Consumer  \n",
      "2  0.001550        Debit  Consumer  \n",
      "3  0.001570        Debit  Consumer  \n",
      "4  0.019608       Credit  Consumer  \n"
     ]
    }
   ],
   "source": [
    "print ab.head()"
   ]
  },
  {
   "cell_type": "markdown",
   "metadata": {},
   "source": [
    "## Attach AIB Lanes to Active Bambora Lanes \n",
    "This is a left join that will show all active Bambora lanes on only those AIB lanes where there is congruence."
   ]
  },
  {
   "cell_type": "code",
   "execution_count": 16,
   "metadata": {
    "collapsed": false
   },
   "outputs": [],
   "source": [
    "ab_df=pd.merge(bb1_contracts,ab,on=['CONTRACT_ID','ISSUER_COUNTRY','CLEARING_COUNTRY_NAME','CARD_BRAND','CREDIT_DEBIT','CARD_TYPE'],how='left')"
   ]
  },
  {
   "cell_type": "code",
   "execution_count": 17,
   "metadata": {
    "collapsed": true
   },
   "outputs": [],
   "source": [
    "bb1_contracts=None #clear the merge data\n",
    "ab=None #clear the merge data"
   ]
  },
  {
   "cell_type": "markdown",
   "metadata": {},
   "source": [
    "### Only show those lanes where there is activity for AIB and Bambora\n",
    "This is done but filtering to only those results that have scheme fee information"
   ]
  },
  {
   "cell_type": "code",
   "execution_count": 18,
   "metadata": {
    "collapsed": false
   },
   "outputs": [],
   "source": [
    "ab_df=ab_df[(ab_df['SF']>0)].drop_duplicates()"
   ]
  },
  {
   "cell_type": "markdown",
   "metadata": {},
   "source": [
    "### Only Show the Median aggregated by lane, contract ID, Credit/Debit and Card type, Flow"
   ]
  },
  {
   "cell_type": "code",
   "execution_count": 19,
   "metadata": {
    "collapsed": false
   },
   "outputs": [],
   "source": [
    "ab_df=ab_df.groupby(['CONTRACT_ID','ISSUER_COUNTRY','CARD_BRAND','CLEARING_COUNTRY_NAME','CREDIT_DEBIT','CARD_TYPE','FLOW'],as_index=False)['SF'].median()"
   ]
  },
  {
   "cell_type": "code",
   "execution_count": 20,
   "metadata": {
    "collapsed": false
   },
   "outputs": [
    {
     "name": "stdout",
     "output_type": "stream",
     "text": [
      "   CONTRACT_ID      ISSUER_COUNTRY CARD_BRAND CLEARING_COUNTRY_NAME  \\\n",
      "0         1946  Russian Federation       Visa            Luxembourg   \n",
      "1         1946  Russian Federation       Visa            Luxembourg   \n",
      "2         1946  Russian Federation       Visa            Luxembourg   \n",
      "3         1946  Russian Federation       Visa            Luxembourg   \n",
      "4         1946  Russian Federation       Visa            Luxembourg   \n",
      "\n",
      "  CREDIT_DEBIT CARD_TYPE  FLOW        SF  \n",
      "0        Debit  Consumer   0.0  0.080190  \n",
      "1        Debit  Consumer   1.0  0.080962  \n",
      "2        Debit  Consumer   2.0  0.081890  \n",
      "3        Debit  Consumer   3.0  0.086201  \n",
      "4        Debit  Consumer   4.0  0.090757  \n"
     ]
    }
   ],
   "source": [
    "print ab_df.head()"
   ]
  },
  {
   "cell_type": "code",
   "execution_count": 21,
   "metadata": {
    "collapsed": false
   },
   "outputs": [
    {
     "name": "stdout",
     "output_type": "stream",
     "text": [
      "<class 'pandas.core.frame.DataFrame'>\n",
      "Int64Index: 100 entries, 0 to 99\n",
      "Data columns (total 8 columns):\n",
      "CONTRACT_ID              100 non-null int64\n",
      "ISSUER_COUNTRY           100 non-null object\n",
      "CARD_BRAND               100 non-null object\n",
      "CLEARING_COUNTRY_NAME    100 non-null object\n",
      "CREDIT_DEBIT             100 non-null object\n",
      "CARD_TYPE                100 non-null object\n",
      "FLOW                     100 non-null float64\n",
      "SF                       100 non-null float64\n",
      "dtypes: float64(2), int64(1), object(5)\n",
      "memory usage: 7.0+ KB\n"
     ]
    }
   ],
   "source": [
    "ab_df.info()"
   ]
  },
  {
   "cell_type": "markdown",
   "metadata": {},
   "source": [
    "## Setup the Bambora Baseline Lanes, Flows, and SFs"
   ]
  },
  {
   "cell_type": "code",
   "execution_count": 22,
   "metadata": {
    "collapsed": false
   },
   "outputs": [],
   "source": [
    "base=ab_df.drop(['FLOW','SF'],axis=1).drop_duplicates()"
   ]
  },
  {
   "cell_type": "code",
   "execution_count": 23,
   "metadata": {
    "collapsed": false
   },
   "outputs": [],
   "source": [
    "bbbase=pd.merge(base,bb1,on=['CONTRACT_ID','ISSUER_COUNTRY','CLEARING_COUNTRY_NAME','CARD_BRAND','CREDIT_DEBIT','CARD_TYPE'],how='left')"
   ]
  },
  {
   "cell_type": "code",
   "execution_count": 24,
   "metadata": {
    "collapsed": false
   },
   "outputs": [
    {
     "data": {
      "text/html": [
       "<div>\n",
       "<table border=\"1\" class=\"dataframe\">\n",
       "  <thead>\n",
       "    <tr style=\"text-align: right;\">\n",
       "      <th></th>\n",
       "      <th>CONTRACT_ID</th>\n",
       "      <th>ISSUER_COUNTRY</th>\n",
       "      <th>CARD_BRAND</th>\n",
       "      <th>CLEARING_COUNTRY_NAME</th>\n",
       "      <th>CREDIT_DEBIT</th>\n",
       "      <th>CARD_TYPE</th>\n",
       "      <th>BAMBORA_REF</th>\n",
       "      <th>MONTH</th>\n",
       "      <th>DAY</th>\n",
       "      <th>YEAR</th>\n",
       "      <th>...</th>\n",
       "      <th>SF_FIXED_FEE</th>\n",
       "      <th>SF_PERC_FEE</th>\n",
       "      <th>B_TRANSACTION_TYPE</th>\n",
       "      <th>C_TYPE</th>\n",
       "      <th>VOLUME</th>\n",
       "      <th>FLOW</th>\n",
       "      <th>SF</th>\n",
       "      <th>TRANSACTION_AMOUNT_EUR</th>\n",
       "      <th>INTERCHANGE_TOTAL_FEE_EUR</th>\n",
       "      <th>IC_BPS</th>\n",
       "    </tr>\n",
       "  </thead>\n",
       "  <tbody>\n",
       "    <tr>\n",
       "      <th>0</th>\n",
       "      <td>1946</td>\n",
       "      <td>Russian Federation</td>\n",
       "      <td>Visa</td>\n",
       "      <td>Luxembourg</td>\n",
       "      <td>Debit</td>\n",
       "      <td>Consumer</td>\n",
       "      <td>74541097364025519785764</td>\n",
       "      <td>12</td>\n",
       "      <td>30</td>\n",
       "      <td>2017</td>\n",
       "      <td>...</td>\n",
       "      <td>0.072944</td>\n",
       "      <td>0.005602</td>\n",
       "      <td>TRANSACTION</td>\n",
       "      <td>Consumer</td>\n",
       "      <td>1</td>\n",
       "      <td>13</td>\n",
       "      <td>0.133969</td>\n",
       "      <td>13.124052</td>\n",
       "      <td>0.208534</td>\n",
       "      <td>0.015889</td>\n",
       "    </tr>\n",
       "    <tr>\n",
       "      <th>1</th>\n",
       "      <td>1946</td>\n",
       "      <td>Russian Federation</td>\n",
       "      <td>Visa</td>\n",
       "      <td>Luxembourg</td>\n",
       "      <td>Debit</td>\n",
       "      <td>Consumer</td>\n",
       "      <td>74541097364025519785756</td>\n",
       "      <td>12</td>\n",
       "      <td>30</td>\n",
       "      <td>2017</td>\n",
       "      <td>...</td>\n",
       "      <td>0.072944</td>\n",
       "      <td>0.005603</td>\n",
       "      <td>TRANSACTION</td>\n",
       "      <td>Consumer</td>\n",
       "      <td>1</td>\n",
       "      <td>12</td>\n",
       "      <td>0.130193</td>\n",
       "      <td>12.445249</td>\n",
       "      <td>0.222467</td>\n",
       "      <td>0.017876</td>\n",
       "    </tr>\n",
       "  </tbody>\n",
       "</table>\n",
       "<p>2 rows × 23 columns</p>\n",
       "</div>"
      ],
      "text/plain": [
       "   CONTRACT_ID      ISSUER_COUNTRY CARD_BRAND CLEARING_COUNTRY_NAME  \\\n",
       "0         1946  Russian Federation       Visa            Luxembourg   \n",
       "1         1946  Russian Federation       Visa            Luxembourg   \n",
       "\n",
       "  CREDIT_DEBIT CARD_TYPE              BAMBORA_REF  MONTH  DAY  YEAR    ...     \\\n",
       "0        Debit  Consumer  74541097364025519785764     12   30  2017    ...      \n",
       "1        Debit  Consumer  74541097364025519785756     12   30  2017    ...      \n",
       "\n",
       "  SF_FIXED_FEE SF_PERC_FEE B_TRANSACTION_TYPE    C_TYPE  VOLUME FLOW  \\\n",
       "0     0.072944    0.005602        TRANSACTION  Consumer       1   13   \n",
       "1     0.072944    0.005603        TRANSACTION  Consumer       1   12   \n",
       "\n",
       "         SF  TRANSACTION_AMOUNT_EUR  INTERCHANGE_TOTAL_FEE_EUR    IC_BPS  \n",
       "0  0.133969               13.124052                   0.208534  0.015889  \n",
       "1  0.130193               12.445249                   0.222467  0.017876  \n",
       "\n",
       "[2 rows x 23 columns]"
      ]
     },
     "execution_count": 24,
     "metadata": {},
     "output_type": "execute_result"
    }
   ],
   "source": [
    "bbbase.head()"
   ]
  },
  {
   "cell_type": "code",
   "execution_count": 25,
   "metadata": {
    "collapsed": false
   },
   "outputs": [
    {
     "name": "stdout",
     "output_type": "stream",
     "text": [
      "<class 'pandas.core.frame.DataFrame'>\n",
      "Int64Index: 2 entries, 0 to 1\n",
      "Data columns (total 23 columns):\n",
      "CONTRACT_ID                  2 non-null int64\n",
      "ISSUER_COUNTRY               2 non-null object\n",
      "CARD_BRAND                   2 non-null object\n",
      "CLEARING_COUNTRY_NAME        2 non-null object\n",
      "CREDIT_DEBIT                 2 non-null object\n",
      "CARD_TYPE                    2 non-null object\n",
      "BAMBORA_REF                  2 non-null object\n",
      "MONTH                        2 non-null int64\n",
      "DAY                          2 non-null int64\n",
      "YEAR                         2 non-null int64\n",
      "PERIOD                       2 non-null object\n",
      "TRANSACTION_TYPE             2 non-null object\n",
      "REGIONALITY                  2 non-null object\n",
      "SF_FIXED_FEE                 2 non-null float64\n",
      "SF_PERC_FEE                  2 non-null float64\n",
      "B_TRANSACTION_TYPE           2 non-null object\n",
      "C_TYPE                       2 non-null object\n",
      "VOLUME                       2 non-null int64\n",
      "FLOW                         2 non-null int64\n",
      "SF                           2 non-null float64\n",
      "TRANSACTION_AMOUNT_EUR       2 non-null float64\n",
      "INTERCHANGE_TOTAL_FEE_EUR    2 non-null float64\n",
      "IC_BPS                       2 non-null float64\n",
      "dtypes: float64(6), int64(6), object(11)\n",
      "memory usage: 384.0+ bytes\n"
     ]
    }
   ],
   "source": [
    "bbbase.info()"
   ]
  },
  {
   "cell_type": "markdown",
   "metadata": {},
   "source": [
    "### Link AIB and Bambora"
   ]
  },
  {
   "cell_type": "code",
   "execution_count": 26,
   "metadata": {
    "collapsed": false
   },
   "outputs": [],
   "source": [
    "ab_bb_comp=pd.merge(bbbase,ab_df,on=['CONTRACT_ID','ISSUER_COUNTRY','CARD_BRAND','CLEARING_COUNTRY_NAME','CREDIT_DEBIT','CARD_TYPE','FLOW'],how='left',suffixes=('_BB','_AVG_AB'))"
   ]
  },
  {
   "cell_type": "code",
   "execution_count": 27,
   "metadata": {
    "collapsed": false
   },
   "outputs": [
    {
     "data": {
      "text/html": [
       "<div>\n",
       "<table border=\"1\" class=\"dataframe\">\n",
       "  <thead>\n",
       "    <tr style=\"text-align: right;\">\n",
       "      <th></th>\n",
       "      <th>CONTRACT_ID</th>\n",
       "      <th>ISSUER_COUNTRY</th>\n",
       "      <th>CARD_BRAND</th>\n",
       "      <th>CLEARING_COUNTRY_NAME</th>\n",
       "      <th>CREDIT_DEBIT</th>\n",
       "      <th>CARD_TYPE</th>\n",
       "      <th>BAMBORA_REF</th>\n",
       "      <th>MONTH</th>\n",
       "      <th>DAY</th>\n",
       "      <th>YEAR</th>\n",
       "      <th>...</th>\n",
       "      <th>SF_PERC_FEE</th>\n",
       "      <th>B_TRANSACTION_TYPE</th>\n",
       "      <th>C_TYPE</th>\n",
       "      <th>VOLUME</th>\n",
       "      <th>FLOW</th>\n",
       "      <th>SF_BB</th>\n",
       "      <th>TRANSACTION_AMOUNT_EUR</th>\n",
       "      <th>INTERCHANGE_TOTAL_FEE_EUR</th>\n",
       "      <th>IC_BPS</th>\n",
       "      <th>SF_AVG_AB</th>\n",
       "    </tr>\n",
       "  </thead>\n",
       "  <tbody>\n",
       "    <tr>\n",
       "      <th>0</th>\n",
       "      <td>1946</td>\n",
       "      <td>Russian Federation</td>\n",
       "      <td>Visa</td>\n",
       "      <td>Luxembourg</td>\n",
       "      <td>Debit</td>\n",
       "      <td>Consumer</td>\n",
       "      <td>74541097364025519785764</td>\n",
       "      <td>12</td>\n",
       "      <td>30</td>\n",
       "      <td>2017</td>\n",
       "      <td>...</td>\n",
       "      <td>0.005602</td>\n",
       "      <td>TRANSACTION</td>\n",
       "      <td>Consumer</td>\n",
       "      <td>1</td>\n",
       "      <td>13</td>\n",
       "      <td>0.133969</td>\n",
       "      <td>13.124052</td>\n",
       "      <td>0.208534</td>\n",
       "      <td>0.015889</td>\n",
       "      <td>0.140335</td>\n",
       "    </tr>\n",
       "    <tr>\n",
       "      <th>1</th>\n",
       "      <td>1946</td>\n",
       "      <td>Russian Federation</td>\n",
       "      <td>Visa</td>\n",
       "      <td>Luxembourg</td>\n",
       "      <td>Debit</td>\n",
       "      <td>Consumer</td>\n",
       "      <td>74541097364025519785756</td>\n",
       "      <td>12</td>\n",
       "      <td>30</td>\n",
       "      <td>2017</td>\n",
       "      <td>...</td>\n",
       "      <td>0.005603</td>\n",
       "      <td>TRANSACTION</td>\n",
       "      <td>Consumer</td>\n",
       "      <td>1</td>\n",
       "      <td>12</td>\n",
       "      <td>0.130193</td>\n",
       "      <td>12.445249</td>\n",
       "      <td>0.222467</td>\n",
       "      <td>0.017876</td>\n",
       "      <td>0.134877</td>\n",
       "    </tr>\n",
       "  </tbody>\n",
       "</table>\n",
       "<p>2 rows × 24 columns</p>\n",
       "</div>"
      ],
      "text/plain": [
       "   CONTRACT_ID      ISSUER_COUNTRY CARD_BRAND CLEARING_COUNTRY_NAME  \\\n",
       "0         1946  Russian Federation       Visa            Luxembourg   \n",
       "1         1946  Russian Federation       Visa            Luxembourg   \n",
       "\n",
       "  CREDIT_DEBIT CARD_TYPE              BAMBORA_REF  MONTH  DAY  YEAR  \\\n",
       "0        Debit  Consumer  74541097364025519785764     12   30  2017   \n",
       "1        Debit  Consumer  74541097364025519785756     12   30  2017   \n",
       "\n",
       "     ...     SF_PERC_FEE B_TRANSACTION_TYPE    C_TYPE  VOLUME  FLOW     SF_BB  \\\n",
       "0    ...        0.005602        TRANSACTION  Consumer       1    13  0.133969   \n",
       "1    ...        0.005603        TRANSACTION  Consumer       1    12  0.130193   \n",
       "\n",
       "  TRANSACTION_AMOUNT_EUR  INTERCHANGE_TOTAL_FEE_EUR    IC_BPS  SF_AVG_AB  \n",
       "0              13.124052                   0.208534  0.015889   0.140335  \n",
       "1              12.445249                   0.222467  0.017876   0.134877  \n",
       "\n",
       "[2 rows x 24 columns]"
      ]
     },
     "execution_count": 27,
     "metadata": {},
     "output_type": "execute_result"
    }
   ],
   "source": [
    "ab_bb_comp.head()"
   ]
  },
  {
   "cell_type": "markdown",
   "metadata": {},
   "source": [
    "## Insert the Signal logic"
   ]
  },
  {
   "cell_type": "code",
   "execution_count": 28,
   "metadata": {
    "collapsed": false
   },
   "outputs": [
    {
     "name": "stderr",
     "output_type": "stream",
     "text": [
      "C:\\Users\\djohnson\\AppData\\Local\\Continuum\\Anaconda2\\lib\\site-packages\\ipykernel\\__main__.py:4: SettingWithCopyWarning: \n",
      "A value is trying to be set on a copy of a slice from a DataFrame\n",
      "\n",
      "See the caveats in the documentation: http://pandas.pydata.org/pandas-docs/stable/indexing.html#indexing-view-versus-copy\n"
     ]
    }
   ],
   "source": [
    "ab_bb_comp['SF_DIFF_%']=(ab_bb_comp['SF_BB']-ab_bb_comp['SF_AVG_AB'])/ab_bb_comp['SF_AVG_AB']\n",
    "\n",
    "ab_bb_comp['SIGNAL']=''\n",
    "ab_bb_comp['SIGNAL'][(ab_bb_comp['SF_DIFF_%']>.05)]='Signal'"
   ]
  },
  {
   "cell_type": "code",
   "execution_count": 29,
   "metadata": {
    "collapsed": false
   },
   "outputs": [
    {
     "data": {
      "text/html": [
       "<div>\n",
       "<table border=\"1\" class=\"dataframe\">\n",
       "  <thead>\n",
       "    <tr style=\"text-align: right;\">\n",
       "      <th></th>\n",
       "      <th>CONTRACT_ID</th>\n",
       "      <th>ISSUER_COUNTRY</th>\n",
       "      <th>CARD_BRAND</th>\n",
       "      <th>CLEARING_COUNTRY_NAME</th>\n",
       "      <th>CREDIT_DEBIT</th>\n",
       "      <th>CARD_TYPE</th>\n",
       "      <th>BAMBORA_REF</th>\n",
       "      <th>MONTH</th>\n",
       "      <th>DAY</th>\n",
       "      <th>YEAR</th>\n",
       "      <th>...</th>\n",
       "      <th>C_TYPE</th>\n",
       "      <th>VOLUME</th>\n",
       "      <th>FLOW</th>\n",
       "      <th>SF_BB</th>\n",
       "      <th>TRANSACTION_AMOUNT_EUR</th>\n",
       "      <th>INTERCHANGE_TOTAL_FEE_EUR</th>\n",
       "      <th>IC_BPS</th>\n",
       "      <th>SF_AVG_AB</th>\n",
       "      <th>SF_DIFF_%</th>\n",
       "      <th>SIGNAL</th>\n",
       "    </tr>\n",
       "  </thead>\n",
       "  <tbody>\n",
       "    <tr>\n",
       "      <th>0</th>\n",
       "      <td>1946</td>\n",
       "      <td>Russian Federation</td>\n",
       "      <td>Visa</td>\n",
       "      <td>Luxembourg</td>\n",
       "      <td>Debit</td>\n",
       "      <td>Consumer</td>\n",
       "      <td>74541097364025519785764</td>\n",
       "      <td>12</td>\n",
       "      <td>30</td>\n",
       "      <td>2017</td>\n",
       "      <td>...</td>\n",
       "      <td>Consumer</td>\n",
       "      <td>1</td>\n",
       "      <td>13</td>\n",
       "      <td>0.133969</td>\n",
       "      <td>13.124052</td>\n",
       "      <td>0.208534</td>\n",
       "      <td>0.015889</td>\n",
       "      <td>0.140335</td>\n",
       "      <td>-0.045361</td>\n",
       "      <td></td>\n",
       "    </tr>\n",
       "    <tr>\n",
       "      <th>1</th>\n",
       "      <td>1946</td>\n",
       "      <td>Russian Federation</td>\n",
       "      <td>Visa</td>\n",
       "      <td>Luxembourg</td>\n",
       "      <td>Debit</td>\n",
       "      <td>Consumer</td>\n",
       "      <td>74541097364025519785756</td>\n",
       "      <td>12</td>\n",
       "      <td>30</td>\n",
       "      <td>2017</td>\n",
       "      <td>...</td>\n",
       "      <td>Consumer</td>\n",
       "      <td>1</td>\n",
       "      <td>12</td>\n",
       "      <td>0.130193</td>\n",
       "      <td>12.445249</td>\n",
       "      <td>0.222467</td>\n",
       "      <td>0.017876</td>\n",
       "      <td>0.134877</td>\n",
       "      <td>-0.034730</td>\n",
       "      <td></td>\n",
       "    </tr>\n",
       "  </tbody>\n",
       "</table>\n",
       "<p>2 rows × 26 columns</p>\n",
       "</div>"
      ],
      "text/plain": [
       "   CONTRACT_ID      ISSUER_COUNTRY CARD_BRAND CLEARING_COUNTRY_NAME  \\\n",
       "0         1946  Russian Federation       Visa            Luxembourg   \n",
       "1         1946  Russian Federation       Visa            Luxembourg   \n",
       "\n",
       "  CREDIT_DEBIT CARD_TYPE              BAMBORA_REF  MONTH  DAY  YEAR   ...    \\\n",
       "0        Debit  Consumer  74541097364025519785764     12   30  2017   ...     \n",
       "1        Debit  Consumer  74541097364025519785756     12   30  2017   ...     \n",
       "\n",
       "     C_TYPE VOLUME FLOW     SF_BB  TRANSACTION_AMOUNT_EUR  \\\n",
       "0  Consumer      1   13  0.133969               13.124052   \n",
       "1  Consumer      1   12  0.130193               12.445249   \n",
       "\n",
       "  INTERCHANGE_TOTAL_FEE_EUR    IC_BPS  SF_AVG_AB  SF_DIFF_%  SIGNAL  \n",
       "0                  0.208534  0.015889   0.140335  -0.045361          \n",
       "1                  0.222467  0.017876   0.134877  -0.034730          \n",
       "\n",
       "[2 rows x 26 columns]"
      ]
     },
     "execution_count": 29,
     "metadata": {},
     "output_type": "execute_result"
    }
   ],
   "source": [
    "ab_bb_comp.head()"
   ]
  },
  {
   "cell_type": "markdown",
   "metadata": {},
   "source": [
    "### Final Output"
   ]
  },
  {
   "cell_type": "code",
   "execution_count": 30,
   "metadata": {
    "collapsed": false
   },
   "outputs": [],
   "source": [
    "ab_bb_comp=ab_bb_comp[['BAMBORA_REF','TRANSACTION_TYPE','REGIONALITY','CONTRACT_ID','MONTH','DAY','YEAR','PERIOD'\n",
    "                       ,'CARD_BRAND','CARD_TYPE','CREDIT_DEBIT','ISSUER_COUNTRY','CLEARING_COUNTRY_NAME'\n",
    "                       ,'FLOW','SF_FIXED_FEE','SF_PERC_FEE','SF_BB','SF_AVG_AB','SF_DIFF_%','SIGNAL']]"
   ]
  },
  {
   "cell_type": "code",
   "execution_count": 31,
   "metadata": {
    "collapsed": false
   },
   "outputs": [
    {
     "data": {
      "text/html": [
       "<div>\n",
       "<table border=\"1\" class=\"dataframe\">\n",
       "  <thead>\n",
       "    <tr style=\"text-align: right;\">\n",
       "      <th></th>\n",
       "      <th>BAMBORA_REF</th>\n",
       "      <th>TRANSACTION_TYPE</th>\n",
       "      <th>REGIONALITY</th>\n",
       "      <th>CONTRACT_ID</th>\n",
       "      <th>MONTH</th>\n",
       "      <th>DAY</th>\n",
       "      <th>YEAR</th>\n",
       "      <th>PERIOD</th>\n",
       "      <th>CARD_BRAND</th>\n",
       "      <th>CARD_TYPE</th>\n",
       "      <th>CREDIT_DEBIT</th>\n",
       "      <th>ISSUER_COUNTRY</th>\n",
       "      <th>CLEARING_COUNTRY_NAME</th>\n",
       "      <th>FLOW</th>\n",
       "      <th>SF_FIXED_FEE</th>\n",
       "      <th>SF_PERC_FEE</th>\n",
       "      <th>SF_BB</th>\n",
       "      <th>SF_AVG_AB</th>\n",
       "      <th>SF_DIFF_%</th>\n",
       "      <th>SIGNAL</th>\n",
       "    </tr>\n",
       "  </thead>\n",
       "  <tbody>\n",
       "    <tr>\n",
       "      <th>0</th>\n",
       "      <td>74541097364025519785764</td>\n",
       "      <td>TRANSACTION</td>\n",
       "      <td>Interregional</td>\n",
       "      <td>1946</td>\n",
       "      <td>12</td>\n",
       "      <td>30</td>\n",
       "      <td>2017</td>\n",
       "      <td>2017-12</td>\n",
       "      <td>Visa</td>\n",
       "      <td>Consumer</td>\n",
       "      <td>Debit</td>\n",
       "      <td>Russian Federation</td>\n",
       "      <td>Luxembourg</td>\n",
       "      <td>13</td>\n",
       "      <td>0.072944</td>\n",
       "      <td>0.005602</td>\n",
       "      <td>0.133969</td>\n",
       "      <td>0.140335</td>\n",
       "      <td>-0.045361</td>\n",
       "      <td></td>\n",
       "    </tr>\n",
       "    <tr>\n",
       "      <th>1</th>\n",
       "      <td>74541097364025519785756</td>\n",
       "      <td>TRANSACTION</td>\n",
       "      <td>Interregional</td>\n",
       "      <td>1946</td>\n",
       "      <td>12</td>\n",
       "      <td>30</td>\n",
       "      <td>2017</td>\n",
       "      <td>2017-12</td>\n",
       "      <td>Visa</td>\n",
       "      <td>Consumer</td>\n",
       "      <td>Debit</td>\n",
       "      <td>Russian Federation</td>\n",
       "      <td>Luxembourg</td>\n",
       "      <td>12</td>\n",
       "      <td>0.072944</td>\n",
       "      <td>0.005603</td>\n",
       "      <td>0.130193</td>\n",
       "      <td>0.134877</td>\n",
       "      <td>-0.034730</td>\n",
       "      <td></td>\n",
       "    </tr>\n",
       "  </tbody>\n",
       "</table>\n",
       "</div>"
      ],
      "text/plain": [
       "               BAMBORA_REF TRANSACTION_TYPE    REGIONALITY  CONTRACT_ID  \\\n",
       "0  74541097364025519785764      TRANSACTION  Interregional         1946   \n",
       "1  74541097364025519785756      TRANSACTION  Interregional         1946   \n",
       "\n",
       "   MONTH  DAY  YEAR   PERIOD CARD_BRAND CARD_TYPE CREDIT_DEBIT  \\\n",
       "0     12   30  2017  2017-12       Visa  Consumer        Debit   \n",
       "1     12   30  2017  2017-12       Visa  Consumer        Debit   \n",
       "\n",
       "       ISSUER_COUNTRY CLEARING_COUNTRY_NAME  FLOW  SF_FIXED_FEE  SF_PERC_FEE  \\\n",
       "0  Russian Federation            Luxembourg    13      0.072944     0.005602   \n",
       "1  Russian Federation            Luxembourg    12      0.072944     0.005603   \n",
       "\n",
       "      SF_BB  SF_AVG_AB  SF_DIFF_% SIGNAL  \n",
       "0  0.133969   0.140335  -0.045361         \n",
       "1  0.130193   0.134877  -0.034730         "
      ]
     },
     "execution_count": 31,
     "metadata": {},
     "output_type": "execute_result"
    }
   ],
   "source": [
    "ab_bb_comp.head()"
   ]
  },
  {
   "cell_type": "code",
   "execution_count": 32,
   "metadata": {
    "collapsed": false
   },
   "outputs": [
    {
     "name": "stdout",
     "output_type": "stream",
     "text": [
      "total transactions\n",
      "2\n",
      "total signals\n",
      "0\n"
     ]
    }
   ],
   "source": [
    "print 'total transactions'\n",
    "print ab_bb_comp['BAMBORA_REF'].count()\n",
    "print 'total signals'\n",
    "print ab_bb_comp['BAMBORA_REF'][(ab_bb_comp['SIGNAL']=='Signal')].count()"
   ]
  },
  {
   "cell_type": "code",
   "execution_count": 46,
   "metadata": {
    "collapsed": false
   },
   "outputs": [],
   "source": [
    "ab_bb_comp.to_csv('d:\\\\djohnson\\\\Desktop\\\\ab_bb_comp.csv')"
   ]
  }
 ],
 "metadata": {
  "anaconda-cloud": {},
  "kernelspec": {
   "display_name": "Python 2",
   "language": "python",
   "name": "python2"
  },
  "language_info": {
   "codemirror_mode": {
    "name": "ipython",
    "version": 2
   },
   "file_extension": ".py",
   "mimetype": "text/x-python",
   "name": "python",
   "nbconvert_exporter": "python",
   "pygments_lexer": "ipython2",
   "version": "2.7.12"
  }
 },
 "nbformat": 4,
 "nbformat_minor": 2
}
