{
 "cells": [
  {
   "cell_type": "code",
   "execution_count": 1,
   "metadata": {
    "collapsed": true
   },
   "outputs": [],
   "source": [
    "import pandas as pd"
   ]
  },
  {
   "cell_type": "code",
   "execution_count": 4,
   "metadata": {
    "collapsed": false
   },
   "outputs": [],
   "source": [
    "data = pd.read_csv('d:\\\\djohnson\\\\Desktop\\\\AASY190A.12182017.143731.txt', header = None)"
   ]
  },
  {
   "cell_type": "code",
   "execution_count": 275,
   "metadata": {
    "collapsed": false
   },
   "outputs": [
    {
     "data": {
      "text/html": [
       "<div>\n",
       "<table border=\"1\" class=\"dataframe\">\n",
       "  <thead>\n",
       "    <tr style=\"text-align: right;\">\n",
       "      <th></th>\n",
       "      <th>0</th>\n",
       "    </tr>\n",
       "  </thead>\n",
       "  <tbody>\n",
       "    <tr>\n",
       "      <th>0</th>\n",
       "      <td>44528500599455429507349031052965999518710*****...</td>\n",
       "    </tr>\n",
       "    <tr>\n",
       "      <th>1</th>\n",
       "      <td>44528500599455429507349031012947434532450*****...</td>\n",
       "    </tr>\n",
       "    <tr>\n",
       "      <th>2</th>\n",
       "      <td>44528500599455429507349031032960540550213*****...</td>\n",
       "    </tr>\n",
       "    <tr>\n",
       "      <th>3</th>\n",
       "      <td>44528500599424492157349031132998731409668*****...</td>\n",
       "    </tr>\n",
       "    <tr>\n",
       "      <th>4</th>\n",
       "      <td>44528500599424492157349031052965926498451*****...</td>\n",
       "    </tr>\n",
       "  </tbody>\n",
       "</table>\n",
       "</div>"
      ],
      "text/plain": [
       "                                                   0\n",
       "0  44528500599455429507349031052965999518710*****...\n",
       "1  44528500599455429507349031012947434532450*****...\n",
       "2  44528500599455429507349031032960540550213*****...\n",
       "3  44528500599424492157349031132998731409668*****...\n",
       "4  44528500599424492157349031052965926498451*****..."
      ]
     },
     "execution_count": 275,
     "metadata": {},
     "output_type": "execute_result"
    }
   ],
   "source": [
    "data.head()"
   ]
  },
  {
   "cell_type": "code",
   "execution_count": 276,
   "metadata": {
    "collapsed": false
   },
   "outputs": [
    {
     "name": "stdout",
     "output_type": "stream",
     "text": [
      "88030\n"
     ]
    }
   ],
   "source": [
    "print len(data)\n",
    "data_length=len(data)"
   ]
  },
  {
   "cell_type": "code",
   "execution_count": 277,
   "metadata": {
    "collapsed": false
   },
   "outputs": [],
   "source": [
    "merchant_id=[]\n",
    "settlement_reference_id=[]\n",
    "credit_card_number=[]\n",
    "card_type=[]\n",
    "original_transaction_date=[]\n",
    "transaction_type=[]\n",
    "price_type=[]\n",
    "price_amount_1=[]\n",
    "price_amount_2=[]\n",
    "original=[]\n",
    "settlement_date=[]\n",
    "batch_number=[]\n",
    "cleared_level=[]\n",
    "billback_reason_code=[]\n",
    "reason_for_qualification=[]\n",
    "transaction_amount=[]\n",
    "merchant_priced_level=[]\n",
    "discount_rate=[]\n",
    "discount_amount=[]\n",
    "clearing_rate_amount_1=[]\n",
    "clearing_rate_amount_2=[]\n",
    "clearing_rate_amount_3=[]\n",
    "interchange_amount=[]\n",
    "billback_amount=[]"
   ]
  },
  {
   "cell_type": "code",
   "execution_count": 278,
   "metadata": {
    "collapsed": false
   },
   "outputs": [],
   "source": [
    "for i in range(0,data_length):\n",
    "    row=i\n",
    "    merchant_id.append(data[0][row][:12])\n",
    "    settlement_reference_id.append(data[0][row][12:35])\n",
    "    credit_card_number.append(data[0][row][35:51])\n",
    "    card_type.append(data[0][row][51:53])\n",
    "    #original_transaction_date.append([0][row][53:63])\n",
    "    transaction_type.append(data[0][row][63:64])\n",
    "    price_type.append(data[0][row][64:67])\n",
    "    price_amount_1.append(data[0][row][67:75])\n",
    "    price_amount_2.append(data[0][row][75:83])\n",
    "    #original.append([0][row][83:84])\n",
    "    settlement_date.append(data[0][row][84:90])\n",
    "    batch_number.append(data[0][row][90:102])\n",
    "    cleared_level.append(data[0][row][102:105])\n",
    "    billback_reason_code.append(data[0][row][105:108])\n",
    "    reason_for_qualification.append(data[0][row][108:163])\n",
    "    transaction_amount.append(data[0][row][163:173])\n",
    "    merchant_priced_level.append(data[0][row][173:185])\n",
    "    discount_rate.append(data[0][row][185:197])\n",
    "    discount_amount.append(data[0][row][197:213])\n",
    "    clearing_rate_amount_1.append(data[0][row][213:221])\n",
    "    clearing_rate_amount_2.append(data[0][row][221:229])\n",
    "    clearing_rate_amount_3.append(data[0][row][229:237])\n",
    "    interchange_amount.append(data[0][row][237:253])\n",
    "    billback_amount.append(data[0][row][253:263])"
   ]
  },
  {
   "cell_type": "code",
   "execution_count": 279,
   "metadata": {
    "collapsed": false
   },
   "outputs": [],
   "source": [
    "mid=pd.DataFrame(merchant_id,columns=['merchant_id'])\n",
    "setref=pd.DataFrame(settlement_reference_id,columns=['settlement_reference_id'])\n",
    "cred=pd.DataFrame(credit_card_number,columns=['credit_card_number'])\n",
    "cardtype=pd.DataFrame(card_type,columns=['card_type'])\n",
    "transaction_type=pd.DataFrame(transaction_type,columns=['transaction_type'])\n",
    "\n",
    "transaction_type=pd.DataFrame(transaction_type,columns=['transaction_type'])\n",
    "\n",
    "price_type=pd.DataFrame(price_type,columns=['price_type'])\n",
    "price_amount_1=pd.DataFrame(price_amount_1,columns=['price_amount_1'])\n",
    "price_amount_2=pd.DataFrame(price_amount_2,columns=['price_amount_2'])\n",
    "settlement_date=pd.DataFrame(settlement_date,columns=['settlement_date'])\n",
    "\n",
    "batch_number=pd.DataFrame(batch_number,columns=['batch_number'])\n",
    "cleared_level=pd.DataFrame(cleared_level,columns=['cleared_level'])\n",
    "billback_reason_code=pd.DataFrame(billback_reason_code,columns=['billback_reason_code'])\n",
    "reason_for_qualification=pd.DataFrame(reason_for_qualification,columns=['reason_for_qualification'])\n",
    "\n",
    "transaction_amount=pd.DataFrame(transaction_amount,columns=['transaction_amount'])\n",
    "merchant_priced_level=pd.DataFrame(merchant_priced_level,columns=['merchant_priced_level'])\n",
    "discount_rate=pd.DataFrame(discount_rate,columns=['discount_rate'])\n",
    "discount_amount=pd.DataFrame(discount_amount,columns=['discount_amount'])\n",
    "\n",
    "clearing_rate_amount_1=pd.DataFrame(clearing_rate_amount_1,columns=['clearing_rate_amount_1'])\n",
    "clearing_rate_amount_2=pd.DataFrame(clearing_rate_amount_2,columns=['clearing_rate_amount_2'])\n",
    "clearing_rate_amount_3=pd.DataFrame(clearing_rate_amount_3,columns=['clearing_rate_amount_3'])\n",
    "interchange_amount=pd.DataFrame(interchange_amount,columns=['interchange_amount'])\n",
    "billback_amount=pd.DataFrame(billback_amount,columns=['billback_amount'])"
   ]
  },
  {
   "cell_type": "code",
   "execution_count": 280,
   "metadata": {
    "collapsed": false
   },
   "outputs": [],
   "source": [
    "df=mid.join(setref).join(cred).join(cardtype)\\\n",
    ".join(transaction_type).join(price_type).join(price_amount_1).join(price_amount_2)\\\n",
    ".join(settlement_date).join(batch_number).join(cleared_level).join(billback_reason_code).join(reason_for_qualification)\\\n",
    ".join(transaction_amount).join(merchant_priced_level).join(discount_rate).join(discount_amount)\\\n",
    ".join(clearing_rate_amount_1).join(clearing_rate_amount_2).join(clearing_rate_amount_3).join(interchange_amount).join(billback_amount)"
   ]
  },
  {
   "cell_type": "code",
   "execution_count": 281,
   "metadata": {
    "collapsed": false
   },
   "outputs": [],
   "source": [
    "df.to_csv('d:\\\\djohnson\\Desktop\\df.csv')"
   ]
  }
 ],
 "metadata": {
  "kernelspec": {
   "display_name": "Python [conda env:Anaconda2]",
   "language": "python",
   "name": "conda-env-Anaconda2-py"
  },
  "language_info": {
   "codemirror_mode": {
    "name": "ipython",
    "version": 2
   },
   "file_extension": ".py",
   "mimetype": "text/x-python",
   "name": "python",
   "nbconvert_exporter": "python",
   "pygments_lexer": "ipython2",
   "version": "2.7.12"
  }
 },
 "nbformat": 4,
 "nbformat_minor": 1
}
