{
 "cells": [
  {
   "cell_type": "code",
   "execution_count": 1,
   "metadata": {
    "collapsed": true
   },
   "outputs": [],
   "source": [
    "import pandas as pd\n",
    "import numpy as np"
   ]
  },
  {
   "cell_type": "code",
   "execution_count": 2,
   "metadata": {
    "collapsed": false
   },
   "outputs": [],
   "source": [
    "dfwf=pd.read_csv('d:\\\\djohnson\\\\Desktop\\\\agoda\\\\agoda_wf.csv')\n",
    "dftx=pd.read_csv('d:\\\\djohnson\\\\Desktop\\\\agoda\\\\agoda_dataset.csv')"
   ]
  },
  {
   "cell_type": "code",
   "execution_count": 3,
   "metadata": {
    "collapsed": false
   },
   "outputs": [],
   "source": [
    "dfwf=dfwf.rename(columns={'Authorization Code':'authorisationcode','Amount':'amount'})"
   ]
  },
  {
   "cell_type": "code",
   "execution_count": 4,
   "metadata": {
    "collapsed": false
   },
   "outputs": [],
   "source": [
    "df=pd.merge(dftx,dfwf,on=['amount','authorisationcode'],how='left')"
   ]
  },
  {
   "cell_type": "code",
   "execution_count": 5,
   "metadata": {
    "collapsed": false
   },
   "outputs": [],
   "source": [
    "df['Plan Code Description']=df['Plan Code Description'].fillna('')"
   ]
  },
  {
   "cell_type": "code",
   "execution_count": 6,
   "metadata": {
    "collapsed": false
   },
   "outputs": [],
   "source": [
    "df=df[(df['paymentprocessor']==223)]"
   ]
  },
  {
   "cell_type": "code",
   "execution_count": 7,
   "metadata": {
    "collapsed": false
   },
   "outputs": [],
   "source": [
    "df['CREDIT_DEBIT']=df['Plan Code Description'].apply(lambda x:'Debit' if (\"DB\" in x) or ('PP' in x) else 'Credit')\n",
    "df['creditcardcompany']=df['creditcardcompany'].apply(lambda x:'MASTERCARD' if \"ECMC\" in x else 'VISA')"
   ]
  },
  {
   "cell_type": "code",
   "execution_count": 8,
   "metadata": {
    "collapsed": false
   },
   "outputs": [
    {
     "data": {
      "text/html": [
       "<div>\n",
       "<table border=\"1\" class=\"dataframe\">\n",
       "  <thead>\n",
       "    <tr style=\"text-align: right;\">\n",
       "      <th></th>\n",
       "      <th>merchantname</th>\n",
       "      <th>merchantid</th>\n",
       "      <th>orderid</th>\n",
       "      <th>statusid</th>\n",
       "      <th>dateauthorisation</th>\n",
       "      <th>statusdate</th>\n",
       "      <th>merchantnumber</th>\n",
       "      <th>paymentprocessor</th>\n",
       "      <th>serviceaccountname</th>\n",
       "      <th>creditcardcompany</th>\n",
       "      <th>...</th>\n",
       "      <th>Plan Code Description</th>\n",
       "      <th>IC Percentage</th>\n",
       "      <th>IC Flat</th>\n",
       "      <th>Downgrade</th>\n",
       "      <th>Debit Network ID</th>\n",
       "      <th>Reject Reason</th>\n",
       "      <th>Tracking Number</th>\n",
       "      <th>Order Number</th>\n",
       "      <th>Transaction Integrity Class</th>\n",
       "      <th>CREDIT_DEBIT</th>\n",
       "    </tr>\n",
       "  </thead>\n",
       "  <tbody>\n",
       "    <tr>\n",
       "      <th>0</th>\n",
       "      <td>Priceline Agoda Hotel Booking</td>\n",
       "      <td>6485</td>\n",
       "      <td>203839953</td>\n",
       "      <td>1050</td>\n",
       "      <td>20-Feb-18</td>\n",
       "      <td>23-Feb-18</td>\n",
       "      <td>4.452860e+11</td>\n",
       "      <td>223</td>\n",
       "      <td>Wells Fargo</td>\n",
       "      <td>VISA</td>\n",
       "      <td>...</td>\n",
       "      <td>VI-SIGNATURE CARD STANDARD</td>\n",
       "      <td>0.0270</td>\n",
       "      <td>0.1</td>\n",
       "      <td>1.0</td>\n",
       "      <td></td>\n",
       "      <td>NaN</td>\n",
       "      <td>NaN</td>\n",
       "      <td>NaN</td>\n",
       "      <td>NaN</td>\n",
       "      <td>Credit</td>\n",
       "    </tr>\n",
       "    <tr>\n",
       "      <th>1</th>\n",
       "      <td>Priceline Agoda Hotel Booking</td>\n",
       "      <td>6485</td>\n",
       "      <td>203840463</td>\n",
       "      <td>1050</td>\n",
       "      <td>20-Feb-18</td>\n",
       "      <td>23-Feb-18</td>\n",
       "      <td>4.452860e+11</td>\n",
       "      <td>223</td>\n",
       "      <td>Wells Fargo</td>\n",
       "      <td>VISA</td>\n",
       "      <td>...</td>\n",
       "      <td>VI-SIGNATURE PREFERRED CRP STD</td>\n",
       "      <td>0.0295</td>\n",
       "      <td>0.1</td>\n",
       "      <td>1.0</td>\n",
       "      <td></td>\n",
       "      <td>NaN</td>\n",
       "      <td>NaN</td>\n",
       "      <td>NaN</td>\n",
       "      <td>NaN</td>\n",
       "      <td>Credit</td>\n",
       "    </tr>\n",
       "    <tr>\n",
       "      <th>2</th>\n",
       "      <td>Priceline Agoda Hotel Booking</td>\n",
       "      <td>6485</td>\n",
       "      <td>203839178</td>\n",
       "      <td>1050</td>\n",
       "      <td>20-Feb-18</td>\n",
       "      <td>23-Feb-18</td>\n",
       "      <td>4.452860e+11</td>\n",
       "      <td>223</td>\n",
       "      <td>Wells Fargo</td>\n",
       "      <td>VISA</td>\n",
       "      <td>...</td>\n",
       "      <td>VI-EIRF NON CPS ALL OTHER</td>\n",
       "      <td>0.0230</td>\n",
       "      <td>0.1</td>\n",
       "      <td>1.0</td>\n",
       "      <td></td>\n",
       "      <td>NaN</td>\n",
       "      <td>NaN</td>\n",
       "      <td>NaN</td>\n",
       "      <td>NaN</td>\n",
       "      <td>Credit</td>\n",
       "    </tr>\n",
       "    <tr>\n",
       "      <th>3</th>\n",
       "      <td>Priceline Agoda Hotel Booking</td>\n",
       "      <td>6485</td>\n",
       "      <td>203865263</td>\n",
       "      <td>1050</td>\n",
       "      <td>20-Feb-18</td>\n",
       "      <td>23-Feb-18</td>\n",
       "      <td>4.452860e+11</td>\n",
       "      <td>223</td>\n",
       "      <td>Wells Fargo</td>\n",
       "      <td>MASTERCARD</td>\n",
       "      <td>...</td>\n",
       "      <td>MC-WORLDCARD - OTHER</td>\n",
       "      <td>0.0230</td>\n",
       "      <td>0.1</td>\n",
       "      <td>0.0</td>\n",
       "      <td></td>\n",
       "      <td>NaN</td>\n",
       "      <td>NaN</td>\n",
       "      <td>NaN</td>\n",
       "      <td>NaN</td>\n",
       "      <td>Credit</td>\n",
       "    </tr>\n",
       "    <tr>\n",
       "      <th>4</th>\n",
       "      <td>Priceline Agoda Hotel Booking</td>\n",
       "      <td>6485</td>\n",
       "      <td>468061185</td>\n",
       "      <td>1050</td>\n",
       "      <td>20-Feb-18</td>\n",
       "      <td>23-Feb-18</td>\n",
       "      <td>4.452860e+11</td>\n",
       "      <td>223</td>\n",
       "      <td>Wells Fargo</td>\n",
       "      <td>VISA</td>\n",
       "      <td>...</td>\n",
       "      <td>VI-SIGNATURE CARD STANDARD</td>\n",
       "      <td>0.0270</td>\n",
       "      <td>0.1</td>\n",
       "      <td>1.0</td>\n",
       "      <td></td>\n",
       "      <td>NaN</td>\n",
       "      <td>NaN</td>\n",
       "      <td>NaN</td>\n",
       "      <td>NaN</td>\n",
       "      <td>Credit</td>\n",
       "    </tr>\n",
       "  </tbody>\n",
       "</table>\n",
       "<p>5 rows × 59 columns</p>\n",
       "</div>"
      ],
      "text/plain": [
       "                   merchantname   merchantid    orderid  statusid  \\\n",
       "0  Priceline Agoda Hotel Booking        6485  203839953      1050   \n",
       "1  Priceline Agoda Hotel Booking        6485  203840463      1050   \n",
       "2  Priceline Agoda Hotel Booking        6485  203839178      1050   \n",
       "3  Priceline Agoda Hotel Booking        6485  203865263      1050   \n",
       "4  Priceline Agoda Hotel Booking        6485  468061185      1050   \n",
       "\n",
       "  dateauthorisation statusdate  merchantnumber  paymentprocessor  \\\n",
       "0         20-Feb-18  23-Feb-18    4.452860e+11               223   \n",
       "1         20-Feb-18  23-Feb-18    4.452860e+11               223   \n",
       "2         20-Feb-18  23-Feb-18    4.452860e+11               223   \n",
       "3         20-Feb-18  23-Feb-18    4.452860e+11               223   \n",
       "4         20-Feb-18  23-Feb-18    4.452860e+11               223   \n",
       "\n",
       "  serviceaccountname creditcardcompany     ...       \\\n",
       "0        Wells Fargo              VISA     ...        \n",
       "1        Wells Fargo              VISA     ...        \n",
       "2        Wells Fargo              VISA     ...        \n",
       "3        Wells Fargo        MASTERCARD     ...        \n",
       "4        Wells Fargo              VISA     ...        \n",
       "\n",
       "            Plan Code Description IC Percentage IC Flat  Downgrade  \\\n",
       "0      VI-SIGNATURE CARD STANDARD        0.0270     0.1        1.0   \n",
       "1  VI-SIGNATURE PREFERRED CRP STD        0.0295     0.1        1.0   \n",
       "2       VI-EIRF NON CPS ALL OTHER        0.0230     0.1        1.0   \n",
       "3            MC-WORLDCARD - OTHER        0.0230     0.1        0.0   \n",
       "4      VI-SIGNATURE CARD STANDARD        0.0270     0.1        1.0   \n",
       "\n",
       "   Debit Network ID  Reject Reason  Tracking Number  Order Number  \\\n",
       "0                              NaN              NaN           NaN   \n",
       "1                              NaN              NaN           NaN   \n",
       "2                              NaN              NaN           NaN   \n",
       "3                              NaN              NaN           NaN   \n",
       "4                              NaN              NaN           NaN   \n",
       "\n",
       "   Transaction Integrity Class CREDIT_DEBIT  \n",
       "0                          NaN       Credit  \n",
       "1                          NaN       Credit  \n",
       "2                          NaN       Credit  \n",
       "3                          NaN       Credit  \n",
       "4                          NaN       Credit  \n",
       "\n",
       "[5 rows x 59 columns]"
      ]
     },
     "execution_count": 8,
     "metadata": {},
     "output_type": "execute_result"
    }
   ],
   "source": [
    "df.head()"
   ]
  },
  {
   "cell_type": "code",
   "execution_count": 10,
   "metadata": {
    "collapsed": false
   },
   "outputs": [],
   "source": [
    "df.to_csv('d:/djohnson/desktop/agoda_dataset.csv')"
   ]
  }
 ],
 "metadata": {
  "kernelspec": {
   "display_name": "Python [default]",
   "language": "python",
   "name": "python2"
  },
  "language_info": {
   "codemirror_mode": {
    "name": "ipython",
    "version": 2
   },
   "file_extension": ".py",
   "mimetype": "text/x-python",
   "name": "python",
   "nbconvert_exporter": "python",
   "pygments_lexer": "ipython2",
   "version": "2.7.12"
  }
 },
 "nbformat": 4,
 "nbformat_minor": 1
}
