{
 "cells": [
  {
   "cell_type": "markdown",
   "metadata": {},
   "source": [
    "# AIB to Bambora SF Cost Comparison Application"
   ]
  },
  {
   "cell_type": "code",
   "execution_count": 1,
   "metadata": {
    "collapsed": false
   },
   "outputs": [
    {
     "data": {
      "text/html": [
       "<style>.container { width:95% !important; }</style>"
      ],
      "text/plain": [
       "<IPython.core.display.HTML object>"
      ]
     },
     "metadata": {},
     "output_type": "display_data"
    },
    {
     "name": "stdout",
     "output_type": "stream",
     "text": [
      "2.7.12 |Anaconda 4.2.0 (64-bit)| (default, Jun 29 2016, 11:07:13) [MSC v.1500 64 bit (AMD64)]\n"
     ]
    }
   ],
   "source": [
    "from IPython.core.display import display, HTML\n",
    "display(HTML(\"<style>.container { width:95% !important; }</style>\"))\n",
    "import sys\n",
    "print (sys.version)"
   ]
  },
  {
   "cell_type": "markdown",
   "metadata": {},
   "source": [
    "## Import the Necessary Libraries\n",
    "Below are the libraries required to assemble the project."
   ]
  },
  {
   "cell_type": "code",
   "execution_count": 2,
   "metadata": {
    "collapsed": false
   },
   "outputs": [],
   "source": [
    "import pyodbc #CONNECT VIA PYODBC IMPORT THE PYODBC LIBRARY\n",
    "import pandas as pd #CONNECT TO THE PANDAS LIBRARY\n",
    "import numpy as np #IMPORT NUMPY\n",
    "import csv\n",
    "import seaborn as sns\n",
    "%matplotlib inline\n",
    "from matplotlib import pyplot as plt\n",
    "from matplotlib.ticker import MultipleLocator\n",
    "pd.options.mode.chained_assignment = None  # default='warn'\n",
    "#print pyodbc.dataSources()\n",
    "#conn=pyodbc.connect(\"Driver={NetezzaSQL};SERVER=10.80.10.70;PORT=5480;DATABASE=P_FDW;UID=djohnson;PWD=Sup3rm4n\",ansi=True)"
   ]
  },
  {
   "cell_type": "markdown",
   "metadata": {},
   "source": [
    "## Bambora Import"
   ]
  },
  {
   "cell_type": "code",
   "execution_count": 3,
   "metadata": {
    "collapsed": true
   },
   "outputs": [],
   "source": [
    "bb_column_names=['TRANSACTION_REF','ADDITIONAL_REFERENCE_2','PAYMENTREFERENCE','BB_TRANSACTION_TYPE','MCC','CONTRACT_ID','IIN','BIN_DESC','ORDERID','PAYMENT_PROCESSOR','MONTH','DAY','YEAR','PERIOD'\n",
    "              ,'ISSUER_COUNTRY','MERCHANT_COUNTRY','TRANSACTION_TYPE','CARD_SCHEME','CREDIT_DEBIT','CONSUMER_CORPORATE','SECURITY_LEVEL','REGIONALITY'\n",
    "              ,'PRODUCT_CODE','SF_FIXED_FEE','SF_PERC_FEE','CON_COM_BIN','VOLUME','ROUNDED_TRXN_AMOUNT','SCHEME_TOTAL_FEE_EUR','FLOW','BB_IC_TOTAL','BB_IC_BPS','BB_SF_BPS']"
   ]
  },
  {
   "cell_type": "code",
   "execution_count": 4,
   "metadata": {
    "collapsed": false
   },
   "outputs": [],
   "source": [
    "#import the file from local drives\n",
    "#bb=pd.read_csv('d:\\\\djohnson\\\\Desktop\\\\aib_comp_pull_bb_data.csv',error_bad_lines=False,skiprows=32,sep=';',names=bb_column_names,index_col=False)\n",
    "bb=pd.read_csv('d:\\\\djohnson\\\\Desktop\\\\aib_comp_pull_bb_data.csv',error_bad_lines=False,sep=';',skiprows=95,names=bb_column_names,index_col=False)"
   ]
  },
  {
   "cell_type": "code",
   "execution_count": 5,
   "metadata": {
    "collapsed": false
   },
   "outputs": [],
   "source": [
    "bb['BB_TRANSACTION_TYPE']=bb['BB_TRANSACTION_TYPE'].str.strip()\n",
    "bb['ISSUER_COUNTRY']=bb['ISSUER_COUNTRY'].str.strip()\n",
    "bb['MERCHANT_COUNTRY']=bb['MERCHANT_COUNTRY'].str.strip()\n",
    "bb['CARD_SCHEME']=bb['CARD_SCHEME'].str.strip()\n",
    "bb['CREDIT_DEBIT']=bb['CREDIT_DEBIT'].str.strip()\n",
    "bb['CONSUMER_CORPORATE']=bb['CONSUMER_CORPORATE'].str.strip()\n",
    "bb['REGIONALITY']=bb['REGIONALITY'].str.strip()\n",
    "bb['BIN_DESC']=bb['BIN_DESC'].str.strip()"
   ]
  },
  {
   "cell_type": "code",
   "execution_count": 6,
   "metadata": {
    "collapsed": false
   },
   "outputs": [],
   "source": [
    "#create a new copy and safe old in memory for working purposes and to prevent repeated import from local drive\n",
    "bb1=bb.copy()\n",
    "bb1=bb1.dropna()\n",
    "bb1=bb1.drop(['CON_COM_BIN'],axis=1)"
   ]
  },
  {
   "cell_type": "code",
   "execution_count": 7,
   "metadata": {
    "collapsed": false
   },
   "outputs": [
    {
     "data": {
      "text/plain": [
       "array([ 7.,  5.,  6.])"
      ]
     },
     "execution_count": 7,
     "metadata": {},
     "output_type": "execute_result"
    }
   ],
   "source": [
    "bb1['SECURITY_LEVEL'].unique()"
   ]
  },
  {
   "cell_type": "code",
   "execution_count": 8,
   "metadata": {
    "collapsed": false
   },
   "outputs": [],
   "source": [
    "bb1['SECURITY_LEVEL']=bb1['SECURITY_LEVEL'].apply(lambda x:'NON-SECURE' if (7 == x) or (0 == x) or (6 == x) else 'SECURE')"
   ]
  },
  {
   "cell_type": "code",
   "execution_count": 9,
   "metadata": {
    "collapsed": false
   },
   "outputs": [
    {
     "data": {
      "text/html": [
       "<div>\n",
       "<table border=\"1\" class=\"dataframe\">\n",
       "  <thead>\n",
       "    <tr style=\"text-align: right;\">\n",
       "      <th></th>\n",
       "      <th>TRANSACTION_REF</th>\n",
       "      <th>ADDITIONAL_REFERENCE_2</th>\n",
       "      <th>PAYMENTREFERENCE</th>\n",
       "      <th>BB_TRANSACTION_TYPE</th>\n",
       "      <th>MCC</th>\n",
       "      <th>CONTRACT_ID</th>\n",
       "      <th>IIN</th>\n",
       "      <th>BIN_DESC</th>\n",
       "      <th>ORDERID</th>\n",
       "      <th>PAYMENT_PROCESSOR</th>\n",
       "      <th>...</th>\n",
       "      <th>PRODUCT_CODE</th>\n",
       "      <th>SF_FIXED_FEE</th>\n",
       "      <th>SF_PERC_FEE</th>\n",
       "      <th>VOLUME</th>\n",
       "      <th>ROUNDED_TRXN_AMOUNT</th>\n",
       "      <th>SCHEME_TOTAL_FEE_EUR</th>\n",
       "      <th>FLOW</th>\n",
       "      <th>BB_IC_TOTAL</th>\n",
       "      <th>BB_IC_BPS</th>\n",
       "      <th>BB_SF_BPS</th>\n",
       "    </tr>\n",
       "  </thead>\n",
       "  <tbody>\n",
       "    <tr>\n",
       "      <th>1</th>\n",
       "      <td>226044368911</td>\n",
       "      <td>2.260444e+11</td>\n",
       "      <td>2.260444e+11</td>\n",
       "      <td>Sale</td>\n",
       "      <td>5399.0</td>\n",
       "      <td>5859.0</td>\n",
       "      <td>497886.0</td>\n",
       "      <td>CLASSIC</td>\n",
       "      <td>7.200080e+09</td>\n",
       "      <td>235.0</td>\n",
       "      <td>...</td>\n",
       "      <td>100440.0</td>\n",
       "      <td>0.004761</td>\n",
       "      <td>0.00024</td>\n",
       "      <td>1.0</td>\n",
       "      <td>187.0</td>\n",
       "      <td>0.049561</td>\n",
       "      <td>186.670000</td>\n",
       "      <td>0.560010</td>\n",
       "      <td>0.003000</td>\n",
       "      <td>0.000266</td>\n",
       "    </tr>\n",
       "    <tr>\n",
       "      <th>2</th>\n",
       "      <td>226051366113</td>\n",
       "      <td>2.260514e+11</td>\n",
       "      <td>2.260514e+11</td>\n",
       "      <td>Sale</td>\n",
       "      <td>5399.0</td>\n",
       "      <td>5859.0</td>\n",
       "      <td>535218.0</td>\n",
       "      <td>CLASSIC</td>\n",
       "      <td>7.200093e+09</td>\n",
       "      <td>235.0</td>\n",
       "      <td>...</td>\n",
       "      <td>100450.0</td>\n",
       "      <td>0.120247</td>\n",
       "      <td>0.00486</td>\n",
       "      <td>1.0</td>\n",
       "      <td>40.0</td>\n",
       "      <td>0.316400</td>\n",
       "      <td>40.360000</td>\n",
       "      <td>0.660000</td>\n",
       "      <td>0.016353</td>\n",
       "      <td>0.007839</td>\n",
       "    </tr>\n",
       "    <tr>\n",
       "      <th>3</th>\n",
       "      <td>226070415771</td>\n",
       "      <td>2.260704e+11</td>\n",
       "      <td>2.260704e+11</td>\n",
       "      <td>Sale</td>\n",
       "      <td>5399.0</td>\n",
       "      <td>5859.0</td>\n",
       "      <td>522661.0</td>\n",
       "      <td>CLASSIC</td>\n",
       "      <td>9.221370e+09</td>\n",
       "      <td>235.0</td>\n",
       "      <td>...</td>\n",
       "      <td>100455.0</td>\n",
       "      <td>0.165574</td>\n",
       "      <td>0.00081</td>\n",
       "      <td>1.0</td>\n",
       "      <td>23.0</td>\n",
       "      <td>0.034386</td>\n",
       "      <td>22.566265</td>\n",
       "      <td>0.067115</td>\n",
       "      <td>0.002974</td>\n",
       "      <td>0.001524</td>\n",
       "    </tr>\n",
       "    <tr>\n",
       "      <th>4</th>\n",
       "      <td>226061413145</td>\n",
       "      <td>2.260614e+11</td>\n",
       "      <td>2.260614e+11</td>\n",
       "      <td>Sale</td>\n",
       "      <td>5399.0</td>\n",
       "      <td>5859.0</td>\n",
       "      <td>497040.0</td>\n",
       "      <td>CLASSIC</td>\n",
       "      <td>7.200195e+09</td>\n",
       "      <td>235.0</td>\n",
       "      <td>...</td>\n",
       "      <td>100440.0</td>\n",
       "      <td>0.004761</td>\n",
       "      <td>0.00020</td>\n",
       "      <td>1.0</td>\n",
       "      <td>25.0</td>\n",
       "      <td>0.009729</td>\n",
       "      <td>24.840000</td>\n",
       "      <td>0.049680</td>\n",
       "      <td>0.002000</td>\n",
       "      <td>0.000392</td>\n",
       "    </tr>\n",
       "    <tr>\n",
       "      <th>5</th>\n",
       "      <td>225514628687</td>\n",
       "      <td>2.255146e+11</td>\n",
       "      <td>2.255146e+11</td>\n",
       "      <td>Sale</td>\n",
       "      <td>4814.0</td>\n",
       "      <td>9391.0</td>\n",
       "      <td>465858.0</td>\n",
       "      <td>CLASSIC</td>\n",
       "      <td>4.000023e+09</td>\n",
       "      <td>235.0</td>\n",
       "      <td>...</td>\n",
       "      <td>100441.0</td>\n",
       "      <td>0.004391</td>\n",
       "      <td>0.00020</td>\n",
       "      <td>1.0</td>\n",
       "      <td>7.0</td>\n",
       "      <td>0.007236</td>\n",
       "      <td>6.710923</td>\n",
       "      <td>0.013422</td>\n",
       "      <td>0.002000</td>\n",
       "      <td>0.001078</td>\n",
       "    </tr>\n",
       "  </tbody>\n",
       "</table>\n",
       "<p>5 rows × 32 columns</p>\n",
       "</div>"
      ],
      "text/plain": [
       "  TRANSACTION_REF  ADDITIONAL_REFERENCE_2  PAYMENTREFERENCE  \\\n",
       "1    226044368911            2.260444e+11      2.260444e+11   \n",
       "2    226051366113            2.260514e+11      2.260514e+11   \n",
       "3    226070415771            2.260704e+11      2.260704e+11   \n",
       "4    226061413145            2.260614e+11      2.260614e+11   \n",
       "5    225514628687            2.255146e+11      2.255146e+11   \n",
       "\n",
       "  BB_TRANSACTION_TYPE     MCC  CONTRACT_ID       IIN BIN_DESC       ORDERID  \\\n",
       "1                Sale  5399.0       5859.0  497886.0  CLASSIC  7.200080e+09   \n",
       "2                Sale  5399.0       5859.0  535218.0  CLASSIC  7.200093e+09   \n",
       "3                Sale  5399.0       5859.0  522661.0  CLASSIC  9.221370e+09   \n",
       "4                Sale  5399.0       5859.0  497040.0  CLASSIC  7.200195e+09   \n",
       "5                Sale  4814.0       9391.0  465858.0  CLASSIC  4.000023e+09   \n",
       "\n",
       "   PAYMENT_PROCESSOR    ...     PRODUCT_CODE  SF_FIXED_FEE  SF_PERC_FEE  \\\n",
       "1              235.0    ...         100440.0      0.004761      0.00024   \n",
       "2              235.0    ...         100450.0      0.120247      0.00486   \n",
       "3              235.0    ...         100455.0      0.165574      0.00081   \n",
       "4              235.0    ...         100440.0      0.004761      0.00020   \n",
       "5              235.0    ...         100441.0      0.004391      0.00020   \n",
       "\n",
       "  VOLUME ROUNDED_TRXN_AMOUNT SCHEME_TOTAL_FEE_EUR        FLOW BB_IC_TOTAL  \\\n",
       "1    1.0               187.0             0.049561  186.670000    0.560010   \n",
       "2    1.0                40.0             0.316400   40.360000    0.660000   \n",
       "3    1.0                23.0             0.034386   22.566265    0.067115   \n",
       "4    1.0                25.0             0.009729   24.840000    0.049680   \n",
       "5    1.0                 7.0             0.007236    6.710923    0.013422   \n",
       "\n",
       "  BB_IC_BPS BB_SF_BPS  \n",
       "1  0.003000  0.000266  \n",
       "2  0.016353  0.007839  \n",
       "3  0.002974  0.001524  \n",
       "4  0.002000  0.000392  \n",
       "5  0.002000  0.001078  \n",
       "\n",
       "[5 rows x 32 columns]"
      ]
     },
     "execution_count": 9,
     "metadata": {},
     "output_type": "execute_result"
    }
   ],
   "source": [
    "bb1=bb1[(bb1['BB_TRANSACTION_TYPE']=='Sale')]\n",
    "bb1=bb1.rename({'ROUNDED_TRXN_AMOUNT':'FLOW'})\n",
    "bb1.head()"
   ]
  },
  {
   "cell_type": "code",
   "execution_count": 10,
   "metadata": {
    "collapsed": false,
    "scrolled": false
   },
   "outputs": [
    {
     "name": "stdout",
     "output_type": "stream",
     "text": [
      "<class 'pandas.core.frame.DataFrame'>\n",
      "Int64Index: 358731 entries, 1 to 358731\n",
      "Data columns (total 32 columns):\n",
      "TRANSACTION_REF           358731 non-null object\n",
      "ADDITIONAL_REFERENCE_2    358731 non-null float64\n",
      "PAYMENTREFERENCE          358731 non-null float64\n",
      "BB_TRANSACTION_TYPE       358731 non-null object\n",
      "MCC                       358731 non-null float64\n",
      "CONTRACT_ID               358731 non-null float64\n",
      "IIN                       358731 non-null float64\n",
      "BIN_DESC                  358731 non-null object\n",
      "ORDERID                   358731 non-null float64\n",
      "PAYMENT_PROCESSOR         358731 non-null float64\n",
      "MONTH                     358731 non-null float64\n",
      "DAY                       358731 non-null float64\n",
      "YEAR                      358731 non-null float64\n",
      "PERIOD                    358731 non-null object\n",
      "ISSUER_COUNTRY            358731 non-null object\n",
      "MERCHANT_COUNTRY          358731 non-null object\n",
      "TRANSACTION_TYPE          358731 non-null object\n",
      "CARD_SCHEME               358731 non-null object\n",
      "CREDIT_DEBIT              358731 non-null object\n",
      "CONSUMER_CORPORATE        358731 non-null object\n",
      "SECURITY_LEVEL            358731 non-null object\n",
      "REGIONALITY               358731 non-null object\n",
      "PRODUCT_CODE              358731 non-null float64\n",
      "SF_FIXED_FEE              358731 non-null float64\n",
      "SF_PERC_FEE               358731 non-null float64\n",
      "VOLUME                    358731 non-null float64\n",
      "ROUNDED_TRXN_AMOUNT       358731 non-null float64\n",
      "SCHEME_TOTAL_FEE_EUR      358731 non-null float64\n",
      "FLOW                      358731 non-null float64\n",
      "BB_IC_TOTAL               358731 non-null float64\n",
      "BB_IC_BPS                 358731 non-null float64\n",
      "BB_SF_BPS                 358731 non-null float64\n",
      "dtypes: float64(20), object(12)\n",
      "memory usage: 90.3+ MB\n"
     ]
    }
   ],
   "source": [
    "bb1.info()"
   ]
  },
  {
   "cell_type": "code",
   "execution_count": 11,
   "metadata": {
    "collapsed": false
   },
   "outputs": [],
   "source": [
    "bb1_contracts=bb1[['CONTRACT_ID','ISSUER_COUNTRY','MERCHANT_COUNTRY','CARD_SCHEME','CREDIT_DEBIT','CONSUMER_CORPORATE','SECURITY_LEVEL','IIN','BIN_DESC']]"
   ]
  },
  {
   "cell_type": "code",
   "execution_count": 12,
   "metadata": {
    "collapsed": false
   },
   "outputs": [],
   "source": [
    "bb1=bb1[(bb1['BIN_DESC']!='')]"
   ]
  },
  {
   "cell_type": "code",
   "execution_count": 13,
   "metadata": {
    "collapsed": false
   },
   "outputs": [
    {
     "data": {
      "text/html": [
       "<div>\n",
       "<table border=\"1\" class=\"dataframe\">\n",
       "  <thead>\n",
       "    <tr style=\"text-align: right;\">\n",
       "      <th></th>\n",
       "      <th>CONTRACT_ID</th>\n",
       "      <th>ISSUER_COUNTRY</th>\n",
       "      <th>MERCHANT_COUNTRY</th>\n",
       "      <th>CARD_SCHEME</th>\n",
       "      <th>CREDIT_DEBIT</th>\n",
       "      <th>CONSUMER_CORPORATE</th>\n",
       "      <th>SECURITY_LEVEL</th>\n",
       "      <th>IIN</th>\n",
       "      <th>BIN_DESC</th>\n",
       "    </tr>\n",
       "  </thead>\n",
       "  <tbody>\n",
       "    <tr>\n",
       "      <th>1</th>\n",
       "      <td>5859.0</td>\n",
       "      <td>France</td>\n",
       "      <td>United Kingdom</td>\n",
       "      <td>Visa</td>\n",
       "      <td>Credit</td>\n",
       "      <td>Consumer</td>\n",
       "      <td>NON-SECURE</td>\n",
       "      <td>497886.0</td>\n",
       "      <td>CLASSIC</td>\n",
       "    </tr>\n",
       "    <tr>\n",
       "      <th>2</th>\n",
       "      <td>5859.0</td>\n",
       "      <td>Bosnia and Herzegovina</td>\n",
       "      <td>United Kingdom</td>\n",
       "      <td>Mastercard</td>\n",
       "      <td>Debit</td>\n",
       "      <td>Consumer</td>\n",
       "      <td>NON-SECURE</td>\n",
       "      <td>535218.0</td>\n",
       "      <td>CLASSIC</td>\n",
       "    </tr>\n",
       "    <tr>\n",
       "      <th>3</th>\n",
       "      <td>5859.0</td>\n",
       "      <td>Sweden</td>\n",
       "      <td>United Kingdom</td>\n",
       "      <td>Mastercard</td>\n",
       "      <td>Credit</td>\n",
       "      <td>Consumer</td>\n",
       "      <td>NON-SECURE</td>\n",
       "      <td>522661.0</td>\n",
       "      <td>CLASSIC</td>\n",
       "    </tr>\n",
       "    <tr>\n",
       "      <th>4</th>\n",
       "      <td>5859.0</td>\n",
       "      <td>France</td>\n",
       "      <td>United Kingdom</td>\n",
       "      <td>Visa</td>\n",
       "      <td>Debit</td>\n",
       "      <td>Consumer</td>\n",
       "      <td>NON-SECURE</td>\n",
       "      <td>497040.0</td>\n",
       "      <td>CLASSIC</td>\n",
       "    </tr>\n",
       "    <tr>\n",
       "      <th>5</th>\n",
       "      <td>9391.0</td>\n",
       "      <td>United Kingdom</td>\n",
       "      <td>United Kingdom</td>\n",
       "      <td>Visa</td>\n",
       "      <td>Debit</td>\n",
       "      <td>Consumer</td>\n",
       "      <td>SECURE</td>\n",
       "      <td>465858.0</td>\n",
       "      <td>CLASSIC</td>\n",
       "    </tr>\n",
       "  </tbody>\n",
       "</table>\n",
       "</div>"
      ],
      "text/plain": [
       "   CONTRACT_ID          ISSUER_COUNTRY MERCHANT_COUNTRY CARD_SCHEME  \\\n",
       "1       5859.0                  France   United Kingdom        Visa   \n",
       "2       5859.0  Bosnia and Herzegovina   United Kingdom  Mastercard   \n",
       "3       5859.0                  Sweden   United Kingdom  Mastercard   \n",
       "4       5859.0                  France   United Kingdom        Visa   \n",
       "5       9391.0          United Kingdom   United Kingdom        Visa   \n",
       "\n",
       "  CREDIT_DEBIT CONSUMER_CORPORATE SECURITY_LEVEL       IIN BIN_DESC  \n",
       "1       Credit           Consumer     NON-SECURE  497886.0  CLASSIC  \n",
       "2        Debit           Consumer     NON-SECURE  535218.0  CLASSIC  \n",
       "3       Credit           Consumer     NON-SECURE  522661.0  CLASSIC  \n",
       "4        Debit           Consumer     NON-SECURE  497040.0  CLASSIC  \n",
       "5        Debit           Consumer         SECURE  465858.0  CLASSIC  "
      ]
     },
     "execution_count": 13,
     "metadata": {},
     "output_type": "execute_result"
    }
   ],
   "source": [
    "bb1_contracts.head()"
   ]
  },
  {
   "cell_type": "code",
   "execution_count": 14,
   "metadata": {
    "collapsed": false
   },
   "outputs": [],
   "source": [
    "bb1_contracts=bb1_contracts.drop_duplicates()"
   ]
  },
  {
   "cell_type": "code",
   "execution_count": 15,
   "metadata": {
    "collapsed": false
   },
   "outputs": [
    {
     "name": "stdout",
     "output_type": "stream",
     "text": [
      "<class 'pandas.core.frame.DataFrame'>\n",
      "Int64Index: 30742 entries, 1 to 358708\n",
      "Data columns (total 9 columns):\n",
      "CONTRACT_ID           30742 non-null float64\n",
      "ISSUER_COUNTRY        30742 non-null object\n",
      "MERCHANT_COUNTRY      30742 non-null object\n",
      "CARD_SCHEME           30742 non-null object\n",
      "CREDIT_DEBIT          30742 non-null object\n",
      "CONSUMER_CORPORATE    30742 non-null object\n",
      "SECURITY_LEVEL        30742 non-null object\n",
      "IIN                   30742 non-null float64\n",
      "BIN_DESC              30742 non-null object\n",
      "dtypes: float64(2), object(7)\n",
      "memory usage: 2.3+ MB\n"
     ]
    }
   ],
   "source": [
    "bb1_contracts.info()"
   ]
  },
  {
   "cell_type": "code",
   "execution_count": 16,
   "metadata": {
    "collapsed": false
   },
   "outputs": [],
   "source": [
    "bb1_contracts.to_csv('d:\\\\djohnson\\\\Desktop\\\\bb1_contracts.csv')"
   ]
  },
  {
   "cell_type": "markdown",
   "metadata": {},
   "source": [
    "## AIB Import"
   ]
  },
  {
   "cell_type": "code",
   "execution_count": 17,
   "metadata": {
    "collapsed": false
   },
   "outputs": [],
   "source": [
    "#name the columns\n",
    "#all monetary is in euros\n",
    "ab_column_names=['TRANSACTION_DATE','CONTRACT_ID','ISSUER_COUNTRY','IIN','BIN_DESC','CARD_SCHEME','MERCHANT_COUNTRY','TRANSACTION_TYPE','SECURITY_LEVEL','CARD_TYPE','IC_DESCRIPTION','FLOW','AIB_SF_RATE_AMOUNT','AIB_SF_PERC','AIB_SF_TOTAL','AIB_IC_RATE','AIB_IC_PERC','AIB_IC_TOTAL','AIB_SF_BPS','AIB_IC_BPS','CREDIT_DEBIT','CONSUMER_CORPORATE']"
   ]
  },
  {
   "cell_type": "code",
   "execution_count": 18,
   "metadata": {
    "collapsed": false
   },
   "outputs": [],
   "source": [
    "#import the file from local drives\n",
    "ab=pd.read_csv('d:\\\\djohnson\\\\Desktop\\\\aib_comp_pull_aib_data.csv',error_bad_lines=False,skiprows=40,names=ab_column_names,sep=';',index_col=False)"
   ]
  },
  {
   "cell_type": "code",
   "execution_count": 19,
   "metadata": {
    "collapsed": true
   },
   "outputs": [],
   "source": [
    "ab['ISSUER_COUNTRY']=ab['ISSUER_COUNTRY'].str.strip()\n",
    "ab['CARD_SCHEME']=ab['CARD_SCHEME'].str.strip()\n",
    "ab['MERCHANT_COUNTRY']=ab['MERCHANT_COUNTRY'].str.strip()\n",
    "ab['TRANSACTION_TYPE']=ab['TRANSACTION_TYPE'].str.strip()\n",
    "ab['SECURITY_LEVEL']=ab['SECURITY_LEVEL'].str.strip()\n",
    "ab['CARD_TYPE']=ab['CARD_TYPE'].str.strip()\n",
    "ab['IC_DESCRIPTION']=ab['IC_DESCRIPTION'].str.strip()\n",
    "ab['CREDIT_DEBIT']=ab['CREDIT_DEBIT'].str.strip()\n",
    "ab['CONSUMER_CORPORATE']=ab['CONSUMER_CORPORATE'].str.strip()\n",
    "ab['SECURITY_LEVEL']=ab['SECURITY_LEVEL'].str.strip()\n",
    "ab['CONTRACT_ID']=ab['CONTRACT_ID'].astype(float)\n",
    "ab['BIN_DESC']=ab['BIN_DESC'].str.strip()"
   ]
  },
  {
   "cell_type": "code",
   "execution_count": 20,
   "metadata": {
    "collapsed": false
   },
   "outputs": [],
   "source": [
    "#create a new copy and safe old in memory for working purposes and to prevent repeated import from local drive\n",
    "ab1=ab.copy()"
   ]
  },
  {
   "cell_type": "code",
   "execution_count": 21,
   "metadata": {
    "collapsed": false
   },
   "outputs": [
    {
     "data": {
      "text/plain": [
       "array(['Channel encrypted', 'Not relevant'], dtype=object)"
      ]
     },
     "execution_count": 21,
     "metadata": {},
     "output_type": "execute_result"
    }
   ],
   "source": [
    "ab1['SECURITY_LEVEL'].unique()"
   ]
  },
  {
   "cell_type": "code",
   "execution_count": 22,
   "metadata": {
    "collapsed": false
   },
   "outputs": [],
   "source": [
    "ab1['SECURITY_LEVEL']=ab['SECURITY_LEVEL'].apply(lambda x:'NON-SECURE' if ('Not authenticated security transaction at a merchant who supports Verified-by-VISA - 3D-Secure' == x) or ('Not authenticated security transaction at a merchant who supports MasterCard SecureCode - UCAF' == x) or ('Channel encrypted' == x) or ('Not relevant' == x) else 'SECURE')"
   ]
  },
  {
   "cell_type": "code",
   "execution_count": 23,
   "metadata": {
    "collapsed": false
   },
   "outputs": [],
   "source": [
    "ab1['CREDIT_DEBIT']=ab['CREDIT_DEBIT'].apply(lambda x:'Debit' if ('Prepaid' == x) or ('Debit'== x) else 'Credit')"
   ]
  },
  {
   "cell_type": "code",
   "execution_count": 24,
   "metadata": {
    "collapsed": false,
    "scrolled": false
   },
   "outputs": [
    {
     "data": {
      "text/html": [
       "<div>\n",
       "<table border=\"1\" class=\"dataframe\">\n",
       "  <thead>\n",
       "    <tr style=\"text-align: right;\">\n",
       "      <th></th>\n",
       "      <th>TRANSACTION_DATE</th>\n",
       "      <th>CONTRACT_ID</th>\n",
       "      <th>ISSUER_COUNTRY</th>\n",
       "      <th>IIN</th>\n",
       "      <th>BIN_DESC</th>\n",
       "      <th>CARD_SCHEME</th>\n",
       "      <th>MERCHANT_COUNTRY</th>\n",
       "      <th>TRANSACTION_TYPE</th>\n",
       "      <th>SECURITY_LEVEL</th>\n",
       "      <th>CARD_TYPE</th>\n",
       "      <th>...</th>\n",
       "      <th>AIB_SF_RATE_AMOUNT</th>\n",
       "      <th>AIB_SF_PERC</th>\n",
       "      <th>AIB_SF_TOTAL</th>\n",
       "      <th>AIB_IC_RATE</th>\n",
       "      <th>AIB_IC_PERC</th>\n",
       "      <th>AIB_IC_TOTAL</th>\n",
       "      <th>AIB_SF_BPS</th>\n",
       "      <th>AIB_IC_BPS</th>\n",
       "      <th>CREDIT_DEBIT</th>\n",
       "      <th>CONSUMER_CORPORATE</th>\n",
       "    </tr>\n",
       "  </thead>\n",
       "  <tbody>\n",
       "    <tr>\n",
       "      <th>0</th>\n",
       "      <td>09-NOV-17</td>\n",
       "      <td>2095.0</td>\n",
       "      <td>Kazakhstan</td>\n",
       "      <td>405255</td>\n",
       "      <td>CLASSIC</td>\n",
       "      <td>Visa</td>\n",
       "      <td>Luxembourg</td>\n",
       "      <td>Sale</td>\n",
       "      <td>NON-SECURE</td>\n",
       "      <td>Visa Classic Debit</td>\n",
       "      <td>...</td>\n",
       "      <td>.07</td>\n",
       "      <td>.54</td>\n",
       "      <td>0.083736</td>\n",
       "      <td>0.0</td>\n",
       "      <td>1.6</td>\n",
       "      <td>0.041887</td>\n",
       "      <td>0.027912</td>\n",
       "      <td>0.013962</td>\n",
       "      <td>Debit</td>\n",
       "      <td>Consumer</td>\n",
       "    </tr>\n",
       "    <tr>\n",
       "      <th>1</th>\n",
       "      <td>14-NOV-17</td>\n",
       "      <td>1946.0</td>\n",
       "      <td>Spain</td>\n",
       "      <td>494019</td>\n",
       "      <td>CLASSIC</td>\n",
       "      <td>Visa</td>\n",
       "      <td>Luxembourg</td>\n",
       "      <td>Sale</td>\n",
       "      <td>NON-SECURE</td>\n",
       "      <td>Visa Classic Debit</td>\n",
       "      <td>...</td>\n",
       "      <td>.01</td>\n",
       "      <td>.02</td>\n",
       "      <td>0.021032</td>\n",
       "      <td>0.0</td>\n",
       "      <td>0.2</td>\n",
       "      <td>0.020640</td>\n",
       "      <td>0.002103</td>\n",
       "      <td>0.002064</td>\n",
       "      <td>Debit</td>\n",
       "      <td>Consumer</td>\n",
       "    </tr>\n",
       "    <tr>\n",
       "      <th>2</th>\n",
       "      <td>09-NOV-17</td>\n",
       "      <td>1946.0</td>\n",
       "      <td>United States</td>\n",
       "      <td>443041</td>\n",
       "      <td>CLASSIC</td>\n",
       "      <td>Visa</td>\n",
       "      <td>Luxembourg</td>\n",
       "      <td>Sale</td>\n",
       "      <td>NON-SECURE</td>\n",
       "      <td>Visa Classic Debit</td>\n",
       "      <td>...</td>\n",
       "      <td>.07</td>\n",
       "      <td>.54</td>\n",
       "      <td>0.084484</td>\n",
       "      <td>0.0</td>\n",
       "      <td>1.6</td>\n",
       "      <td>0.042554</td>\n",
       "      <td>0.028161</td>\n",
       "      <td>0.014185</td>\n",
       "      <td>Debit</td>\n",
       "      <td>Consumer</td>\n",
       "    </tr>\n",
       "    <tr>\n",
       "      <th>3</th>\n",
       "      <td>09-NOV-17</td>\n",
       "      <td>1946.0</td>\n",
       "      <td>Latvia</td>\n",
       "      <td>516897</td>\n",
       "      <td>CLASSIC</td>\n",
       "      <td>MasterCard</td>\n",
       "      <td>Luxembourg</td>\n",
       "      <td>Sale</td>\n",
       "      <td>NON-SECURE</td>\n",
       "      <td>Mastercard Debit Standard Card</td>\n",
       "      <td>...</td>\n",
       "      <td>.03</td>\n",
       "      <td>.059</td>\n",
       "      <td>0.055605</td>\n",
       "      <td>0.0</td>\n",
       "      <td>0.2</td>\n",
       "      <td>0.079123</td>\n",
       "      <td>0.001390</td>\n",
       "      <td>0.001978</td>\n",
       "      <td>Debit</td>\n",
       "      <td>Consumer</td>\n",
       "    </tr>\n",
       "    <tr>\n",
       "      <th>4</th>\n",
       "      <td>09-NOV-17</td>\n",
       "      <td>1946.0</td>\n",
       "      <td>Poland</td>\n",
       "      <td>460309</td>\n",
       "      <td>CLASSIC</td>\n",
       "      <td>Visa</td>\n",
       "      <td>Luxembourg</td>\n",
       "      <td>Sale</td>\n",
       "      <td>NON-SECURE</td>\n",
       "      <td>Visa Gold</td>\n",
       "      <td>...</td>\n",
       "      <td>.01</td>\n",
       "      <td>.03</td>\n",
       "      <td>0.020517</td>\n",
       "      <td>0.0</td>\n",
       "      <td>0.3</td>\n",
       "      <td>0.008725</td>\n",
       "      <td>0.006839</td>\n",
       "      <td>0.002908</td>\n",
       "      <td>Credit</td>\n",
       "      <td>Consumer</td>\n",
       "    </tr>\n",
       "  </tbody>\n",
       "</table>\n",
       "<p>5 rows × 22 columns</p>\n",
       "</div>"
      ],
      "text/plain": [
       "  TRANSACTION_DATE  CONTRACT_ID ISSUER_COUNTRY     IIN BIN_DESC CARD_SCHEME  \\\n",
       "0        09-NOV-17       2095.0     Kazakhstan  405255  CLASSIC        Visa   \n",
       "1        14-NOV-17       1946.0          Spain  494019  CLASSIC        Visa   \n",
       "2        09-NOV-17       1946.0  United States  443041  CLASSIC        Visa   \n",
       "3        09-NOV-17       1946.0         Latvia  516897  CLASSIC  MasterCard   \n",
       "4        09-NOV-17       1946.0         Poland  460309  CLASSIC        Visa   \n",
       "\n",
       "  MERCHANT_COUNTRY TRANSACTION_TYPE SECURITY_LEVEL  \\\n",
       "0       Luxembourg             Sale     NON-SECURE   \n",
       "1       Luxembourg             Sale     NON-SECURE   \n",
       "2       Luxembourg             Sale     NON-SECURE   \n",
       "3       Luxembourg             Sale     NON-SECURE   \n",
       "4       Luxembourg             Sale     NON-SECURE   \n",
       "\n",
       "                        CARD_TYPE         ...         AIB_SF_RATE_AMOUNT  \\\n",
       "0              Visa Classic Debit         ...                        .07   \n",
       "1              Visa Classic Debit         ...                        .01   \n",
       "2              Visa Classic Debit         ...                        .07   \n",
       "3  Mastercard Debit Standard Card         ...                        .03   \n",
       "4                       Visa Gold         ...                        .01   \n",
       "\n",
       "    AIB_SF_PERC AIB_SF_TOTAL AIB_IC_RATE  AIB_IC_PERC  AIB_IC_TOTAL  \\\n",
       "0           .54     0.083736         0.0          1.6      0.041887   \n",
       "1           .02     0.021032         0.0          0.2      0.020640   \n",
       "2           .54     0.084484         0.0          1.6      0.042554   \n",
       "3          .059     0.055605         0.0          0.2      0.079123   \n",
       "4           .03     0.020517         0.0          0.3      0.008725   \n",
       "\n",
       "   AIB_SF_BPS  AIB_IC_BPS  CREDIT_DEBIT  CONSUMER_CORPORATE  \n",
       "0    0.027912    0.013962         Debit            Consumer  \n",
       "1    0.002103    0.002064         Debit            Consumer  \n",
       "2    0.028161    0.014185         Debit            Consumer  \n",
       "3    0.001390    0.001978         Debit            Consumer  \n",
       "4    0.006839    0.002908        Credit            Consumer  \n",
       "\n",
       "[5 rows x 22 columns]"
      ]
     },
     "execution_count": 24,
     "metadata": {},
     "output_type": "execute_result"
    }
   ],
   "source": [
    "ab1.head()"
   ]
  },
  {
   "cell_type": "code",
   "execution_count": 25,
   "metadata": {
    "collapsed": false
   },
   "outputs": [],
   "source": [
    "ab2=ab1[['CONTRACT_ID','ISSUER_COUNTRY','MERCHANT_COUNTRY','CARD_SCHEME','CREDIT_DEBIT','CONSUMER_CORPORATE','SECURITY_LEVEL','BIN_DESC']].drop_duplicates()"
   ]
  },
  {
   "cell_type": "code",
   "execution_count": 26,
   "metadata": {
    "collapsed": true
   },
   "outputs": [],
   "source": [
    "ab2.to_csv('d:\\\\djohnson\\\\Desktop\\\\ab2.csv')"
   ]
  },
  {
   "cell_type": "code",
   "execution_count": 27,
   "metadata": {
    "collapsed": false
   },
   "outputs": [
    {
     "name": "stdout",
     "output_type": "stream",
     "text": [
      "<class 'pandas.core.frame.DataFrame'>\n",
      "RangeIndex: 4273736 entries, 0 to 4273735\n",
      "Data columns (total 22 columns):\n",
      "TRANSACTION_DATE      object\n",
      "CONTRACT_ID           float64\n",
      "ISSUER_COUNTRY        object\n",
      "IIN                   int64\n",
      "BIN_DESC              object\n",
      "CARD_SCHEME           object\n",
      "MERCHANT_COUNTRY      object\n",
      "TRANSACTION_TYPE      object\n",
      "SECURITY_LEVEL        object\n",
      "CARD_TYPE             object\n",
      "IC_DESCRIPTION        object\n",
      "FLOW                  int64\n",
      "AIB_SF_RATE_AMOUNT    object\n",
      "AIB_SF_PERC           object\n",
      "AIB_SF_TOTAL          float64\n",
      "AIB_IC_RATE           float64\n",
      "AIB_IC_PERC           float64\n",
      "AIB_IC_TOTAL          float64\n",
      "AIB_SF_BPS            float64\n",
      "AIB_IC_BPS            float64\n",
      "CREDIT_DEBIT          object\n",
      "CONSUMER_CORPORATE    object\n",
      "dtypes: float64(7), int64(2), object(13)\n",
      "memory usage: 717.3+ MB\n"
     ]
    }
   ],
   "source": [
    "ab1.info()"
   ]
  },
  {
   "cell_type": "code",
   "execution_count": 55,
   "metadata": {
    "collapsed": false
   },
   "outputs": [],
   "source": [
    "ab1=ab1[['CONTRACT_ID','ISSUER_COUNTRY','MERCHANT_COUNTRY','BIN_DESC','SECURITY_LEVEL','CARD_SCHEME','CREDIT_DEBIT','CONSUMER_CORPORATE','FLOW','AIB_SF_RATE_AMOUNT','AIB_SF_PERC','AIB_SF_BPS','AIB_SF_TOTAL']].drop_duplicates()"
   ]
  },
  {
   "cell_type": "code",
   "execution_count": 56,
   "metadata": {
    "collapsed": false
   },
   "outputs": [
    {
     "name": "stdout",
     "output_type": "stream",
     "text": [
      "<class 'pandas.core.frame.DataFrame'>\n",
      "Int64Index: 2783626 entries, 0 to 4273733\n",
      "Data columns (total 13 columns):\n",
      "CONTRACT_ID           float64\n",
      "ISSUER_COUNTRY        object\n",
      "MERCHANT_COUNTRY      object\n",
      "BIN_DESC              object\n",
      "SECURITY_LEVEL        object\n",
      "CARD_SCHEME           object\n",
      "CREDIT_DEBIT          object\n",
      "CONSUMER_CORPORATE    object\n",
      "FLOW                  int64\n",
      "AIB_SF_RATE_AMOUNT    object\n",
      "AIB_SF_PERC           object\n",
      "AIB_SF_BPS            float64\n",
      "AIB_SF_TOTAL          float64\n",
      "dtypes: float64(3), int64(1), object(9)\n",
      "memory usage: 297.3+ MB\n"
     ]
    }
   ],
   "source": [
    "ab1.info()"
   ]
  },
  {
   "cell_type": "markdown",
   "metadata": {},
   "source": [
    "## Attach AIB Lanes to Active Bambora Lanes \n",
    "This is a left join that will show all active Bambora lanes on only those AIB lanes where there is congruence."
   ]
  },
  {
   "cell_type": "code",
   "execution_count": 72,
   "metadata": {
    "collapsed": false
   },
   "outputs": [],
   "source": [
    "#ab_bb_combo=pd.merge(bb1_contracts,ab1,on=['CONTRACT_ID','ISSUER_COUNTRY','MERCHANT_COUNTRY','CARD_SCHEME','CREDIT_DEBIT','CONSUMER_CORPORATE','SECURITY_LEVEL','IIN'],how='left')\n",
    "ab_bb_combo=pd.merge(bb1_contracts,ab1,on=['CONTRACT_ID','ISSUER_COUNTRY','MERCHANT_COUNTRY','CARD_SCHEME','CREDIT_DEBIT','CONSUMER_CORPORATE','SECURITY_LEVEL','BIN_DESC'],how='left')"
   ]
  },
  {
   "cell_type": "code",
   "execution_count": 73,
   "metadata": {
    "collapsed": false
   },
   "outputs": [
    {
     "data": {
      "text/html": [
       "<div>\n",
       "<table border=\"1\" class=\"dataframe\">\n",
       "  <thead>\n",
       "    <tr style=\"text-align: right;\">\n",
       "      <th></th>\n",
       "      <th>CONTRACT_ID</th>\n",
       "      <th>ISSUER_COUNTRY</th>\n",
       "      <th>MERCHANT_COUNTRY</th>\n",
       "      <th>CARD_SCHEME</th>\n",
       "      <th>CREDIT_DEBIT</th>\n",
       "      <th>CONSUMER_CORPORATE</th>\n",
       "      <th>SECURITY_LEVEL</th>\n",
       "      <th>IIN</th>\n",
       "      <th>BIN_DESC</th>\n",
       "      <th>FLOW</th>\n",
       "      <th>AIB_SF_RATE_AMOUNT</th>\n",
       "      <th>AIB_SF_PERC</th>\n",
       "      <th>AIB_SF_BPS</th>\n",
       "      <th>AIB_SF_TOTAL</th>\n",
       "    </tr>\n",
       "  </thead>\n",
       "  <tbody>\n",
       "    <tr>\n",
       "      <th>0</th>\n",
       "      <td>5859.0</td>\n",
       "      <td>France</td>\n",
       "      <td>United Kingdom</td>\n",
       "      <td>Visa</td>\n",
       "      <td>Credit</td>\n",
       "      <td>Consumer</td>\n",
       "      <td>NON-SECURE</td>\n",
       "      <td>497886.0</td>\n",
       "      <td>CLASSIC</td>\n",
       "      <td>NaN</td>\n",
       "      <td>NaN</td>\n",
       "      <td>NaN</td>\n",
       "      <td>NaN</td>\n",
       "      <td>NaN</td>\n",
       "    </tr>\n",
       "    <tr>\n",
       "      <th>1</th>\n",
       "      <td>5859.0</td>\n",
       "      <td>Bosnia and Herzegovina</td>\n",
       "      <td>United Kingdom</td>\n",
       "      <td>Mastercard</td>\n",
       "      <td>Debit</td>\n",
       "      <td>Consumer</td>\n",
       "      <td>NON-SECURE</td>\n",
       "      <td>535218.0</td>\n",
       "      <td>CLASSIC</td>\n",
       "      <td>NaN</td>\n",
       "      <td>NaN</td>\n",
       "      <td>NaN</td>\n",
       "      <td>NaN</td>\n",
       "      <td>NaN</td>\n",
       "    </tr>\n",
       "    <tr>\n",
       "      <th>2</th>\n",
       "      <td>5859.0</td>\n",
       "      <td>Sweden</td>\n",
       "      <td>United Kingdom</td>\n",
       "      <td>Mastercard</td>\n",
       "      <td>Credit</td>\n",
       "      <td>Consumer</td>\n",
       "      <td>NON-SECURE</td>\n",
       "      <td>522661.0</td>\n",
       "      <td>CLASSIC</td>\n",
       "      <td>NaN</td>\n",
       "      <td>NaN</td>\n",
       "      <td>NaN</td>\n",
       "      <td>NaN</td>\n",
       "      <td>NaN</td>\n",
       "    </tr>\n",
       "    <tr>\n",
       "      <th>3</th>\n",
       "      <td>5859.0</td>\n",
       "      <td>France</td>\n",
       "      <td>United Kingdom</td>\n",
       "      <td>Visa</td>\n",
       "      <td>Debit</td>\n",
       "      <td>Consumer</td>\n",
       "      <td>NON-SECURE</td>\n",
       "      <td>497040.0</td>\n",
       "      <td>CLASSIC</td>\n",
       "      <td>NaN</td>\n",
       "      <td>NaN</td>\n",
       "      <td>NaN</td>\n",
       "      <td>NaN</td>\n",
       "      <td>NaN</td>\n",
       "    </tr>\n",
       "    <tr>\n",
       "      <th>4</th>\n",
       "      <td>9391.0</td>\n",
       "      <td>United Kingdom</td>\n",
       "      <td>United Kingdom</td>\n",
       "      <td>Visa</td>\n",
       "      <td>Debit</td>\n",
       "      <td>Consumer</td>\n",
       "      <td>SECURE</td>\n",
       "      <td>465858.0</td>\n",
       "      <td>CLASSIC</td>\n",
       "      <td>NaN</td>\n",
       "      <td>NaN</td>\n",
       "      <td>NaN</td>\n",
       "      <td>NaN</td>\n",
       "      <td>NaN</td>\n",
       "    </tr>\n",
       "  </tbody>\n",
       "</table>\n",
       "</div>"
      ],
      "text/plain": [
       "   CONTRACT_ID          ISSUER_COUNTRY MERCHANT_COUNTRY CARD_SCHEME  \\\n",
       "0       5859.0                  France   United Kingdom        Visa   \n",
       "1       5859.0  Bosnia and Herzegovina   United Kingdom  Mastercard   \n",
       "2       5859.0                  Sweden   United Kingdom  Mastercard   \n",
       "3       5859.0                  France   United Kingdom        Visa   \n",
       "4       9391.0          United Kingdom   United Kingdom        Visa   \n",
       "\n",
       "  CREDIT_DEBIT CONSUMER_CORPORATE SECURITY_LEVEL       IIN BIN_DESC  FLOW  \\\n",
       "0       Credit           Consumer     NON-SECURE  497886.0  CLASSIC   NaN   \n",
       "1        Debit           Consumer     NON-SECURE  535218.0  CLASSIC   NaN   \n",
       "2       Credit           Consumer     NON-SECURE  522661.0  CLASSIC   NaN   \n",
       "3        Debit           Consumer     NON-SECURE  497040.0  CLASSIC   NaN   \n",
       "4        Debit           Consumer         SECURE  465858.0  CLASSIC   NaN   \n",
       "\n",
       "  AIB_SF_RATE_AMOUNT AIB_SF_PERC  AIB_SF_BPS  AIB_SF_TOTAL  \n",
       "0                NaN         NaN         NaN           NaN  \n",
       "1                NaN         NaN         NaN           NaN  \n",
       "2                NaN         NaN         NaN           NaN  \n",
       "3                NaN         NaN         NaN           NaN  \n",
       "4                NaN         NaN         NaN           NaN  "
      ]
     },
     "execution_count": 73,
     "metadata": {},
     "output_type": "execute_result"
    }
   ],
   "source": [
    "ab_bb_combo.head()"
   ]
  },
  {
   "cell_type": "markdown",
   "metadata": {},
   "source": [
    "### Only show those lanes where there is activity for AIB and Bambora\n",
    "This is done but filtering to only those results that have scheme fee information"
   ]
  },
  {
   "cell_type": "code",
   "execution_count": 74,
   "metadata": {
    "collapsed": false
   },
   "outputs": [],
   "source": [
    "ab_bb_combo=ab_bb_combo[(ab_bb_combo['AIB_SF_PERC'].notnull())]"
   ]
  },
  {
   "cell_type": "code",
   "execution_count": 76,
   "metadata": {
    "collapsed": false
   },
   "outputs": [
    {
     "data": {
      "text/html": [
       "<div>\n",
       "<table border=\"1\" class=\"dataframe\">\n",
       "  <thead>\n",
       "    <tr style=\"text-align: right;\">\n",
       "      <th></th>\n",
       "      <th>CONTRACT_ID</th>\n",
       "      <th>ISSUER_COUNTRY</th>\n",
       "      <th>MERCHANT_COUNTRY</th>\n",
       "      <th>CARD_SCHEME</th>\n",
       "      <th>CREDIT_DEBIT</th>\n",
       "      <th>CONSUMER_CORPORATE</th>\n",
       "      <th>SECURITY_LEVEL</th>\n",
       "      <th>IIN</th>\n",
       "      <th>BIN_DESC</th>\n",
       "      <th>FLOW</th>\n",
       "      <th>AIB_SF_RATE_AMOUNT</th>\n",
       "      <th>AIB_SF_PERC</th>\n",
       "      <th>AIB_SF_BPS</th>\n",
       "      <th>AIB_SF_TOTAL</th>\n",
       "    </tr>\n",
       "  </thead>\n",
       "  <tbody>\n",
       "    <tr>\n",
       "      <th>17</th>\n",
       "      <td>6891.0</td>\n",
       "      <td>Poland</td>\n",
       "      <td>Germany</td>\n",
       "      <td>Visa</td>\n",
       "      <td>Debit</td>\n",
       "      <td>Consumer</td>\n",
       "      <td>NON-SECURE</td>\n",
       "      <td>469878.0</td>\n",
       "      <td>CLASSIC</td>\n",
       "      <td>9.0</td>\n",
       "      <td>.00852</td>\n",
       "      <td>.0002</td>\n",
       "      <td>0.002316</td>\n",
       "      <td>0.020845</td>\n",
       "    </tr>\n",
       "    <tr>\n",
       "      <th>18</th>\n",
       "      <td>6891.0</td>\n",
       "      <td>Poland</td>\n",
       "      <td>Germany</td>\n",
       "      <td>Visa</td>\n",
       "      <td>Debit</td>\n",
       "      <td>Consumer</td>\n",
       "      <td>NON-SECURE</td>\n",
       "      <td>469878.0</td>\n",
       "      <td>CLASSIC</td>\n",
       "      <td>9.0</td>\n",
       "      <td></td>\n",
       "      <td></td>\n",
       "      <td>0.002318</td>\n",
       "      <td>0.020865</td>\n",
       "    </tr>\n",
       "    <tr>\n",
       "      <th>19</th>\n",
       "      <td>6891.0</td>\n",
       "      <td>Poland</td>\n",
       "      <td>Germany</td>\n",
       "      <td>Visa</td>\n",
       "      <td>Debit</td>\n",
       "      <td>Consumer</td>\n",
       "      <td>NON-SECURE</td>\n",
       "      <td>469878.0</td>\n",
       "      <td>CLASSIC</td>\n",
       "      <td>9.0</td>\n",
       "      <td>.01</td>\n",
       "      <td>.0002</td>\n",
       "      <td>0.002318</td>\n",
       "      <td>0.020865</td>\n",
       "    </tr>\n",
       "    <tr>\n",
       "      <th>20</th>\n",
       "      <td>6891.0</td>\n",
       "      <td>Poland</td>\n",
       "      <td>Germany</td>\n",
       "      <td>Visa</td>\n",
       "      <td>Debit</td>\n",
       "      <td>Consumer</td>\n",
       "      <td>NON-SECURE</td>\n",
       "      <td>469878.0</td>\n",
       "      <td>CLASSIC</td>\n",
       "      <td>26.0</td>\n",
       "      <td>.01</td>\n",
       "      <td>.0002</td>\n",
       "      <td>0.000867</td>\n",
       "      <td>0.022550</td>\n",
       "    </tr>\n",
       "    <tr>\n",
       "      <th>21</th>\n",
       "      <td>6891.0</td>\n",
       "      <td>Poland</td>\n",
       "      <td>Germany</td>\n",
       "      <td>Visa</td>\n",
       "      <td>Debit</td>\n",
       "      <td>Consumer</td>\n",
       "      <td>NON-SECURE</td>\n",
       "      <td>469878.0</td>\n",
       "      <td>CLASSIC</td>\n",
       "      <td>9.0</td>\n",
       "      <td>.00852</td>\n",
       "      <td>.0002</td>\n",
       "      <td>0.002322</td>\n",
       "      <td>0.020895</td>\n",
       "    </tr>\n",
       "  </tbody>\n",
       "</table>\n",
       "</div>"
      ],
      "text/plain": [
       "    CONTRACT_ID ISSUER_COUNTRY MERCHANT_COUNTRY CARD_SCHEME CREDIT_DEBIT  \\\n",
       "17       6891.0         Poland          Germany        Visa        Debit   \n",
       "18       6891.0         Poland          Germany        Visa        Debit   \n",
       "19       6891.0         Poland          Germany        Visa        Debit   \n",
       "20       6891.0         Poland          Germany        Visa        Debit   \n",
       "21       6891.0         Poland          Germany        Visa        Debit   \n",
       "\n",
       "   CONSUMER_CORPORATE SECURITY_LEVEL       IIN BIN_DESC  FLOW  \\\n",
       "17           Consumer     NON-SECURE  469878.0  CLASSIC   9.0   \n",
       "18           Consumer     NON-SECURE  469878.0  CLASSIC   9.0   \n",
       "19           Consumer     NON-SECURE  469878.0  CLASSIC   9.0   \n",
       "20           Consumer     NON-SECURE  469878.0  CLASSIC  26.0   \n",
       "21           Consumer     NON-SECURE  469878.0  CLASSIC   9.0   \n",
       "\n",
       "   AIB_SF_RATE_AMOUNT   AIB_SF_PERC  AIB_SF_BPS  AIB_SF_TOTAL  \n",
       "17             .00852         .0002    0.002316      0.020845  \n",
       "18                                     0.002318      0.020865  \n",
       "19                .01         .0002    0.002318      0.020865  \n",
       "20                .01         .0002    0.000867      0.022550  \n",
       "21             .00852         .0002    0.002322      0.020895  "
      ]
     },
     "execution_count": 76,
     "metadata": {},
     "output_type": "execute_result"
    }
   ],
   "source": [
    "ab_bb_combo.head()"
   ]
  },
  {
   "cell_type": "markdown",
   "metadata": {},
   "source": [
    "### Only Show the Median aggregated by lane, contract ID, Credit/Debit and Card type, Flow"
   ]
  },
  {
   "cell_type": "code",
   "execution_count": 77,
   "metadata": {
    "collapsed": false
   },
   "outputs": [],
   "source": [
    "#ab_bb_combo=ab_bb_combo.groupby(['CONTRACT_ID','ISSUER_COUNTRY','CARD_SCHEME','MERCHANT_COUNTRY','CREDIT_DEBIT','CONSUMER_CORPORATE','FLOW','SECURITY_LEVEL','IIN'],as_index=False)[['AIB_IC_BPS','AIB_SF_BPS']].median()\n",
    "ab_bb_combo=ab_bb_combo.groupby(['CONTRACT_ID','ISSUER_COUNTRY','CARD_SCHEME','MERCHANT_COUNTRY','CREDIT_DEBIT','CONSUMER_CORPORATE','FLOW','SECURITY_LEVEL','BIN_DESC'],as_index=False)[['AIB_SF_BPS']].median()"
   ]
  },
  {
   "cell_type": "code",
   "execution_count": 78,
   "metadata": {
    "collapsed": false
   },
   "outputs": [
    {
     "name": "stdout",
     "output_type": "stream",
     "text": [
      "   CONTRACT_ID ISSUER_COUNTRY CARD_SCHEME MERCHANT_COUNTRY CREDIT_DEBIT  \\\n",
      "0       2095.0     Kazakhstan        Visa       Luxembourg       Credit   \n",
      "1       2095.0     Kazakhstan        Visa       Luxembourg       Credit   \n",
      "2       2095.0     Kazakhstan        Visa       Luxembourg       Credit   \n",
      "3       2095.0     Kazakhstan        Visa       Luxembourg       Credit   \n",
      "4       2095.0     Kazakhstan        Visa       Luxembourg       Credit   \n",
      "\n",
      "  CONSUMER_CORPORATE  FLOW SECURITY_LEVEL BIN_DESC  AIB_SF_BPS  \n",
      "0           Consumer   0.0     NON-SECURE  CLASSIC    0.000000  \n",
      "1           Consumer   1.0     NON-SECURE  CLASSIC    0.080877  \n",
      "2           Consumer   2.0     NON-SECURE  CLASSIC    0.040941  \n",
      "3           Consumer   3.0     NON-SECURE  CLASSIC    0.028591  \n",
      "4           Consumer   4.0     NON-SECURE  CLASSIC    0.022879  \n"
     ]
    }
   ],
   "source": [
    "print ab_bb_combo.head()"
   ]
  },
  {
   "cell_type": "code",
   "execution_count": 79,
   "metadata": {
    "collapsed": false
   },
   "outputs": [],
   "source": [
    "ab_bb_combo.to_csv('d:\\\\djohnson\\\\Desktop\\\\ab_bb_comp.csv')"
   ]
  },
  {
   "cell_type": "code",
   "execution_count": 80,
   "metadata": {
    "collapsed": false
   },
   "outputs": [
    {
     "name": "stdout",
     "output_type": "stream",
     "text": [
      "<class 'pandas.core.frame.DataFrame'>\n",
      "Int64Index: 978 entries, 0 to 977\n",
      "Data columns (total 10 columns):\n",
      "CONTRACT_ID           978 non-null float64\n",
      "ISSUER_COUNTRY        978 non-null object\n",
      "CARD_SCHEME           978 non-null object\n",
      "MERCHANT_COUNTRY      978 non-null object\n",
      "CREDIT_DEBIT          978 non-null object\n",
      "CONSUMER_CORPORATE    978 non-null object\n",
      "FLOW                  978 non-null float64\n",
      "SECURITY_LEVEL        978 non-null object\n",
      "BIN_DESC              978 non-null object\n",
      "AIB_SF_BPS            978 non-null float64\n",
      "dtypes: float64(3), object(7)\n",
      "memory usage: 84.0+ KB\n"
     ]
    }
   ],
   "source": [
    "ab_bb_combo.info()"
   ]
  },
  {
   "cell_type": "markdown",
   "metadata": {},
   "source": [
    "## Setup the Bambora Baseline Lanes, Flows, and SFs"
   ]
  },
  {
   "cell_type": "code",
   "execution_count": 81,
   "metadata": {
    "collapsed": false
   },
   "outputs": [],
   "source": [
    "base=ab_bb_combo.drop(['FLOW','AIB_SF_BPS'],axis=1).drop_duplicates()"
   ]
  },
  {
   "cell_type": "code",
   "execution_count": 82,
   "metadata": {
    "collapsed": false
   },
   "outputs": [
    {
     "name": "stdout",
     "output_type": "stream",
     "text": [
      "<class 'pandas.core.frame.DataFrame'>\n",
      "Int64Index: 95 entries, 0 to 976\n",
      "Data columns (total 8 columns):\n",
      "CONTRACT_ID           95 non-null float64\n",
      "ISSUER_COUNTRY        95 non-null object\n",
      "CARD_SCHEME           95 non-null object\n",
      "MERCHANT_COUNTRY      95 non-null object\n",
      "CREDIT_DEBIT          95 non-null object\n",
      "CONSUMER_CORPORATE    95 non-null object\n",
      "SECURITY_LEVEL        95 non-null object\n",
      "BIN_DESC              95 non-null object\n",
      "dtypes: float64(1), object(7)\n",
      "memory usage: 6.7+ KB\n"
     ]
    }
   ],
   "source": [
    "base.info()"
   ]
  },
  {
   "cell_type": "code",
   "execution_count": 83,
   "metadata": {
    "collapsed": false
   },
   "outputs": [],
   "source": [
    "bbbase=pd.merge(base,bb1,on=['CONTRACT_ID','ISSUER_COUNTRY','MERCHANT_COUNTRY','CARD_SCHEME','CREDIT_DEBIT','CONSUMER_CORPORATE','SECURITY_LEVEL'],how='left')"
   ]
  },
  {
   "cell_type": "code",
   "execution_count": 84,
   "metadata": {
    "collapsed": false
   },
   "outputs": [],
   "source": [
    "bbbase=bbbase.rename(columns={'ROUNDED_TRXN_AMOUNT':'FLOW','FLOW':'FLOW_2'})"
   ]
  },
  {
   "cell_type": "code",
   "execution_count": 85,
   "metadata": {
    "collapsed": false
   },
   "outputs": [
    {
     "data": {
      "text/html": [
       "<div>\n",
       "<table border=\"1\" class=\"dataframe\">\n",
       "  <thead>\n",
       "    <tr style=\"text-align: right;\">\n",
       "      <th></th>\n",
       "      <th>CONTRACT_ID</th>\n",
       "      <th>ISSUER_COUNTRY</th>\n",
       "      <th>CARD_SCHEME</th>\n",
       "      <th>MERCHANT_COUNTRY</th>\n",
       "      <th>CREDIT_DEBIT</th>\n",
       "      <th>CONSUMER_CORPORATE</th>\n",
       "      <th>SECURITY_LEVEL</th>\n",
       "      <th>BIN_DESC_x</th>\n",
       "      <th>TRANSACTION_REF</th>\n",
       "      <th>ADDITIONAL_REFERENCE_2</th>\n",
       "      <th>...</th>\n",
       "      <th>PRODUCT_CODE</th>\n",
       "      <th>SF_FIXED_FEE</th>\n",
       "      <th>SF_PERC_FEE</th>\n",
       "      <th>VOLUME</th>\n",
       "      <th>FLOW</th>\n",
       "      <th>SCHEME_TOTAL_FEE_EUR</th>\n",
       "      <th>FLOW_2</th>\n",
       "      <th>BB_IC_TOTAL</th>\n",
       "      <th>BB_IC_BPS</th>\n",
       "      <th>BB_SF_BPS</th>\n",
       "    </tr>\n",
       "  </thead>\n",
       "  <tbody>\n",
       "    <tr>\n",
       "      <th>0</th>\n",
       "      <td>2095.0</td>\n",
       "      <td>Kazakhstan</td>\n",
       "      <td>Visa</td>\n",
       "      <td>Luxembourg</td>\n",
       "      <td>Credit</td>\n",
       "      <td>Consumer</td>\n",
       "      <td>NON-SECURE</td>\n",
       "      <td>CLASSIC</td>\n",
       "      <td>225662136209</td>\n",
       "      <td>2.256621e+11</td>\n",
       "      <td>...</td>\n",
       "      <td>100444.0</td>\n",
       "      <td>0.075992</td>\n",
       "      <td>0.005657</td>\n",
       "      <td>1.0</td>\n",
       "      <td>1.0</td>\n",
       "      <td>0.067593</td>\n",
       "      <td>1.164676</td>\n",
       "      <td>0.018511</td>\n",
       "      <td>0.015894</td>\n",
       "      <td>0.058036</td>\n",
       "    </tr>\n",
       "    <tr>\n",
       "      <th>1</th>\n",
       "      <td>2095.0</td>\n",
       "      <td>Russian Federation</td>\n",
       "      <td>Visa</td>\n",
       "      <td>Luxembourg</td>\n",
       "      <td>Credit</td>\n",
       "      <td>Consumer</td>\n",
       "      <td>NON-SECURE</td>\n",
       "      <td>CLASSIC</td>\n",
       "      <td>225543153535</td>\n",
       "      <td>2.255432e+11</td>\n",
       "      <td>...</td>\n",
       "      <td>100444.0</td>\n",
       "      <td>0.074130</td>\n",
       "      <td>0.005633</td>\n",
       "      <td>1.0</td>\n",
       "      <td>5.0</td>\n",
       "      <td>0.061389</td>\n",
       "      <td>4.521325</td>\n",
       "      <td>0.031256</td>\n",
       "      <td>0.006913</td>\n",
       "      <td>0.013578</td>\n",
       "    </tr>\n",
       "    <tr>\n",
       "      <th>2</th>\n",
       "      <td>2095.0</td>\n",
       "      <td>Russian Federation</td>\n",
       "      <td>Visa</td>\n",
       "      <td>Luxembourg</td>\n",
       "      <td>Credit</td>\n",
       "      <td>Consumer</td>\n",
       "      <td>NON-SECURE</td>\n",
       "      <td>CLASSIC</td>\n",
       "      <td>225543153522</td>\n",
       "      <td>2.255432e+11</td>\n",
       "      <td>...</td>\n",
       "      <td>100444.0</td>\n",
       "      <td>0.074130</td>\n",
       "      <td>0.005631</td>\n",
       "      <td>1.0</td>\n",
       "      <td>10.0</td>\n",
       "      <td>0.073982</td>\n",
       "      <td>9.777313</td>\n",
       "      <td>0.067592</td>\n",
       "      <td>0.006913</td>\n",
       "      <td>0.007567</td>\n",
       "    </tr>\n",
       "    <tr>\n",
       "      <th>3</th>\n",
       "      <td>2095.0</td>\n",
       "      <td>Russian Federation</td>\n",
       "      <td>Visa</td>\n",
       "      <td>Luxembourg</td>\n",
       "      <td>Credit</td>\n",
       "      <td>Consumer</td>\n",
       "      <td>NON-SECURE</td>\n",
       "      <td>CLASSIC</td>\n",
       "      <td>225615152975</td>\n",
       "      <td>2.256152e+11</td>\n",
       "      <td>...</td>\n",
       "      <td>100444.0</td>\n",
       "      <td>0.074907</td>\n",
       "      <td>0.005622</td>\n",
       "      <td>1.0</td>\n",
       "      <td>20.0</td>\n",
       "      <td>0.174194</td>\n",
       "      <td>20.307209</td>\n",
       "      <td>0.327318</td>\n",
       "      <td>0.016118</td>\n",
       "      <td>0.008578</td>\n",
       "    </tr>\n",
       "    <tr>\n",
       "      <th>4</th>\n",
       "      <td>2095.0</td>\n",
       "      <td>Russian Federation</td>\n",
       "      <td>Visa</td>\n",
       "      <td>Luxembourg</td>\n",
       "      <td>Credit</td>\n",
       "      <td>Consumer</td>\n",
       "      <td>NON-SECURE</td>\n",
       "      <td>CLASSIC</td>\n",
       "      <td>225615153007</td>\n",
       "      <td>2.256152e+11</td>\n",
       "      <td>...</td>\n",
       "      <td>100444.0</td>\n",
       "      <td>0.074907</td>\n",
       "      <td>0.005622</td>\n",
       "      <td>1.0</td>\n",
       "      <td>197.0</td>\n",
       "      <td>1.158986</td>\n",
       "      <td>197.115463</td>\n",
       "      <td>3.177170</td>\n",
       "      <td>0.016118</td>\n",
       "      <td>0.005880</td>\n",
       "    </tr>\n",
       "  </tbody>\n",
       "</table>\n",
       "<p>5 rows × 33 columns</p>\n",
       "</div>"
      ],
      "text/plain": [
       "   CONTRACT_ID      ISSUER_COUNTRY CARD_SCHEME MERCHANT_COUNTRY CREDIT_DEBIT  \\\n",
       "0       2095.0          Kazakhstan        Visa       Luxembourg       Credit   \n",
       "1       2095.0  Russian Federation        Visa       Luxembourg       Credit   \n",
       "2       2095.0  Russian Federation        Visa       Luxembourg       Credit   \n",
       "3       2095.0  Russian Federation        Visa       Luxembourg       Credit   \n",
       "4       2095.0  Russian Federation        Visa       Luxembourg       Credit   \n",
       "\n",
       "  CONSUMER_CORPORATE SECURITY_LEVEL BIN_DESC_x TRANSACTION_REF  \\\n",
       "0           Consumer     NON-SECURE    CLASSIC    225662136209   \n",
       "1           Consumer     NON-SECURE    CLASSIC    225543153535   \n",
       "2           Consumer     NON-SECURE    CLASSIC    225543153522   \n",
       "3           Consumer     NON-SECURE    CLASSIC    225615152975   \n",
       "4           Consumer     NON-SECURE    CLASSIC    225615153007   \n",
       "\n",
       "   ADDITIONAL_REFERENCE_2    ...      PRODUCT_CODE SF_FIXED_FEE  SF_PERC_FEE  \\\n",
       "0            2.256621e+11    ...          100444.0     0.075992     0.005657   \n",
       "1            2.255432e+11    ...          100444.0     0.074130     0.005633   \n",
       "2            2.255432e+11    ...          100444.0     0.074130     0.005631   \n",
       "3            2.256152e+11    ...          100444.0     0.074907     0.005622   \n",
       "4            2.256152e+11    ...          100444.0     0.074907     0.005622   \n",
       "\n",
       "   VOLUME   FLOW  SCHEME_TOTAL_FEE_EUR      FLOW_2  BB_IC_TOTAL  BB_IC_BPS  \\\n",
       "0     1.0    1.0              0.067593    1.164676     0.018511   0.015894   \n",
       "1     1.0    5.0              0.061389    4.521325     0.031256   0.006913   \n",
       "2     1.0   10.0              0.073982    9.777313     0.067592   0.006913   \n",
       "3     1.0   20.0              0.174194   20.307209     0.327318   0.016118   \n",
       "4     1.0  197.0              1.158986  197.115463     3.177170   0.016118   \n",
       "\n",
       "   BB_SF_BPS  \n",
       "0   0.058036  \n",
       "1   0.013578  \n",
       "2   0.007567  \n",
       "3   0.008578  \n",
       "4   0.005880  \n",
       "\n",
       "[5 rows x 33 columns]"
      ]
     },
     "execution_count": 85,
     "metadata": {},
     "output_type": "execute_result"
    }
   ],
   "source": [
    "bbbase.head()"
   ]
  },
  {
   "cell_type": "code",
   "execution_count": 86,
   "metadata": {
    "collapsed": false
   },
   "outputs": [],
   "source": [
    "bbbase=bbbase.drop('BIN_DESC_y',axis=1)"
   ]
  },
  {
   "cell_type": "code",
   "execution_count": 87,
   "metadata": {
    "collapsed": true
   },
   "outputs": [],
   "source": [
    "bbbase=bbbase.rename(columns={'BIN_DESC_x':'BIN_DESC'})"
   ]
  },
  {
   "cell_type": "code",
   "execution_count": 88,
   "metadata": {
    "collapsed": false
   },
   "outputs": [
    {
     "name": "stdout",
     "output_type": "stream",
     "text": [
      "<class 'pandas.core.frame.DataFrame'>\n",
      "Int64Index: 37619 entries, 0 to 37618\n",
      "Data columns (total 32 columns):\n",
      "CONTRACT_ID               37619 non-null float64\n",
      "ISSUER_COUNTRY            37619 non-null object\n",
      "CARD_SCHEME               37619 non-null object\n",
      "MERCHANT_COUNTRY          37619 non-null object\n",
      "CREDIT_DEBIT              37619 non-null object\n",
      "CONSUMER_CORPORATE        37619 non-null object\n",
      "SECURITY_LEVEL            37619 non-null object\n",
      "BIN_DESC                  37619 non-null object\n",
      "TRANSACTION_REF           37619 non-null object\n",
      "ADDITIONAL_REFERENCE_2    37619 non-null float64\n",
      "PAYMENTREFERENCE          37619 non-null float64\n",
      "BB_TRANSACTION_TYPE       37619 non-null object\n",
      "MCC                       37619 non-null float64\n",
      "IIN                       37619 non-null float64\n",
      "ORDERID                   37619 non-null float64\n",
      "PAYMENT_PROCESSOR         37619 non-null float64\n",
      "MONTH                     37619 non-null float64\n",
      "DAY                       37619 non-null float64\n",
      "YEAR                      37619 non-null float64\n",
      "PERIOD                    37619 non-null object\n",
      "TRANSACTION_TYPE          37619 non-null object\n",
      "REGIONALITY               37619 non-null object\n",
      "PRODUCT_CODE              37619 non-null float64\n",
      "SF_FIXED_FEE              37619 non-null float64\n",
      "SF_PERC_FEE               37619 non-null float64\n",
      "VOLUME                    37619 non-null float64\n",
      "FLOW                      37619 non-null float64\n",
      "SCHEME_TOTAL_FEE_EUR      37619 non-null float64\n",
      "FLOW_2                    37619 non-null float64\n",
      "BB_IC_TOTAL               37619 non-null float64\n",
      "BB_IC_BPS                 37619 non-null float64\n",
      "BB_SF_BPS                 37619 non-null float64\n",
      "dtypes: float64(20), object(12)\n",
      "memory usage: 9.5+ MB\n"
     ]
    }
   ],
   "source": [
    "bbbase.info()"
   ]
  },
  {
   "cell_type": "markdown",
   "metadata": {},
   "source": [
    "### Link AIB and Bambora"
   ]
  },
  {
   "cell_type": "code",
   "execution_count": 89,
   "metadata": {
    "collapsed": false
   },
   "outputs": [],
   "source": [
    "#ab_bb_combo=pd.merge(bbbase,ab_bb_combo,on=['CONTRACT_ID','ISSUER_COUNTRY','CARD_SCHEME','MERCHANT_COUNTRY','CREDIT_DEBIT','CONSUMER_CORPORATE','FLOW','SECURITY_LEVEL','IIN'],how='left')\n",
    "ab_bb_combo=pd.merge(bbbase,ab_bb_combo,on=['CONTRACT_ID','ISSUER_COUNTRY','CARD_SCHEME','MERCHANT_COUNTRY','CREDIT_DEBIT','CONSUMER_CORPORATE','FLOW','SECURITY_LEVEL','BIN_DESC'],how='left')"
   ]
  },
  {
   "cell_type": "code",
   "execution_count": 90,
   "metadata": {
    "collapsed": false
   },
   "outputs": [
    {
     "data": {
      "text/html": [
       "<div>\n",
       "<table border=\"1\" class=\"dataframe\">\n",
       "  <thead>\n",
       "    <tr style=\"text-align: right;\">\n",
       "      <th></th>\n",
       "      <th>CONTRACT_ID</th>\n",
       "      <th>ISSUER_COUNTRY</th>\n",
       "      <th>CARD_SCHEME</th>\n",
       "      <th>MERCHANT_COUNTRY</th>\n",
       "      <th>CREDIT_DEBIT</th>\n",
       "      <th>CONSUMER_CORPORATE</th>\n",
       "      <th>SECURITY_LEVEL</th>\n",
       "      <th>BIN_DESC</th>\n",
       "      <th>TRANSACTION_REF</th>\n",
       "      <th>ADDITIONAL_REFERENCE_2</th>\n",
       "      <th>...</th>\n",
       "      <th>SF_FIXED_FEE</th>\n",
       "      <th>SF_PERC_FEE</th>\n",
       "      <th>VOLUME</th>\n",
       "      <th>FLOW</th>\n",
       "      <th>SCHEME_TOTAL_FEE_EUR</th>\n",
       "      <th>FLOW_2</th>\n",
       "      <th>BB_IC_TOTAL</th>\n",
       "      <th>BB_IC_BPS</th>\n",
       "      <th>BB_SF_BPS</th>\n",
       "      <th>AIB_SF_BPS</th>\n",
       "    </tr>\n",
       "  </thead>\n",
       "  <tbody>\n",
       "    <tr>\n",
       "      <th>0</th>\n",
       "      <td>2095.0</td>\n",
       "      <td>Kazakhstan</td>\n",
       "      <td>Visa</td>\n",
       "      <td>Luxembourg</td>\n",
       "      <td>Credit</td>\n",
       "      <td>Consumer</td>\n",
       "      <td>NON-SECURE</td>\n",
       "      <td>CLASSIC</td>\n",
       "      <td>225662136209</td>\n",
       "      <td>2.256621e+11</td>\n",
       "      <td>...</td>\n",
       "      <td>0.075992</td>\n",
       "      <td>0.005657</td>\n",
       "      <td>1.0</td>\n",
       "      <td>1.0</td>\n",
       "      <td>0.067593</td>\n",
       "      <td>1.164676</td>\n",
       "      <td>0.018511</td>\n",
       "      <td>0.015894</td>\n",
       "      <td>0.058036</td>\n",
       "      <td>0.080877</td>\n",
       "    </tr>\n",
       "    <tr>\n",
       "      <th>1</th>\n",
       "      <td>2095.0</td>\n",
       "      <td>Russian Federation</td>\n",
       "      <td>Visa</td>\n",
       "      <td>Luxembourg</td>\n",
       "      <td>Credit</td>\n",
       "      <td>Consumer</td>\n",
       "      <td>NON-SECURE</td>\n",
       "      <td>CLASSIC</td>\n",
       "      <td>225543153535</td>\n",
       "      <td>2.255432e+11</td>\n",
       "      <td>...</td>\n",
       "      <td>0.074130</td>\n",
       "      <td>0.005633</td>\n",
       "      <td>1.0</td>\n",
       "      <td>5.0</td>\n",
       "      <td>0.061389</td>\n",
       "      <td>4.521325</td>\n",
       "      <td>0.031256</td>\n",
       "      <td>0.006913</td>\n",
       "      <td>0.013578</td>\n",
       "      <td>0.019473</td>\n",
       "    </tr>\n",
       "    <tr>\n",
       "      <th>2</th>\n",
       "      <td>2095.0</td>\n",
       "      <td>Russian Federation</td>\n",
       "      <td>Visa</td>\n",
       "      <td>Luxembourg</td>\n",
       "      <td>Credit</td>\n",
       "      <td>Consumer</td>\n",
       "      <td>NON-SECURE</td>\n",
       "      <td>CLASSIC</td>\n",
       "      <td>225543153522</td>\n",
       "      <td>2.255432e+11</td>\n",
       "      <td>...</td>\n",
       "      <td>0.074130</td>\n",
       "      <td>0.005631</td>\n",
       "      <td>1.0</td>\n",
       "      <td>10.0</td>\n",
       "      <td>0.073982</td>\n",
       "      <td>9.777313</td>\n",
       "      <td>0.067592</td>\n",
       "      <td>0.006913</td>\n",
       "      <td>0.007567</td>\n",
       "      <td>0.012403</td>\n",
       "    </tr>\n",
       "    <tr>\n",
       "      <th>3</th>\n",
       "      <td>2095.0</td>\n",
       "      <td>Russian Federation</td>\n",
       "      <td>Visa</td>\n",
       "      <td>Luxembourg</td>\n",
       "      <td>Credit</td>\n",
       "      <td>Consumer</td>\n",
       "      <td>NON-SECURE</td>\n",
       "      <td>CLASSIC</td>\n",
       "      <td>225615152975</td>\n",
       "      <td>2.256152e+11</td>\n",
       "      <td>...</td>\n",
       "      <td>0.074907</td>\n",
       "      <td>0.005622</td>\n",
       "      <td>1.0</td>\n",
       "      <td>20.0</td>\n",
       "      <td>0.174194</td>\n",
       "      <td>20.307209</td>\n",
       "      <td>0.327318</td>\n",
       "      <td>0.016118</td>\n",
       "      <td>0.008578</td>\n",
       "      <td>0.008912</td>\n",
       "    </tr>\n",
       "    <tr>\n",
       "      <th>4</th>\n",
       "      <td>2095.0</td>\n",
       "      <td>Russian Federation</td>\n",
       "      <td>Visa</td>\n",
       "      <td>Luxembourg</td>\n",
       "      <td>Credit</td>\n",
       "      <td>Consumer</td>\n",
       "      <td>NON-SECURE</td>\n",
       "      <td>CLASSIC</td>\n",
       "      <td>225615153007</td>\n",
       "      <td>2.256152e+11</td>\n",
       "      <td>...</td>\n",
       "      <td>0.074907</td>\n",
       "      <td>0.005622</td>\n",
       "      <td>1.0</td>\n",
       "      <td>197.0</td>\n",
       "      <td>1.158986</td>\n",
       "      <td>197.115463</td>\n",
       "      <td>3.177170</td>\n",
       "      <td>0.016118</td>\n",
       "      <td>0.005880</td>\n",
       "      <td>NaN</td>\n",
       "    </tr>\n",
       "  </tbody>\n",
       "</table>\n",
       "<p>5 rows × 33 columns</p>\n",
       "</div>"
      ],
      "text/plain": [
       "   CONTRACT_ID      ISSUER_COUNTRY CARD_SCHEME MERCHANT_COUNTRY CREDIT_DEBIT  \\\n",
       "0       2095.0          Kazakhstan        Visa       Luxembourg       Credit   \n",
       "1       2095.0  Russian Federation        Visa       Luxembourg       Credit   \n",
       "2       2095.0  Russian Federation        Visa       Luxembourg       Credit   \n",
       "3       2095.0  Russian Federation        Visa       Luxembourg       Credit   \n",
       "4       2095.0  Russian Federation        Visa       Luxembourg       Credit   \n",
       "\n",
       "  CONSUMER_CORPORATE SECURITY_LEVEL BIN_DESC TRANSACTION_REF  \\\n",
       "0           Consumer     NON-SECURE  CLASSIC    225662136209   \n",
       "1           Consumer     NON-SECURE  CLASSIC    225543153535   \n",
       "2           Consumer     NON-SECURE  CLASSIC    225543153522   \n",
       "3           Consumer     NON-SECURE  CLASSIC    225615152975   \n",
       "4           Consumer     NON-SECURE  CLASSIC    225615153007   \n",
       "\n",
       "   ADDITIONAL_REFERENCE_2    ...      SF_FIXED_FEE SF_PERC_FEE  VOLUME   FLOW  \\\n",
       "0            2.256621e+11    ...          0.075992    0.005657     1.0    1.0   \n",
       "1            2.255432e+11    ...          0.074130    0.005633     1.0    5.0   \n",
       "2            2.255432e+11    ...          0.074130    0.005631     1.0   10.0   \n",
       "3            2.256152e+11    ...          0.074907    0.005622     1.0   20.0   \n",
       "4            2.256152e+11    ...          0.074907    0.005622     1.0  197.0   \n",
       "\n",
       "   SCHEME_TOTAL_FEE_EUR      FLOW_2  BB_IC_TOTAL  BB_IC_BPS  BB_SF_BPS  \\\n",
       "0              0.067593    1.164676     0.018511   0.015894   0.058036   \n",
       "1              0.061389    4.521325     0.031256   0.006913   0.013578   \n",
       "2              0.073982    9.777313     0.067592   0.006913   0.007567   \n",
       "3              0.174194   20.307209     0.327318   0.016118   0.008578   \n",
       "4              1.158986  197.115463     3.177170   0.016118   0.005880   \n",
       "\n",
       "  AIB_SF_BPS  \n",
       "0   0.080877  \n",
       "1   0.019473  \n",
       "2   0.012403  \n",
       "3   0.008912  \n",
       "4        NaN  \n",
       "\n",
       "[5 rows x 33 columns]"
      ]
     },
     "execution_count": 90,
     "metadata": {},
     "output_type": "execute_result"
    }
   ],
   "source": [
    "ab_bb_combo.head()"
   ]
  },
  {
   "cell_type": "markdown",
   "metadata": {},
   "source": [
    "## Insert the Signal logic"
   ]
  },
  {
   "cell_type": "code",
   "execution_count": 91,
   "metadata": {
    "collapsed": false
   },
   "outputs": [],
   "source": [
    "ab_bb_combo['SF_DIFF_%']=(ab_bb_combo['BB_SF_BPS']-ab_bb_combo['AIB_SF_BPS'])/ab_bb_combo['AIB_SF_BPS']"
   ]
  },
  {
   "cell_type": "code",
   "execution_count": 92,
   "metadata": {
    "collapsed": true
   },
   "outputs": [],
   "source": [
    "ab_bb_combo['SF_SIGNAL']=''\n",
    "ab_bb_combo['SF_SIGNAL']=ab_bb_combo['SF_DIFF_%'].apply(lambda x:'Signal' if (x>=.05) else '')"
   ]
  },
  {
   "cell_type": "markdown",
   "metadata": {},
   "source": [
    "### Final Output"
   ]
  },
  {
   "cell_type": "code",
   "execution_count": 93,
   "metadata": {
    "collapsed": false
   },
   "outputs": [],
   "source": [
    "ab_bb_combo=ab_bb_combo[['PERIOD'\n",
    "                         ,'TRANSACTION_REF'\n",
    "                         ,'TRANSACTION_TYPE'\n",
    "                         ,'CONTRACT_ID'\n",
    "                         ,'BIN_DESC'\n",
    "                         ,'ISSUER_COUNTRY'\n",
    "                         ,'MERCHANT_COUNTRY'\n",
    "                         ,'REGIONALITY'\n",
    "                         ,'CARD_SCHEME'\n",
    "                         ,'CONSUMER_CORPORATE'\n",
    "                         ,'CREDIT_DEBIT'\n",
    "                         ,'SECURITY_LEVEL'\n",
    "                         ,'VOLUME'\n",
    "                         ,'FLOW'\n",
    "                         ,'SF_FIXED_FEE'\n",
    "                         ,'SF_PERC_FEE'\n",
    "                         ,'SCHEME_TOTAL_FEE_EUR'\n",
    "                         ,'BB_IC_TOTAL'\n",
    "                         ,'BB_SF_BPS'\n",
    "                         ,'BB_IC_BPS'\n",
    "                         ,'AIB_SF_BPS'\n",
    "                         ,'SF_DIFF_%'\n",
    "                         ,'SF_SIGNAL']]"
   ]
  },
  {
   "cell_type": "code",
   "execution_count": 94,
   "metadata": {
    "collapsed": false
   },
   "outputs": [
    {
     "data": {
      "text/html": [
       "<div>\n",
       "<table border=\"1\" class=\"dataframe\">\n",
       "  <thead>\n",
       "    <tr style=\"text-align: right;\">\n",
       "      <th></th>\n",
       "      <th>PERIOD</th>\n",
       "      <th>TRANSACTION_REF</th>\n",
       "      <th>TRANSACTION_TYPE</th>\n",
       "      <th>CONTRACT_ID</th>\n",
       "      <th>BIN_DESC</th>\n",
       "      <th>ISSUER_COUNTRY</th>\n",
       "      <th>MERCHANT_COUNTRY</th>\n",
       "      <th>REGIONALITY</th>\n",
       "      <th>CARD_SCHEME</th>\n",
       "      <th>CONSUMER_CORPORATE</th>\n",
       "      <th>...</th>\n",
       "      <th>FLOW</th>\n",
       "      <th>SF_FIXED_FEE</th>\n",
       "      <th>SF_PERC_FEE</th>\n",
       "      <th>SCHEME_TOTAL_FEE_EUR</th>\n",
       "      <th>BB_IC_TOTAL</th>\n",
       "      <th>BB_SF_BPS</th>\n",
       "      <th>BB_IC_BPS</th>\n",
       "      <th>AIB_SF_BPS</th>\n",
       "      <th>SF_DIFF_%</th>\n",
       "      <th>SF_SIGNAL</th>\n",
       "    </tr>\n",
       "  </thead>\n",
       "  <tbody>\n",
       "    <tr>\n",
       "      <th>0</th>\n",
       "      <td>2018-01</td>\n",
       "      <td>225662136209</td>\n",
       "      <td>TRANSACTION</td>\n",
       "      <td>2095.0</td>\n",
       "      <td>CLASSIC</td>\n",
       "      <td>Kazakhstan</td>\n",
       "      <td>Luxembourg</td>\n",
       "      <td>Interregional</td>\n",
       "      <td>Visa</td>\n",
       "      <td>Consumer</td>\n",
       "      <td>...</td>\n",
       "      <td>1.0</td>\n",
       "      <td>0.075992</td>\n",
       "      <td>0.005657</td>\n",
       "      <td>0.067593</td>\n",
       "      <td>0.018511</td>\n",
       "      <td>0.058036</td>\n",
       "      <td>0.015894</td>\n",
       "      <td>0.080877</td>\n",
       "      <td>-0.282416</td>\n",
       "      <td></td>\n",
       "    </tr>\n",
       "    <tr>\n",
       "      <th>1</th>\n",
       "      <td>2018-01</td>\n",
       "      <td>225543153535</td>\n",
       "      <td>TRANSACTION</td>\n",
       "      <td>2095.0</td>\n",
       "      <td>CLASSIC</td>\n",
       "      <td>Russian Federation</td>\n",
       "      <td>Luxembourg</td>\n",
       "      <td>Interregional</td>\n",
       "      <td>Visa</td>\n",
       "      <td>Consumer</td>\n",
       "      <td>...</td>\n",
       "      <td>5.0</td>\n",
       "      <td>0.074130</td>\n",
       "      <td>0.005633</td>\n",
       "      <td>0.061389</td>\n",
       "      <td>0.031256</td>\n",
       "      <td>0.013578</td>\n",
       "      <td>0.006913</td>\n",
       "      <td>0.019473</td>\n",
       "      <td>-0.302763</td>\n",
       "      <td></td>\n",
       "    </tr>\n",
       "    <tr>\n",
       "      <th>2</th>\n",
       "      <td>2018-01</td>\n",
       "      <td>225543153522</td>\n",
       "      <td>TRANSACTION</td>\n",
       "      <td>2095.0</td>\n",
       "      <td>CLASSIC</td>\n",
       "      <td>Russian Federation</td>\n",
       "      <td>Luxembourg</td>\n",
       "      <td>Interregional</td>\n",
       "      <td>Visa</td>\n",
       "      <td>Consumer</td>\n",
       "      <td>...</td>\n",
       "      <td>10.0</td>\n",
       "      <td>0.074130</td>\n",
       "      <td>0.005631</td>\n",
       "      <td>0.073982</td>\n",
       "      <td>0.067592</td>\n",
       "      <td>0.007567</td>\n",
       "      <td>0.006913</td>\n",
       "      <td>0.012403</td>\n",
       "      <td>-0.389929</td>\n",
       "      <td></td>\n",
       "    </tr>\n",
       "    <tr>\n",
       "      <th>3</th>\n",
       "      <td>2018-01</td>\n",
       "      <td>225615152975</td>\n",
       "      <td>TRANSACTION</td>\n",
       "      <td>2095.0</td>\n",
       "      <td>CLASSIC</td>\n",
       "      <td>Russian Federation</td>\n",
       "      <td>Luxembourg</td>\n",
       "      <td>Interregional</td>\n",
       "      <td>Visa</td>\n",
       "      <td>Consumer</td>\n",
       "      <td>...</td>\n",
       "      <td>20.0</td>\n",
       "      <td>0.074907</td>\n",
       "      <td>0.005622</td>\n",
       "      <td>0.174194</td>\n",
       "      <td>0.327318</td>\n",
       "      <td>0.008578</td>\n",
       "      <td>0.016118</td>\n",
       "      <td>0.008912</td>\n",
       "      <td>-0.037494</td>\n",
       "      <td></td>\n",
       "    </tr>\n",
       "    <tr>\n",
       "      <th>4</th>\n",
       "      <td>2018-01</td>\n",
       "      <td>225615153007</td>\n",
       "      <td>TRANSACTION</td>\n",
       "      <td>2095.0</td>\n",
       "      <td>CLASSIC</td>\n",
       "      <td>Russian Federation</td>\n",
       "      <td>Luxembourg</td>\n",
       "      <td>Interregional</td>\n",
       "      <td>Visa</td>\n",
       "      <td>Consumer</td>\n",
       "      <td>...</td>\n",
       "      <td>197.0</td>\n",
       "      <td>0.074907</td>\n",
       "      <td>0.005622</td>\n",
       "      <td>1.158986</td>\n",
       "      <td>3.177170</td>\n",
       "      <td>0.005880</td>\n",
       "      <td>0.016118</td>\n",
       "      <td>NaN</td>\n",
       "      <td>NaN</td>\n",
       "      <td></td>\n",
       "    </tr>\n",
       "  </tbody>\n",
       "</table>\n",
       "<p>5 rows × 23 columns</p>\n",
       "</div>"
      ],
      "text/plain": [
       "    PERIOD TRANSACTION_REF      TRANSACTION_TYPE  CONTRACT_ID BIN_DESC  \\\n",
       "0  2018-01    225662136209  TRANSACTION                2095.0  CLASSIC   \n",
       "1  2018-01    225543153535  TRANSACTION                2095.0  CLASSIC   \n",
       "2  2018-01    225543153522  TRANSACTION                2095.0  CLASSIC   \n",
       "3  2018-01    225615152975  TRANSACTION                2095.0  CLASSIC   \n",
       "4  2018-01    225615153007  TRANSACTION                2095.0  CLASSIC   \n",
       "\n",
       "       ISSUER_COUNTRY MERCHANT_COUNTRY    REGIONALITY CARD_SCHEME  \\\n",
       "0          Kazakhstan       Luxembourg  Interregional        Visa   \n",
       "1  Russian Federation       Luxembourg  Interregional        Visa   \n",
       "2  Russian Federation       Luxembourg  Interregional        Visa   \n",
       "3  Russian Federation       Luxembourg  Interregional        Visa   \n",
       "4  Russian Federation       Luxembourg  Interregional        Visa   \n",
       "\n",
       "  CONSUMER_CORPORATE    ...       FLOW SF_FIXED_FEE  SF_PERC_FEE  \\\n",
       "0           Consumer    ...        1.0     0.075992     0.005657   \n",
       "1           Consumer    ...        5.0     0.074130     0.005633   \n",
       "2           Consumer    ...       10.0     0.074130     0.005631   \n",
       "3           Consumer    ...       20.0     0.074907     0.005622   \n",
       "4           Consumer    ...      197.0     0.074907     0.005622   \n",
       "\n",
       "   SCHEME_TOTAL_FEE_EUR  BB_IC_TOTAL  BB_SF_BPS  BB_IC_BPS  AIB_SF_BPS  \\\n",
       "0              0.067593     0.018511   0.058036   0.015894    0.080877   \n",
       "1              0.061389     0.031256   0.013578   0.006913    0.019473   \n",
       "2              0.073982     0.067592   0.007567   0.006913    0.012403   \n",
       "3              0.174194     0.327318   0.008578   0.016118    0.008912   \n",
       "4              1.158986     3.177170   0.005880   0.016118         NaN   \n",
       "\n",
       "   SF_DIFF_%  SF_SIGNAL  \n",
       "0  -0.282416             \n",
       "1  -0.302763             \n",
       "2  -0.389929             \n",
       "3  -0.037494             \n",
       "4        NaN             \n",
       "\n",
       "[5 rows x 23 columns]"
      ]
     },
     "execution_count": 94,
     "metadata": {},
     "output_type": "execute_result"
    }
   ],
   "source": [
    "ab_bb_combo.head()"
   ]
  },
  {
   "cell_type": "code",
   "execution_count": 95,
   "metadata": {
    "collapsed": false
   },
   "outputs": [
    {
     "name": "stdout",
     "output_type": "stream",
     "text": [
      "total transactions\n",
      "37619\n",
      "total signals\n",
      "206\n"
     ]
    }
   ],
   "source": [
    "print 'total transactions'\n",
    "print ab_bb_combo['TRANSACTION_REF'].count()\n",
    "print 'total signals'\n",
    "print ab_bb_combo['TRANSACTION_REF'][(ab_bb_combo['SF_SIGNAL']=='Signal')].count()"
   ]
  },
  {
   "cell_type": "code",
   "execution_count": 96,
   "metadata": {
    "collapsed": false
   },
   "outputs": [],
   "source": [
    "ab_bb_combo.to_csv('d:\\\\djohnson\\\\Desktop\\\\aib to bambora comparison sf.csv')"
   ]
  }
 ],
 "metadata": {
  "anaconda-cloud": {},
  "kernelspec": {
   "display_name": "Python [default]",
   "language": "python",
   "name": "python2"
  },
  "language_info": {
   "codemirror_mode": {
    "name": "ipython",
    "version": 2
   },
   "file_extension": ".py",
   "mimetype": "text/x-python",
   "name": "python",
   "nbconvert_exporter": "python",
   "pygments_lexer": "ipython2",
   "version": "2.7.12"
  }
 },
 "nbformat": 4,
 "nbformat_minor": 1
}
