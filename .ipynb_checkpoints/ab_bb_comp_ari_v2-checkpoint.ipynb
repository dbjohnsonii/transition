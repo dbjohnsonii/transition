{
 "cells": [
  {
   "cell_type": "markdown",
   "metadata": {},
   "source": [
    "# AIB to Bambora IC Cost Comparison Application"
   ]
  },
  {
   "cell_type": "code",
   "execution_count": 1,
   "metadata": {
    "collapsed": false
   },
   "outputs": [
    {
     "data": {
      "text/html": [
       "<style>.container { width:95% !important; }</style>"
      ],
      "text/plain": [
       "<IPython.core.display.HTML object>"
      ]
     },
     "metadata": {},
     "output_type": "display_data"
    },
    {
     "name": "stdout",
     "output_type": "stream",
     "text": [
      "2.7.12 |Anaconda 4.2.0 (64-bit)| (default, Jun 29 2016, 11:07:13) [MSC v.1500 64 bit (AMD64)]\n"
     ]
    }
   ],
   "source": [
    "from IPython.core.display import display, HTML\n",
    "display(HTML(\"<style>.container { width:95% !important; }</style>\"))\n",
    "import sys\n",
    "print (sys.version)"
   ]
  },
  {
   "cell_type": "markdown",
   "metadata": {},
   "source": [
    "## Import the Necessary Libraries\n",
    "Below are the libraries required to assemble the project."
   ]
  },
  {
   "cell_type": "code",
   "execution_count": 2,
   "metadata": {
    "collapsed": false
   },
   "outputs": [],
   "source": [
    "import pyodbc #CONNECT VIA PYODBC IMPORT THE PYODBC LIBRARY\n",
    "import pandas as pd #CONNECT TO THE PANDAS LIBRARY\n",
    "import numpy as np #IMPORT NUMPY\n",
    "import csv\n",
    "import seaborn as sns\n",
    "%matplotlib inline\n",
    "from matplotlib import pyplot as plt\n",
    "from matplotlib.ticker import MultipleLocator\n",
    "pd.options.mode.chained_assignment = None  # default='warn'\n",
    "#print pyodbc.dataSources()\n",
    "#conn=pyodbc.connect(\"Driver={NetezzaSQL};SERVER=10.80.10.70;PORT=5480;DATABASE=P_FDW;UID=djohnson;PWD=Sup3rm4n\",ansi=True)"
   ]
  },
  {
   "cell_type": "markdown",
   "metadata": {},
   "source": [
    "  ## Card BIN Import"
   ]
  },
  {
   "cell_type": "markdown",
   "metadata": {},
   "source": [
    "## Bambora Import"
   ]
  },
  {
   "cell_type": "code",
   "execution_count": 3,
   "metadata": {
    "collapsed": true
   },
   "outputs": [],
   "source": [
    "bb_column_names=['TRANSACTION_REF','ADDITIONAL_REFERENCE_2','PAYMENTREFERENCE','BB_TRANSACTION_TYPE','MCC','CONTRACT_ID','IIN','BIN_DESC','ORDERID','PAYMENT_PROCESSOR','MONTH','DAY','YEAR','PERIOD'\n",
    "              ,'ISSUER_COUNTRY','MERCHANT_COUNTRY','TRANSACTION_TYPE','CARD_SCHEME','CREDIT_DEBIT','CONSUMER_CORPORATE','SECURITY_LEVEL','REGIONALITY'\n",
    "              ,'PRODUCT_CODE','SF_FIXED_FEE','SF_PERC_FEE','CON_COM_BIN','VOLUME','ROUNDED_TRXN_AMOUNT','SCHEME_TOTAL_FEE_EUR','FLOW','BB_IC_TOTAL','BB_IC_BPS','BB_SF_BPS']"
   ]
  },
  {
   "cell_type": "code",
   "execution_count": 4,
   "metadata": {
    "collapsed": false
   },
   "outputs": [],
   "source": [
    "#import the file from local drives\n",
    "#bb=pd.read_csv('d:\\\\djohnson\\\\Desktop\\\\aib_comp_pull_bb_data.csv',error_bad_lines=False,skiprows=32,sep=';',names=bb_column_names,index_col=False)\n",
    "bb=pd.read_csv('d:\\\\djohnson\\\\Desktop\\\\aib_comp_pull_bb_data.csv',error_bad_lines=False,sep=';',skiprows=95,names=bb_column_names,index_col=False)"
   ]
  },
  {
   "cell_type": "code",
   "execution_count": 5,
   "metadata": {
    "collapsed": false
   },
   "outputs": [],
   "source": [
    "bb['BB_TRANSACTION_TYPE']=bb['BB_TRANSACTION_TYPE'].str.strip()\n",
    "bb['ISSUER_COUNTRY']=bb['ISSUER_COUNTRY'].str.strip()\n",
    "bb['MERCHANT_COUNTRY']=bb['MERCHANT_COUNTRY'].str.strip()\n",
    "bb['CARD_SCHEME']=bb['CARD_SCHEME'].str.strip()\n",
    "bb['CREDIT_DEBIT']=bb['CREDIT_DEBIT'].str.strip()\n",
    "bb['CONSUMER_CORPORATE']=bb['CONSUMER_CORPORATE'].str.strip()\n",
    "bb['REGIONALITY']=bb['REGIONALITY'].str.strip()\n",
    "bb['BIN_DESC']=bb['BIN_DESC'].str.strip()"
   ]
  },
  {
   "cell_type": "code",
   "execution_count": 6,
   "metadata": {
    "collapsed": true
   },
   "outputs": [],
   "source": [
    "bb=bb[(bb['REGIONALITY']=='Domestic')]"
   ]
  },
  {
   "cell_type": "code",
   "execution_count": 7,
   "metadata": {
    "collapsed": false
   },
   "outputs": [],
   "source": [
    "#create a new copy and safe old in memory for working purposes and to prevent repeated import from local drive\n",
    "bb1=bb.copy()\n",
    "bb1=bb1.dropna()\n",
    "bb1=bb1.drop(['CON_COM_BIN'],axis=1)"
   ]
  },
  {
   "cell_type": "code",
   "execution_count": 8,
   "metadata": {
    "collapsed": false
   },
   "outputs": [
    {
     "data": {
      "text/plain": [
       "array([ 5.,  7.,  6.])"
      ]
     },
     "execution_count": 8,
     "metadata": {},
     "output_type": "execute_result"
    }
   ],
   "source": [
    "bb1['SECURITY_LEVEL'].unique()"
   ]
  },
  {
   "cell_type": "code",
   "execution_count": 9,
   "metadata": {
    "collapsed": false
   },
   "outputs": [],
   "source": [
    "bb1['SECURITY_LEVEL']=bb1['SECURITY_LEVEL'].apply(lambda x:'NON-SECURE' if (7 == x) or (0 == x) or (6 == x) else 'SECURE')"
   ]
  },
  {
   "cell_type": "code",
   "execution_count": 10,
   "metadata": {
    "collapsed": false
   },
   "outputs": [
    {
     "data": {
      "text/html": [
       "<div>\n",
       "<table border=\"1\" class=\"dataframe\">\n",
       "  <thead>\n",
       "    <tr style=\"text-align: right;\">\n",
       "      <th></th>\n",
       "      <th>TRANSACTION_REF</th>\n",
       "      <th>ADDITIONAL_REFERENCE_2</th>\n",
       "      <th>PAYMENTREFERENCE</th>\n",
       "      <th>BB_TRANSACTION_TYPE</th>\n",
       "      <th>MCC</th>\n",
       "      <th>CONTRACT_ID</th>\n",
       "      <th>IIN</th>\n",
       "      <th>BIN_DESC</th>\n",
       "      <th>ORDERID</th>\n",
       "      <th>PAYMENT_PROCESSOR</th>\n",
       "      <th>...</th>\n",
       "      <th>PRODUCT_CODE</th>\n",
       "      <th>SF_FIXED_FEE</th>\n",
       "      <th>SF_PERC_FEE</th>\n",
       "      <th>VOLUME</th>\n",
       "      <th>ROUNDED_TRXN_AMOUNT</th>\n",
       "      <th>SCHEME_TOTAL_FEE_EUR</th>\n",
       "      <th>FLOW</th>\n",
       "      <th>BB_IC_TOTAL</th>\n",
       "      <th>BB_IC_BPS</th>\n",
       "      <th>BB_SF_BPS</th>\n",
       "    </tr>\n",
       "  </thead>\n",
       "  <tbody>\n",
       "    <tr>\n",
       "      <th>5</th>\n",
       "      <td>225514628687</td>\n",
       "      <td>2.255146e+11</td>\n",
       "      <td>2.255146e+11</td>\n",
       "      <td>Sale</td>\n",
       "      <td>4814.0</td>\n",
       "      <td>9391.0</td>\n",
       "      <td>465858.0</td>\n",
       "      <td>CLASSIC</td>\n",
       "      <td>4.000023e+09</td>\n",
       "      <td>235.0</td>\n",
       "      <td>...</td>\n",
       "      <td>100441.0</td>\n",
       "      <td>0.004391</td>\n",
       "      <td>0.0002</td>\n",
       "      <td>1.0</td>\n",
       "      <td>7.0</td>\n",
       "      <td>0.007236</td>\n",
       "      <td>6.710923</td>\n",
       "      <td>0.013422</td>\n",
       "      <td>0.002</td>\n",
       "      <td>0.001078</td>\n",
       "    </tr>\n",
       "    <tr>\n",
       "      <th>7</th>\n",
       "      <td>226163502525</td>\n",
       "      <td>2.261635e+11</td>\n",
       "      <td>2.261635e+11</td>\n",
       "      <td>Sale</td>\n",
       "      <td>4814.0</td>\n",
       "      <td>9391.0</td>\n",
       "      <td>475714.0</td>\n",
       "      <td>CLASSIC</td>\n",
       "      <td>4.000065e+09</td>\n",
       "      <td>235.0</td>\n",
       "      <td>...</td>\n",
       "      <td>100441.0</td>\n",
       "      <td>0.007067</td>\n",
       "      <td>0.0002</td>\n",
       "      <td>1.0</td>\n",
       "      <td>34.0</td>\n",
       "      <td>0.015009</td>\n",
       "      <td>34.459310</td>\n",
       "      <td>0.068919</td>\n",
       "      <td>0.002</td>\n",
       "      <td>0.000436</td>\n",
       "    </tr>\n",
       "    <tr>\n",
       "      <th>11</th>\n",
       "      <td>226149383508</td>\n",
       "      <td>2.261494e+11</td>\n",
       "      <td>2.261494e+11</td>\n",
       "      <td>Sale</td>\n",
       "      <td>5399.0</td>\n",
       "      <td>5859.0</td>\n",
       "      <td>446291.0</td>\n",
       "      <td>CLASSIC</td>\n",
       "      <td>7.200740e+09</td>\n",
       "      <td>235.0</td>\n",
       "      <td>...</td>\n",
       "      <td>100441.0</td>\n",
       "      <td>0.007069</td>\n",
       "      <td>0.0002</td>\n",
       "      <td>1.0</td>\n",
       "      <td>3.0</td>\n",
       "      <td>0.008746</td>\n",
       "      <td>3.188699</td>\n",
       "      <td>0.006377</td>\n",
       "      <td>0.002</td>\n",
       "      <td>0.002743</td>\n",
       "    </tr>\n",
       "    <tr>\n",
       "      <th>16</th>\n",
       "      <td>225715545257</td>\n",
       "      <td>2.257155e+11</td>\n",
       "      <td>2.257155e+11</td>\n",
       "      <td>Sale</td>\n",
       "      <td>5399.0</td>\n",
       "      <td>5859.0</td>\n",
       "      <td>475117.0</td>\n",
       "      <td>CLASSIC</td>\n",
       "      <td>8.200072e+09</td>\n",
       "      <td>235.0</td>\n",
       "      <td>...</td>\n",
       "      <td>100441.0</td>\n",
       "      <td>0.004334</td>\n",
       "      <td>0.0002</td>\n",
       "      <td>1.0</td>\n",
       "      <td>8.0</td>\n",
       "      <td>0.006459</td>\n",
       "      <td>7.910351</td>\n",
       "      <td>0.015821</td>\n",
       "      <td>0.002</td>\n",
       "      <td>0.000816</td>\n",
       "    </tr>\n",
       "    <tr>\n",
       "      <th>19</th>\n",
       "      <td>225794398979</td>\n",
       "      <td>2.257944e+11</td>\n",
       "      <td>2.257944e+11</td>\n",
       "      <td>Sale</td>\n",
       "      <td>5399.0</td>\n",
       "      <td>5859.0</td>\n",
       "      <td>492181.0</td>\n",
       "      <td>CLASSIC</td>\n",
       "      <td>8.200367e+09</td>\n",
       "      <td>235.0</td>\n",
       "      <td>...</td>\n",
       "      <td>100441.0</td>\n",
       "      <td>0.004340</td>\n",
       "      <td>0.0002</td>\n",
       "      <td>1.0</td>\n",
       "      <td>257.0</td>\n",
       "      <td>0.056312</td>\n",
       "      <td>257.111665</td>\n",
       "      <td>0.514223</td>\n",
       "      <td>0.002</td>\n",
       "      <td>0.000219</td>\n",
       "    </tr>\n",
       "  </tbody>\n",
       "</table>\n",
       "<p>5 rows × 32 columns</p>\n",
       "</div>"
      ],
      "text/plain": [
       "   TRANSACTION_REF  ADDITIONAL_REFERENCE_2  PAYMENTREFERENCE  \\\n",
       "5     225514628687            2.255146e+11      2.255146e+11   \n",
       "7     226163502525            2.261635e+11      2.261635e+11   \n",
       "11    226149383508            2.261494e+11      2.261494e+11   \n",
       "16    225715545257            2.257155e+11      2.257155e+11   \n",
       "19    225794398979            2.257944e+11      2.257944e+11   \n",
       "\n",
       "   BB_TRANSACTION_TYPE     MCC  CONTRACT_ID       IIN BIN_DESC       ORDERID  \\\n",
       "5                 Sale  4814.0       9391.0  465858.0  CLASSIC  4.000023e+09   \n",
       "7                 Sale  4814.0       9391.0  475714.0  CLASSIC  4.000065e+09   \n",
       "11                Sale  5399.0       5859.0  446291.0  CLASSIC  7.200740e+09   \n",
       "16                Sale  5399.0       5859.0  475117.0  CLASSIC  8.200072e+09   \n",
       "19                Sale  5399.0       5859.0  492181.0  CLASSIC  8.200367e+09   \n",
       "\n",
       "    PAYMENT_PROCESSOR    ...     PRODUCT_CODE  SF_FIXED_FEE  SF_PERC_FEE  \\\n",
       "5               235.0    ...         100441.0      0.004391       0.0002   \n",
       "7               235.0    ...         100441.0      0.007067       0.0002   \n",
       "11              235.0    ...         100441.0      0.007069       0.0002   \n",
       "16              235.0    ...         100441.0      0.004334       0.0002   \n",
       "19              235.0    ...         100441.0      0.004340       0.0002   \n",
       "\n",
       "   VOLUME ROUNDED_TRXN_AMOUNT SCHEME_TOTAL_FEE_EUR        FLOW BB_IC_TOTAL  \\\n",
       "5     1.0                 7.0             0.007236    6.710923    0.013422   \n",
       "7     1.0                34.0             0.015009   34.459310    0.068919   \n",
       "11    1.0                 3.0             0.008746    3.188699    0.006377   \n",
       "16    1.0                 8.0             0.006459    7.910351    0.015821   \n",
       "19    1.0               257.0             0.056312  257.111665    0.514223   \n",
       "\n",
       "   BB_IC_BPS BB_SF_BPS  \n",
       "5      0.002  0.001078  \n",
       "7      0.002  0.000436  \n",
       "11     0.002  0.002743  \n",
       "16     0.002  0.000816  \n",
       "19     0.002  0.000219  \n",
       "\n",
       "[5 rows x 32 columns]"
      ]
     },
     "execution_count": 10,
     "metadata": {},
     "output_type": "execute_result"
    }
   ],
   "source": [
    "bb1=bb1[(bb1['BB_TRANSACTION_TYPE']=='Sale')]\n",
    "bb1=bb1.rename({'ROUNDED_TRXN_AMOUNT':'FLOW'})\n",
    "bb1.head()"
   ]
  },
  {
   "cell_type": "code",
   "execution_count": 11,
   "metadata": {
    "collapsed": false,
    "scrolled": false
   },
   "outputs": [
    {
     "name": "stdout",
     "output_type": "stream",
     "text": [
      "<class 'pandas.core.frame.DataFrame'>\n",
      "Int64Index: 85711 entries, 5 to 358729\n",
      "Data columns (total 32 columns):\n",
      "TRANSACTION_REF           85711 non-null object\n",
      "ADDITIONAL_REFERENCE_2    85711 non-null float64\n",
      "PAYMENTREFERENCE          85711 non-null float64\n",
      "BB_TRANSACTION_TYPE       85711 non-null object\n",
      "MCC                       85711 non-null float64\n",
      "CONTRACT_ID               85711 non-null float64\n",
      "IIN                       85711 non-null float64\n",
      "BIN_DESC                  85711 non-null object\n",
      "ORDERID                   85711 non-null float64\n",
      "PAYMENT_PROCESSOR         85711 non-null float64\n",
      "MONTH                     85711 non-null float64\n",
      "DAY                       85711 non-null float64\n",
      "YEAR                      85711 non-null float64\n",
      "PERIOD                    85711 non-null object\n",
      "ISSUER_COUNTRY            85711 non-null object\n",
      "MERCHANT_COUNTRY          85711 non-null object\n",
      "TRANSACTION_TYPE          85711 non-null object\n",
      "CARD_SCHEME               85711 non-null object\n",
      "CREDIT_DEBIT              85711 non-null object\n",
      "CONSUMER_CORPORATE        85711 non-null object\n",
      "SECURITY_LEVEL            85711 non-null object\n",
      "REGIONALITY               85711 non-null object\n",
      "PRODUCT_CODE              85711 non-null float64\n",
      "SF_FIXED_FEE              85711 non-null float64\n",
      "SF_PERC_FEE               85711 non-null float64\n",
      "VOLUME                    85711 non-null float64\n",
      "ROUNDED_TRXN_AMOUNT       85711 non-null float64\n",
      "SCHEME_TOTAL_FEE_EUR      85711 non-null float64\n",
      "FLOW                      85711 non-null float64\n",
      "BB_IC_TOTAL               85711 non-null float64\n",
      "BB_IC_BPS                 85711 non-null float64\n",
      "BB_SF_BPS                 85711 non-null float64\n",
      "dtypes: float64(20), object(12)\n",
      "memory usage: 21.6+ MB\n"
     ]
    }
   ],
   "source": [
    "bb1.info()"
   ]
  },
  {
   "cell_type": "code",
   "execution_count": 12,
   "metadata": {
    "collapsed": false
   },
   "outputs": [],
   "source": [
    "bb1_contracts=bb1[['CONTRACT_ID','ISSUER_COUNTRY','MERCHANT_COUNTRY','CARD_SCHEME','CREDIT_DEBIT','CONSUMER_CORPORATE','SECURITY_LEVEL','IIN','BIN_DESC']]"
   ]
  },
  {
   "cell_type": "code",
   "execution_count": 13,
   "metadata": {
    "collapsed": false
   },
   "outputs": [],
   "source": [
    "bb1=bb1[(bb1['BIN_DESC']!='')]"
   ]
  },
  {
   "cell_type": "code",
   "execution_count": 36,
   "metadata": {
    "collapsed": false
   },
   "outputs": [
    {
     "data": {
      "text/html": [
       "<div>\n",
       "<table border=\"1\" class=\"dataframe\">\n",
       "  <thead>\n",
       "    <tr style=\"text-align: right;\">\n",
       "      <th></th>\n",
       "      <th>CONTRACT_ID</th>\n",
       "      <th>ISSUER_COUNTRY</th>\n",
       "      <th>MERCHANT_COUNTRY</th>\n",
       "      <th>CARD_SCHEME</th>\n",
       "      <th>CREDIT_DEBIT</th>\n",
       "      <th>CONSUMER_CORPORATE</th>\n",
       "      <th>SECURITY_LEVEL</th>\n",
       "      <th>IIN</th>\n",
       "      <th>BIN_DESC</th>\n",
       "    </tr>\n",
       "  </thead>\n",
       "  <tbody>\n",
       "    <tr>\n",
       "      <th>5</th>\n",
       "      <td>9391.0</td>\n",
       "      <td>United Kingdom</td>\n",
       "      <td>United Kingdom</td>\n",
       "      <td>Visa</td>\n",
       "      <td>Debit</td>\n",
       "      <td>Consumer</td>\n",
       "      <td>SECURE</td>\n",
       "      <td>465858.0</td>\n",
       "      <td>CLASSIC</td>\n",
       "    </tr>\n",
       "    <tr>\n",
       "      <th>7</th>\n",
       "      <td>9391.0</td>\n",
       "      <td>United Kingdom</td>\n",
       "      <td>United Kingdom</td>\n",
       "      <td>Visa</td>\n",
       "      <td>Debit</td>\n",
       "      <td>Consumer</td>\n",
       "      <td>SECURE</td>\n",
       "      <td>475714.0</td>\n",
       "      <td>CLASSIC</td>\n",
       "    </tr>\n",
       "    <tr>\n",
       "      <th>11</th>\n",
       "      <td>5859.0</td>\n",
       "      <td>United Kingdom</td>\n",
       "      <td>United Kingdom</td>\n",
       "      <td>Visa</td>\n",
       "      <td>Debit</td>\n",
       "      <td>Consumer</td>\n",
       "      <td>NON-SECURE</td>\n",
       "      <td>446291.0</td>\n",
       "      <td>CLASSIC</td>\n",
       "    </tr>\n",
       "    <tr>\n",
       "      <th>16</th>\n",
       "      <td>5859.0</td>\n",
       "      <td>United Kingdom</td>\n",
       "      <td>United Kingdom</td>\n",
       "      <td>Visa</td>\n",
       "      <td>Debit</td>\n",
       "      <td>Consumer</td>\n",
       "      <td>NON-SECURE</td>\n",
       "      <td>475117.0</td>\n",
       "      <td>CLASSIC</td>\n",
       "    </tr>\n",
       "    <tr>\n",
       "      <th>19</th>\n",
       "      <td>5859.0</td>\n",
       "      <td>United Kingdom</td>\n",
       "      <td>United Kingdom</td>\n",
       "      <td>Visa</td>\n",
       "      <td>Debit</td>\n",
       "      <td>Consumer</td>\n",
       "      <td>NON-SECURE</td>\n",
       "      <td>492181.0</td>\n",
       "      <td>CLASSIC</td>\n",
       "    </tr>\n",
       "  </tbody>\n",
       "</table>\n",
       "</div>"
      ],
      "text/plain": [
       "    CONTRACT_ID  ISSUER_COUNTRY MERCHANT_COUNTRY CARD_SCHEME CREDIT_DEBIT  \\\n",
       "5        9391.0  United Kingdom   United Kingdom        Visa        Debit   \n",
       "7        9391.0  United Kingdom   United Kingdom        Visa        Debit   \n",
       "11       5859.0  United Kingdom   United Kingdom        Visa        Debit   \n",
       "16       5859.0  United Kingdom   United Kingdom        Visa        Debit   \n",
       "19       5859.0  United Kingdom   United Kingdom        Visa        Debit   \n",
       "\n",
       "   CONSUMER_CORPORATE SECURITY_LEVEL       IIN BIN_DESC  \n",
       "5            Consumer         SECURE  465858.0  CLASSIC  \n",
       "7            Consumer         SECURE  475714.0  CLASSIC  \n",
       "11           Consumer     NON-SECURE  446291.0  CLASSIC  \n",
       "16           Consumer     NON-SECURE  475117.0  CLASSIC  \n",
       "19           Consumer     NON-SECURE  492181.0  CLASSIC  "
      ]
     },
     "execution_count": 36,
     "metadata": {},
     "output_type": "execute_result"
    }
   ],
   "source": [
    "bb1_contracts.head()"
   ]
  },
  {
   "cell_type": "code",
   "execution_count": 15,
   "metadata": {
    "collapsed": false
   },
   "outputs": [],
   "source": [
    "bb1_contracts=bb1_contracts.drop_duplicates()"
   ]
  },
  {
   "cell_type": "code",
   "execution_count": 16,
   "metadata": {
    "collapsed": false
   },
   "outputs": [
    {
     "name": "stdout",
     "output_type": "stream",
     "text": [
      "<class 'pandas.core.frame.DataFrame'>\n",
      "Int64Index: 3088 entries, 5 to 358378\n",
      "Data columns (total 9 columns):\n",
      "CONTRACT_ID           3088 non-null float64\n",
      "ISSUER_COUNTRY        3088 non-null object\n",
      "MERCHANT_COUNTRY      3088 non-null object\n",
      "CARD_SCHEME           3088 non-null object\n",
      "CREDIT_DEBIT          3088 non-null object\n",
      "CONSUMER_CORPORATE    3088 non-null object\n",
      "SECURITY_LEVEL        3088 non-null object\n",
      "IIN                   3088 non-null float64\n",
      "BIN_DESC              3088 non-null object\n",
      "dtypes: float64(2), object(7)\n",
      "memory usage: 241.2+ KB\n"
     ]
    }
   ],
   "source": [
    "bb1_contracts.info()"
   ]
  },
  {
   "cell_type": "code",
   "execution_count": 17,
   "metadata": {
    "collapsed": false
   },
   "outputs": [],
   "source": [
    "bb1_contracts.to_csv('d:\\\\djohnson\\\\Desktop\\\\bb1_contracts.csv')"
   ]
  },
  {
   "cell_type": "markdown",
   "metadata": {},
   "source": [
    "## AIB Import"
   ]
  },
  {
   "cell_type": "code",
   "execution_count": 48,
   "metadata": {
    "collapsed": false
   },
   "outputs": [],
   "source": [
    "#name the columns\n",
    "#all monetary is in euros\n",
    "ab_column_names=['CONTRACT_ID','ISSUER_COUNTRY','MERCHANT_COUNTRY','INTERCHANGE_REGION','BIN_DESC','CARD_SCHEME',\"IIN\",'IC_DESCRIPTION','SECURITY_LEVEL','AIB_IC_RATE_AMOUNT','AIB_IC_PERC','AIB_IC_BPS','CREDIT_DEBIT','CONSUMER_CORPORATE']\n",
    "#import the file from local drives\n",
    "ab=pd.read_csv('d:\\\\djohnson\\\\Desktop\\\\aib_comp_pull_aib_data.csv',error_bad_lines=False,skiprows=60,sep=';',index_col=False,names=ab_column_names)"
   ]
  },
  {
   "cell_type": "code",
   "execution_count": 49,
   "metadata": {
    "collapsed": false
   },
   "outputs": [
    {
     "data": {
      "text/html": [
       "<div>\n",
       "<table border=\"1\" class=\"dataframe\">\n",
       "  <thead>\n",
       "    <tr style=\"text-align: right;\">\n",
       "      <th></th>\n",
       "      <th>CONTRACT_ID</th>\n",
       "      <th>ISSUER_COUNTRY</th>\n",
       "      <th>MERCHANT_COUNTRY</th>\n",
       "      <th>INTERCHANGE_REGION</th>\n",
       "      <th>BIN_DESC</th>\n",
       "      <th>CARD_SCHEME</th>\n",
       "      <th>IIN</th>\n",
       "      <th>IC_DESCRIPTION</th>\n",
       "      <th>SECURITY_LEVEL</th>\n",
       "      <th>AIB_IC_RATE_AMOUNT</th>\n",
       "      <th>AIB_IC_PERC</th>\n",
       "      <th>AIB_IC_BPS</th>\n",
       "      <th>CREDIT_DEBIT</th>\n",
       "      <th>CONSUMER_CORPORATE</th>\n",
       "    </tr>\n",
       "  </thead>\n",
       "  <tbody>\n",
       "    <tr>\n",
       "      <th>0</th>\n",
       "      <td>1946</td>\n",
       "      <td>Luxembourg                                    ...</td>\n",
       "      <td>Luxembourg                                    ...</td>\n",
       "      <td>Domestic                                      ...</td>\n",
       "      <td>CLASSIC</td>\n",
       "      <td>Visa                                          ...</td>\n",
       "      <td>496611</td>\n",
       "      <td>LU NON-SEC CR-LU NON-SEC CR                   ...</td>\n",
       "      <td>NON-SECURE</td>\n",
       "      <td>0.0</td>\n",
       "      <td>0.3</td>\n",
       "      <td>0.002840</td>\n",
       "      <td>Credit</td>\n",
       "      <td>Consumer,,,,,,,,,,,,,,,,,</td>\n",
       "    </tr>\n",
       "    <tr>\n",
       "      <th>1</th>\n",
       "      <td>1946</td>\n",
       "      <td>Luxembourg                                    ...</td>\n",
       "      <td>Luxembourg                                    ...</td>\n",
       "      <td>Domestic                                      ...</td>\n",
       "      <td>CLASSIC</td>\n",
       "      <td>Visa                                          ...</td>\n",
       "      <td>401188</td>\n",
       "      <td>LU NON-SEC PP-LU NON-SEC PP                   ...</td>\n",
       "      <td>NON-SECURE</td>\n",
       "      <td>0.0</td>\n",
       "      <td>0.2</td>\n",
       "      <td>0.002084</td>\n",
       "      <td>Prepaid</td>\n",
       "      <td>Consumer,,,,,,,,,,,,,,,,,</td>\n",
       "    </tr>\n",
       "    <tr>\n",
       "      <th>2</th>\n",
       "      <td>1946</td>\n",
       "      <td>Luxembourg                                    ...</td>\n",
       "      <td>Luxembourg                                    ...</td>\n",
       "      <td>Domestic                                      ...</td>\n",
       "      <td>CLASSIC</td>\n",
       "      <td>Visa                                          ...</td>\n",
       "      <td>434516</td>\n",
       "      <td>LU NON-SEC CR-LU NON-SEC CR                   ...</td>\n",
       "      <td>NON-SECURE</td>\n",
       "      <td>0.0</td>\n",
       "      <td>0.3</td>\n",
       "      <td>0.002925</td>\n",
       "      <td>Credit</td>\n",
       "      <td>Consumer,,,,,,,,,,,,,,,,,</td>\n",
       "    </tr>\n",
       "    <tr>\n",
       "      <th>3</th>\n",
       "      <td>1946</td>\n",
       "      <td>Luxembourg                                    ...</td>\n",
       "      <td>Luxembourg                                    ...</td>\n",
       "      <td>Domestic                                      ...</td>\n",
       "      <td>CLASSIC</td>\n",
       "      <td>Visa                                          ...</td>\n",
       "      <td>494025</td>\n",
       "      <td>LU NON-SEC CR-LU NON-SEC CR                   ...</td>\n",
       "      <td>NON-SECURE</td>\n",
       "      <td>0.0</td>\n",
       "      <td>0.3</td>\n",
       "      <td>0.002898</td>\n",
       "      <td>Credit</td>\n",
       "      <td>Consumer,,,,,,,,,,,,,,,,,</td>\n",
       "    </tr>\n",
       "    <tr>\n",
       "      <th>4</th>\n",
       "      <td>5859</td>\n",
       "      <td>United Kingdom                                ...</td>\n",
       "      <td>United Kingdom                                ...</td>\n",
       "      <td>Domestic                                      ...</td>\n",
       "      <td>CLASSIC</td>\n",
       "      <td>Visa                                          ...</td>\n",
       "      <td>476248</td>\n",
       "      <td>UK STD DB-UK STD DB                           ...</td>\n",
       "      <td>NON-SECURE</td>\n",
       "      <td>0.0</td>\n",
       "      <td>0.2</td>\n",
       "      <td>0.001667</td>\n",
       "      <td>Debit</td>\n",
       "      <td>Consumer,,,,,,,,,,,,,,,,,</td>\n",
       "    </tr>\n",
       "  </tbody>\n",
       "</table>\n",
       "</div>"
      ],
      "text/plain": [
       "   CONTRACT_ID                                     ISSUER_COUNTRY  \\\n",
       "0         1946  Luxembourg                                    ...   \n",
       "1         1946  Luxembourg                                    ...   \n",
       "2         1946  Luxembourg                                    ...   \n",
       "3         1946  Luxembourg                                    ...   \n",
       "4         5859  United Kingdom                                ...   \n",
       "\n",
       "                                    MERCHANT_COUNTRY  \\\n",
       "0  Luxembourg                                    ...   \n",
       "1  Luxembourg                                    ...   \n",
       "2  Luxembourg                                    ...   \n",
       "3  Luxembourg                                    ...   \n",
       "4  United Kingdom                                ...   \n",
       "\n",
       "                                  INTERCHANGE_REGION         BIN_DESC  \\\n",
       "0  Domestic                                      ...  CLASSIC           \n",
       "1  Domestic                                      ...  CLASSIC           \n",
       "2  Domestic                                      ...  CLASSIC           \n",
       "3  Domestic                                      ...  CLASSIC           \n",
       "4  Domestic                                      ...  CLASSIC           \n",
       "\n",
       "                                         CARD_SCHEME     IIN  \\\n",
       "0  Visa                                          ...  496611   \n",
       "1  Visa                                          ...  401188   \n",
       "2  Visa                                          ...  434516   \n",
       "3  Visa                                          ...  494025   \n",
       "4  Visa                                          ...  476248   \n",
       "\n",
       "                                      IC_DESCRIPTION SECURITY_LEVEL  \\\n",
       "0  LU NON-SEC CR-LU NON-SEC CR                   ...     NON-SECURE   \n",
       "1  LU NON-SEC PP-LU NON-SEC PP                   ...     NON-SECURE   \n",
       "2  LU NON-SEC CR-LU NON-SEC CR                   ...     NON-SECURE   \n",
       "3  LU NON-SEC CR-LU NON-SEC CR                   ...     NON-SECURE   \n",
       "4  UK STD DB-UK STD DB                           ...     NON-SECURE   \n",
       "\n",
       "   AIB_IC_RATE_AMOUNT  AIB_IC_PERC  AIB_IC_BPS CREDIT_DEBIT  \\\n",
       "0                 0.0          0.3    0.002840      Credit    \n",
       "1                 0.0          0.2    0.002084      Prepaid   \n",
       "2                 0.0          0.3    0.002925      Credit    \n",
       "3                 0.0          0.3    0.002898      Credit    \n",
       "4                 0.0          0.2    0.001667      Debit     \n",
       "\n",
       "          CONSUMER_CORPORATE  \n",
       "0  Consumer,,,,,,,,,,,,,,,,,  \n",
       "1  Consumer,,,,,,,,,,,,,,,,,  \n",
       "2  Consumer,,,,,,,,,,,,,,,,,  \n",
       "3  Consumer,,,,,,,,,,,,,,,,,  \n",
       "4  Consumer,,,,,,,,,,,,,,,,,  "
      ]
     },
     "execution_count": 49,
     "metadata": {},
     "output_type": "execute_result"
    }
   ],
   "source": [
    "ab.head()"
   ]
  },
  {
   "cell_type": "code",
   "execution_count": 51,
   "metadata": {
    "collapsed": false
   },
   "outputs": [],
   "source": [
    "ab['CONTRACT_ID']=ab['CONTRACT_ID'].astype(float)"
   ]
  },
  {
   "cell_type": "code",
   "execution_count": 52,
   "metadata": {
    "collapsed": false
   },
   "outputs": [],
   "source": [
    "ab['ISSUER_COUNTRY']=ab['ISSUER_COUNTRY'].str.strip()\n",
    "ab['CARD_SCHEME']=ab['CARD_SCHEME'].str.strip()\n",
    "ab['MERCHANT_COUNTRY']=ab['MERCHANT_COUNTRY'].str.strip()\n",
    "ab['SECURITY_LEVEL']=ab['SECURITY_LEVEL'].str.strip()\n",
    "ab['IC_DESCRIPTION']=ab['IC_DESCRIPTION'].str.strip()\n",
    "ab['CREDIT_DEBIT']=ab['CREDIT_DEBIT'].str.strip()\n",
    "ab['CONSUMER_CORPORATE']=ab['CONSUMER_CORPORATE'].str.strip()\n",
    "ab['SECURITY_LEVEL']=ab['SECURITY_LEVEL'].str.strip()\n",
    "ab['BIN_DESC']=ab['BIN_DESC'].str.strip()"
   ]
  },
  {
   "cell_type": "code",
   "execution_count": 53,
   "metadata": {
    "collapsed": false
   },
   "outputs": [],
   "source": [
    "#create a new copy and safe old in memory for working purposes and to prevent repeated import from local drive\n",
    "ab1=ab.copy()"
   ]
  },
  {
   "cell_type": "code",
   "execution_count": 54,
   "metadata": {
    "collapsed": false
   },
   "outputs": [
    {
     "data": {
      "text/plain": [
       "array(['NON-SECURE'], dtype=object)"
      ]
     },
     "execution_count": 54,
     "metadata": {},
     "output_type": "execute_result"
    }
   ],
   "source": [
    "ab1['SECURITY_LEVEL'].unique()"
   ]
  },
  {
   "cell_type": "code",
   "execution_count": 55,
   "metadata": {
    "collapsed": false
   },
   "outputs": [],
   "source": [
    "ab1['CREDIT_DEBIT']=ab['CREDIT_DEBIT'].apply(lambda x:'Debit' if ('Prepaid' == x) or ('Debit'== x) else 'Credit')"
   ]
  },
  {
   "cell_type": "code",
   "execution_count": 61,
   "metadata": {
    "collapsed": true
   },
   "outputs": [],
   "source": [
    "ab1['CONSUMER_CORPORATE']=ab['CONSUMER_CORPORATE'].apply(lambda x:'Consumer' if ('Consumer,,,,,,,,,,,,,,,,,' == x) else 'Commercial')"
   ]
  },
  {
   "cell_type": "code",
   "execution_count": 62,
   "metadata": {
    "collapsed": false
   },
   "outputs": [],
   "source": [
    "ab2=ab1[['CONTRACT_ID','ISSUER_COUNTRY','MERCHANT_COUNTRY','CARD_SCHEME','CREDIT_DEBIT','CONSUMER_CORPORATE','SECURITY_LEVEL','BIN_DESC','IC_DESCRIPTION']].drop_duplicates()"
   ]
  },
  {
   "cell_type": "code",
   "execution_count": 63,
   "metadata": {
    "collapsed": true
   },
   "outputs": [],
   "source": [
    "ab2.to_csv('d:\\\\djohnson\\\\Desktop\\\\ab2.csv')"
   ]
  },
  {
   "cell_type": "code",
   "execution_count": 64,
   "metadata": {
    "collapsed": false
   },
   "outputs": [],
   "source": [
    "ab1=ab1[['CONTRACT_ID','ISSUER_COUNTRY','MERCHANT_COUNTRY','CARD_SCHEME','CREDIT_DEBIT','CONSUMER_CORPORATE','SECURITY_LEVEL','BIN_DESC','IC_DESCRIPTION','AIB_IC_RATE_AMOUNT','AIB_IC_PERC','AIB_IC_BPS']]"
   ]
  },
  {
   "cell_type": "code",
   "execution_count": 66,
   "metadata": {
    "collapsed": false
   },
   "outputs": [
    {
     "data": {
      "text/html": [
       "<div>\n",
       "<table border=\"1\" class=\"dataframe\">\n",
       "  <thead>\n",
       "    <tr style=\"text-align: right;\">\n",
       "      <th></th>\n",
       "      <th>CONTRACT_ID</th>\n",
       "      <th>ISSUER_COUNTRY</th>\n",
       "      <th>MERCHANT_COUNTRY</th>\n",
       "      <th>CARD_SCHEME</th>\n",
       "      <th>CREDIT_DEBIT</th>\n",
       "      <th>CONSUMER_CORPORATE</th>\n",
       "      <th>SECURITY_LEVEL</th>\n",
       "      <th>BIN_DESC</th>\n",
       "      <th>IC_DESCRIPTION</th>\n",
       "      <th>AIB_IC_RATE_AMOUNT</th>\n",
       "      <th>AIB_IC_PERC</th>\n",
       "      <th>AIB_IC_BPS</th>\n",
       "    </tr>\n",
       "  </thead>\n",
       "  <tbody>\n",
       "    <tr>\n",
       "      <th>0</th>\n",
       "      <td>1946.0</td>\n",
       "      <td>Luxembourg</td>\n",
       "      <td>Luxembourg</td>\n",
       "      <td>Visa</td>\n",
       "      <td>Credit</td>\n",
       "      <td>Consumer</td>\n",
       "      <td>NON-SECURE</td>\n",
       "      <td>CLASSIC</td>\n",
       "      <td>LU NON-SEC CR-LU NON-SEC CR</td>\n",
       "      <td>0.0</td>\n",
       "      <td>0.3</td>\n",
       "      <td>0.002840</td>\n",
       "    </tr>\n",
       "    <tr>\n",
       "      <th>1</th>\n",
       "      <td>1946.0</td>\n",
       "      <td>Luxembourg</td>\n",
       "      <td>Luxembourg</td>\n",
       "      <td>Visa</td>\n",
       "      <td>Debit</td>\n",
       "      <td>Consumer</td>\n",
       "      <td>NON-SECURE</td>\n",
       "      <td>CLASSIC</td>\n",
       "      <td>LU NON-SEC PP-LU NON-SEC PP</td>\n",
       "      <td>0.0</td>\n",
       "      <td>0.2</td>\n",
       "      <td>0.002084</td>\n",
       "    </tr>\n",
       "    <tr>\n",
       "      <th>2</th>\n",
       "      <td>1946.0</td>\n",
       "      <td>Luxembourg</td>\n",
       "      <td>Luxembourg</td>\n",
       "      <td>Visa</td>\n",
       "      <td>Credit</td>\n",
       "      <td>Consumer</td>\n",
       "      <td>NON-SECURE</td>\n",
       "      <td>CLASSIC</td>\n",
       "      <td>LU NON-SEC CR-LU NON-SEC CR</td>\n",
       "      <td>0.0</td>\n",
       "      <td>0.3</td>\n",
       "      <td>0.002925</td>\n",
       "    </tr>\n",
       "    <tr>\n",
       "      <th>3</th>\n",
       "      <td>1946.0</td>\n",
       "      <td>Luxembourg</td>\n",
       "      <td>Luxembourg</td>\n",
       "      <td>Visa</td>\n",
       "      <td>Credit</td>\n",
       "      <td>Consumer</td>\n",
       "      <td>NON-SECURE</td>\n",
       "      <td>CLASSIC</td>\n",
       "      <td>LU NON-SEC CR-LU NON-SEC CR</td>\n",
       "      <td>0.0</td>\n",
       "      <td>0.3</td>\n",
       "      <td>0.002898</td>\n",
       "    </tr>\n",
       "    <tr>\n",
       "      <th>4</th>\n",
       "      <td>5859.0</td>\n",
       "      <td>United Kingdom</td>\n",
       "      <td>United Kingdom</td>\n",
       "      <td>Visa</td>\n",
       "      <td>Debit</td>\n",
       "      <td>Consumer</td>\n",
       "      <td>NON-SECURE</td>\n",
       "      <td>CLASSIC</td>\n",
       "      <td>UK STD DB-UK STD DB</td>\n",
       "      <td>0.0</td>\n",
       "      <td>0.2</td>\n",
       "      <td>0.001667</td>\n",
       "    </tr>\n",
       "  </tbody>\n",
       "</table>\n",
       "</div>"
      ],
      "text/plain": [
       "   CONTRACT_ID  ISSUER_COUNTRY MERCHANT_COUNTRY CARD_SCHEME CREDIT_DEBIT  \\\n",
       "0       1946.0      Luxembourg       Luxembourg        Visa       Credit   \n",
       "1       1946.0      Luxembourg       Luxembourg        Visa        Debit   \n",
       "2       1946.0      Luxembourg       Luxembourg        Visa       Credit   \n",
       "3       1946.0      Luxembourg       Luxembourg        Visa       Credit   \n",
       "4       5859.0  United Kingdom   United Kingdom        Visa        Debit   \n",
       "\n",
       "  CONSUMER_CORPORATE SECURITY_LEVEL BIN_DESC               IC_DESCRIPTION  \\\n",
       "0           Consumer     NON-SECURE  CLASSIC  LU NON-SEC CR-LU NON-SEC CR   \n",
       "1           Consumer     NON-SECURE  CLASSIC  LU NON-SEC PP-LU NON-SEC PP   \n",
       "2           Consumer     NON-SECURE  CLASSIC  LU NON-SEC CR-LU NON-SEC CR   \n",
       "3           Consumer     NON-SECURE  CLASSIC  LU NON-SEC CR-LU NON-SEC CR   \n",
       "4           Consumer     NON-SECURE  CLASSIC          UK STD DB-UK STD DB   \n",
       "\n",
       "   AIB_IC_RATE_AMOUNT  AIB_IC_PERC  AIB_IC_BPS  \n",
       "0                 0.0          0.3    0.002840  \n",
       "1                 0.0          0.2    0.002084  \n",
       "2                 0.0          0.3    0.002925  \n",
       "3                 0.0          0.3    0.002898  \n",
       "4                 0.0          0.2    0.001667  "
      ]
     },
     "execution_count": 66,
     "metadata": {},
     "output_type": "execute_result"
    }
   ],
   "source": [
    "ab1.head()"
   ]
  },
  {
   "cell_type": "markdown",
   "metadata": {},
   "source": [
    "## Attach AIB Lanes to Active Bambora Lanes \n",
    "This is a left join that will show all active Bambora lanes on only those AIB lanes where there is congruence."
   ]
  },
  {
   "cell_type": "code",
   "execution_count": 41,
   "metadata": {
    "collapsed": false
   },
   "outputs": [],
   "source": [
    "#ab_bb_combo=pd.merge(bb1_contracts,ab1,on=['CONTRACT_ID','ISSUER_COUNTRY','MERCHANT_COUNTRY','CARD_SCHEME','CREDIT_DEBIT','CONSUMER_CORPORATE','SECURITY_LEVEL','IIN'],how='left')\n",
    "ab_bb_combo=pd.merge(bb1_contracts,ab1,on=['CONTRACT_ID','ISSUER_COUNTRY','MERCHANT_COUNTRY','CARD_SCHEME','CREDIT_DEBIT','CONSUMER_CORPORATE','SECURITY_LEVEL','BIN_DESC'],how='left')"
   ]
  },
  {
   "cell_type": "code",
   "execution_count": 42,
   "metadata": {
    "collapsed": false
   },
   "outputs": [
    {
     "data": {
      "text/html": [
       "<div>\n",
       "<table border=\"1\" class=\"dataframe\">\n",
       "  <thead>\n",
       "    <tr style=\"text-align: right;\">\n",
       "      <th></th>\n",
       "      <th>CONTRACT_ID</th>\n",
       "      <th>ISSUER_COUNTRY</th>\n",
       "      <th>MERCHANT_COUNTRY</th>\n",
       "      <th>CARD_SCHEME</th>\n",
       "      <th>CREDIT_DEBIT</th>\n",
       "      <th>CONSUMER_CORPORATE</th>\n",
       "      <th>SECURITY_LEVEL</th>\n",
       "      <th>IIN</th>\n",
       "      <th>BIN_DESC</th>\n",
       "      <th>IC_DESCRIPTION</th>\n",
       "      <th>AIB_IC_RATE_AMOUNT</th>\n",
       "      <th>AIB_IC_PERC</th>\n",
       "      <th>AIB_IC_BPS</th>\n",
       "    </tr>\n",
       "  </thead>\n",
       "  <tbody>\n",
       "    <tr>\n",
       "      <th>0</th>\n",
       "      <td>9391.0</td>\n",
       "      <td>United Kingdom</td>\n",
       "      <td>United Kingdom</td>\n",
       "      <td>Visa</td>\n",
       "      <td>Debit</td>\n",
       "      <td>Consumer</td>\n",
       "      <td>SECURE</td>\n",
       "      <td>465858.0</td>\n",
       "      <td>CLASSIC</td>\n",
       "      <td>NaN</td>\n",
       "      <td>NaN</td>\n",
       "      <td>NaN</td>\n",
       "      <td>NaN</td>\n",
       "    </tr>\n",
       "    <tr>\n",
       "      <th>1</th>\n",
       "      <td>9391.0</td>\n",
       "      <td>United Kingdom</td>\n",
       "      <td>United Kingdom</td>\n",
       "      <td>Visa</td>\n",
       "      <td>Debit</td>\n",
       "      <td>Consumer</td>\n",
       "      <td>SECURE</td>\n",
       "      <td>475714.0</td>\n",
       "      <td>CLASSIC</td>\n",
       "      <td>NaN</td>\n",
       "      <td>NaN</td>\n",
       "      <td>NaN</td>\n",
       "      <td>NaN</td>\n",
       "    </tr>\n",
       "    <tr>\n",
       "      <th>2</th>\n",
       "      <td>5859.0</td>\n",
       "      <td>United Kingdom</td>\n",
       "      <td>United Kingdom</td>\n",
       "      <td>Visa</td>\n",
       "      <td>Debit</td>\n",
       "      <td>Consumer</td>\n",
       "      <td>NON-SECURE</td>\n",
       "      <td>446291.0</td>\n",
       "      <td>CLASSIC</td>\n",
       "      <td>NaN</td>\n",
       "      <td>NaN</td>\n",
       "      <td>NaN</td>\n",
       "      <td>NaN</td>\n",
       "    </tr>\n",
       "    <tr>\n",
       "      <th>3</th>\n",
       "      <td>5859.0</td>\n",
       "      <td>United Kingdom</td>\n",
       "      <td>United Kingdom</td>\n",
       "      <td>Visa</td>\n",
       "      <td>Debit</td>\n",
       "      <td>Consumer</td>\n",
       "      <td>NON-SECURE</td>\n",
       "      <td>475117.0</td>\n",
       "      <td>CLASSIC</td>\n",
       "      <td>NaN</td>\n",
       "      <td>NaN</td>\n",
       "      <td>NaN</td>\n",
       "      <td>NaN</td>\n",
       "    </tr>\n",
       "    <tr>\n",
       "      <th>4</th>\n",
       "      <td>5859.0</td>\n",
       "      <td>United Kingdom</td>\n",
       "      <td>United Kingdom</td>\n",
       "      <td>Visa</td>\n",
       "      <td>Debit</td>\n",
       "      <td>Consumer</td>\n",
       "      <td>NON-SECURE</td>\n",
       "      <td>492181.0</td>\n",
       "      <td>CLASSIC</td>\n",
       "      <td>NaN</td>\n",
       "      <td>NaN</td>\n",
       "      <td>NaN</td>\n",
       "      <td>NaN</td>\n",
       "    </tr>\n",
       "  </tbody>\n",
       "</table>\n",
       "</div>"
      ],
      "text/plain": [
       "   CONTRACT_ID  ISSUER_COUNTRY MERCHANT_COUNTRY CARD_SCHEME CREDIT_DEBIT  \\\n",
       "0       9391.0  United Kingdom   United Kingdom        Visa        Debit   \n",
       "1       9391.0  United Kingdom   United Kingdom        Visa        Debit   \n",
       "2       5859.0  United Kingdom   United Kingdom        Visa        Debit   \n",
       "3       5859.0  United Kingdom   United Kingdom        Visa        Debit   \n",
       "4       5859.0  United Kingdom   United Kingdom        Visa        Debit   \n",
       "\n",
       "  CONSUMER_CORPORATE SECURITY_LEVEL       IIN BIN_DESC IC_DESCRIPTION  \\\n",
       "0           Consumer         SECURE  465858.0  CLASSIC            NaN   \n",
       "1           Consumer         SECURE  475714.0  CLASSIC            NaN   \n",
       "2           Consumer     NON-SECURE  446291.0  CLASSIC            NaN   \n",
       "3           Consumer     NON-SECURE  475117.0  CLASSIC            NaN   \n",
       "4           Consumer     NON-SECURE  492181.0  CLASSIC            NaN   \n",
       "\n",
       "   AIB_IC_RATE_AMOUNT  AIB_IC_PERC  AIB_IC_BPS  \n",
       "0                 NaN          NaN         NaN  \n",
       "1                 NaN          NaN         NaN  \n",
       "2                 NaN          NaN         NaN  \n",
       "3                 NaN          NaN         NaN  \n",
       "4                 NaN          NaN         NaN  "
      ]
     },
     "execution_count": 42,
     "metadata": {},
     "output_type": "execute_result"
    }
   ],
   "source": [
    "ab_bb_combo.head()"
   ]
  },
  {
   "cell_type": "markdown",
   "metadata": {},
   "source": [
    "### Only show those lanes where there is activity for AIB and Bambora\n",
    "This is done but filtering to only those results that have scheme fee information"
   ]
  },
  {
   "cell_type": "code",
   "execution_count": 43,
   "metadata": {
    "collapsed": false
   },
   "outputs": [],
   "source": [
    "ab_bb_combo=ab_bb_combo[(ab_bb_combo['AIB_IC_BPS'].notnull())].drop_duplicates()"
   ]
  },
  {
   "cell_type": "code",
   "execution_count": 44,
   "metadata": {
    "collapsed": false
   },
   "outputs": [
    {
     "data": {
      "text/html": [
       "<div>\n",
       "<table border=\"1\" class=\"dataframe\">\n",
       "  <thead>\n",
       "    <tr style=\"text-align: right;\">\n",
       "      <th></th>\n",
       "      <th>CONTRACT_ID</th>\n",
       "      <th>ISSUER_COUNTRY</th>\n",
       "      <th>MERCHANT_COUNTRY</th>\n",
       "      <th>CARD_SCHEME</th>\n",
       "      <th>CREDIT_DEBIT</th>\n",
       "      <th>CONSUMER_CORPORATE</th>\n",
       "      <th>SECURITY_LEVEL</th>\n",
       "      <th>IIN</th>\n",
       "      <th>BIN_DESC</th>\n",
       "      <th>IC_DESCRIPTION</th>\n",
       "      <th>AIB_IC_RATE_AMOUNT</th>\n",
       "      <th>AIB_IC_PERC</th>\n",
       "      <th>AIB_IC_BPS</th>\n",
       "    </tr>\n",
       "  </thead>\n",
       "  <tbody>\n",
       "  </tbody>\n",
       "</table>\n",
       "</div>"
      ],
      "text/plain": [
       "Empty DataFrame\n",
       "Columns: [CONTRACT_ID, ISSUER_COUNTRY, MERCHANT_COUNTRY, CARD_SCHEME, CREDIT_DEBIT, CONSUMER_CORPORATE, SECURITY_LEVEL, IIN, BIN_DESC, IC_DESCRIPTION, AIB_IC_RATE_AMOUNT, AIB_IC_PERC, AIB_IC_BPS]\n",
       "Index: []"
      ]
     },
     "execution_count": 44,
     "metadata": {},
     "output_type": "execute_result"
    }
   ],
   "source": [
    "ab_bb_combo.head()"
   ]
  },
  {
   "cell_type": "markdown",
   "metadata": {},
   "source": [
    "### Only Show the Median aggregated by lane, contract ID, Credit/Debit and Card type, Flow"
   ]
  },
  {
   "cell_type": "code",
   "execution_count": 33,
   "metadata": {
    "collapsed": false
   },
   "outputs": [],
   "source": [
    "#ab_bb_combo=ab_bb_combo.groupby(['CONTRACT_ID','ISSUER_COUNTRY','CARD_SCHEME','MERCHANT_COUNTRY','CREDIT_DEBIT','CONSUMER_CORPORATE','FLOW','SECURITY_LEVEL','IIN'],as_index=False)[['AIB_IC_BPS','AIB_SF_BPS']].median()\n",
    "ab_bb_combo=ab_bb_combo.groupby(['CONTRACT_ID','ISSUER_COUNTRY','CARD_SCHEME','MERCHANT_COUNTRY','CREDIT_DEBIT','CONSUMER_CORPORATE','SECURITY_LEVEL','BIN_DESC','IC_DESCRIPTION','AIB_IC_RATE_AMOUNT','AIB_IC_PERC'],as_index=False)[['AIB_IC_BPS']].median()"
   ]
  },
  {
   "cell_type": "code",
   "execution_count": 34,
   "metadata": {
    "collapsed": false
   },
   "outputs": [
    {
     "name": "stdout",
     "output_type": "stream",
     "text": [
      "Empty DataFrame\n",
      "Columns: [CONTRACT_ID, ISSUER_COUNTRY, CARD_SCHEME, MERCHANT_COUNTRY, CREDIT_DEBIT, CONSUMER_CORPORATE, SECURITY_LEVEL, BIN_DESC, IC_DESCRIPTION, AIB_IC_RATE_AMOUNT, AIB_IC_PERC, AIB_IC_BPS]\n",
      "Index: []\n"
     ]
    }
   ],
   "source": [
    "print ab_bb_combo.head()"
   ]
  },
  {
   "cell_type": "code",
   "execution_count": 32,
   "metadata": {
    "collapsed": false
   },
   "outputs": [],
   "source": [
    "ab_bb_combo.to_csv('d:\\\\djohnson\\\\Desktop\\\\ab_bb_comp.csv')"
   ]
  },
  {
   "cell_type": "code",
   "execution_count": 33,
   "metadata": {
    "collapsed": false
   },
   "outputs": [
    {
     "name": "stdout",
     "output_type": "stream",
     "text": [
      "<class 'pandas.core.frame.DataFrame'>\n",
      "Int64Index: 878 entries, 0 to 877\n",
      "Data columns (total 12 columns):\n",
      "CONTRACT_ID           878 non-null float64\n",
      "ISSUER_COUNTRY        878 non-null object\n",
      "CARD_SCHEME           878 non-null object\n",
      "MERCHANT_COUNTRY      878 non-null object\n",
      "CREDIT_DEBIT          878 non-null object\n",
      "CONSUMER_CORPORATE    878 non-null object\n",
      "SECURITY_LEVEL        878 non-null object\n",
      "BIN_DESC              878 non-null object\n",
      "IC_DESCRIPTION        878 non-null object\n",
      "AIB_IC_RATE_AMOUNT    878 non-null float64\n",
      "AIB_IC_PERC           878 non-null float64\n",
      "AIB_IC_BPS            878 non-null float64\n",
      "dtypes: float64(4), object(8)\n",
      "memory usage: 89.2+ KB\n"
     ]
    }
   ],
   "source": [
    "ab_bb_combo.info()"
   ]
  },
  {
   "cell_type": "markdown",
   "metadata": {},
   "source": [
    "## Setup the Bambora Baseline Lanes, Flows, and SFs"
   ]
  },
  {
   "cell_type": "code",
   "execution_count": 34,
   "metadata": {
    "collapsed": false
   },
   "outputs": [],
   "source": [
    "base=ab_bb_combo.drop(['AIB_IC_BPS'],axis=1).drop_duplicates()"
   ]
  },
  {
   "cell_type": "code",
   "execution_count": 35,
   "metadata": {
    "collapsed": false
   },
   "outputs": [],
   "source": [
    "bbbase=pd.merge(base,bb1,on=['CONTRACT_ID','ISSUER_COUNTRY','MERCHANT_COUNTRY','CARD_SCHEME','CREDIT_DEBIT','CONSUMER_CORPORATE','SECURITY_LEVEL'],how='left')"
   ]
  },
  {
   "cell_type": "code",
   "execution_count": 36,
   "metadata": {
    "collapsed": false
   },
   "outputs": [],
   "source": [
    "bbbase=bbbase.rename(columns={'ROUNDED_TRXN_AMOUNT':'FLOW','FLOW':'FLOW_2'})"
   ]
  },
  {
   "cell_type": "code",
   "execution_count": 37,
   "metadata": {
    "collapsed": true
   },
   "outputs": [],
   "source": [
    "bbbase=bbbase.drop(['SF_FIXED_FEE','SF_PERC_FEE','SF_PERC_FEE','SCHEME_TOTAL_FEE_EUR','BB_SF_BPS'],axis=1).drop_duplicates()"
   ]
  },
  {
   "cell_type": "code",
   "execution_count": 38,
   "metadata": {
    "collapsed": false
   },
   "outputs": [
    {
     "data": {
      "text/html": [
       "<div>\n",
       "<table border=\"1\" class=\"dataframe\">\n",
       "  <thead>\n",
       "    <tr style=\"text-align: right;\">\n",
       "      <th></th>\n",
       "      <th>CONTRACT_ID</th>\n",
       "      <th>ISSUER_COUNTRY</th>\n",
       "      <th>CARD_SCHEME</th>\n",
       "      <th>MERCHANT_COUNTRY</th>\n",
       "      <th>CREDIT_DEBIT</th>\n",
       "      <th>CONSUMER_CORPORATE</th>\n",
       "      <th>SECURITY_LEVEL</th>\n",
       "      <th>BIN_DESC_x</th>\n",
       "      <th>IC_DESCRIPTION</th>\n",
       "      <th>AIB_IC_RATE_AMOUNT</th>\n",
       "      <th>...</th>\n",
       "      <th>YEAR</th>\n",
       "      <th>PERIOD</th>\n",
       "      <th>TRANSACTION_TYPE</th>\n",
       "      <th>REGIONALITY</th>\n",
       "      <th>PRODUCT_CODE</th>\n",
       "      <th>VOLUME</th>\n",
       "      <th>FLOW</th>\n",
       "      <th>FLOW_2</th>\n",
       "      <th>BB_IC_TOTAL</th>\n",
       "      <th>BB_IC_BPS</th>\n",
       "    </tr>\n",
       "  </thead>\n",
       "  <tbody>\n",
       "    <tr>\n",
       "      <th>0</th>\n",
       "      <td>2095.0</td>\n",
       "      <td>Kazakhstan</td>\n",
       "      <td>Visa</td>\n",
       "      <td>Luxembourg</td>\n",
       "      <td>Credit</td>\n",
       "      <td>Consumer</td>\n",
       "      <td>NON-SECURE</td>\n",
       "      <td>CLASSIC</td>\n",
       "      <td>PREMIUM CARD-PREMIUM CARD</td>\n",
       "      <td>0.0</td>\n",
       "      <td>...</td>\n",
       "      <td>2018.0</td>\n",
       "      <td>2018-01</td>\n",
       "      <td>TRANSACTION</td>\n",
       "      <td>Interregional</td>\n",
       "      <td>100444.0</td>\n",
       "      <td>1.0</td>\n",
       "      <td>1.0</td>\n",
       "      <td>1.164676</td>\n",
       "      <td>0.018511</td>\n",
       "      <td>0.015894</td>\n",
       "    </tr>\n",
       "    <tr>\n",
       "      <th>1</th>\n",
       "      <td>2095.0</td>\n",
       "      <td>Kazakhstan</td>\n",
       "      <td>Visa</td>\n",
       "      <td>Luxembourg</td>\n",
       "      <td>Credit</td>\n",
       "      <td>Consumer</td>\n",
       "      <td>NON-SECURE</td>\n",
       "      <td>CLASSIC</td>\n",
       "      <td>SPR PREMIUM CARD-SPR PREMIUM CARD</td>\n",
       "      <td>0.0</td>\n",
       "      <td>...</td>\n",
       "      <td>2018.0</td>\n",
       "      <td>2018-01</td>\n",
       "      <td>TRANSACTION</td>\n",
       "      <td>Interregional</td>\n",
       "      <td>100444.0</td>\n",
       "      <td>1.0</td>\n",
       "      <td>1.0</td>\n",
       "      <td>1.164676</td>\n",
       "      <td>0.018511</td>\n",
       "      <td>0.015894</td>\n",
       "    </tr>\n",
       "    <tr>\n",
       "      <th>2</th>\n",
       "      <td>2095.0</td>\n",
       "      <td>Kazakhstan</td>\n",
       "      <td>Visa</td>\n",
       "      <td>Luxembourg</td>\n",
       "      <td>Credit</td>\n",
       "      <td>Consumer</td>\n",
       "      <td>NON-SECURE</td>\n",
       "      <td>CLASSIC</td>\n",
       "      <td>STANDARD-STANDARD</td>\n",
       "      <td>0.0</td>\n",
       "      <td>...</td>\n",
       "      <td>2018.0</td>\n",
       "      <td>2018-01</td>\n",
       "      <td>TRANSACTION</td>\n",
       "      <td>Interregional</td>\n",
       "      <td>100444.0</td>\n",
       "      <td>1.0</td>\n",
       "      <td>1.0</td>\n",
       "      <td>1.164676</td>\n",
       "      <td>0.018511</td>\n",
       "      <td>0.015894</td>\n",
       "    </tr>\n",
       "    <tr>\n",
       "      <th>3</th>\n",
       "      <td>2095.0</td>\n",
       "      <td>Russian Federation</td>\n",
       "      <td>Visa</td>\n",
       "      <td>Luxembourg</td>\n",
       "      <td>Credit</td>\n",
       "      <td>Consumer</td>\n",
       "      <td>NON-SECURE</td>\n",
       "      <td>CLASSIC</td>\n",
       "      <td>PREMIUM CARD-PREMIUM CARD</td>\n",
       "      <td>0.0</td>\n",
       "      <td>...</td>\n",
       "      <td>2018.0</td>\n",
       "      <td>2018-01</td>\n",
       "      <td>TRANSACTION</td>\n",
       "      <td>Interregional</td>\n",
       "      <td>100444.0</td>\n",
       "      <td>1.0</td>\n",
       "      <td>5.0</td>\n",
       "      <td>4.521325</td>\n",
       "      <td>0.031256</td>\n",
       "      <td>0.006913</td>\n",
       "    </tr>\n",
       "    <tr>\n",
       "      <th>4</th>\n",
       "      <td>2095.0</td>\n",
       "      <td>Russian Federation</td>\n",
       "      <td>Visa</td>\n",
       "      <td>Luxembourg</td>\n",
       "      <td>Credit</td>\n",
       "      <td>Consumer</td>\n",
       "      <td>NON-SECURE</td>\n",
       "      <td>CLASSIC</td>\n",
       "      <td>PREMIUM CARD-PREMIUM CARD</td>\n",
       "      <td>0.0</td>\n",
       "      <td>...</td>\n",
       "      <td>2018.0</td>\n",
       "      <td>2018-01</td>\n",
       "      <td>TRANSACTION</td>\n",
       "      <td>Interregional</td>\n",
       "      <td>100444.0</td>\n",
       "      <td>1.0</td>\n",
       "      <td>10.0</td>\n",
       "      <td>9.777313</td>\n",
       "      <td>0.067592</td>\n",
       "      <td>0.006913</td>\n",
       "    </tr>\n",
       "  </tbody>\n",
       "</table>\n",
       "<p>5 rows × 32 columns</p>\n",
       "</div>"
      ],
      "text/plain": [
       "   CONTRACT_ID      ISSUER_COUNTRY CARD_SCHEME MERCHANT_COUNTRY CREDIT_DEBIT  \\\n",
       "0       2095.0          Kazakhstan        Visa       Luxembourg       Credit   \n",
       "1       2095.0          Kazakhstan        Visa       Luxembourg       Credit   \n",
       "2       2095.0          Kazakhstan        Visa       Luxembourg       Credit   \n",
       "3       2095.0  Russian Federation        Visa       Luxembourg       Credit   \n",
       "4       2095.0  Russian Federation        Visa       Luxembourg       Credit   \n",
       "\n",
       "  CONSUMER_CORPORATE SECURITY_LEVEL BIN_DESC_x  \\\n",
       "0           Consumer     NON-SECURE    CLASSIC   \n",
       "1           Consumer     NON-SECURE    CLASSIC   \n",
       "2           Consumer     NON-SECURE    CLASSIC   \n",
       "3           Consumer     NON-SECURE    CLASSIC   \n",
       "4           Consumer     NON-SECURE    CLASSIC   \n",
       "\n",
       "                      IC_DESCRIPTION  AIB_IC_RATE_AMOUNT    ...        YEAR  \\\n",
       "0          PREMIUM CARD-PREMIUM CARD                 0.0    ...      2018.0   \n",
       "1  SPR PREMIUM CARD-SPR PREMIUM CARD                 0.0    ...      2018.0   \n",
       "2                  STANDARD-STANDARD                 0.0    ...      2018.0   \n",
       "3          PREMIUM CARD-PREMIUM CARD                 0.0    ...      2018.0   \n",
       "4          PREMIUM CARD-PREMIUM CARD                 0.0    ...      2018.0   \n",
       "\n",
       "    PERIOD      TRANSACTION_TYPE    REGIONALITY PRODUCT_CODE  VOLUME  FLOW  \\\n",
       "0  2018-01  TRANSACTION           Interregional     100444.0     1.0   1.0   \n",
       "1  2018-01  TRANSACTION           Interregional     100444.0     1.0   1.0   \n",
       "2  2018-01  TRANSACTION           Interregional     100444.0     1.0   1.0   \n",
       "3  2018-01  TRANSACTION           Interregional     100444.0     1.0   5.0   \n",
       "4  2018-01  TRANSACTION           Interregional     100444.0     1.0  10.0   \n",
       "\n",
       "     FLOW_2  BB_IC_TOTAL  BB_IC_BPS  \n",
       "0  1.164676     0.018511   0.015894  \n",
       "1  1.164676     0.018511   0.015894  \n",
       "2  1.164676     0.018511   0.015894  \n",
       "3  4.521325     0.031256   0.006913  \n",
       "4  9.777313     0.067592   0.006913  \n",
       "\n",
       "[5 rows x 32 columns]"
      ]
     },
     "execution_count": 38,
     "metadata": {},
     "output_type": "execute_result"
    }
   ],
   "source": [
    "bbbase.head()"
   ]
  },
  {
   "cell_type": "code",
   "execution_count": 39,
   "metadata": {
    "collapsed": false
   },
   "outputs": [],
   "source": [
    "bbbase=bbbase.drop('BIN_DESC_y',axis=1)"
   ]
  },
  {
   "cell_type": "code",
   "execution_count": 40,
   "metadata": {
    "collapsed": true
   },
   "outputs": [],
   "source": [
    "bbbase=bbbase.rename(columns={'BIN_DESC_x':'BIN_DESC'})"
   ]
  },
  {
   "cell_type": "code",
   "execution_count": 41,
   "metadata": {
    "collapsed": false
   },
   "outputs": [
    {
     "name": "stdout",
     "output_type": "stream",
     "text": [
      "<class 'pandas.core.frame.DataFrame'>\n",
      "Int64Index: 327892 entries, 0 to 327891\n",
      "Data columns (total 31 columns):\n",
      "CONTRACT_ID               327892 non-null float64\n",
      "ISSUER_COUNTRY            327892 non-null object\n",
      "CARD_SCHEME               327892 non-null object\n",
      "MERCHANT_COUNTRY          327892 non-null object\n",
      "CREDIT_DEBIT              327892 non-null object\n",
      "CONSUMER_CORPORATE        327892 non-null object\n",
      "SECURITY_LEVEL            327892 non-null object\n",
      "BIN_DESC                  327892 non-null object\n",
      "IC_DESCRIPTION            327892 non-null object\n",
      "AIB_IC_RATE_AMOUNT        327892 non-null float64\n",
      "AIB_IC_PERC               327892 non-null float64\n",
      "TRANSACTION_REF           327892 non-null object\n",
      "ADDITIONAL_REFERENCE_2    327892 non-null float64\n",
      "PAYMENTREFERENCE          327892 non-null float64\n",
      "BB_TRANSACTION_TYPE       327892 non-null object\n",
      "MCC                       327892 non-null float64\n",
      "IIN                       327892 non-null float64\n",
      "ORDERID                   327892 non-null float64\n",
      "PAYMENT_PROCESSOR         327892 non-null float64\n",
      "MONTH                     327892 non-null float64\n",
      "DAY                       327892 non-null float64\n",
      "YEAR                      327892 non-null float64\n",
      "PERIOD                    327892 non-null object\n",
      "TRANSACTION_TYPE          327892 non-null object\n",
      "REGIONALITY               327892 non-null object\n",
      "PRODUCT_CODE              327892 non-null float64\n",
      "VOLUME                    327892 non-null float64\n",
      "FLOW                      327892 non-null float64\n",
      "FLOW_2                    327892 non-null float64\n",
      "BB_IC_TOTAL               327892 non-null float64\n",
      "BB_IC_BPS                 327892 non-null float64\n",
      "dtypes: float64(18), object(13)\n",
      "memory usage: 80.1+ MB\n"
     ]
    }
   ],
   "source": [
    "bbbase.info()"
   ]
  },
  {
   "cell_type": "markdown",
   "metadata": {},
   "source": [
    "### Link AIB and Bambora"
   ]
  },
  {
   "cell_type": "code",
   "execution_count": 42,
   "metadata": {
    "collapsed": false
   },
   "outputs": [],
   "source": [
    "#ab_bb_combo=pd.merge(bbbase,ab_bb_combo,on=['CONTRACT_ID','ISSUER_COUNTRY','CARD_SCHEME','MERCHANT_COUNTRY','CREDIT_DEBIT','CONSUMER_CORPORATE','FLOW','SECURITY_LEVEL','IIN'],how='left')\n",
    "ab_bb_combo=pd.merge(bbbase,ab_bb_combo,on=['CONTRACT_ID','ISSUER_COUNTRY','CARD_SCHEME','MERCHANT_COUNTRY','CREDIT_DEBIT','CONSUMER_CORPORATE','SECURITY_LEVEL','BIN_DESC'],how='left')"
   ]
  },
  {
   "cell_type": "code",
   "execution_count": 43,
   "metadata": {
    "collapsed": false
   },
   "outputs": [],
   "source": [
    "ab_bb_combo=ab_bb_combo.drop('IC_DESCRIPTION_y',axis=1)\n",
    "ab_bb_combo=ab_bb_combo.drop('AIB_IC_PERC_y',axis=1)\n",
    "ab_bb_combo=ab_bb_combo.drop('AIB_IC_RATE_AMOUNT_y',axis=1)\n",
    "ab_bb_combo=ab_bb_combo.rename(columns={'AIB_IC_RATE_AMOUNT_x':'AIB_IC_RATE_AMOUNT'})\n",
    "ab_bb_combo=ab_bb_combo.rename(columns={'AIB_IC_PERC_x':'AIB_IC_PERC'})\n",
    "ab_bb_combo=ab_bb_combo.rename(columns={'IC_DESCRIPTION_x':'IC_DESCRIPTION'})"
   ]
  },
  {
   "cell_type": "code",
   "execution_count": 44,
   "metadata": {
    "collapsed": false
   },
   "outputs": [
    {
     "data": {
      "text/html": [
       "<div>\n",
       "<table border=\"1\" class=\"dataframe\">\n",
       "  <thead>\n",
       "    <tr style=\"text-align: right;\">\n",
       "      <th></th>\n",
       "      <th>CONTRACT_ID</th>\n",
       "      <th>ISSUER_COUNTRY</th>\n",
       "      <th>CARD_SCHEME</th>\n",
       "      <th>MERCHANT_COUNTRY</th>\n",
       "      <th>CREDIT_DEBIT</th>\n",
       "      <th>CONSUMER_CORPORATE</th>\n",
       "      <th>SECURITY_LEVEL</th>\n",
       "      <th>BIN_DESC</th>\n",
       "      <th>IC_DESCRIPTION</th>\n",
       "      <th>AIB_IC_RATE_AMOUNT</th>\n",
       "      <th>...</th>\n",
       "      <th>PERIOD</th>\n",
       "      <th>TRANSACTION_TYPE</th>\n",
       "      <th>REGIONALITY</th>\n",
       "      <th>PRODUCT_CODE</th>\n",
       "      <th>VOLUME</th>\n",
       "      <th>FLOW</th>\n",
       "      <th>FLOW_2</th>\n",
       "      <th>BB_IC_TOTAL</th>\n",
       "      <th>BB_IC_BPS</th>\n",
       "      <th>AIB_IC_BPS</th>\n",
       "    </tr>\n",
       "  </thead>\n",
       "  <tbody>\n",
       "    <tr>\n",
       "      <th>0</th>\n",
       "      <td>2095.0</td>\n",
       "      <td>Kazakhstan</td>\n",
       "      <td>Visa</td>\n",
       "      <td>Luxembourg</td>\n",
       "      <td>Credit</td>\n",
       "      <td>Consumer</td>\n",
       "      <td>NON-SECURE</td>\n",
       "      <td>CLASSIC</td>\n",
       "      <td>PREMIUM CARD-PREMIUM CARD</td>\n",
       "      <td>0.0</td>\n",
       "      <td>...</td>\n",
       "      <td>2018-01</td>\n",
       "      <td>TRANSACTION</td>\n",
       "      <td>Interregional</td>\n",
       "      <td>100444.0</td>\n",
       "      <td>1.0</td>\n",
       "      <td>1.0</td>\n",
       "      <td>1.164676</td>\n",
       "      <td>0.018511</td>\n",
       "      <td>0.015894</td>\n",
       "      <td>0.017862</td>\n",
       "    </tr>\n",
       "    <tr>\n",
       "      <th>1</th>\n",
       "      <td>2095.0</td>\n",
       "      <td>Kazakhstan</td>\n",
       "      <td>Visa</td>\n",
       "      <td>Luxembourg</td>\n",
       "      <td>Credit</td>\n",
       "      <td>Consumer</td>\n",
       "      <td>NON-SECURE</td>\n",
       "      <td>CLASSIC</td>\n",
       "      <td>PREMIUM CARD-PREMIUM CARD</td>\n",
       "      <td>0.0</td>\n",
       "      <td>...</td>\n",
       "      <td>2018-01</td>\n",
       "      <td>TRANSACTION</td>\n",
       "      <td>Interregional</td>\n",
       "      <td>100444.0</td>\n",
       "      <td>1.0</td>\n",
       "      <td>1.0</td>\n",
       "      <td>1.164676</td>\n",
       "      <td>0.018511</td>\n",
       "      <td>0.015894</td>\n",
       "      <td>0.019453</td>\n",
       "    </tr>\n",
       "    <tr>\n",
       "      <th>2</th>\n",
       "      <td>2095.0</td>\n",
       "      <td>Kazakhstan</td>\n",
       "      <td>Visa</td>\n",
       "      <td>Luxembourg</td>\n",
       "      <td>Credit</td>\n",
       "      <td>Consumer</td>\n",
       "      <td>NON-SECURE</td>\n",
       "      <td>CLASSIC</td>\n",
       "      <td>PREMIUM CARD-PREMIUM CARD</td>\n",
       "      <td>0.0</td>\n",
       "      <td>...</td>\n",
       "      <td>2018-01</td>\n",
       "      <td>TRANSACTION</td>\n",
       "      <td>Interregional</td>\n",
       "      <td>100444.0</td>\n",
       "      <td>1.0</td>\n",
       "      <td>1.0</td>\n",
       "      <td>1.164676</td>\n",
       "      <td>0.018511</td>\n",
       "      <td>0.015894</td>\n",
       "      <td>0.015843</td>\n",
       "    </tr>\n",
       "    <tr>\n",
       "      <th>3</th>\n",
       "      <td>2095.0</td>\n",
       "      <td>Kazakhstan</td>\n",
       "      <td>Visa</td>\n",
       "      <td>Luxembourg</td>\n",
       "      <td>Credit</td>\n",
       "      <td>Consumer</td>\n",
       "      <td>NON-SECURE</td>\n",
       "      <td>CLASSIC</td>\n",
       "      <td>SPR PREMIUM CARD-SPR PREMIUM CARD</td>\n",
       "      <td>0.0</td>\n",
       "      <td>...</td>\n",
       "      <td>2018-01</td>\n",
       "      <td>TRANSACTION</td>\n",
       "      <td>Interregional</td>\n",
       "      <td>100444.0</td>\n",
       "      <td>1.0</td>\n",
       "      <td>1.0</td>\n",
       "      <td>1.164676</td>\n",
       "      <td>0.018511</td>\n",
       "      <td>0.015894</td>\n",
       "      <td>0.017862</td>\n",
       "    </tr>\n",
       "    <tr>\n",
       "      <th>4</th>\n",
       "      <td>2095.0</td>\n",
       "      <td>Kazakhstan</td>\n",
       "      <td>Visa</td>\n",
       "      <td>Luxembourg</td>\n",
       "      <td>Credit</td>\n",
       "      <td>Consumer</td>\n",
       "      <td>NON-SECURE</td>\n",
       "      <td>CLASSIC</td>\n",
       "      <td>SPR PREMIUM CARD-SPR PREMIUM CARD</td>\n",
       "      <td>0.0</td>\n",
       "      <td>...</td>\n",
       "      <td>2018-01</td>\n",
       "      <td>TRANSACTION</td>\n",
       "      <td>Interregional</td>\n",
       "      <td>100444.0</td>\n",
       "      <td>1.0</td>\n",
       "      <td>1.0</td>\n",
       "      <td>1.164676</td>\n",
       "      <td>0.018511</td>\n",
       "      <td>0.015894</td>\n",
       "      <td>0.019453</td>\n",
       "    </tr>\n",
       "  </tbody>\n",
       "</table>\n",
       "<p>5 rows × 32 columns</p>\n",
       "</div>"
      ],
      "text/plain": [
       "   CONTRACT_ID ISSUER_COUNTRY CARD_SCHEME MERCHANT_COUNTRY CREDIT_DEBIT  \\\n",
       "0       2095.0     Kazakhstan        Visa       Luxembourg       Credit   \n",
       "1       2095.0     Kazakhstan        Visa       Luxembourg       Credit   \n",
       "2       2095.0     Kazakhstan        Visa       Luxembourg       Credit   \n",
       "3       2095.0     Kazakhstan        Visa       Luxembourg       Credit   \n",
       "4       2095.0     Kazakhstan        Visa       Luxembourg       Credit   \n",
       "\n",
       "  CONSUMER_CORPORATE SECURITY_LEVEL BIN_DESC  \\\n",
       "0           Consumer     NON-SECURE  CLASSIC   \n",
       "1           Consumer     NON-SECURE  CLASSIC   \n",
       "2           Consumer     NON-SECURE  CLASSIC   \n",
       "3           Consumer     NON-SECURE  CLASSIC   \n",
       "4           Consumer     NON-SECURE  CLASSIC   \n",
       "\n",
       "                      IC_DESCRIPTION  AIB_IC_RATE_AMOUNT     ...       PERIOD  \\\n",
       "0          PREMIUM CARD-PREMIUM CARD                 0.0     ...      2018-01   \n",
       "1          PREMIUM CARD-PREMIUM CARD                 0.0     ...      2018-01   \n",
       "2          PREMIUM CARD-PREMIUM CARD                 0.0     ...      2018-01   \n",
       "3  SPR PREMIUM CARD-SPR PREMIUM CARD                 0.0     ...      2018-01   \n",
       "4  SPR PREMIUM CARD-SPR PREMIUM CARD                 0.0     ...      2018-01   \n",
       "\n",
       "       TRANSACTION_TYPE    REGIONALITY  PRODUCT_CODE VOLUME  FLOW    FLOW_2  \\\n",
       "0  TRANSACTION           Interregional      100444.0    1.0   1.0  1.164676   \n",
       "1  TRANSACTION           Interregional      100444.0    1.0   1.0  1.164676   \n",
       "2  TRANSACTION           Interregional      100444.0    1.0   1.0  1.164676   \n",
       "3  TRANSACTION           Interregional      100444.0    1.0   1.0  1.164676   \n",
       "4  TRANSACTION           Interregional      100444.0    1.0   1.0  1.164676   \n",
       "\n",
       "   BB_IC_TOTAL  BB_IC_BPS  AIB_IC_BPS  \n",
       "0     0.018511   0.015894    0.017862  \n",
       "1     0.018511   0.015894    0.019453  \n",
       "2     0.018511   0.015894    0.015843  \n",
       "3     0.018511   0.015894    0.017862  \n",
       "4     0.018511   0.015894    0.019453  \n",
       "\n",
       "[5 rows x 32 columns]"
      ]
     },
     "execution_count": 44,
     "metadata": {},
     "output_type": "execute_result"
    }
   ],
   "source": [
    "ab_bb_combo.head()"
   ]
  },
  {
   "cell_type": "markdown",
   "metadata": {},
   "source": [
    "## Insert the Signal logic"
   ]
  },
  {
   "cell_type": "code",
   "execution_count": 45,
   "metadata": {
    "collapsed": false
   },
   "outputs": [],
   "source": [
    "ab_bb_combo['IC_DIFF_%']=(ab_bb_combo['BB_IC_BPS']-ab_bb_combo['AIB_IC_BPS'])/ab_bb_combo['AIB_IC_BPS']"
   ]
  },
  {
   "cell_type": "code",
   "execution_count": 46,
   "metadata": {
    "collapsed": true
   },
   "outputs": [],
   "source": [
    "ab_bb_combo['IC_SIGNAL']=''\n",
    "ab_bb_combo['IC_SIGNAL']=ab_bb_combo['IC_DIFF_%'].apply(lambda x:'Signal' if (x>=.05) else '')"
   ]
  },
  {
   "cell_type": "markdown",
   "metadata": {},
   "source": [
    "### Final Output"
   ]
  },
  {
   "cell_type": "code",
   "execution_count": 47,
   "metadata": {
    "collapsed": false
   },
   "outputs": [],
   "source": [
    "ab_bb_combo=ab_bb_combo[['PERIOD'\n",
    "                         ,'TRANSACTION_REF'\n",
    "                         ,'TRANSACTION_TYPE'\n",
    "                         ,'CONTRACT_ID'\n",
    "                         ,'BIN_DESC'\n",
    "                         ,'ISSUER_COUNTRY'\n",
    "                         ,'MERCHANT_COUNTRY'\n",
    "                         ,'REGIONALITY'\n",
    "                         ,'CARD_SCHEME'\n",
    "                         ,'CONSUMER_CORPORATE'\n",
    "                         ,'CREDIT_DEBIT'\n",
    "                         ,'SECURITY_LEVEL'\n",
    "                         ,'IC_DESCRIPTION'\n",
    "                         ,'AIB_IC_RATE_AMOUNT'\n",
    "                         ,'AIB_IC_PERC'\n",
    "                         ,'VOLUME'\n",
    "                         ,'FLOW'\n",
    "                         ,'BB_IC_TOTAL'\n",
    "                         ,'BB_IC_BPS'\n",
    "                         ,'AIB_IC_BPS'\n",
    "                         ,'IC_DIFF_%'\n",
    "                         ,'IC_SIGNAL']]"
   ]
  },
  {
   "cell_type": "code",
   "execution_count": 48,
   "metadata": {
    "collapsed": false
   },
   "outputs": [
    {
     "data": {
      "text/html": [
       "<div>\n",
       "<table border=\"1\" class=\"dataframe\">\n",
       "  <thead>\n",
       "    <tr style=\"text-align: right;\">\n",
       "      <th></th>\n",
       "      <th>PERIOD</th>\n",
       "      <th>TRANSACTION_REF</th>\n",
       "      <th>TRANSACTION_TYPE</th>\n",
       "      <th>CONTRACT_ID</th>\n",
       "      <th>BIN_DESC</th>\n",
       "      <th>ISSUER_COUNTRY</th>\n",
       "      <th>MERCHANT_COUNTRY</th>\n",
       "      <th>REGIONALITY</th>\n",
       "      <th>CARD_SCHEME</th>\n",
       "      <th>CONSUMER_CORPORATE</th>\n",
       "      <th>...</th>\n",
       "      <th>IC_DESCRIPTION</th>\n",
       "      <th>AIB_IC_RATE_AMOUNT</th>\n",
       "      <th>AIB_IC_PERC</th>\n",
       "      <th>VOLUME</th>\n",
       "      <th>FLOW</th>\n",
       "      <th>BB_IC_TOTAL</th>\n",
       "      <th>BB_IC_BPS</th>\n",
       "      <th>AIB_IC_BPS</th>\n",
       "      <th>IC_DIFF_%</th>\n",
       "      <th>IC_SIGNAL</th>\n",
       "    </tr>\n",
       "  </thead>\n",
       "  <tbody>\n",
       "    <tr>\n",
       "      <th>0</th>\n",
       "      <td>2018-01</td>\n",
       "      <td>225662136209</td>\n",
       "      <td>TRANSACTION</td>\n",
       "      <td>2095.0</td>\n",
       "      <td>CLASSIC</td>\n",
       "      <td>Kazakhstan</td>\n",
       "      <td>Luxembourg</td>\n",
       "      <td>Interregional</td>\n",
       "      <td>Visa</td>\n",
       "      <td>Consumer</td>\n",
       "      <td>...</td>\n",
       "      <td>PREMIUM CARD-PREMIUM CARD</td>\n",
       "      <td>0.0</td>\n",
       "      <td>1.80</td>\n",
       "      <td>1.0</td>\n",
       "      <td>1.0</td>\n",
       "      <td>0.018511</td>\n",
       "      <td>0.015894</td>\n",
       "      <td>0.017862</td>\n",
       "      <td>-0.110188</td>\n",
       "      <td></td>\n",
       "    </tr>\n",
       "    <tr>\n",
       "      <th>1</th>\n",
       "      <td>2018-01</td>\n",
       "      <td>225662136209</td>\n",
       "      <td>TRANSACTION</td>\n",
       "      <td>2095.0</td>\n",
       "      <td>CLASSIC</td>\n",
       "      <td>Kazakhstan</td>\n",
       "      <td>Luxembourg</td>\n",
       "      <td>Interregional</td>\n",
       "      <td>Visa</td>\n",
       "      <td>Consumer</td>\n",
       "      <td>...</td>\n",
       "      <td>PREMIUM CARD-PREMIUM CARD</td>\n",
       "      <td>0.0</td>\n",
       "      <td>1.80</td>\n",
       "      <td>1.0</td>\n",
       "      <td>1.0</td>\n",
       "      <td>0.018511</td>\n",
       "      <td>0.015894</td>\n",
       "      <td>0.019453</td>\n",
       "      <td>-0.182976</td>\n",
       "      <td></td>\n",
       "    </tr>\n",
       "    <tr>\n",
       "      <th>2</th>\n",
       "      <td>2018-01</td>\n",
       "      <td>225662136209</td>\n",
       "      <td>TRANSACTION</td>\n",
       "      <td>2095.0</td>\n",
       "      <td>CLASSIC</td>\n",
       "      <td>Kazakhstan</td>\n",
       "      <td>Luxembourg</td>\n",
       "      <td>Interregional</td>\n",
       "      <td>Visa</td>\n",
       "      <td>Consumer</td>\n",
       "      <td>...</td>\n",
       "      <td>PREMIUM CARD-PREMIUM CARD</td>\n",
       "      <td>0.0</td>\n",
       "      <td>1.80</td>\n",
       "      <td>1.0</td>\n",
       "      <td>1.0</td>\n",
       "      <td>0.018511</td>\n",
       "      <td>0.015894</td>\n",
       "      <td>0.015843</td>\n",
       "      <td>0.003215</td>\n",
       "      <td></td>\n",
       "    </tr>\n",
       "    <tr>\n",
       "      <th>3</th>\n",
       "      <td>2018-01</td>\n",
       "      <td>225662136209</td>\n",
       "      <td>TRANSACTION</td>\n",
       "      <td>2095.0</td>\n",
       "      <td>CLASSIC</td>\n",
       "      <td>Kazakhstan</td>\n",
       "      <td>Luxembourg</td>\n",
       "      <td>Interregional</td>\n",
       "      <td>Visa</td>\n",
       "      <td>Consumer</td>\n",
       "      <td>...</td>\n",
       "      <td>SPR PREMIUM CARD-SPR PREMIUM CARD</td>\n",
       "      <td>0.0</td>\n",
       "      <td>1.97</td>\n",
       "      <td>1.0</td>\n",
       "      <td>1.0</td>\n",
       "      <td>0.018511</td>\n",
       "      <td>0.015894</td>\n",
       "      <td>0.017862</td>\n",
       "      <td>-0.110188</td>\n",
       "      <td></td>\n",
       "    </tr>\n",
       "    <tr>\n",
       "      <th>4</th>\n",
       "      <td>2018-01</td>\n",
       "      <td>225662136209</td>\n",
       "      <td>TRANSACTION</td>\n",
       "      <td>2095.0</td>\n",
       "      <td>CLASSIC</td>\n",
       "      <td>Kazakhstan</td>\n",
       "      <td>Luxembourg</td>\n",
       "      <td>Interregional</td>\n",
       "      <td>Visa</td>\n",
       "      <td>Consumer</td>\n",
       "      <td>...</td>\n",
       "      <td>SPR PREMIUM CARD-SPR PREMIUM CARD</td>\n",
       "      <td>0.0</td>\n",
       "      <td>1.97</td>\n",
       "      <td>1.0</td>\n",
       "      <td>1.0</td>\n",
       "      <td>0.018511</td>\n",
       "      <td>0.015894</td>\n",
       "      <td>0.019453</td>\n",
       "      <td>-0.182976</td>\n",
       "      <td></td>\n",
       "    </tr>\n",
       "  </tbody>\n",
       "</table>\n",
       "<p>5 rows × 22 columns</p>\n",
       "</div>"
      ],
      "text/plain": [
       "    PERIOD TRANSACTION_REF      TRANSACTION_TYPE  CONTRACT_ID BIN_DESC  \\\n",
       "0  2018-01    225662136209  TRANSACTION                2095.0  CLASSIC   \n",
       "1  2018-01    225662136209  TRANSACTION                2095.0  CLASSIC   \n",
       "2  2018-01    225662136209  TRANSACTION                2095.0  CLASSIC   \n",
       "3  2018-01    225662136209  TRANSACTION                2095.0  CLASSIC   \n",
       "4  2018-01    225662136209  TRANSACTION                2095.0  CLASSIC   \n",
       "\n",
       "  ISSUER_COUNTRY MERCHANT_COUNTRY    REGIONALITY CARD_SCHEME  \\\n",
       "0     Kazakhstan       Luxembourg  Interregional        Visa   \n",
       "1     Kazakhstan       Luxembourg  Interregional        Visa   \n",
       "2     Kazakhstan       Luxembourg  Interregional        Visa   \n",
       "3     Kazakhstan       Luxembourg  Interregional        Visa   \n",
       "4     Kazakhstan       Luxembourg  Interregional        Visa   \n",
       "\n",
       "  CONSUMER_CORPORATE    ...                         IC_DESCRIPTION  \\\n",
       "0           Consumer    ...              PREMIUM CARD-PREMIUM CARD   \n",
       "1           Consumer    ...              PREMIUM CARD-PREMIUM CARD   \n",
       "2           Consumer    ...              PREMIUM CARD-PREMIUM CARD   \n",
       "3           Consumer    ...      SPR PREMIUM CARD-SPR PREMIUM CARD   \n",
       "4           Consumer    ...      SPR PREMIUM CARD-SPR PREMIUM CARD   \n",
       "\n",
       "  AIB_IC_RATE_AMOUNT AIB_IC_PERC  VOLUME  FLOW  BB_IC_TOTAL  BB_IC_BPS  \\\n",
       "0                0.0        1.80     1.0   1.0     0.018511   0.015894   \n",
       "1                0.0        1.80     1.0   1.0     0.018511   0.015894   \n",
       "2                0.0        1.80     1.0   1.0     0.018511   0.015894   \n",
       "3                0.0        1.97     1.0   1.0     0.018511   0.015894   \n",
       "4                0.0        1.97     1.0   1.0     0.018511   0.015894   \n",
       "\n",
       "   AIB_IC_BPS  IC_DIFF_%  IC_SIGNAL  \n",
       "0    0.017862  -0.110188             \n",
       "1    0.019453  -0.182976             \n",
       "2    0.015843   0.003215             \n",
       "3    0.017862  -0.110188             \n",
       "4    0.019453  -0.182976             \n",
       "\n",
       "[5 rows x 22 columns]"
      ]
     },
     "execution_count": 48,
     "metadata": {},
     "output_type": "execute_result"
    }
   ],
   "source": [
    "ab_bb_combo.head()"
   ]
  },
  {
   "cell_type": "code",
   "execution_count": 49,
   "metadata": {
    "collapsed": true
   },
   "outputs": [],
   "source": [
    "ab_bb_combo=ab_bb_combo[(ab_bb_combo['REGIONALITY']=='Domestic')]"
   ]
  },
  {
   "cell_type": "code",
   "execution_count": 50,
   "metadata": {
    "collapsed": false
   },
   "outputs": [
    {
     "name": "stdout",
     "output_type": "stream",
     "text": [
      "total transactions\n",
      "116068\n",
      "total signals\n",
      "28682\n"
     ]
    }
   ],
   "source": [
    "print 'total transactions'\n",
    "print ab_bb_combo['TRANSACTION_REF'].count()\n",
    "print 'total signals'\n",
    "print ab_bb_combo['TRANSACTION_REF'][(ab_bb_combo['IC_SIGNAL']=='Signal')].count()"
   ]
  },
  {
   "cell_type": "code",
   "execution_count": 51,
   "metadata": {
    "collapsed": false
   },
   "outputs": [],
   "source": [
    "ab_bb_combo.to_csv('d:\\\\djohnson\\\\Desktop\\\\aib to bambora comparison.csv')"
   ]
  }
 ],
 "metadata": {
  "anaconda-cloud": {},
  "kernelspec": {
   "display_name": "Python [default]",
   "language": "python",
   "name": "python2"
  },
  "language_info": {
   "codemirror_mode": {
    "name": "ipython",
    "version": 2
   },
   "file_extension": ".py",
   "mimetype": "text/x-python",
   "name": "python",
   "nbconvert_exporter": "python",
   "pygments_lexer": "ipython2",
   "version": "2.7.12"
  }
 },
 "nbformat": 4,
 "nbformat_minor": 1
}
