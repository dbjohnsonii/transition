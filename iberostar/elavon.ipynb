{
 "cells": [
  {
   "cell_type": "code",
   "execution_count": 1,
   "metadata": {},
   "outputs": [
    {
     "data": {
      "text/html": [
       "<style>.container { width:95% !important; }</style>"
      ],
      "text/plain": [
       "<IPython.core.display.HTML object>"
      ]
     },
     "metadata": {},
     "output_type": "display_data"
    },
    {
     "name": "stdout",
     "output_type": "stream",
     "text": [
      "3.6.5 |Anaconda custom (64-bit)| (default, Mar 29 2018, 13:32:41) [MSC v.1900 64 bit (AMD64)]\n"
     ]
    }
   ],
   "source": [
    "'''import all necessary libraries'''\n",
    "\n",
    "import cx_Oracle #import the oracle database libraries\n",
    "import pandas as pd #connect to the pandas libraries\n",
    "import numpy as np #import numpy\n",
    "import getpass #import the password libraries in order to keep database password concealed\n",
    "\n",
    "from IPython.core.display import display, HTML\n",
    "display(HTML(\"<style>.container { width:95% !important; }</style>\"))\n",
    "import sys\n",
    "print (sys.version)\n",
    "pd.options.display.float_format = '{:0.6f}'.format"
   ]
  },
  {
   "cell_type": "code",
   "execution_count": 2,
   "metadata": {},
   "outputs": [
    {
     "name": "stdin",
     "output_type": "stream",
     "text": [
      "please enter your username djohnson\n",
      "Enter your password:  ·············\n"
     ]
    },
    {
     "name": "stdout",
     "output_type": "stream",
     "text": [
      "12.1.0.2.0\n"
     ]
    }
   ],
   "source": [
    "'''connect to the oracle server used to pull down the \n",
    "currency and misuse of authorization information'''\n",
    "\n",
    "username=input(\"please enter your username\")\n",
    "password=getpass.getpass(\"Enter your password: \")\n",
    "\n",
    "con=cx_Oracle.connect(username,password,'ODSPEU1.ams') #enter database details\n",
    "print (con.version) # prnt the conversion details"
   ]
  },
  {
   "cell_type": "code",
   "execution_count": null,
   "metadata": {},
   "outputs": [],
   "source": [
    "df=pd.read_sql(\n",
    "''' \n",
    "select extract(month from CAST(ev.MONTH AS DATE)) AS MONTH,EV.CONTRACT_ID,EV.MID,EV.MID_NAME\n",
    ",EV.CREDIT_DEBIT_CARD,EV.REGION,EV.CARD_PLAN,EV.CARD_TYPE,EV.CHARGE_TYPE_DESCRIPTION,EV.PRODUCT_CODE\n",
    ",SUM(EV.GROSS_VOLUME) AS VOLUME,SUM(EV.GROSS_FLOW_EUR) AS FLOW_EUR,SUM(EV.SCHEME_FEES_EUR) AS SF\n",
    ",EV.TRANS_CURRENCY,EV.PROCESSING_FEE_CURRENCY,EV.VAT_CURRENCY,EV.ASSESSMENT_CURRENCY\n",
    "from FDWO.ACQUIRER_ELAVON_EUR_COST ev\n",
    "where EV.MONTH >=to_date('4/1/2018','MM/DD/YYYY')\n",
    "and GROSS_VOLUME <>0\n",
    "group by EV.MID_NAME,\n",
    "EV.MID_NAME,EV.CREDIT_DEBIT_CARD,EV.REGION,EV.CARD_PLAN,EV.CARD_TYPE,EV.CHARGE_TYPE_DESCRIPTION,\n",
    "EV.PRODUCT_CODE,EV.TRANS_CURRENCY,EV.PROCESSING_FEE_CURRENCY\n",
    ",EV.VAT_CURRENCY,EV.ASSESSMENT_CURRENCY,EV.CONTRACT_ID,EV.MID,EV.MONTH\n",
    "''', con)"
   ]
  },
  {
   "cell_type": "raw",
   "metadata": {},
   "source": [
    "df.head()"
   ]
  },
  {
   "cell_type": "raw",
   "metadata": {},
   "source": [
    "df.info()"
   ]
  },
  {
   "cell_type": "code",
   "execution_count": 4,
   "metadata": {},
   "outputs": [
    {
     "ename": "OperationalError",
     "evalue": "ORA-03113: end-of-file on communication channel\nProcess ID: 104503\nSession ID: 1001 Serial number: 38058",
     "output_type": "error",
     "traceback": [
      "\u001b[1;31m---------------------------------------------------------------------------\u001b[0m",
      "\u001b[1;31mOperationalError\u001b[0m                          Traceback (most recent call last)",
      "\u001b[1;32m<ipython-input-4-681a19d0a886>\u001b[0m in \u001b[0;36m<module>\u001b[1;34m()\u001b[0m\n\u001b[0;32m      5\u001b[0m \u001b[1;32mfrom\u001b[0m \u001b[0mFDWO\u001b[0m\u001b[1;33m.\u001b[0m\u001b[0mMB_MERCHANTS\u001b[0m \u001b[0mmm\u001b[0m\u001b[1;33m\u001b[0m\u001b[0m\n\u001b[0;32m      6\u001b[0m \u001b[0mgroup\u001b[0m \u001b[0mby\u001b[0m \u001b[0mMM\u001b[0m\u001b[1;33m.\u001b[0m\u001b[0mCONTRACT_ID\u001b[0m\u001b[1;33m,\u001b[0m \u001b[0mMM\u001b[0m\u001b[1;33m.\u001b[0m\u001b[0mCLIENT_NAME\u001b[0m\u001b[1;33m,\u001b[0m\u001b[0mCOUNTRY\u001b[0m\u001b[1;33m\u001b[0m\u001b[0m\n\u001b[1;32m----> 7\u001b[1;33m ''', con)\n\u001b[0m",
      "\u001b[1;32m~\\new_python_version\\Local\\Continuum\\anaconda2\\envs\\py3k\\lib\\site-packages\\pandas\\io\\sql.py\u001b[0m in \u001b[0;36mread_sql\u001b[1;34m(sql, con, index_col, coerce_float, params, parse_dates, columns, chunksize)\u001b[0m\n\u001b[0;32m    379\u001b[0m             \u001b[0msql\u001b[0m\u001b[1;33m,\u001b[0m \u001b[0mindex_col\u001b[0m\u001b[1;33m=\u001b[0m\u001b[0mindex_col\u001b[0m\u001b[1;33m,\u001b[0m \u001b[0mparams\u001b[0m\u001b[1;33m=\u001b[0m\u001b[0mparams\u001b[0m\u001b[1;33m,\u001b[0m\u001b[1;33m\u001b[0m\u001b[0m\n\u001b[0;32m    380\u001b[0m             \u001b[0mcoerce_float\u001b[0m\u001b[1;33m=\u001b[0m\u001b[0mcoerce_float\u001b[0m\u001b[1;33m,\u001b[0m \u001b[0mparse_dates\u001b[0m\u001b[1;33m=\u001b[0m\u001b[0mparse_dates\u001b[0m\u001b[1;33m,\u001b[0m\u001b[1;33m\u001b[0m\u001b[0m\n\u001b[1;32m--> 381\u001b[1;33m             chunksize=chunksize)\n\u001b[0m\u001b[0;32m    382\u001b[0m \u001b[1;33m\u001b[0m\u001b[0m\n\u001b[0;32m    383\u001b[0m     \u001b[1;32mtry\u001b[0m\u001b[1;33m:\u001b[0m\u001b[1;33m\u001b[0m\u001b[0m\n",
      "\u001b[1;32m~\\new_python_version\\Local\\Continuum\\anaconda2\\envs\\py3k\\lib\\site-packages\\pandas\\io\\sql.py\u001b[0m in \u001b[0;36mread_query\u001b[1;34m(self, sql, index_col, coerce_float, params, parse_dates, chunksize)\u001b[0m\n\u001b[0;32m   1442\u001b[0m                                         parse_dates=parse_dates)\n\u001b[0;32m   1443\u001b[0m         \u001b[1;32melse\u001b[0m\u001b[1;33m:\u001b[0m\u001b[1;33m\u001b[0m\u001b[0m\n\u001b[1;32m-> 1444\u001b[1;33m             \u001b[0mdata\u001b[0m \u001b[1;33m=\u001b[0m \u001b[0mself\u001b[0m\u001b[1;33m.\u001b[0m\u001b[0m_fetchall_as_list\u001b[0m\u001b[1;33m(\u001b[0m\u001b[0mcursor\u001b[0m\u001b[1;33m)\u001b[0m\u001b[1;33m\u001b[0m\u001b[0m\n\u001b[0m\u001b[0;32m   1445\u001b[0m             \u001b[0mcursor\u001b[0m\u001b[1;33m.\u001b[0m\u001b[0mclose\u001b[0m\u001b[1;33m(\u001b[0m\u001b[1;33m)\u001b[0m\u001b[1;33m\u001b[0m\u001b[0m\n\u001b[0;32m   1446\u001b[0m \u001b[1;33m\u001b[0m\u001b[0m\n",
      "\u001b[1;32m~\\new_python_version\\Local\\Continuum\\anaconda2\\envs\\py3k\\lib\\site-packages\\pandas\\io\\sql.py\u001b[0m in \u001b[0;36m_fetchall_as_list\u001b[1;34m(self, cur)\u001b[0m\n\u001b[0;32m   1451\u001b[0m \u001b[1;33m\u001b[0m\u001b[0m\n\u001b[0;32m   1452\u001b[0m     \u001b[1;32mdef\u001b[0m \u001b[0m_fetchall_as_list\u001b[0m\u001b[1;33m(\u001b[0m\u001b[0mself\u001b[0m\u001b[1;33m,\u001b[0m \u001b[0mcur\u001b[0m\u001b[1;33m)\u001b[0m\u001b[1;33m:\u001b[0m\u001b[1;33m\u001b[0m\u001b[0m\n\u001b[1;32m-> 1453\u001b[1;33m         \u001b[0mresult\u001b[0m \u001b[1;33m=\u001b[0m \u001b[0mcur\u001b[0m\u001b[1;33m.\u001b[0m\u001b[0mfetchall\u001b[0m\u001b[1;33m(\u001b[0m\u001b[1;33m)\u001b[0m\u001b[1;33m\u001b[0m\u001b[0m\n\u001b[0m\u001b[0;32m   1454\u001b[0m         \u001b[1;32mif\u001b[0m \u001b[1;32mnot\u001b[0m \u001b[0misinstance\u001b[0m\u001b[1;33m(\u001b[0m\u001b[0mresult\u001b[0m\u001b[1;33m,\u001b[0m \u001b[0mlist\u001b[0m\u001b[1;33m)\u001b[0m\u001b[1;33m:\u001b[0m\u001b[1;33m\u001b[0m\u001b[0m\n\u001b[0;32m   1455\u001b[0m             \u001b[0mresult\u001b[0m \u001b[1;33m=\u001b[0m \u001b[0mlist\u001b[0m\u001b[1;33m(\u001b[0m\u001b[0mresult\u001b[0m\u001b[1;33m)\u001b[0m\u001b[1;33m\u001b[0m\u001b[0m\n",
      "\u001b[1;31mOperationalError\u001b[0m: ORA-03113: end-of-file on communication channel\nProcess ID: 104503\nSession ID: 1001 Serial number: 38058"
     ]
    }
   ],
   "source": [
    "'''client names'''\n",
    "df_cn=pd.read_sql(\n",
    "''' \n",
    "select MM.CONTRACT_ID, MM.CLIENT_NAME,COUNTRY AS MERCHANT_COUNTRY\n",
    "from FDWO.MB_MERCHANTS mm\n",
    "group by MM.CONTRACT_ID, MM.CLIENT_NAME,COUNTRY\n",
    "''', con)"
   ]
  },
  {
   "cell_type": "raw",
   "metadata": {},
   "source": [
    "df_cn.info()"
   ]
  },
  {
   "cell_type": "code",
   "execution_count": null,
   "metadata": {},
   "outputs": [],
   "source": [
    "'''ic_plus_type'''\n",
    "df_ic=pd.read_sql(\n",
    "'''\n",
    "select CC.CONTRACT_ID, CC.PRODUCT_CODE,CC.TRANSACTION_CURRENCY,CC.ICPLUS_TYPE\n",
    "from FDWO.CC_PROCESSING_DATA_PT cc\n",
    "where CC.TRANSACTION_TYPE='TRANSACTION'\n",
    "and CC.PAYMENT_PROCESSOR='Elavon (Europe)'\n",
    "and CC.INVOICE_CURRENCY is not null\n",
    "and CC.MATCH_DATE between to_date('4/1/2018','MM/DD/YYYY') and to_date('8/31/2018','MM/DD/YYYY')\n",
    "group by CC.CONTRACT_ID, CC.PRODUCT_CODE, CC.TRANSACTION_CURRENCY,cc.ICPLUS_TYPE\n",
    "''', con)"
   ]
  },
  {
   "cell_type": "raw",
   "metadata": {},
   "source": [
    "df_ic.info()"
   ]
  },
  {
   "cell_type": "code",
   "execution_count": 3,
   "metadata": {},
   "outputs": [],
   "source": [
    "elavon_cntry=pd.read_csv('G:\\Pricing\\Dale\\Elavon_Country_Identification\\elavon_merchant_countries.csv',dtype={'CONTRACT_ID':'str'}) #import the elavon country list\n",
    "iep=pd.read_csv('d:\\\\djohnson\\\\Desktop\\\\aib_theoreticals_desktop_ref\\\\aib_iep_theoreticals_V3.csv',encoding='ISO-8859-1') #import Ahron's data\n",
    "df_mc=pd.read_csv('d:\\\\djohnson\\\\Desktop\\\\aib_theoreticals_desktop_ref\\\\multicurrency.csv',encoding='ISO-8859-1') #import multicurrency designation"
   ]
  },
  {
   "cell_type": "raw",
   "metadata": {},
   "source": [
    "elavon_cntry.head()"
   ]
  },
  {
   "cell_type": "raw",
   "metadata": {},
   "source": [
    "elavon_cntry['CONTRACT_ID']=elavon_cntry['CONTRACT_ID'].astype(str)"
   ]
  },
  {
   "cell_type": "code",
   "execution_count": null,
   "metadata": {},
   "outputs": [],
   "source": [
    "iep=iep[['Concatenate','Security Level','Fixed','Percent','PERIOD']]\n",
    "iep['Percent']=iep['Percent'].astype(float)"
   ]
  },
  {
   "cell_type": "raw",
   "metadata": {},
   "source": [
    "iep.head()"
   ]
  },
  {
   "cell_type": "code",
   "execution_count": null,
   "metadata": {},
   "outputs": [],
   "source": [
    "df1=df.copy()\n",
    "df_cn_1=df_cn.copy()\n",
    "df_ic_1=df_ic.copy()\n",
    "elavon_cntry_1=elavon_cntry.copy()"
   ]
  },
  {
   "cell_type": "code",
   "execution_count": null,
   "metadata": {},
   "outputs": [],
   "source": [
    "master_data_set=pd.merge(df1,df_cn_1,how='left',on=['CONTRACT_ID'])\n",
    "master_data_set=pd.merge(master_data_set,elavon_cntry,how='left',on=['CHARGE_TYPE_DESCRIPTION'])"
   ]
  },
  {
   "cell_type": "code",
   "execution_count": null,
   "metadata": {},
   "outputs": [],
   "source": [
    "master_data_set.head()"
   ]
  },
  {
   "cell_type": "raw",
   "metadata": {},
   "source": [
    "master_data_set.info()"
   ]
  },
  {
   "cell_type": "code",
   "execution_count": null,
   "metadata": {},
   "outputs": [],
   "source": [
    "for x in range(0,len(master_data_set['MONTH'])):\n",
    "    if master_data_set.loc[x,'COUNTRY'] is None:\n",
    "         master_data_set.loc[x,'MERCHANT_COUNTRY']=master_data_set.loc[x,'COUNTRY']"
   ]
  },
  {
   "cell_type": "raw",
   "metadata": {},
   "source": [
    "master_data_set.info()"
   ]
  },
  {
   "cell_type": "code",
   "execution_count": null,
   "metadata": {},
   "outputs": [],
   "source": [
    "#master_data_set=master_data_set.rename(columns={'COUNTRY':'MERCHANT_COUNTRY'})\n",
    "master_data_set=master_data_set.rename(columns={'TRANS_CURRENCY':'TRANSACTION_CURRENCY'})\n",
    "master_data_set=master_data_set.rename(columns={'SOURCE':'MERCHANT_COUNTRY_INFO_SOURCE'})"
   ]
  },
  {
   "cell_type": "raw",
   "metadata": {},
   "source": [
    "master_data_set['MERCHANT_COUNTRY'].unique()"
   ]
  },
  {
   "cell_type": "code",
   "execution_count": null,
   "metadata": {},
   "outputs": [],
   "source": [
    "master_data_set['MERCHANT_COUNTRY_UPDATED_FROM:']=''\n",
    "master_data_set['MERCHANT_COUNTRY_UPDATED_FROM:'][(master_data_set['MERCHANT_COUNTRY']=='Gibraltar')]='Gibraltar'\n",
    "master_data_set['MERCHANT_COUNTRY_UPDATED_FROM:'][(master_data_set['MERCHANT_COUNTRY']=='Andorra')]='Andorra'\n",
    "master_data_set['MERCHANT_COUNTRY_UPDATED_FROM:'][(master_data_set['MERCHANT_COUNTRY']=='Panama')]='Panama'\n",
    "master_data_set['MERCHANT_COUNTRY_UPDATED_FROM:'][(master_data_set['MERCHANT_COUNTRY']=='Monaco')]='Monaco'\n",
    "master_data_set['MERCHANT_COUNTRY_UPDATED_FROM:'][(master_data_set['MERCHANT_COUNTRY']=='Australia')]='Australia'\n",
    "master_data_set['MERCHANT_COUNTRY_UPDATED_FROM:'][(master_data_set['MERCHANT_COUNTRY']=='New Zealand')]='New Zealand'\n",
    "master_data_set['MERCHANT_COUNTRY_UPDATED_FROM:'][(master_data_set['MERCHANT_COUNTRY']=='Singapore')]='Singapore'\n",
    "master_data_set['MERCHANT_COUNTRY_UPDATED_FROM:'][(master_data_set['MERCHANT_COUNTRY']=='Thailand')]='Thailand'\n",
    "master_data_set['MERCHANT_COUNTRY_UPDATED_FROM:'][(master_data_set['MERCHANT_COUNTRY']=='Malaysia')]='Malaysia'\n",
    "master_data_set['MERCHANT_COUNTRY_UPDATED_FROM:'][(master_data_set['MERCHANT_COUNTRY']=='Japan')]='Japan'\n",
    "master_data_set['MERCHANT_COUNTRY_UPDATED_FROM:'][(master_data_set['MERCHANT_COUNTRY']=='Peru')]='Peru'\n",
    "master_data_set['MERCHANT_COUNTRY_UPDATED_FROM:'][(master_data_set['MERCHANT_COUNTRY']=='Chile')]='Chile'\n",
    "master_data_set['MERCHANT_COUNTRY_UPDATED_FROM:'][(master_data_set['MERCHANT_COUNTRY']=='Colombia')]='Colombia'\n",
    "master_data_set['MERCHANT_COUNTRY_UPDATED_FROM:'][(master_data_set['MERCHANT_COUNTRY']=='Azerbaijan')]='Azerbaijan'\n",
    "master_data_set['MERCHANT_COUNTRY_UPDATED_FROM:'][(master_data_set['MERCHANT_COUNTRY']=='China')]='China'\n",
    "master_data_set['MERCHANT_COUNTRY_UPDATED_FROM:'][(master_data_set['MERCHANT_COUNTRY']=='Brazil')]='Brazil'\n",
    "master_data_set['MERCHANT_COUNTRY_UPDATED_FROM:'][(master_data_set['MERCHANT_COUNTRY']=='Ecuador')]='Ecuador'\n",
    "master_data_set['MERCHANT_COUNTRY_UPDATED_FROM:'][(master_data_set['MERCHANT_COUNTRY']=='United States')]='United States'\n",
    "\n",
    "master_data_set['MERCHANT_COUNTRY'][(master_data_set['MERCHANT_COUNTRY']=='Gibraltar')]='UK'\n",
    "master_data_set['MERCHANT_COUNTRY'][(master_data_set['MERCHANT_COUNTRY']=='Andorra')]='France'\n",
    "master_data_set['MERCHANT_COUNTRY'][(master_data_set['MERCHANT_COUNTRY']=='Panama')]='UK'\n",
    "master_data_set['MERCHANT_COUNTRY'][(master_data_set['MERCHANT_COUNTRY']=='Monaco')]='France'\n",
    "master_data_set['MERCHANT_COUNTRY'][(master_data_set['MERCHANT_COUNTRY']=='Australia')]='Ireland'\n",
    "master_data_set['MERCHANT_COUNTRY'][(master_data_set['MERCHANT_COUNTRY']=='New Zealand')]='UK'\n",
    "master_data_set['MERCHANT_COUNTRY'][(master_data_set['MERCHANT_COUNTRY']=='Singapore')]='UK'\n",
    "master_data_set['MERCHANT_COUNTRY'][(master_data_set['MERCHANT_COUNTRY']=='Thailand')]='UK'\n",
    "master_data_set['MERCHANT_COUNTRY'][(master_data_set['MERCHANT_COUNTRY']=='Malaysia')]='UK'\n",
    "master_data_set['MERCHANT_COUNTRY'][(master_data_set['MERCHANT_COUNTRY']=='Japan')]='UK'\n",
    "master_data_set['MERCHANT_COUNTRY'][(master_data_set['MERCHANT_COUNTRY']=='Peru')]='UK'\n",
    "master_data_set['MERCHANT_COUNTRY'][(master_data_set['MERCHANT_COUNTRY']=='Chile')]='UK'\n",
    "master_data_set['MERCHANT_COUNTRY'][(master_data_set['MERCHANT_COUNTRY']=='Colombia')]='UK'\n",
    "master_data_set['MERCHANT_COUNTRY'][(master_data_set['MERCHANT_COUNTRY']=='Azerbaijan')]='UK'\n",
    "master_data_set['MERCHANT_COUNTRY'][(master_data_set['MERCHANT_COUNTRY']=='China')]='UK'\n",
    "master_data_set['MERCHANT_COUNTRY'][(master_data_set['MERCHANT_COUNTRY']=='Brazil')]='UK'\n",
    "master_data_set['MERCHANT_COUNTRY'][(master_data_set['MERCHANT_COUNTRY']=='Ecuador')]='UK'\n",
    "master_data_set['MERCHANT_COUNTRY'][(master_data_set['MERCHANT_COUNTRY']=='United States')]='UK'"
   ]
  },
  {
   "cell_type": "code",
   "execution_count": null,
   "metadata": {},
   "outputs": [],
   "source": [
    "master_data_set=pd.merge(master_data_set,df_mc,on=['MERCHANT_COUNTRY'],how='left').copy() # identify if it's a multicurrency country"
   ]
  },
  {
   "cell_type": "code",
   "execution_count": null,
   "metadata": {},
   "outputs": [],
   "source": [
    "master_data_set['BRAND']=''\n",
    "for x in range(0,len(master_data_set['MONTH'])):\n",
    "    if \"MC \" in master_data_set.loc[x,'CHARGE_TYPE_DESCRIPTION']:\n",
    "        master_data_set.loc[x,'BRAND']='MasterCard'\n",
    "    elif \"VI \" in master_data_set.loc[x,'CHARGE_TYPE_DESCRIPTION']:\n",
    "        master_data_set.loc[x,'BRAND']='Visa'\n",
    "    elif \"DC \" in master_data_set.loc[x,'CHARGE_TYPE_DESCRIPTION']:\n",
    "        master_data_set.loc[x,'BRAND']='Discover'"
   ]
  },
  {
   "cell_type": "code",
   "execution_count": null,
   "metadata": {},
   "outputs": [],
   "source": [
    "master_data_set['CARD_TYPES']=''\n",
    "for x in range(0,len(master_data_set['MONTH'])):\n",
    "    if \"D\" in master_data_set.loc[x,'CREDIT_DEBIT_CARD']:\n",
    "        master_data_set.loc[x,'CARD_TYPES']='Debit'\n",
    "    elif \"C\" in master_data_set.loc[x,'CREDIT_DEBIT_CARD']:\n",
    "        master_data_set.loc[x,'CARD_TYPES']=''"
   ]
  },
  {
   "cell_type": "code",
   "execution_count": null,
   "metadata": {},
   "outputs": [],
   "source": [
    "'''build Regionality for Concatenation'''\n",
    "master_data_set['Regionality']=''\n",
    "for x in range(0,len(master_data_set['MONTH'])):\n",
    "    if master_data_set.loc[x,'REGION']=='INTER':\n",
    "        master_data_set.loc[x,'Regionality']='Inter-Region'\n",
    "    elif master_data_set.loc[x,'REGION']=='':\n",
    "        master_data_set.loc[x,'Regionality']='Inter-Region'        \n",
    "    elif master_data_set.loc[x,'REGION']=='INTRA':\n",
    "        master_data_set.loc[x,'Regionality']='Intra-Region'\n",
    "    elif master_data_set.loc[x,'REGION']=='DOMESTIC':\n",
    "        master_data_set.loc[x,'Regionality']='Domestic'\n",
    "    else:\n",
    "        master_data_set.loc[x,'Regionality']='Inter-Region'        "
   ]
  },
  {
   "cell_type": "code",
   "execution_count": null,
   "metadata": {},
   "outputs": [],
   "source": [
    "'''build period of time which will be used to determine which fees will be applied'''\n",
    "master_data_set['PERIOD']=''\n",
    "for x in range(0,len(master_data_set['MONTH'])):\n",
    "    if master_data_set.loc[x,'MONTH']<=7:\n",
    "        master_data_set.loc[x,'PERIOD']='prejuly18'\n",
    "    elif master_data_set.loc[x,'MONTH']>7:\n",
    "        master_data_set.loc[x,'PERIOD']='postjuly18'"
   ]
  },
  {
   "cell_type": "code",
   "execution_count": null,
   "metadata": {},
   "outputs": [],
   "source": [
    "master_data_set['Security Level']='Nonsecure'"
   ]
  },
  {
   "cell_type": "code",
   "execution_count": null,
   "metadata": {},
   "outputs": [],
   "source": [
    "master_data_set['Product']=master_data_set['BRAND']+master_data_set['CARD_TYPES']\n",
    "master_data_set['Concatenate']=master_data_set['Product']+master_data_set['MERCHANT_COUNTRY']+master_data_set['Regionality']"
   ]
  },
  {
   "cell_type": "raw",
   "metadata": {},
   "source": [
    "master_data_set.info()"
   ]
  },
  {
   "cell_type": "code",
   "execution_count": null,
   "metadata": {},
   "outputs": [],
   "source": [
    "df_ic_1['CONTRACT_ID']=df_ic_1['CONTRACT_ID'].astype(str)"
   ]
  },
  {
   "cell_type": "raw",
   "metadata": {},
   "source": [
    "df_ic_1.info()"
   ]
  },
  {
   "cell_type": "code",
   "execution_count": null,
   "metadata": {},
   "outputs": [],
   "source": [
    "master_data_set=pd.merge(master_data_set,df_ic_1,how='left',on=['CONTRACT_ID','TRANSACTION_CURRENCY','PRODUCT_CODE']).copy()"
   ]
  },
  {
   "cell_type": "code",
   "execution_count": null,
   "metadata": {},
   "outputs": [],
   "source": [
    "master_data_set=pd.merge(master_data_set,iep,on=['Security Level','Concatenate','PERIOD'],how='left').copy()"
   ]
  },
  {
   "cell_type": "code",
   "execution_count": null,
   "metadata": {},
   "outputs": [],
   "source": [
    "master_data_set['MULTI_CURRENCY_FEE']=0\n",
    "\n",
    "master_data_set['MULTI_CURRENCY_FEE'][(master_data_set['MULTI_CURRENCY_APPLICABLE']=='Yes')&(master_data_set['BRAND']=='MasterCard')&(master_data_set['Regionality']=='Domestic')&(master_data_set['TRANSACTION_CURRENCY']!=master_data_set['ASSESSMENT_CURRENCY'])]=.0003\n",
    "master_data_set['MULTI_CURRENCY_FEE'][(master_data_set['MULTI_CURRENCY_APPLICABLE']=='Yes')&(master_data_set['BRAND']=='Maestro')&(master_data_set['Regionality']=='Domestic')&(master_data_set['TRANSACTION_CURRENCY']!=master_data_set['ASSESSMENT_CURRENCY'])]=.0003\n",
    "\n",
    "master_data_set['MULTI_CURRENCY_FEE'][(master_data_set['MULTI_CURRENCY_APPLICABLE']=='Yes')&(master_data_set['BRAND']=='MasterCard')&(master_data_set['Regionality']=='Intra-Region')&(master_data_set['TRANSACTION_CURRENCY']!=master_data_set['ASSESSMENT_CURRENCY'])]=.0003\n",
    "master_data_set['MULTI_CURRENCY_FEE'][(master_data_set['MULTI_CURRENCY_APPLICABLE']=='Yes')&(master_data_set['BRAND']=='Maestro')&(master_data_set['Regionality']=='Intra-Region')&(master_data_set['TRANSACTION_CURRENCY']!=master_data_set['ASSESSMENT_CURRENCY'])]=.0003\n",
    "\n",
    "master_data_set['MULTI_CURRENCY_FEE'][(master_data_set['MULTI_CURRENCY_APPLICABLE']=='Yes')&(master_data_set['BRAND']=='MasterCard')&(master_data_set['Regionality']=='Inter-Region')&(master_data_set['TRANSACTION_CURRENCY']!=master_data_set['ASSESSMENT_CURRENCY'])]=.0013\n",
    "master_data_set['MULTI_CURRENCY_FEE'][(master_data_set['MULTI_CURRENCY_APPLICABLE']=='Yes')&(master_data_set['BRAND']=='Maestro')&(master_data_set['Regionality']=='Inter-Region')&(master_data_set['TRANSACTION_CURRENCY']!=master_data_set['ASSESSMENT_CURRENCY'])]=.0013\n",
    "\n",
    "\n",
    "master_data_set['HYPOTHETICAL_SF']=(master_data_set['Fixed']*master_data_set['VOLUME'])+(master_data_set['Percent']*master_data_set['FLOW_EUR'])+(master_data_set['MULTI_CURRENCY_FEE']*master_data_set['FLOW_EUR'])"
   ]
  },
  {
   "cell_type": "code",
   "execution_count": null,
   "metadata": {},
   "outputs": [],
   "source": [
    "master_data_set['MULTI_CURRENCY_APPLICABLE'][(master_data_set['MULTI_CURRENCY_FEE']==0)]='No'"
   ]
  },
  {
   "cell_type": "code",
   "execution_count": null,
   "metadata": {},
   "outputs": [],
   "source": [
    "master_data_set=master_data_set[(master_data_set['BRAND']!='Discover')].copy()"
   ]
  },
  {
   "cell_type": "code",
   "execution_count": null,
   "metadata": {},
   "outputs": [],
   "source": [
    "master_data_set.head()"
   ]
  },
  {
   "cell_type": "code",
   "execution_count": null,
   "metadata": {},
   "outputs": [],
   "source": [
    "master_data_set=master_data_set.drop_duplicates().copy()"
   ]
  },
  {
   "cell_type": "code",
   "execution_count": null,
   "metadata": {},
   "outputs": [],
   "source": [
    "master_data_set.to_csv('d:\\\\djohnson\\\\Desktop\\\\elavon_sf_analysis\\\\elavon_sf_analysis.csv')"
   ]
  }
 ],
 "metadata": {
  "kernelspec": {
   "display_name": "Python 3",
   "language": "python",
   "name": "python3"
  },
  "language_info": {
   "codemirror_mode": {
    "name": "ipython",
    "version": 3
   },
   "file_extension": ".py",
   "mimetype": "text/x-python",
   "name": "python",
   "nbconvert_exporter": "python",
   "pygments_lexer": "ipython3",
   "version": "3.6.5"
  }
 },
 "nbformat": 4,
 "nbformat_minor": 2
}
