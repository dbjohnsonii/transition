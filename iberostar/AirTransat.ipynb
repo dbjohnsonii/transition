{
 "cells": [
  {
   "cell_type": "code",
   "execution_count": 1,
   "metadata": {},
   "outputs": [
    {
     "data": {
      "text/html": [
       "<style>.container { width:95% !important; }</style>"
      ],
      "text/plain": [
       "<IPython.core.display.HTML object>"
      ]
     },
     "metadata": {},
     "output_type": "display_data"
    },
    {
     "name": "stdout",
     "output_type": "stream",
     "text": [
      "3.6.5 |Anaconda custom (64-bit)| (default, Mar 29 2018, 13:32:41) [MSC v.1900 64 bit (AMD64)]\n"
     ]
    }
   ],
   "source": [
    "'''import all necessary libraries'''\n",
    "\n",
    "import cx_Oracle #import the oracle database libraries\n",
    "import pandas as pd #connect to the pandas libraries\n",
    "import numpy as np #import numpy\n",
    "import getpass #import the password libraries in order to keep database password concealed\n",
    "\n",
    "from IPython.core.display import display, HTML\n",
    "display(HTML(\"<style>.container { width:95% !important; }</style>\"))\n",
    "import sys\n",
    "print (sys.version)\n",
    "pd.options.display.float_format = '{:0.6f}'.format"
   ]
  },
  {
   "cell_type": "code",
   "execution_count": 2,
   "metadata": {},
   "outputs": [
    {
     "name": "stdout",
     "output_type": "stream",
     "text": [
      "12.1.0.2.0\n"
     ]
    }
   ],
   "source": [
    "'''connect to the oracle server used to pull down the \n",
    "currency and misuse of authorization information'''\n",
    "\n",
    "username=''\n",
    "password=''\n",
    "#password=getpass.getpass(\"Enter your password: \")\n",
    "\n",
    "con=cx_Oracle.connect(username,password,'ODSPEU1.ams') #enter database details\n",
    "print (con.version) # prnt the conversion details"
   ]
  },
  {
   "cell_type": "code",
   "execution_count": 3,
   "metadata": {},
   "outputs": [],
   "source": [
    "bnp=pd.read_sql(\n",
    "''' \n",
    "select Acquirer,PRODUCT_NAME,BN.TRANSACTION_TYPE,BN.CREDIT_DEBIT,BN.CONS_CORP,SUM(BN.TRANSACTION_FLOW_EUR) AS TRANSACTION_FLOW_EUR\n",
    "from FDWO.ACQUIRER_BNP_COST bn\n",
    "cross join\n",
    "(select 'BNP' as Acquirer from dual)\n",
    "left join\n",
    "(select PRODUCT_NAME,PRODUCT_CODE from FDWO.MB_PRODUCT_CODE) pc\n",
    "on bn.PRODUCT_CODE=PC.PRODUCT_CODE\n",
    "where BN.CONTRACT_ID in('8423','8535')\n",
    "and BN.TRANSACTION_DATE between to_date('10/1/2018','MM/DD/YYYY') and to_date('12/31/2018','MM/DD/YYYY')\n",
    "group by BN.TRANSACTION_TYPE,BN.CREDIT_DEBIT,BN.CONS_CORP,Acquirer,PRODUCT_NAME\n",
    "order by TRANSACTION_FLOW_EUR desc\n",
    "''', con)"
   ]
  },
  {
   "cell_type": "code",
   "execution_count": 6,
   "metadata": {},
   "outputs": [],
   "source": [
    "elavon=pd.read_sql(\n",
    "''' \n",
    "select Acquirer,CARD_SCHEME,CARD_TYPE,CARD_DESC,INTERCHANGE_DESC,INTERCH_PERC,INTERCH_FIXED,PRODUCT_NAME,TRANSACTION_TYPE,FLOW_EUR,CARD_CATEGORY\n",
    "from\n",
    "(\n",
    "    select Acquirer,EV.CARD_SCHEME,EV.CARD_TYPE,EV.CARD_DESC,EV.INTERCHANGE_DESC,EV.INTERCH_PERC,EV.INTERCH_FIXED,PRODUCT_NAME,EV.TRANSACTION_TYPE,SUM(EV.FLOW_EUR) AS FLOW_EUR\n",
    "    ,case when CARD_DESC in ('VICONSUMER','M/C CONSUM') then 'Consumer'\n",
    "    when CARD_DESC in ('VI COMMER','M/C COMMER') then 'Commercial'  \n",
    "    when CARD_DESC = 'VISA SIGN' then 'Signature'\n",
    "    when CARD_DESC in ('VI DEBIT','M/C DEBIT') then 'Debit'\n",
    "    when CARD_DESC in ('WORLD CARD') then 'World'\n",
    "    when CARD_DESC in ('M/C FLEET') then 'Fleet'\n",
    "    when CARD_DESC in ('M/C PURCH') then 'Purchase'\n",
    "    end as CARD_CATEGORY\n",
    "    from FDWO.ACQUIRER_ELAVON_USA_COST ev\n",
    "    cross join\n",
    "    (select 'Elavon' as Acquirer from dual)\n",
    "    left join\n",
    "    (select PRODUCT_NAME,PRODUCT_CODE from FDWO.MB_PRODUCT_CODE) pc\n",
    "    on ev.PRODUCT_CODE=PC.PRODUCT_CODE\n",
    "    where EV.MID_NAME like '%AIR TRAN%'\n",
    "    and EV.TRANS_DATE between to_date('10/1/2018','MM/DD/YYYY') and to_date('12/31/2018','MM/DD/YYYY')\n",
    "    and EV.CARD_SCHEME not in ('VIDE')\n",
    "    group by Acquirer,EV.CARD_SCHEME,EV.CARD_TYPE,EV.CARD_DESC,EV.INTERCHANGE_DESC,EV.INTERCHANGE_DESC,EV.INTERCH_PERC,EV.INTERCH_FIXED,EV.TRANSACTION_TYPE,PRODUCT_NAME\n",
    "    order by FLOW_EUR desc\n",
    ")\n",
    "UNION ALL\n",
    "select Acquirer,CARD_SCHEME,CARD_TYPE,CARD_DESC,INTERCHANGE_DESC,INTERCH_PERC,INTERCH_FIXED,PRODUCT_NAME,TRANSACTION_TYPE,FLOW_EUR,CARD_CATEGORY\n",
    "from\n",
    "(\n",
    "    select Acquirer,EV.CARD_SCHEME,EV.CARD_TYPE,EV.CARD_DESC,EV.INTERCHANGE_DESC,EV.INTERCH_PERC,EV.INTERCH_FIXED,PRODUCT_NAME,EV.TRANSACTION_TYPE,SUM(FLOW_EUR) AS FLOW_EUR\n",
    "    ,case when CARD_DESC in ('VICONSUMER','M/C CONSUM') then 'Consumer'\n",
    "    when CARD_DESC in ('VI COMMER','M/C COMMER') then 'Commercial'  \n",
    "    when CARD_DESC = 'VISA SIGN' then 'Signature'\n",
    "    when CARD_DESC in ('VI DEBIT','M/C DEBIT') then 'Debit'\n",
    "    when CARD_DESC in ('WORLD CARD') then 'World'\n",
    "    when CARD_DESC in ('M/C FLEET') then 'Fleet'\n",
    "    when CARD_DESC in ('M/C PURCH') then 'Purchase'\n",
    "    end as CARD_CATEGORY\n",
    "    from FDWO.ACQUIRER_ELAVON_USA_COST ev\n",
    "    cross join\n",
    "    (select 'Elavon' as Acquirer from dual)\n",
    "    left join\n",
    "    (select PRODUCT_NAME,PRODUCT_CODE from FDWO.MB_PRODUCT_CODE) pc\n",
    "    on ev.PRODUCT_CODE=PC.PRODUCT_CODE\n",
    "    where EV.MID_NAME like '%AIR TRAN%'\n",
    "    and EV.TRANS_DATE between to_date('10/1/2018','MM/DD/YYYY') and to_date('12/31/2018','MM/DD/YYYY')\n",
    "    and EV.TRANSACTION_TYPE='CHARGEBACK'\n",
    "    group by Acquirer,EV.CARD_SCHEME,EV.CARD_TYPE,EV.CARD_DESC,EV.INTERCHANGE_DESC,EV.INTERCH_PERC,EV.INTERCH_FIXED,PRODUCT_NAME,EV.TRANSACTION_TYPE\n",
    ")\n",
    "order by FLOW_EUR desc\n",
    "''', con)"
   ]
  },
  {
   "cell_type": "code",
   "execution_count": 8,
   "metadata": {},
   "outputs": [],
   "source": [
    "aib=pd.read_sql(\n",
    "''' \n",
    "select Acquirer,AB.TRANSACTION_TYPE,AB.CARD_BRAND,AB.CARD_TYPE_GROUP,AB.CARD_TYPE_CODE,AB.CARD_TYPE\n",
    ",PC.PRODUCT_NAME,SUM(AB.TRANSACTION_FLOW_EUR) as TRANSACTION_FLOW_EUR\n",
    ",case when CARD_TYPE in ('Mastercard Black') then 'Black'\n",
    "when CARD_TYPE in ('MasterCard B2B Product','Visa Business') then 'Business'  \n",
    "when CARD_TYPE in ('Mastercard Or Eurocard Standard','Mastercard Or Eurocard Card - Standard','Visa Classic','MasterCard Standard Deferred','MasterCard standard - unspecified detail','Visa Standard - unspecified detail') then 'Consumer'\n",
    "when CARD_TYPE in ('Eurocard-Mastercard Corporate Card','Visa Corporate T and E','Mastercard Or Eurocard Corporate-Businesscard') then 'Corporate'\n",
    "when CARD_TYPE in ('Mastercard Or Eurocard Corporate-Businesscard','Visa Classic Debit','Visa Gold Debit','Mastercard Debit Standard Card','Visa Platinum Debit','Visa Business Debit'\n",
    "                    ,'Gold Mastercard Card-Immediate Debit','Mastercard Standard Card-Immediate Debit','Visa Purchasing Deferred Debit','Visa Classic Deferred Debit','MasterCard World Signia Card Immediate Debit'\n",
    "                    ,'Visa Corporate T and E Debit','Visa Electron Debit','Visa Business Deferred Debit','Mastercard Debit Platinum','Mastercard Debit Other 2 Embossed','MasterCard Debit Unembossed','Visa Corporate T and E Deferred Debit'\n",
    "                    ,'MasterCard Immediate Debit ICIS Student') then 'Debit'\n",
    "when CARD_TYPE in ('Mastercard Or Eurocard Corporate Fleet Card') then 'Fleet'\n",
    "when CARD_TYPE in ('Visa Gold','Mastercard Or Eurocard Gold Card') then 'Gold'\n",
    "when CARD_TYPE in ('Visa High Net Worth HNW Consumer - Canada only') then 'HNW'  \n",
    "when CARD_TYPE in ('Visa Infinite','Visa Infinite Prepaid') then 'Infinite'  \n",
    "when CARD_TYPE in ('Mastercard New World Card') then 'New World'\n",
    "when CARD_TYPE in ('Visa Platinum','Mastercard Or Eurocard Platinum Card') then 'Platinum'\n",
    "when CARD_TYPE in ('Visa Electron Prepaid','Mastercard Prepaid Non-US','MasterCard Prepaid business card','Mastercard Prepaid General Spend'\n",
    "                    ,'Visa Platinum Prepaid','Visa Classic Prepaid','Mastercard Prepaid Unembossed') then 'Prepaid'\n",
    "when CARD_TYPE in ('Visa Purchasing') then 'Purchasing'\n",
    "when CARD_TYPE in ('Mastercard Rewards Only') then 'Rewards'\n",
    "when CARD_TYPE in ('Visa Select') then 'Select'  \n",
    "when CARD_TYPE in ('Visa Signature Preferred','Visa Signature') then 'Signature'  \n",
    "when CARD_TYPE in ('Titanium Mastercard') then 'Titanium'\n",
    "when CARD_TYPE in ('Visa Traditional') then 'Traditional'\n",
    "when CARD_TYPE in ('Visa Traditional Rewards') then 'Traditional rewards'\n",
    "when CARD_TYPE in ('Mastercard World Elite Card') then 'World Elite'\n",
    "when CARD_TYPE in ('Mastercard Or Eurocard World Signia Card') then 'World Signia'\n",
    "end as CARD_CATEGORY\n",
    "from FDWO.ACQUIRER_AIB_NEWGEN_FILES ab\n",
    "cross join\n",
    "(select 'AIB' as Acquirer from dual)\n",
    "left join\n",
    "(select PRODUCT_NAME,PRODUCT_CODE from FDWO.MB_PRODUCT_CODE) pc\n",
    "on AB.PRODUCT_CODE=PC.PRODUCT_CODE\n",
    "where AB.TRADING_MERCHANT_NAME like '%Air Trans%'\n",
    "and AB.TRANSACTION_DATE between to_date('10/1/2018','MM/DD/YYYY') and to_date('12/31/2018','MM/DD/YYYY')\n",
    "and AB.PROCESSING_STATUS not in ('Suspended')\n",
    "group by Acquirer,AB.TRANSACTION_TYPE,AB.CARD_BRAND,AB.CARD_TYPE_GROUP,AB.CARD_TYPE_CODE,AB.CARD_TYPE\n",
    ",PC.PRODUCT_NAME\n",
    "order by TRANSACTION_FLOW_EUR desc\n",
    "''', con)"
   ]
  },
  {
   "cell_type": "code",
   "execution_count": 11,
   "metadata": {},
   "outputs": [],
   "source": [
    "with pd.ExcelWriter('d:\\\\djohnson\\\\Desktop\\\\air_transat.xlsx') as writer:\n",
    "    aib.to_excel(writer, sheet_name='AIB')\n",
    "    bnp.to_excel(writer, sheet_name='BNP')\n",
    "    elavon.to_excel(writer, sheet_name='ELAVON')    "
   ]
  }
 ],
 "metadata": {
  "kernelspec": {
   "display_name": "Python 3",
   "language": "python",
   "name": "python3"
  },
  "language_info": {
   "codemirror_mode": {
    "name": "ipython",
    "version": 3
   },
   "file_extension": ".py",
   "mimetype": "text/x-python",
   "name": "python",
   "nbconvert_exporter": "python",
   "pygments_lexer": "ipython3",
   "version": "3.6.5"
  }
 },
 "nbformat": 4,
 "nbformat_minor": 2
}
