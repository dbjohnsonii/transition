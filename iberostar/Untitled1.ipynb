{
 "cells": [
  {
   "cell_type": "code",
   "execution_count": 1,
   "metadata": {},
   "outputs": [],
   "source": [
    "import pandas as pd"
   ]
  },
  {
   "cell_type": "code",
   "execution_count": 2,
   "metadata": {},
   "outputs": [],
   "source": [
    "df=pd.read_csv('d:\\\\djohnson\\\\Desktop\\\\aib_theoreticals_desktop_ref\\\\aib_visa_inter_region_2018_jan_dec.csv')"
   ]
  },
  {
   "cell_type": "code",
   "execution_count": 3,
   "metadata": {},
   "outputs": [
    {
     "data": {
      "text/plain": [
       "Index(['YEAR', 'MONTH', 'CLIENT_NAME', 'TRANSACTION_TYPE', 'BRAND',\n",
       "       'CARD_TYPES', 'CARD_BRAND', 'Security Level',\n",
       "       'ISSUER_COUNTRY_VISA_EUR_REL', 'ISSUER_COUNTRY_MC_SEPA_REL',\n",
       "       'ISSUER_COUNTRY', 'MERCHANT_COUNTRY', 'CONTRACT_ID', 'Regionality',\n",
       "       'Version', 'SF_RATE_AMOUNT', 'SF_RATE_PERC', 'IEP_Fixed', 'IEP_Perc',\n",
       "       'IEP_Nilson_Fixed', 'IEP_Nilson_Perc', 'FLOW',\n",
       "       'IEP_NILSON_THEORETICAL_SF', 'IEP_THEORETICAL_SF',\n",
       "       'MULTI_CURRENCY_FEE_COST', 'SF', 'VOL', 'global_wholesale_cost'],\n",
       "      dtype='object')"
      ]
     },
     "execution_count": 3,
     "metadata": {},
     "output_type": "execute_result"
    }
   ],
   "source": [
    "df.columns"
   ]
  },
  {
   "cell_type": "code",
   "execution_count": 4,
   "metadata": {},
   "outputs": [],
   "source": [
    "df['IEP_NILSON_THEORETICAL_SF']=df['IEP_NILSON_THEORETICAL_SF'].abs()\n",
    "df['IEP_THEORETICAL_SF']=df['IEP_THEORETICAL_SF'].abs()\n",
    "df['IEP_THEORETICAL_SF']=df['IEP_THEORETICAL_SF'].abs()"
   ]
  },
  {
   "cell_type": "code",
   "execution_count": 5,
   "metadata": {},
   "outputs": [],
   "source": [
    "df.to_csv('d:\\\\djohnson\\\\Desktop\\\\aib_theoreticals_desktop_ref\\\\aib_visa_inter_region_2018_jan_dec_v2.csv')"
   ]
  }
 ],
 "metadata": {
  "kernelspec": {
   "display_name": "Python 3",
   "language": "python",
   "name": "python3"
  },
  "language_info": {
   "codemirror_mode": {
    "name": "ipython",
    "version": 3
   },
   "file_extension": ".py",
   "mimetype": "text/x-python",
   "name": "python",
   "nbconvert_exporter": "python",
   "pygments_lexer": "ipython3",
   "version": "3.6.5"
  }
 },
 "nbformat": 4,
 "nbformat_minor": 2
}
